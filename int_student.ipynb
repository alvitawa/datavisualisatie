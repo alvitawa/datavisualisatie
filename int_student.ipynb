{
 "cells": [
  {
   "cell_type": "markdown",
   "metadata": {},
   "source": [
    "# Het effect van internationale studenten op de scores van het land\n",
    "\n",
    "Groep 13 - Vedran Marinović, Frank Tamer, Alfonso Warmerdam, Boudewijn Welkzijn"
   ]
  },
  {
   "cell_type": "code",
   "execution_count": 14,
   "metadata": {},
   "outputs": [
    {
     "data": {
      "text/html": [
       "        <script type=\"text/javascript\">\n",
       "        window.PlotlyConfig = {MathJaxConfig: 'local'};\n",
       "        if (window.MathJax) {MathJax.Hub.Config({SVG: {font: \"STIX-Web\"}});}\n",
       "        if (typeof require !== 'undefined') {\n",
       "        require.undef(\"plotly\");\n",
       "        requirejs.config({\n",
       "            paths: {\n",
       "                'plotly': ['https://cdn.plot.ly/plotly-latest.min']\n",
       "            }\n",
       "        });\n",
       "        require(['plotly'], function(Plotly) {\n",
       "            window._Plotly = Plotly;\n",
       "        });\n",
       "        }\n",
       "        </script>\n",
       "        "
      ]
     },
     "metadata": {},
     "output_type": "display_data"
    },
    {
     "name": "stderr",
     "output_type": "stream",
     "text": [
      "/Users/gingerdwarf/datavisualisatie/common.py:22: UserWarning:\n",
      "\n",
      "Boolean Series key will be reindexed to match DataFrame index.\n",
      "\n"
     ]
    },
    {
     "data": {
      "text/html": [
       "        <script type=\"text/javascript\">\n",
       "        window.PlotlyConfig = {MathJaxConfig: 'local'};\n",
       "        if (window.MathJax) {MathJax.Hub.Config({SVG: {font: \"STIX-Web\"}});}\n",
       "        if (typeof require !== 'undefined') {\n",
       "        require.undef(\"plotly\");\n",
       "        requirejs.config({\n",
       "            paths: {\n",
       "                'plotly': ['https://cdn.plot.ly/plotly-latest.min']\n",
       "            }\n",
       "        });\n",
       "        require(['plotly'], function(Plotly) {\n",
       "            window._Plotly = Plotly;\n",
       "        });\n",
       "        }\n",
       "        </script>\n",
       "        "
      ]
     },
     "metadata": {},
     "output_type": "display_data"
    },
    {
     "data": {
      "text/plain": [
       "<module 'common' from '/Users/gingerdwarf/datavisualisatie/common.py'>"
      ]
     },
     "execution_count": 14,
     "metadata": {},
     "output_type": "execute_result"
    }
   ],
   "source": [
    "import common\n",
    "from common import *\n",
    "from importlib import reload\n",
    "reload(common)"
   ]
  },
  {
   "cell_type": "markdown",
   "metadata": {},
   "source": [
    "## Inleiding\n",
    "\n",
    "Het aantal buitenlandse studenten groeit over de hele wereld. In Nederland is het aantal buitenlandse studenten in collegejaar 2018-2019 toegenomen tot 55.000. De groei is ook te zien in andere landen, bijvoorbeeld in de Verenigde Staten. Naar verwachting zal het aantal internationale studenten in de VS in 2025 tegen de acht miljoen aan zitten, groeiend van vijf miljoen in 2014. Deze data story zal zich richten op het effect van deze groei op de prestaties van de universiteiten, geleid door de stelling: “Een hoger percentage internationale studenten leidt tot een hogere plaats op de wereldranglijst en tot een betere internationale reputatie”."
   ]
  },
  {
   "cell_type": "code",
   "execution_count": 15,
   "metadata": {},
   "outputs": [
    {
     "data": {
      "application/vnd.plotly.v1+json": {
       "config": {
        "linkText": "Export to plot.ly",
        "plotlyServerURL": "https://plot.ly",
        "showLink": false
       },
       "data": [
        {
         "marker": {
          "color": "rgb(0,0,255)",
          "line": {
           "color": "rgb(8,48,107)",
           "width": 3.5
          }
         },
         "text": [
          19.05,
          19.6,
          19.65,
          19.95
         ],
         "textposition": "auto",
         "type": "bar",
         "uid": "3b047474-b04d-4874-84e3-5fba82853c3a",
         "x": [
          "Rang 1-50",
          "Rang 51-100",
          "Rang 101-150",
          "Rang 151-200"
         ],
         "y": [
          19.049999999999997,
          19.6,
          19.65,
          19.950000000000003
         ]
        }
       ],
       "layout": {
        "title": {
         "text": "Gemiddelde percentage internationale studenten op de top 200 universiteiten, per groep van 50, over 2011-2016"
        },
        "xaxis": {
         "title": {
          "text": "Groepen op ranglijst"
         }
        },
        "yaxis": {
         "ticklen": 6,
         "tickmode": "linear",
         "ticksuffix": "%",
         "tickwidth": 3,
         "title": {
          "text": "Percentage internationale studenten"
         }
        }
       }
      },
      "text/html": [
       "<div>\n",
       "        \n",
       "        \n",
       "            <div id=\"1006c7a7-7a3d-4a52-8088-988e0e16a3b3\" class=\"plotly-graph-div\" style=\"height:525px; width:100%;\"></div>\n",
       "            <script type=\"text/javascript\">\n",
       "                require([\"plotly\"], function(Plotly) {\n",
       "                    window.PLOTLYENV=window.PLOTLYENV || {};\n",
       "                    window.PLOTLYENV.BASE_URL='https://plot.ly';\n",
       "                    \n",
       "                if (document.getElementById(\"1006c7a7-7a3d-4a52-8088-988e0e16a3b3\")) {\n",
       "                    Plotly.newPlot(\n",
       "                        '1006c7a7-7a3d-4a52-8088-988e0e16a3b3',\n",
       "                        [{\"marker\": {\"color\": \"rgb(0,0,255)\", \"line\": {\"color\": \"rgb(8,48,107)\", \"width\": 3.5}}, \"text\": [19.05, 19.6, 19.65, 19.95], \"textposition\": \"auto\", \"type\": \"bar\", \"uid\": \"3b047474-b04d-4874-84e3-5fba82853c3a\", \"x\": [\"Rang 1-50\", \"Rang 51-100\", \"Rang 101-150\", \"Rang 151-200\"], \"y\": [19.049999999999997, 19.6, 19.65, 19.950000000000003]}],\n",
       "                        {\"title\": {\"text\": \"Gemiddelde percentage internationale studenten op de top 200 universiteiten, per groep van 50, over 2011-2016\"}, \"xaxis\": {\"title\": {\"text\": \"Groepen op ranglijst\"}}, \"yaxis\": {\"ticklen\": 6, \"tickmode\": \"linear\", \"ticksuffix\": \"%\", \"tickwidth\": 3, \"title\": {\"text\": \"Percentage internationale studenten\"}}},\n",
       "                        {\"showLink\": false, \"linkText\": \"Export to plot.ly\", \"plotlyServerURL\": \"https://plot.ly\", \"responsive\": true}\n",
       "                    ).then(function(){\n",
       "                            \n",
       "var gd = document.getElementById('1006c7a7-7a3d-4a52-8088-988e0e16a3b3');\n",
       "var x = new MutationObserver(function (mutations, observer) {{\n",
       "        var display = window.getComputedStyle(gd).display;\n",
       "        if (!display || display === 'none') {{\n",
       "            console.log([gd, 'removed!']);\n",
       "            Plotly.purge(gd);\n",
       "            observer.disconnect();\n",
       "        }}\n",
       "}});\n",
       "\n",
       "// Listen for the removal of the full notebook cells\n",
       "var notebookContainer = gd.closest('#notebook-container');\n",
       "if (notebookContainer) {{\n",
       "    x.observe(notebookContainer, {childList: true});\n",
       "}}\n",
       "\n",
       "// Listen for the clearing of the current output cell\n",
       "var outputEl = gd.closest('.output');\n",
       "if (outputEl) {{\n",
       "    x.observe(outputEl, {childList: true});\n",
       "}}\n",
       "\n",
       "                        })\n",
       "                };\n",
       "                });\n",
       "            </script>\n",
       "        </div>"
      ]
     },
     "metadata": {},
     "output_type": "display_data"
    }
   ],
   "source": [
    "groupdivided_barchart()"
   ]
  },
  {
   "cell_type": "markdown",
   "metadata": {},
   "source": [
    "Allereerst wordt de structuur van de data story uitgelegd. De story is opgesplitst in twee delen: in de eerste helft wordt gekeken naar de verschillen tussen de top 200 universiteiten, verdeeld in vier groepen; in de tweede helft wordt gekeken naar verschillen op internationaal niveau. Dit wordt gedaan om een conclusie te kunnen trekken met betrekking tot verschillen in de internationale en/of totale score. Wanneer de top 200 in vier groepen wordt gesplitst, is te zien dat het gemiddelde percentage internationale studenten tussen groepen weinig verschilt, zie bovenstaande plot."
   ]
  },
  {
   "cell_type": "code",
   "execution_count": 16,
   "metadata": {},
   "outputs": [
    {
     "data": {
      "application/vnd.plotly.v1+json": {
       "config": {
        "linkText": "Export to plot.ly",
        "plotlyServerURL": "https://plot.ly",
        "showLink": false
       },
       "data": [
        {
         "boxpoints": "all",
         "jitter": 0.3,
         "name": "Rang 1-50",
         "pointpos": -1.8,
         "type": "box",
         "uid": "4784aeb8-02a1-4bcf-a30e-a5179931cbd6",
         "y": [
          26.7,
          27.6,
          29.7,
          26.5,
          31.2,
          30.6,
          31,
          33,
          30.9,
          25.6,
          19.8,
          22.7,
          22.2,
          30.2,
          26.3,
          19.6,
          26.7,
          19.2,
          17.2,
          19.5,
          27.5,
          31.3,
          12.5,
          27,
          17.9,
          21.2,
          19.8,
          19.8,
          16.4,
          16.3,
          27.5,
          21.4,
          22,
          34.8,
          20.7,
          29.8,
          27.7,
          22.1,
          22.2,
          31.8,
          21.8,
          15.9,
          23.3,
          18.9,
          20.7,
          18.5,
          15.6,
          30,
          15.4,
          10.4
         ]
        },
        {
         "boxpoints": "all",
         "jitter": 0.3,
         "name": "Rang 51-100",
         "pointpos": -1.8,
         "type": "box",
         "uid": "369a17da-a150-45ae-80e7-43bd16565949",
         "y": [
          16.3,
          12.5,
          15.5,
          19.3,
          23.2,
          21.8,
          18.8,
          16.5,
          19,
          20.4,
          24.6,
          15.3,
          11.6,
          22.9,
          13.7,
          10.8,
          12.2,
          22,
          19.1,
          20.2,
          19,
          23,
          20,
          18.3,
          20.6,
          19.3,
          16.6,
          16.3,
          21.1,
          18.5,
          20.5,
          18.4,
          19.7,
          21.7,
          22.3,
          18,
          20.4,
          14,
          14.8,
          14.2,
          14.3,
          17.2,
          15.3,
          18.5,
          14.8,
          12.8,
          19.9,
          19.7,
          14.3
         ]
        },
        {
         "boxpoints": "all",
         "jitter": 0.3,
         "name": "Rang 101-150",
         "pointpos": -1.8,
         "type": "box",
         "uid": "ea8661f1-01e3-4586-a52f-ef7c64eec04f",
         "y": [
          24,
          18.8,
          19.7,
          14,
          15.2,
          27.8,
          19.8,
          16.7,
          22.8,
          28.6,
          15,
          18.4,
          23.7,
          23,
          14.2,
          21.7,
          24.2,
          20.4,
          17.8,
          22.4,
          10.8,
          11.2,
          21.7,
          10.8,
          16.6,
          19,
          17.8,
          21.6,
          21.8,
          24.6,
          14.7,
          24.5,
          10.2,
          15.4,
          11.8,
          19.8,
          19.3,
          16.7,
          20.3,
          15.3,
          17.4,
          13.8,
          12.6,
          30.4,
          17.5,
          11.2,
          16.1,
          27.9,
          15.3
         ]
        },
        {
         "boxpoints": "all",
         "jitter": 0.3,
         "name": "Rang 151-200",
         "pointpos": -1.8,
         "type": "box",
         "uid": "3ac59e2f-ad53-405d-a525-32b3242ebd80",
         "y": [
          26.4,
          18.5,
          13.1,
          13.5,
          13.6,
          24,
          13.8,
          12.7,
          18,
          19.9,
          15.8,
          9.3,
          18.6,
          13.1,
          10.5,
          18.1,
          17.6,
          20.7,
          18.6,
          18.7,
          19.3,
          17.3,
          20.8,
          17,
          25.3,
          15,
          17.9,
          14,
          14.1,
          16.2,
          16,
          10.7,
          16.8,
          18.8,
          12.5,
          22.8,
          19.3,
          16,
          14.9,
          13.2,
          14,
          18.3,
          18.7,
          18.2,
          19.8,
          26.2,
          21,
          16.2,
          27.2
         ]
        }
       ],
       "layout": {
        "title": {
         "text": "De spreiding van het percentage internationale studenten binnen de top 200, verdeeld in groepen van 50"
        },
        "yaxis": {
         "ticklen": 6,
         "ticksuffix": "%",
         "tickwidth": 3,
         "title": {
          "text": "Percentage internationale studenten"
         }
        }
       }
      },
      "text/html": [
       "<div>\n",
       "        \n",
       "        \n",
       "            <div id=\"50c89415-9b95-4cd3-b57a-b93864973035\" class=\"plotly-graph-div\" style=\"height:525px; width:100%;\"></div>\n",
       "            <script type=\"text/javascript\">\n",
       "                require([\"plotly\"], function(Plotly) {\n",
       "                    window.PLOTLYENV=window.PLOTLYENV || {};\n",
       "                    window.PLOTLYENV.BASE_URL='https://plot.ly';\n",
       "                    \n",
       "                if (document.getElementById(\"50c89415-9b95-4cd3-b57a-b93864973035\")) {\n",
       "                    Plotly.newPlot(\n",
       "                        '50c89415-9b95-4cd3-b57a-b93864973035',\n",
       "                        [{\"boxpoints\": \"all\", \"jitter\": 0.3, \"name\": \"Rang 1-50\", \"pointpos\": -1.8, \"type\": \"box\", \"uid\": \"4784aeb8-02a1-4bcf-a30e-a5179931cbd6\", \"y\": [26.7, 27.6, 29.7, 26.5, 31.2, 30.6, 31.0, 33.0, 30.9, 25.6, 19.8, 22.7, 22.2, 30.2, 26.3, 19.6, 26.7, 19.2, 17.2, 19.5, 27.5, 31.3, 12.5, 27.0, 17.9, 21.2, 19.8, 19.8, 16.4, 16.3, 27.5, 21.4, 22.0, 34.8, 20.7, 29.8, 27.7, 22.1, 22.2, 31.8, 21.8, 15.9, 23.3, 18.9, 20.7, 18.5, 15.6, 30.0, 15.4, 10.4]}, {\"boxpoints\": \"all\", \"jitter\": 0.3, \"name\": \"Rang 51-100\", \"pointpos\": -1.8, \"type\": \"box\", \"uid\": \"369a17da-a150-45ae-80e7-43bd16565949\", \"y\": [16.3, 12.5, 15.5, 19.3, 23.2, 21.8, 18.8, 16.5, 19.0, 20.4, 24.6, 15.3, 11.6, 22.9, 13.7, 10.8, 12.2, 22.0, 19.1, 20.2, 19.0, 23.0, 20.0, 18.3, 20.6, 19.3, 16.6, 16.3, 21.1, 18.5, 20.5, 18.4, 19.7, 21.7, 22.3, 18.0, 20.4, 14.0, 14.8, 14.2, 14.3, 17.2, 15.3, 18.5, 14.8, 12.8, 19.9, 19.7, 14.3]}, {\"boxpoints\": \"all\", \"jitter\": 0.3, \"name\": \"Rang 101-150\", \"pointpos\": -1.8, \"type\": \"box\", \"uid\": \"ea8661f1-01e3-4586-a52f-ef7c64eec04f\", \"y\": [24.0, 18.8, 19.7, 14.0, 15.2, 27.8, 19.8, 16.7, 22.8, 28.6, 15.0, 18.4, 23.7, 23.0, 14.2, 21.7, 24.2, 20.4, 17.8, 22.4, 10.8, 11.2, 21.7, 10.8, 16.6, 19.0, 17.8, 21.6, 21.8, 24.6, 14.7, 24.5, 10.2, 15.4, 11.8, 19.8, 19.3, 16.7, 20.3, 15.3, 17.4, 13.8, 12.6, 30.4, 17.5, 11.2, 16.1, 27.9, 15.3]}, {\"boxpoints\": \"all\", \"jitter\": 0.3, \"name\": \"Rang 151-200\", \"pointpos\": -1.8, \"type\": \"box\", \"uid\": \"3ac59e2f-ad53-405d-a525-32b3242ebd80\", \"y\": [26.4, 18.5, 13.1, 13.5, 13.6, 24.0, 13.8, 12.7, 18.0, 19.9, 15.8, 9.3, 18.6, 13.1, 10.5, 18.1, 17.6, 20.7, 18.6, 18.7, 19.3, 17.3, 20.8, 17.0, 25.3, 15.0, 17.9, 14.0, 14.1, 16.2, 16.0, 10.7, 16.8, 18.8, 12.5, 22.8, 19.3, 16.0, 14.9, 13.2, 14.0, 18.3, 18.7, 18.2, 19.8, 26.2, 21.0, 16.2, 27.2]}],\n",
       "                        {\"title\": {\"text\": \"De spreiding van het percentage internationale studenten binnen de top 200, verdeeld in groepen van 50\"}, \"yaxis\": {\"ticklen\": 6, \"ticksuffix\": \"%\", \"tickwidth\": 3, \"title\": {\"text\": \"Percentage internationale studenten\"}}},\n",
       "                        {\"showLink\": false, \"linkText\": \"Export to plot.ly\", \"plotlyServerURL\": \"https://plot.ly\", \"responsive\": true}\n",
       "                    ).then(function(){\n",
       "                            \n",
       "var gd = document.getElementById('50c89415-9b95-4cd3-b57a-b93864973035');\n",
       "var x = new MutationObserver(function (mutations, observer) {{\n",
       "        var display = window.getComputedStyle(gd).display;\n",
       "        if (!display || display === 'none') {{\n",
       "            console.log([gd, 'removed!']);\n",
       "            Plotly.purge(gd);\n",
       "            observer.disconnect();\n",
       "        }}\n",
       "}});\n",
       "\n",
       "// Listen for the removal of the full notebook cells\n",
       "var notebookContainer = gd.closest('#notebook-container');\n",
       "if (notebookContainer) {{\n",
       "    x.observe(notebookContainer, {childList: true});\n",
       "}}\n",
       "\n",
       "// Listen for the clearing of the current output cell\n",
       "var outputEl = gd.closest('.output');\n",
       "if (outputEl) {{\n",
       "    x.observe(outputEl, {childList: true});\n",
       "}}\n",
       "\n",
       "                        })\n",
       "                };\n",
       "                });\n",
       "            </script>\n",
       "        </div>"
      ]
     },
     "metadata": {},
     "output_type": "display_data"
    }
   ],
   "source": [
    "boxplot_intstudents()"
   ]
  },
  {
   "cell_type": "markdown",
   "metadata": {},
   "source": [
    "Hierboven is de spreiding van het percentage internationale studenten per groep van 50 universiteiten te zien. Bij de groep op rang 1-50 is te zien dat de spreiding en het gemiddelde het grootste zijn. Tussen de andere drie groepen zijn de verschillen aanzienlijk kleiner. De eerste groep heeft dus meer universiteiten met een hoger percentage internationale studenten, maar ook veel met een lager percentage. Dit weegt op tegen elkaar, wat het resultaat uit de vorige bar chart geeft."
   ]
  },
  {
   "cell_type": "code",
   "execution_count": 17,
   "metadata": {},
   "outputs": [
    {
     "data": {
      "application/vnd.plotly.v1+json": {
       "config": {
        "linkText": "Export to plot.ly",
        "plotlyServerURL": "https://plot.ly",
        "showLink": false
       },
       "data": [
        {
         "mode": "markers",
         "name": "Rang 1-50",
         "type": "scatter",
         "uid": "8800b83e-9bf5-444c-a722-1a43319d3a21",
         "x": [
          64.2,
          71.4,
          83.1,
          68.9,
          75.9,
          73.7,
          77.8,
          72.5,
          72.5,
          64.3,
          58.5,
          64.3,
          61.4,
          74.6,
          67.9,
          46.5,
          55,
          59.3,
          54.7,
          56.3,
          65.4,
          65.7,
          39.2,
          60.1,
          56.8,
          58.4,
          55,
          60.9,
          54.2,
          50.2,
          65.8,
          65.7,
          58.9,
          88,
          70.8,
          74.2,
          77.7,
          64.1,
          68.6,
          70.6,
          58.1,
          44,
          50.2,
          54.6,
          68.7,
          47.6,
          40.9,
          76,
          46.3,
          35.8
         ],
         "y": [
          26.7,
          27.6,
          29.7,
          26.5,
          31.2,
          30.6,
          31,
          33,
          30.9,
          25.6,
          19.8,
          22.7,
          22.2,
          30.2,
          26.3,
          19.6,
          26.7,
          19.2,
          17.2,
          19.5,
          27.5,
          31.3,
          12.5,
          27,
          17.9,
          21.2,
          19.8,
          19.8,
          16.4,
          16.3,
          27.5,
          21.4,
          22,
          34.8,
          20.7,
          29.8,
          27.7,
          22.1,
          22.2,
          31.8,
          21.8,
          15.9,
          23.3,
          18.9,
          20.7,
          18.5,
          15.6,
          30,
          15.4,
          10.4
         ]
        },
        {
         "mode": "markers",
         "name": "Rang 51-100",
         "type": "scatter",
         "uid": "b4011776-e21a-4b04-a247-8828232b6672",
         "x": [
          45.6,
          40.8,
          47.6,
          61.3,
          60.3,
          54.3,
          62.1,
          47.8,
          56.7,
          66.2,
          72.5,
          57,
          43.6,
          68.8,
          57.9,
          52.1,
          49.4,
          66,
          62.3,
          69.2,
          56.7,
          69,
          72.2,
          52.5,
          68.4,
          60.8,
          56.6,
          51.8,
          63.9,
          54.3,
          73,
          61.2,
          67.2,
          59.8,
          61.3,
          54,
          57.5,
          56,
          54.1,
          46.5,
          62.8,
          40.9,
          56.8,
          50.9,
          40.8,
          46.1,
          58.8,
          53.6,
          53.6
         ],
         "y": [
          16.3,
          12.5,
          15.5,
          19.3,
          23.2,
          21.8,
          18.8,
          16.5,
          19,
          20.4,
          24.6,
          15.3,
          11.6,
          22.9,
          13.7,
          10.8,
          12.2,
          22,
          19.1,
          20.2,
          19,
          23,
          20,
          18.3,
          20.6,
          19.3,
          16.6,
          16.3,
          21.1,
          18.5,
          20.5,
          18.4,
          19.7,
          21.7,
          22.3,
          18,
          20.4,
          14,
          14.8,
          14.2,
          14.3,
          17.2,
          15.3,
          18.5,
          14.8,
          12.8,
          19.9,
          19.7,
          14.3
         ]
        },
        {
         "mode": "markers",
         "name": "Rang 101-150",
         "type": "scatter",
         "uid": "58a688b8-ff3e-4575-9ff2-e1bed2e0fd1c",
         "x": [
          59,
          63.3,
          60.3,
          44.2,
          59.8,
          79.2,
          50.3,
          60.6,
          66.9,
          79.2,
          50.1,
          64.7,
          67.4,
          60.6,
          55.3,
          70.6,
          68,
          59.1,
          62.1,
          70.9,
          39.5,
          46.7,
          57.7,
          46.9,
          56.1,
          57.7,
          44.1,
          59.6,
          58.8,
          73.8,
          51.3,
          69.5,
          33.3,
          53.3,
          61.5,
          61.4,
          53,
          59.5,
          63,
          50.2,
          59.7,
          47.2,
          47.4,
          80,
          53.6,
          43.8,
          54.6,
          82.9,
          49.4
         ],
         "y": [
          24,
          18.8,
          19.7,
          14,
          15.2,
          27.8,
          19.8,
          16.7,
          22.8,
          28.6,
          15,
          18.4,
          23.7,
          23,
          14.2,
          21.7,
          24.2,
          20.4,
          17.8,
          22.4,
          10.8,
          11.2,
          21.7,
          10.8,
          16.6,
          19,
          17.8,
          21.6,
          21.8,
          24.6,
          14.7,
          24.5,
          10.2,
          15.4,
          11.8,
          19.8,
          19.3,
          16.7,
          20.3,
          15.3,
          17.4,
          13.8,
          12.6,
          30.4,
          17.5,
          11.2,
          16.1,
          27.9,
          15.3
         ]
        },
        {
         "mode": "markers",
         "name": "Rang 151-200",
         "type": "scatter",
         "uid": "b648febc-a6e3-4ed9-9d13-a0e3c500df54",
         "x": [
          65.7,
          62.3,
          51.5,
          53.3,
          47.9,
          72.6,
          47.4,
          50.9,
          67.6,
          57,
          46,
          38.9,
          59,
          46.5,
          48.4,
          55.1,
          56.5,
          65.2,
          62.5,
          57.6,
          59.6,
          59.4,
          57.3,
          59.1,
          73.4,
          52.5,
          59,
          74.4,
          49.5,
          57,
          58.9,
          33.1,
          41,
          56.5,
          59,
          70.8,
          60.7,
          58.8,
          46.8,
          56.7,
          50.7,
          52.2,
          56.8,
          55.1,
          62.9,
          62.8,
          64.8,
          58.6,
          67.1
         ],
         "y": [
          26.4,
          18.5,
          13.1,
          13.5,
          13.6,
          24,
          13.8,
          12.7,
          18,
          19.9,
          15.8,
          9.3,
          18.6,
          13.1,
          10.5,
          18.1,
          17.6,
          20.7,
          18.6,
          18.7,
          19.3,
          17.3,
          20.8,
          17,
          25.3,
          15,
          17.9,
          14,
          14.1,
          16.2,
          16,
          10.7,
          16.8,
          18.8,
          12.5,
          22.8,
          19.3,
          16,
          14.9,
          13.2,
          14,
          18.3,
          18.7,
          18.2,
          19.8,
          26.2,
          21,
          16.2,
          27.2
         ]
        },
        {
         "line": {
          "color": "purple",
          "width": 3
         },
         "mode": "lines",
         "name": "Regressie",
         "type": "scatter",
         "uid": "34046dac-5c94-4d6c-a4f3-3a2e0e9f64f1",
         "x": [
          20,
          21,
          22,
          23,
          24,
          25,
          26,
          27,
          28,
          29,
          30,
          31,
          32,
          33,
          34,
          35,
          36,
          37,
          38,
          39,
          40,
          41,
          42,
          43,
          44,
          45,
          46,
          47,
          48,
          49,
          50,
          51,
          52,
          53,
          54,
          55,
          56,
          57,
          58,
          59,
          60,
          61,
          62,
          63,
          64,
          65,
          66,
          67,
          68,
          69,
          70,
          71,
          72,
          73,
          74,
          75,
          76,
          77,
          78,
          79,
          80,
          81,
          82,
          83,
          84,
          85,
          86,
          87,
          88,
          89,
          90,
          91,
          92,
          93,
          94,
          95,
          96,
          97,
          98,
          99
         ],
         "y": [
          2.3499999999999996,
          2.82,
          3.29,
          3.76,
          4.2299999999999995,
          4.699999999999999,
          5.17,
          5.64,
          6.109999999999999,
          6.58,
          7.05,
          7.52,
          7.989999999999999,
          8.459999999999999,
          8.93,
          9.399999999999999,
          9.87,
          10.34,
          10.809999999999999,
          11.28,
          11.75,
          12.219999999999999,
          12.69,
          13.16,
          13.629999999999999,
          14.1,
          14.569999999999999,
          15.04,
          15.51,
          15.979999999999999,
          16.45,
          16.919999999999998,
          17.39,
          17.86,
          18.33,
          18.799999999999997,
          19.27,
          19.74,
          20.209999999999997,
          20.68,
          21.15,
          21.619999999999997,
          22.09,
          22.56,
          23.029999999999998,
          23.5,
          23.97,
          24.439999999999998,
          24.91,
          25.38,
          25.849999999999998,
          26.32,
          26.79,
          27.259999999999998,
          27.729999999999997,
          28.2,
          28.669999999999998,
          29.139999999999997,
          29.61,
          30.08,
          30.549999999999997,
          31.02,
          31.49,
          31.959999999999997,
          32.43,
          32.9,
          33.37,
          33.839999999999996,
          34.309999999999995,
          34.78,
          35.25,
          35.72,
          36.19,
          36.66,
          37.129999999999995,
          37.599999999999994,
          38.07,
          38.54,
          39.01,
          39.48,
          39.949999999999996,
          40.419999999999995,
          40.89,
          41.36,
          41.83,
          42.3,
          42.769999999999996,
          43.239999999999995,
          43.71,
          44.18,
          44.65,
          45.12,
          45.589999999999996,
          46.059999999999995,
          46.529999999999994
         ]
        }
       ],
       "layout": {
        "title": {
         "text": "Verhouding tussen het percentage internationale studenten en DE internationale score bij de top 200 universiteiten"
        },
        "xaxis": {
         "range": [
          30,
          100
         ],
         "title": {
          "text": "Internationale score"
         }
        },
        "yaxis": {
         "dtick": 5,
         "range": [
          5,
          36
         ],
         "tick0": 5,
         "ticklen": 6,
         "ticksuffix": "%",
         "tickwidth": 3,
         "title": {
          "text": "Percentage internationale studenten"
         }
        }
       }
      },
      "text/html": [
       "<div>\n",
       "        \n",
       "        \n",
       "            <div id=\"062289a4-bbc7-40b5-8cb8-543da48d9f5f\" class=\"plotly-graph-div\" style=\"height:525px; width:100%;\"></div>\n",
       "            <script type=\"text/javascript\">\n",
       "                require([\"plotly\"], function(Plotly) {\n",
       "                    window.PLOTLYENV=window.PLOTLYENV || {};\n",
       "                    window.PLOTLYENV.BASE_URL='https://plot.ly';\n",
       "                    \n",
       "                if (document.getElementById(\"062289a4-bbc7-40b5-8cb8-543da48d9f5f\")) {\n",
       "                    Plotly.newPlot(\n",
       "                        '062289a4-bbc7-40b5-8cb8-543da48d9f5f',\n",
       "                        [{\"mode\": \"markers\", \"name\": \"Rang 1-50\", \"type\": \"scatter\", \"uid\": \"8800b83e-9bf5-444c-a722-1a43319d3a21\", \"x\": [64.2, 71.4, 83.1, 68.9, 75.9, 73.7, 77.8, 72.5, 72.5, 64.3, 58.5, 64.3, 61.4, 74.6, 67.9, 46.5, 55.0, 59.3, 54.7, 56.3, 65.4, 65.7, 39.2, 60.1, 56.8, 58.4, 55.0, 60.9, 54.2, 50.2, 65.8, 65.7, 58.9, 88.0, 70.8, 74.2, 77.7, 64.1, 68.6, 70.6, 58.1, 44.0, 50.2, 54.6, 68.7, 47.6, 40.9, 76.0, 46.3, 35.8], \"y\": [26.7, 27.6, 29.7, 26.5, 31.2, 30.6, 31.0, 33.0, 30.9, 25.6, 19.8, 22.7, 22.2, 30.2, 26.3, 19.6, 26.7, 19.2, 17.2, 19.5, 27.5, 31.3, 12.5, 27.0, 17.9, 21.2, 19.8, 19.8, 16.4, 16.3, 27.5, 21.4, 22.0, 34.8, 20.7, 29.8, 27.7, 22.1, 22.2, 31.8, 21.8, 15.9, 23.3, 18.9, 20.7, 18.5, 15.6, 30.0, 15.4, 10.4]}, {\"mode\": \"markers\", \"name\": \"Rang 51-100\", \"type\": \"scatter\", \"uid\": \"b4011776-e21a-4b04-a247-8828232b6672\", \"x\": [45.6, 40.8, 47.6, 61.3, 60.3, 54.3, 62.1, 47.8, 56.7, 66.2, 72.5, 57.0, 43.6, 68.8, 57.9, 52.1, 49.4, 66.0, 62.3, 69.2, 56.7, 69.0, 72.2, 52.5, 68.4, 60.8, 56.6, 51.8, 63.9, 54.3, 73.0, 61.2, 67.2, 59.8, 61.3, 54.0, 57.5, 56.0, 54.1, 46.5, 62.8, 40.9, 56.8, 50.9, 40.8, 46.1, 58.8, 53.6, 53.6], \"y\": [16.3, 12.5, 15.5, 19.3, 23.2, 21.8, 18.8, 16.5, 19.0, 20.4, 24.6, 15.3, 11.6, 22.9, 13.7, 10.8, 12.2, 22.0, 19.1, 20.2, 19.0, 23.0, 20.0, 18.3, 20.6, 19.3, 16.6, 16.3, 21.1, 18.5, 20.5, 18.4, 19.7, 21.7, 22.3, 18.0, 20.4, 14.0, 14.8, 14.2, 14.3, 17.2, 15.3, 18.5, 14.8, 12.8, 19.9, 19.7, 14.3]}, {\"mode\": \"markers\", \"name\": \"Rang 101-150\", \"type\": \"scatter\", \"uid\": \"58a688b8-ff3e-4575-9ff2-e1bed2e0fd1c\", \"x\": [59.0, 63.3, 60.3, 44.2, 59.8, 79.2, 50.3, 60.6, 66.9, 79.2, 50.1, 64.7, 67.4, 60.6, 55.3, 70.6, 68.0, 59.1, 62.1, 70.9, 39.5, 46.7, 57.7, 46.9, 56.1, 57.7, 44.1, 59.6, 58.8, 73.8, 51.3, 69.5, 33.3, 53.3, 61.5, 61.4, 53.0, 59.5, 63.0, 50.2, 59.7, 47.2, 47.4, 80.0, 53.6, 43.8, 54.6, 82.9, 49.4], \"y\": [24.0, 18.8, 19.7, 14.0, 15.2, 27.8, 19.8, 16.7, 22.8, 28.6, 15.0, 18.4, 23.7, 23.0, 14.2, 21.7, 24.2, 20.4, 17.8, 22.4, 10.8, 11.2, 21.7, 10.8, 16.6, 19.0, 17.8, 21.6, 21.8, 24.6, 14.7, 24.5, 10.2, 15.4, 11.8, 19.8, 19.3, 16.7, 20.3, 15.3, 17.4, 13.8, 12.6, 30.4, 17.5, 11.2, 16.1, 27.9, 15.3]}, {\"mode\": \"markers\", \"name\": \"Rang 151-200\", \"type\": \"scatter\", \"uid\": \"b648febc-a6e3-4ed9-9d13-a0e3c500df54\", \"x\": [65.7, 62.3, 51.5, 53.3, 47.9, 72.6, 47.4, 50.9, 67.6, 57.0, 46.0, 38.9, 59.0, 46.5, 48.4, 55.1, 56.5, 65.2, 62.5, 57.6, 59.6, 59.4, 57.3, 59.1, 73.4, 52.5, 59.0, 74.4, 49.5, 57.0, 58.9, 33.1, 41.0, 56.5, 59.0, 70.8, 60.7, 58.8, 46.8, 56.7, 50.7, 52.2, 56.8, 55.1, 62.9, 62.8, 64.8, 58.6, 67.1], \"y\": [26.4, 18.5, 13.1, 13.5, 13.6, 24.0, 13.8, 12.7, 18.0, 19.9, 15.8, 9.3, 18.6, 13.1, 10.5, 18.1, 17.6, 20.7, 18.6, 18.7, 19.3, 17.3, 20.8, 17.0, 25.3, 15.0, 17.9, 14.0, 14.1, 16.2, 16.0, 10.7, 16.8, 18.8, 12.5, 22.8, 19.3, 16.0, 14.9, 13.2, 14.0, 18.3, 18.7, 18.2, 19.8, 26.2, 21.0, 16.2, 27.2]}, {\"line\": {\"color\": \"purple\", \"width\": 3}, \"mode\": \"lines\", \"name\": \"Regressie\", \"type\": \"scatter\", \"uid\": \"34046dac-5c94-4d6c-a4f3-3a2e0e9f64f1\", \"x\": [20, 21, 22, 23, 24, 25, 26, 27, 28, 29, 30, 31, 32, 33, 34, 35, 36, 37, 38, 39, 40, 41, 42, 43, 44, 45, 46, 47, 48, 49, 50, 51, 52, 53, 54, 55, 56, 57, 58, 59, 60, 61, 62, 63, 64, 65, 66, 67, 68, 69, 70, 71, 72, 73, 74, 75, 76, 77, 78, 79, 80, 81, 82, 83, 84, 85, 86, 87, 88, 89, 90, 91, 92, 93, 94, 95, 96, 97, 98, 99], \"y\": [2.3499999999999996, 2.82, 3.29, 3.76, 4.2299999999999995, 4.699999999999999, 5.17, 5.64, 6.109999999999999, 6.58, 7.05, 7.52, 7.989999999999999, 8.459999999999999, 8.93, 9.399999999999999, 9.87, 10.34, 10.809999999999999, 11.28, 11.75, 12.219999999999999, 12.69, 13.16, 13.629999999999999, 14.1, 14.569999999999999, 15.04, 15.51, 15.979999999999999, 16.45, 16.919999999999998, 17.39, 17.86, 18.33, 18.799999999999997, 19.27, 19.74, 20.209999999999997, 20.68, 21.15, 21.619999999999997, 22.09, 22.56, 23.029999999999998, 23.5, 23.97, 24.439999999999998, 24.91, 25.38, 25.849999999999998, 26.32, 26.79, 27.259999999999998, 27.729999999999997, 28.2, 28.669999999999998, 29.139999999999997, 29.61, 30.08, 30.549999999999997, 31.02, 31.49, 31.959999999999997, 32.43, 32.9, 33.37, 33.839999999999996, 34.309999999999995, 34.78, 35.25, 35.72, 36.19, 36.66, 37.129999999999995, 37.599999999999994, 38.07, 38.54, 39.01, 39.48, 39.949999999999996, 40.419999999999995, 40.89, 41.36, 41.83, 42.3, 42.769999999999996, 43.239999999999995, 43.71, 44.18, 44.65, 45.12, 45.589999999999996, 46.059999999999995, 46.529999999999994]}],\n",
       "                        {\"title\": {\"text\": \"Verhouding tussen het percentage internationale studenten en DE internationale score bij de top 200 universiteiten\"}, \"xaxis\": {\"range\": [30, 100], \"title\": {\"text\": \"Internationale score\"}}, \"yaxis\": {\"dtick\": 5, \"range\": [5, 36], \"tick0\": 5, \"ticklen\": 6, \"ticksuffix\": \"%\", \"tickwidth\": 3, \"title\": {\"text\": \"Percentage internationale studenten\"}}},\n",
       "                        {\"showLink\": false, \"linkText\": \"Export to plot.ly\", \"plotlyServerURL\": \"https://plot.ly\", \"responsive\": true}\n",
       "                    ).then(function(){\n",
       "                            \n",
       "var gd = document.getElementById('062289a4-bbc7-40b5-8cb8-543da48d9f5f');\n",
       "var x = new MutationObserver(function (mutations, observer) {{\n",
       "        var display = window.getComputedStyle(gd).display;\n",
       "        if (!display || display === 'none') {{\n",
       "            console.log([gd, 'removed!']);\n",
       "            Plotly.purge(gd);\n",
       "            observer.disconnect();\n",
       "        }}\n",
       "}});\n",
       "\n",
       "// Listen for the removal of the full notebook cells\n",
       "var notebookContainer = gd.closest('#notebook-container');\n",
       "if (notebookContainer) {{\n",
       "    x.observe(notebookContainer, {childList: true});\n",
       "}}\n",
       "\n",
       "// Listen for the clearing of the current output cell\n",
       "var outputEl = gd.closest('.output');\n",
       "if (outputEl) {{\n",
       "    x.observe(outputEl, {childList: true});\n",
       "}}\n",
       "\n",
       "                        })\n",
       "                };\n",
       "                });\n",
       "            </script>\n",
       "        </div>"
      ]
     },
     "metadata": {},
     "output_type": "display_data"
    }
   ],
   "source": [
    "scatter_intscore_intstudent()"
   ]
  },
  {
   "cell_type": "markdown",
   "metadata": {},
   "source": [
    "In bovenstaande visualisatie is te zien dat het percentage internationale studenten invloed heeft op de internationale score van de universiteiten. De plot gaat diagonaal naar boven, dit laat zien dat universiteiten met een hoge internationale score ook een hoog percentage internationale studenten hebben. Rechtsboven zijn universiteiten te vinden uit verschillende groepen, dit staat dus los van de ranglijst. Wel valt op dat voornamelijk universiteiten op plekken 1-50 dominant zijn in dit gebied van de grafiek, wat aangeeft dat deze, hoger scorende, universiteiten een hoger percentage internationale studenten hebben."
   ]
  },
  {
   "cell_type": "code",
   "execution_count": 18,
   "metadata": {
    "scrolled": false
   },
   "outputs": [
    {
     "data": {
      "application/vnd.plotly.v1+json": {
       "config": {
        "linkText": "Export to plot.ly",
        "plotlyServerURL": "https://plot.ly",
        "showLink": false
       },
       "data": [
        {
         "marker": {
          "color": "rgb(40, 180, 25)",
          "line": {
           "color": "rgb(8,48,107)",
           "width": 3.5
          }
         },
         "type": "bar",
         "uid": "88013a06-e0e2-4034-b336-934e82563948",
         "x": [
          "Egypt",
          "Brazil",
          "Israel",
          "Finland",
          "Taiwan",
          "Turkey",
          "South Korea",
          "Italy",
          "Japan",
          "China",
          "Spain",
          "Germany",
          "Norway",
          "Sweden",
          "United States of America",
          "Belgium",
          "Netherlands",
          "Denmark",
          "South Africa",
          "Canada",
          "France",
          "Russian Federation",
          "Republic of Ireland",
          "Austria",
          "New Zealand",
          "Switzerland",
          "Australia",
          "Hong Kong",
          "United Kingdom",
          "Singapore",
          "Luxembourg"
         ],
         "y": [
          1,
          4,
          4.444444444444445,
          6,
          6.222222222222222,
          6.5,
          8.608695652173912,
          8.75,
          9.148148148148149,
          10.11111111111111,
          11.875,
          14.772151898734178,
          15.428571428571429,
          15.483870967741936,
          15.837587006960558,
          16.045454545454547,
          16.869565217391305,
          17,
          18,
          19.1875,
          19.22222222222222,
          20,
          24.09090909090909,
          27,
          28,
          30.24390243902439,
          31.177777777777777,
          31.318181818181817,
          32.58620689655172,
          33.5,
          52
         ]
        }
       ],
       "layout": {
        "title": {
         "text": "Gemiddelde percentage internationale studenten per land over de jaren 2011-2016"
        },
        "xaxis": {
         "automargin": true,
         "showticklabels": true,
         "tickangle": 45,
         "tickfont": {
          "color": "black",
          "family": "Old Standard TT, serif",
          "size": 14
         },
         "title": {
          "font": {
           "color": "black",
           "family": "Arial, sans-serif",
           "size": 20
          },
          "text": "Land"
         }
        },
        "yaxis": {
         "automargin": true,
         "dtick": 5,
         "tick0": 0,
         "ticklen": 6,
         "tickmode": "linear",
         "ticksuffix": "%",
         "tickwidth": 3,
         "title": {
          "font": {
           "color": "black",
           "family": "Arial, sans-serif",
           "size": 20
          },
          "text": "Percentage internationale studenten"
         }
        }
       }
      },
      "text/html": [
       "<div>\n",
       "        \n",
       "        \n",
       "            <div id=\"2d452990-321d-4042-80ea-fbea86fce71c\" class=\"plotly-graph-div\" style=\"height:525px; width:100%;\"></div>\n",
       "            <script type=\"text/javascript\">\n",
       "                require([\"plotly\"], function(Plotly) {\n",
       "                    window.PLOTLYENV=window.PLOTLYENV || {};\n",
       "                    window.PLOTLYENV.BASE_URL='https://plot.ly';\n",
       "                    \n",
       "                if (document.getElementById(\"2d452990-321d-4042-80ea-fbea86fce71c\")) {\n",
       "                    Plotly.newPlot(\n",
       "                        '2d452990-321d-4042-80ea-fbea86fce71c',\n",
       "                        [{\"marker\": {\"color\": \"rgb(40, 180, 25)\", \"line\": {\"color\": \"rgb(8,48,107)\", \"width\": 3.5}}, \"type\": \"bar\", \"uid\": \"88013a06-e0e2-4034-b336-934e82563948\", \"x\": [\"Egypt\", \"Brazil\", \"Israel\", \"Finland\", \"Taiwan\", \"Turkey\", \"South Korea\", \"Italy\", \"Japan\", \"China\", \"Spain\", \"Germany\", \"Norway\", \"Sweden\", \"United States of America\", \"Belgium\", \"Netherlands\", \"Denmark\", \"South Africa\", \"Canada\", \"France\", \"Russian Federation\", \"Republic of Ireland\", \"Austria\", \"New Zealand\", \"Switzerland\", \"Australia\", \"Hong Kong\", \"United Kingdom\", \"Singapore\", \"Luxembourg\"], \"y\": [1.0, 4.0, 4.444444444444445, 6.0, 6.222222222222222, 6.5, 8.608695652173912, 8.75, 9.148148148148149, 10.11111111111111, 11.875, 14.772151898734178, 15.428571428571429, 15.483870967741936, 15.837587006960558, 16.045454545454547, 16.869565217391305, 17.0, 18.0, 19.1875, 19.22222222222222, 20.0, 24.09090909090909, 27.0, 28.0, 30.24390243902439, 31.177777777777777, 31.318181818181817, 32.58620689655172, 33.5, 52.0]}],\n",
       "                        {\"title\": {\"text\": \"Gemiddelde percentage internationale studenten per land over de jaren 2011-2016\"}, \"xaxis\": {\"automargin\": true, \"showticklabels\": true, \"tickangle\": 45, \"tickfont\": {\"color\": \"black\", \"family\": \"Old Standard TT, serif\", \"size\": 14}, \"title\": {\"font\": {\"color\": \"black\", \"family\": \"Arial, sans-serif\", \"size\": 20}, \"text\": \"Land\"}}, \"yaxis\": {\"automargin\": true, \"dtick\": 5, \"tick0\": 0, \"ticklen\": 6, \"tickmode\": \"linear\", \"ticksuffix\": \"%\", \"tickwidth\": 3, \"title\": {\"font\": {\"color\": \"black\", \"family\": \"Arial, sans-serif\", \"size\": 20}, \"text\": \"Percentage internationale studenten\"}}},\n",
       "                        {\"showLink\": false, \"linkText\": \"Export to plot.ly\", \"plotlyServerURL\": \"https://plot.ly\", \"responsive\": true}\n",
       "                    ).then(function(){\n",
       "                            \n",
       "var gd = document.getElementById('2d452990-321d-4042-80ea-fbea86fce71c');\n",
       "var x = new MutationObserver(function (mutations, observer) {{\n",
       "        var display = window.getComputedStyle(gd).display;\n",
       "        if (!display || display === 'none') {{\n",
       "            console.log([gd, 'removed!']);\n",
       "            Plotly.purge(gd);\n",
       "            observer.disconnect();\n",
       "        }}\n",
       "}});\n",
       "\n",
       "// Listen for the removal of the full notebook cells\n",
       "var notebookContainer = gd.closest('#notebook-container');\n",
       "if (notebookContainer) {{\n",
       "    x.observe(notebookContainer, {childList: true});\n",
       "}}\n",
       "\n",
       "// Listen for the clearing of the current output cell\n",
       "var outputEl = gd.closest('.output');\n",
       "if (outputEl) {{\n",
       "    x.observe(outputEl, {childList: true});\n",
       "}}\n",
       "\n",
       "                        })\n",
       "                };\n",
       "                });\n",
       "            </script>\n",
       "        </div>"
      ]
     },
     "metadata": {},
     "output_type": "display_data"
    }
   ],
   "source": [
    "barchart_country_intstudents()"
   ]
  },
  {
   "cell_type": "markdown",
   "metadata": {},
   "source": [
    "De grafiek hierboven laat alle landen zien uit de dataset in de jaren 2011 tot 2016. Deze landen worden oplopend weergegeven op basis van het gemiddelde percentage internationale studenten over alle universiteiten binnen dat land. Deze visualisatie is van belang om in de grafieken hieronder te kijken bij landen met een hoger gemiddeld percentage internationale studenten of deze ook een hogere gemiddelde totale score hebben."
   ]
  },
  {
   "cell_type": "code",
   "execution_count": 19,
   "metadata": {
    "scrolled": false
   },
   "outputs": [
    {
     "data": {
      "application/vnd.plotly.v1+json": {
       "config": {
        "linkText": "Export to plot.ly",
        "plotlyServerURL": "https://plot.ly",
        "showLink": false
       },
       "data": [
        {
         "autocolorscale": false,
         "colorbar": {
          "title": {
           "text": "Totale score"
          }
         },
         "colorscale": [
          [
           0,
           "rgb(50,50,255)"
          ],
          [
           1,
           "rgb(255,50,50)"
          ]
         ],
         "customdata": [
          2011
         ],
         "locationmode": "country names",
         "locations": [
          "Australia",
          "Austria",
          "Belgium",
          "Canada",
          "China",
          "Denmark",
          "Egypt",
          "Finland",
          "France",
          "Germany",
          "Hong Kong",
          "Japan",
          "Netherlands",
          "New Zealand",
          "Norway",
          "Republic of Ireland",
          "Singapore",
          "South Africa",
          "South Korea",
          "Spain",
          "Sweden",
          "Switzerland",
          "Taiwan",
          "Turkey",
          "United Kingdom",
          "United States of America"
         ],
         "marker": {
          "line": {
           "color": "rgb(0,0,0)",
           "width": 0.25
          }
         },
         "reversescale": false,
         "type": "choropleth",
         "uid": "fec53e31-a552-41fb-ab9f-2ced582e711b",
         "z": [
          59.81428571428571,
          46.95,
          54.599999999999994,
          59.800000000000004,
          58.58333333333332,
          51.06666666666666,
          51.6,
          56.6,
          61.825,
          52.45714285714286,
          63.8,
          60.46,
          51.48,
          51.8,
          52.7,
          58.9,
          60.95,
          56.1,
          59.375,
          51.6,
          55.44,
          62.08333333333334,
          52.45,
          47.7,
          59.596296296296295,
          66.8086956521739
         ],
         "zmax": 100,
         "zmin": 20
        },
        {
         "autocolorscale": false,
         "colorbar": {
          "title": {
           "text": "Totale score"
          }
         },
         "colorscale": [
          [
           0,
           "rgb(50,50,255)"
          ],
          [
           1,
           "rgb(255,50,50)"
          ]
         ],
         "customdata": [
          2012
         ],
         "locationmode": "country names",
         "locations": [
          "Australia",
          "Austria",
          "Belgium",
          "Brazil",
          "Canada",
          "China",
          "Denmark",
          "Finland",
          "France",
          "Germany",
          "Hong Kong",
          "Israel",
          "Japan",
          "Netherlands",
          "New Zealand",
          "Norway",
          "Republic of Ireland",
          "Singapore",
          "South Africa",
          "South Korea",
          "Spain",
          "Sweden",
          "Switzerland",
          "Taiwan",
          "United Kingdom",
          "United States of America"
         ],
         "marker": {
          "line": {
           "color": "rgb(0,0,0)",
           "width": 0.25
          }
         },
         "reversescale": false,
         "type": "choropleth",
         "uid": "a5343297-35f6-4f36-b216-9b30c40000e5",
         "z": [
          57.52857142857143,
          47.9,
          52.93333333333334,
          44.1,
          59.366666666666674,
          55.93333333333334,
          47.699999999999996,
          54.8,
          54.42,
          49.966666666666676,
          55.8,
          47.9,
          58.739999999999995,
          50.31666666666666,
          44.6,
          43.2,
          48.5,
          57.95,
          53.2,
          56.4,
          43.1,
          55.58,
          59.78571428571429,
          46.2,
          56.54333333333332,
          64.14520547945204
         ],
         "zmax": 100,
         "zmin": 20
        },
        {
         "autocolorscale": false,
         "colorbar": {
          "title": {
           "text": "Totale score"
          }
         },
         "colorscale": [
          [
           0,
           "rgb(50,50,255)"
          ],
          [
           1,
           "rgb(255,50,50)"
          ]
         ],
         "customdata": [
          2013
         ],
         "locationmode": "country names",
         "locations": [
          "Australia",
          "Austria",
          "Belgium",
          "Brazil",
          "Canada",
          "China",
          "Denmark",
          "Finland",
          "France",
          "Germany",
          "Hong Kong",
          "Israel",
          "Japan",
          "Netherlands",
          "New Zealand",
          "Republic of Ireland",
          "Singapore",
          "South Africa",
          "South Korea",
          "Sweden",
          "Switzerland",
          "Taiwan",
          "United Kingdom",
          "United States of America"
         ],
         "marker": {
          "line": {
           "color": "rgb(0,0,0)",
           "width": 0.25
          }
         },
         "reversescale": false,
         "type": "choropleth",
         "uid": "3030b29d-f45b-43e2-8f2c-622caeb863b8",
         "z": [
          62.075,
          50.2,
          55.4,
          50.5,
          63.05,
          68.9,
          53.53333333333334,
          56.4,
          56.871428571428574,
          55.75454545454545,
          60.725,
          50.166666666666664,
          60.779999999999994,
          58.475,
          50.3,
          52.05,
          68.45,
          55.8,
          61.875,
          59.48,
          61.57142857142858,
          53.2,
          59.76896551724137,
          65.85733333333333
         ],
         "zmax": 100,
         "zmin": 20
        },
        {
         "autocolorscale": false,
         "colorbar": {
          "title": {
           "text": "Totale score"
          }
         },
         "colorscale": [
          [
           0,
           "rgb(50,50,255)"
          ],
          [
           1,
           "rgb(255,50,50)"
          ]
         ],
         "customdata": [
          2014
         ],
         "locationmode": "country names",
         "locations": [
          "Australia",
          "Austria",
          "Belgium",
          "Canada",
          "China",
          "Denmark",
          "Finland",
          "France",
          "Germany",
          "Hong Kong",
          "Israel",
          "Japan",
          "Netherlands",
          "New Zealand",
          "Norway",
          "Republic of Ireland",
          "Singapore",
          "South Africa",
          "South Korea",
          "Spain",
          "Sweden",
          "Switzerland",
          "Taiwan",
          "Turkey",
          "United Kingdom",
          "United States of America"
         ],
         "marker": {
          "line": {
           "color": "rgb(0,0,0)",
           "width": 0.25
          }
         },
         "reversescale": false,
         "type": "choropleth",
         "uid": "f2dd0a95-49d1-4707-9277-e99c0c7be106",
         "z": [
          57.714285714285715,
          46.2,
          51.08,
          60.18571428571429,
          64.25,
          49.9,
          52.6,
          51.25,
          53.879999999999995,
          59.93333333333334,
          44.65,
          57.580000000000005,
          54.208333333333336,
          46.6,
          45.3,
          48.5,
          64.80000000000001,
          50.5,
          58.725,
          46.6,
          54.96,
          58.51428571428571,
          49.2,
          44.3,
          56.26206896551725,
          61.692207792207796
         ],
         "zmax": 100,
         "zmin": 20
        },
        {
         "autocolorscale": false,
         "colorbar": {
          "title": {
           "text": "Totale score"
          }
         },
         "colorscale": [
          [
           0,
           "rgb(50,50,255)"
          ],
          [
           1,
           "rgb(255,50,50)"
          ]
         ],
         "customdata": [
          2015
         ],
         "locationmode": "country names",
         "locations": [
          "Australia",
          "Austria",
          "Belgium",
          "Canada",
          "China",
          "Denmark",
          "Finland",
          "France",
          "Germany",
          "Hong Kong",
          "Israel",
          "Italy",
          "Japan",
          "Netherlands",
          "New Zealand",
          "Norway",
          "Republic of Ireland",
          "Russian Federation",
          "Singapore",
          "South Africa",
          "South Korea",
          "Spain",
          "Sweden",
          "Switzerland",
          "Taiwan",
          "Turkey",
          "United Kingdom",
          "United States of America"
         ],
         "marker": {
          "line": {
           "color": "rgb(0,0,0)",
           "width": 0.25
          }
         },
         "reversescale": false,
         "type": "choropleth",
         "uid": "7f4437cc-6f20-4f63-803a-f12d9edc0298",
         "z": [
          58.68749999999999,
          46.9,
          53.900000000000006,
          59.5375,
          58.833333333333336,
          50.53333333333333,
          53.9,
          52.871428571428574,
          54.94166666666667,
          57.724999999999994,
          46.6,
          61.9,
          57.4,
          55.91818181818182,
          47.5,
          46.7,
          51.2,
          46,
          67.75,
          52.6,
          60.150000000000006,
          48.1,
          56.279999999999994,
          60.699999999999996,
          49.3,
          50.675000000000004,
          58.63703703703704,
          62.863513513513524
         ],
         "zmax": 100,
         "zmin": 20
        },
        {
         "autocolorscale": false,
         "colorbar": {
          "title": {
           "text": "Totale score"
          }
         },
         "colorscale": [
          [
           0,
           "rgb(50,50,255)"
          ],
          [
           1,
           "rgb(255,50,50)"
          ]
         ],
         "customdata": [
          2016
         ],
         "locationmode": "country names",
         "locations": [
          "Australia",
          "Austria",
          "Belgium",
          "Canada",
          "China",
          "Denmark",
          "Finland",
          "France",
          "Germany",
          "Hong Kong",
          "Israel",
          "Italy",
          "Japan",
          "Luxembourg",
          "Netherlands",
          "New Zealand",
          "Norway",
          "Republic of Ireland",
          "Russian Federation",
          "Singapore",
          "South Africa",
          "South Korea",
          "Spain",
          "Sweden",
          "Switzerland",
          "Taiwan",
          "United Kingdom",
          "United States of America"
         ],
         "marker": {
          "line": {
           "color": "rgb(0,0,0)",
           "width": 0.25
          }
         },
         "reversescale": false,
         "type": "choropleth",
         "uid": "8fc44f8c-bddb-4462-b2e8-7253ccc10f0c",
         "z": [
          64.2375,
          54.2,
          58.025,
          64.65714285714286,
          71,
          56.6,
          61.9,
          56.519999999999996,
          58.93000000000001,
          64.23333333333333,
          50.5,
          52.13333333333333,
          65.5,
          49.4,
          61.14166666666666,
          51,
          52.6,
          51.3,
          51.9,
          73.7,
          56.1,
          55.8,
          51.96666666666667,
          59.29999999999999,
          63.64285714285713,
          51.1,
          61.62500000000001,
          67.43174603174603
         ],
         "zmax": 100,
         "zmin": 20
        }
       ],
       "layout": {
        "geo": {
         "lakecolor": "rgb(255, 255, 255)",
         "projection": {
          "type": "equirectangular"
         },
         "scope": "world",
         "showlakes": true
        },
        "sliders": [
         {
          "active": 0,
          "pad": {
           "t": 1
          },
          "steps": [
           {
            "args": [
             "visible",
             [
              true,
              false,
              false,
              false,
              false,
              false
             ]
            ],
            "label": "Jaar 2011",
            "method": "restyle"
           },
           {
            "args": [
             "visible",
             [
              false,
              true,
              false,
              false,
              false,
              false
             ]
            ],
            "label": "Jaar 2012",
            "method": "restyle"
           },
           {
            "args": [
             "visible",
             [
              false,
              false,
              true,
              false,
              false,
              false
             ]
            ],
            "label": "Jaar 2013",
            "method": "restyle"
           },
           {
            "args": [
             "visible",
             [
              false,
              false,
              false,
              true,
              false,
              false
             ]
            ],
            "label": "Jaar 2014",
            "method": "restyle"
           },
           {
            "args": [
             "visible",
             [
              false,
              false,
              false,
              false,
              true,
              false
             ]
            ],
            "label": "Jaar 2015",
            "method": "restyle"
           },
           {
            "args": [
             "visible",
             [
              false,
              false,
              false,
              false,
              false,
              true
             ]
            ],
            "label": "Jaar 2016",
            "method": "restyle"
           }
          ]
         }
        ],
        "title": {
         "text": "Gemiddelde totale score per land"
        }
       }
      },
      "text/html": [
       "<div>\n",
       "        \n",
       "        \n",
       "            <div id=\"1a1985f4-10fb-4983-bac1-d03286d17454\" class=\"plotly-graph-div\" style=\"height:525px; width:100%;\"></div>\n",
       "            <script type=\"text/javascript\">\n",
       "                require([\"plotly\"], function(Plotly) {\n",
       "                    window.PLOTLYENV=window.PLOTLYENV || {};\n",
       "                    window.PLOTLYENV.BASE_URL='https://plot.ly';\n",
       "                    \n",
       "                if (document.getElementById(\"1a1985f4-10fb-4983-bac1-d03286d17454\")) {\n",
       "                    Plotly.newPlot(\n",
       "                        '1a1985f4-10fb-4983-bac1-d03286d17454',\n",
       "                        [{\"autocolorscale\": false, \"colorbar\": {\"title\": {\"text\": \"Totale score\"}}, \"colorscale\": [[0, \"rgb(50,50,255)\"], [1, \"rgb(255,50,50)\"]], \"customdata\": [2011], \"locationmode\": \"country names\", \"locations\": [\"Australia\", \"Austria\", \"Belgium\", \"Canada\", \"China\", \"Denmark\", \"Egypt\", \"Finland\", \"France\", \"Germany\", \"Hong Kong\", \"Japan\", \"Netherlands\", \"New Zealand\", \"Norway\", \"Republic of Ireland\", \"Singapore\", \"South Africa\", \"South Korea\", \"Spain\", \"Sweden\", \"Switzerland\", \"Taiwan\", \"Turkey\", \"United Kingdom\", \"United States of America\"], \"marker\": {\"line\": {\"color\": \"rgb(0,0,0)\", \"width\": 0.25}}, \"reversescale\": false, \"type\": \"choropleth\", \"uid\": \"fec53e31-a552-41fb-ab9f-2ced582e711b\", \"z\": [59.81428571428571, 46.95, 54.599999999999994, 59.800000000000004, 58.58333333333332, 51.06666666666666, 51.6, 56.6, 61.825, 52.45714285714286, 63.8, 60.46, 51.48, 51.8, 52.7, 58.9, 60.95, 56.1, 59.375, 51.6, 55.44, 62.08333333333334, 52.45, 47.7, 59.596296296296295, 66.8086956521739], \"zmax\": 100, \"zmin\": 20}, {\"autocolorscale\": false, \"colorbar\": {\"title\": {\"text\": \"Totale score\"}}, \"colorscale\": [[0, \"rgb(50,50,255)\"], [1, \"rgb(255,50,50)\"]], \"customdata\": [2012], \"locationmode\": \"country names\", \"locations\": [\"Australia\", \"Austria\", \"Belgium\", \"Brazil\", \"Canada\", \"China\", \"Denmark\", \"Finland\", \"France\", \"Germany\", \"Hong Kong\", \"Israel\", \"Japan\", \"Netherlands\", \"New Zealand\", \"Norway\", \"Republic of Ireland\", \"Singapore\", \"South Africa\", \"South Korea\", \"Spain\", \"Sweden\", \"Switzerland\", \"Taiwan\", \"United Kingdom\", \"United States of America\"], \"marker\": {\"line\": {\"color\": \"rgb(0,0,0)\", \"width\": 0.25}}, \"reversescale\": false, \"type\": \"choropleth\", \"uid\": \"a5343297-35f6-4f36-b216-9b30c40000e5\", \"z\": [57.52857142857143, 47.9, 52.93333333333334, 44.1, 59.366666666666674, 55.93333333333334, 47.699999999999996, 54.8, 54.42, 49.966666666666676, 55.8, 47.9, 58.739999999999995, 50.31666666666666, 44.6, 43.2, 48.5, 57.95, 53.2, 56.4, 43.1, 55.58, 59.78571428571429, 46.2, 56.54333333333332, 64.14520547945204], \"zmax\": 100, \"zmin\": 20}, {\"autocolorscale\": false, \"colorbar\": {\"title\": {\"text\": \"Totale score\"}}, \"colorscale\": [[0, \"rgb(50,50,255)\"], [1, \"rgb(255,50,50)\"]], \"customdata\": [2013], \"locationmode\": \"country names\", \"locations\": [\"Australia\", \"Austria\", \"Belgium\", \"Brazil\", \"Canada\", \"China\", \"Denmark\", \"Finland\", \"France\", \"Germany\", \"Hong Kong\", \"Israel\", \"Japan\", \"Netherlands\", \"New Zealand\", \"Republic of Ireland\", \"Singapore\", \"South Africa\", \"South Korea\", \"Sweden\", \"Switzerland\", \"Taiwan\", \"United Kingdom\", \"United States of America\"], \"marker\": {\"line\": {\"color\": \"rgb(0,0,0)\", \"width\": 0.25}}, \"reversescale\": false, \"type\": \"choropleth\", \"uid\": \"3030b29d-f45b-43e2-8f2c-622caeb863b8\", \"z\": [62.075, 50.2, 55.4, 50.5, 63.05, 68.9, 53.53333333333334, 56.4, 56.871428571428574, 55.75454545454545, 60.725, 50.166666666666664, 60.779999999999994, 58.475, 50.3, 52.05, 68.45, 55.8, 61.875, 59.48, 61.57142857142858, 53.2, 59.76896551724137, 65.85733333333333], \"zmax\": 100, \"zmin\": 20}, {\"autocolorscale\": false, \"colorbar\": {\"title\": {\"text\": \"Totale score\"}}, \"colorscale\": [[0, \"rgb(50,50,255)\"], [1, \"rgb(255,50,50)\"]], \"customdata\": [2014], \"locationmode\": \"country names\", \"locations\": [\"Australia\", \"Austria\", \"Belgium\", \"Canada\", \"China\", \"Denmark\", \"Finland\", \"France\", \"Germany\", \"Hong Kong\", \"Israel\", \"Japan\", \"Netherlands\", \"New Zealand\", \"Norway\", \"Republic of Ireland\", \"Singapore\", \"South Africa\", \"South Korea\", \"Spain\", \"Sweden\", \"Switzerland\", \"Taiwan\", \"Turkey\", \"United Kingdom\", \"United States of America\"], \"marker\": {\"line\": {\"color\": \"rgb(0,0,0)\", \"width\": 0.25}}, \"reversescale\": false, \"type\": \"choropleth\", \"uid\": \"f2dd0a95-49d1-4707-9277-e99c0c7be106\", \"z\": [57.714285714285715, 46.2, 51.08, 60.18571428571429, 64.25, 49.9, 52.6, 51.25, 53.879999999999995, 59.93333333333334, 44.65, 57.580000000000005, 54.208333333333336, 46.6, 45.3, 48.5, 64.80000000000001, 50.5, 58.725, 46.6, 54.96, 58.51428571428571, 49.2, 44.3, 56.26206896551725, 61.692207792207796], \"zmax\": 100, \"zmin\": 20}, {\"autocolorscale\": false, \"colorbar\": {\"title\": {\"text\": \"Totale score\"}}, \"colorscale\": [[0, \"rgb(50,50,255)\"], [1, \"rgb(255,50,50)\"]], \"customdata\": [2015], \"locationmode\": \"country names\", \"locations\": [\"Australia\", \"Austria\", \"Belgium\", \"Canada\", \"China\", \"Denmark\", \"Finland\", \"France\", \"Germany\", \"Hong Kong\", \"Israel\", \"Italy\", \"Japan\", \"Netherlands\", \"New Zealand\", \"Norway\", \"Republic of Ireland\", \"Russian Federation\", \"Singapore\", \"South Africa\", \"South Korea\", \"Spain\", \"Sweden\", \"Switzerland\", \"Taiwan\", \"Turkey\", \"United Kingdom\", \"United States of America\"], \"marker\": {\"line\": {\"color\": \"rgb(0,0,0)\", \"width\": 0.25}}, \"reversescale\": false, \"type\": \"choropleth\", \"uid\": \"7f4437cc-6f20-4f63-803a-f12d9edc0298\", \"z\": [58.68749999999999, 46.9, 53.900000000000006, 59.5375, 58.833333333333336, 50.53333333333333, 53.9, 52.871428571428574, 54.94166666666667, 57.724999999999994, 46.6, 61.9, 57.4, 55.91818181818182, 47.5, 46.7, 51.2, 46.0, 67.75, 52.6, 60.150000000000006, 48.1, 56.279999999999994, 60.699999999999996, 49.3, 50.675000000000004, 58.63703703703704, 62.863513513513524], \"zmax\": 100, \"zmin\": 20}, {\"autocolorscale\": false, \"colorbar\": {\"title\": {\"text\": \"Totale score\"}}, \"colorscale\": [[0, \"rgb(50,50,255)\"], [1, \"rgb(255,50,50)\"]], \"customdata\": [2016], \"locationmode\": \"country names\", \"locations\": [\"Australia\", \"Austria\", \"Belgium\", \"Canada\", \"China\", \"Denmark\", \"Finland\", \"France\", \"Germany\", \"Hong Kong\", \"Israel\", \"Italy\", \"Japan\", \"Luxembourg\", \"Netherlands\", \"New Zealand\", \"Norway\", \"Republic of Ireland\", \"Russian Federation\", \"Singapore\", \"South Africa\", \"South Korea\", \"Spain\", \"Sweden\", \"Switzerland\", \"Taiwan\", \"United Kingdom\", \"United States of America\"], \"marker\": {\"line\": {\"color\": \"rgb(0,0,0)\", \"width\": 0.25}}, \"reversescale\": false, \"type\": \"choropleth\", \"uid\": \"8fc44f8c-bddb-4462-b2e8-7253ccc10f0c\", \"z\": [64.2375, 54.2, 58.025, 64.65714285714286, 71.0, 56.6, 61.9, 56.519999999999996, 58.93000000000001, 64.23333333333333, 50.5, 52.13333333333333, 65.5, 49.4, 61.14166666666666, 51.0, 52.6, 51.3, 51.9, 73.7, 56.1, 55.8, 51.96666666666667, 59.29999999999999, 63.64285714285713, 51.1, 61.62500000000001, 67.43174603174603], \"zmax\": 100, \"zmin\": 20}],\n",
       "                        {\"geo\": {\"lakecolor\": \"rgb(255, 255, 255)\", \"projection\": {\"type\": \"equirectangular\"}, \"scope\": \"world\", \"showlakes\": true}, \"sliders\": [{\"active\": 0, \"pad\": {\"t\": 1}, \"steps\": [{\"args\": [\"visible\", [true, false, false, false, false, false]], \"label\": \"Jaar 2011\", \"method\": \"restyle\"}, {\"args\": [\"visible\", [false, true, false, false, false, false]], \"label\": \"Jaar 2012\", \"method\": \"restyle\"}, {\"args\": [\"visible\", [false, false, true, false, false, false]], \"label\": \"Jaar 2013\", \"method\": \"restyle\"}, {\"args\": [\"visible\", [false, false, false, true, false, false]], \"label\": \"Jaar 2014\", \"method\": \"restyle\"}, {\"args\": [\"visible\", [false, false, false, false, true, false]], \"label\": \"Jaar 2015\", \"method\": \"restyle\"}, {\"args\": [\"visible\", [false, false, false, false, false, true]], \"label\": \"Jaar 2016\", \"method\": \"restyle\"}]}], \"title\": {\"text\": \"Gemiddelde totale score per land\"}},\n",
       "                        {\"showLink\": false, \"linkText\": \"Export to plot.ly\", \"plotlyServerURL\": \"https://plot.ly\", \"responsive\": true}\n",
       "                    ).then(function(){\n",
       "                            \n",
       "var gd = document.getElementById('1a1985f4-10fb-4983-bac1-d03286d17454');\n",
       "var x = new MutationObserver(function (mutations, observer) {{\n",
       "        var display = window.getComputedStyle(gd).display;\n",
       "        if (!display || display === 'none') {{\n",
       "            console.log([gd, 'removed!']);\n",
       "            Plotly.purge(gd);\n",
       "            observer.disconnect();\n",
       "        }}\n",
       "}});\n",
       "\n",
       "// Listen for the removal of the full notebook cells\n",
       "var notebookContainer = gd.closest('#notebook-container');\n",
       "if (notebookContainer) {{\n",
       "    x.observe(notebookContainer, {childList: true});\n",
       "}}\n",
       "\n",
       "// Listen for the clearing of the current output cell\n",
       "var outputEl = gd.closest('.output');\n",
       "if (outputEl) {{\n",
       "    x.observe(outputEl, {childList: true});\n",
       "}}\n",
       "\n",
       "                        })\n",
       "                };\n",
       "                });\n",
       "            </script>\n",
       "        </div>"
      ]
     },
     "metadata": {},
     "output_type": "display_data"
    }
   ],
   "source": [
    "worldmap_intstudent('total_score', 'Gemiddelde totale score per land', 'Totale score', 100, False)"
   ]
  },
  {
   "cell_type": "markdown",
   "metadata": {},
   "source": [
    "In de bovenstaande en onderstaande grafieken is te zien, indien ze worden bekeken samen de bar chart over alle landen, dat landen met een hoger percentage internationale studenten niet altijd hoger scoren. In sommige gevallen scoren deze landen zelfs lager."
   ]
  },
  {
   "cell_type": "code",
   "execution_count": 20,
   "metadata": {},
   "outputs": [
    {
     "data": {
      "application/vnd.plotly.v1+json": {
       "config": {
        "linkText": "Export to plot.ly",
        "plotlyServerURL": "https://plot.ly",
        "showLink": false
       },
       "data": [
        {
         "marker": {
          "color": "blue",
          "size": 12
         },
         "mode": "markers",
         "name": "2011",
         "type": "scatter",
         "uid": "3bdea6dd-5fc5-468e-aad4-c5f430ec3fbb",
         "visible": true,
         "x": [
          46.95,
          47.7,
          51.06666666666666,
          51.48,
          51.6,
          51.6,
          51.8,
          52.45,
          52.45714285714286,
          52.7,
          54.599999999999994,
          55.44,
          56.1,
          56.6,
          58.58333333333332,
          58.9,
          59.375,
          59.596296296296295,
          59.800000000000004,
          59.81428571428571,
          60.46,
          60.95,
          61.825,
          62.08333333333334,
          63.8,
          66.8086956521739
         ],
         "y": [
          "Austria",
          "Turkey",
          "Denmark",
          "Netherlands",
          "Spain",
          "Egypt",
          "New Zealand",
          "Taiwan",
          "Germany",
          "Norway",
          "Belgium",
          "Sweden",
          "South Africa",
          "Finland",
          "China",
          "Republic of Ireland",
          "South Korea",
          "United Kingdom",
          "Canada",
          "Australia",
          "Japan",
          "Singapore",
          "France",
          "Switzerland",
          "Hong Kong",
          "United States of America"
         ]
        },
        {
         "marker": {
          "color": "blue",
          "size": 12
         },
         "mode": "markers",
         "name": "2012",
         "type": "scatter",
         "uid": "ab748c7b-2313-4e92-9dd3-4af2fb101503",
         "visible": false,
         "x": [
          43.1,
          43.2,
          44.1,
          44.6,
          46.2,
          47.699999999999996,
          47.9,
          47.9,
          48.5,
          49.966666666666676,
          50.31666666666666,
          52.93333333333334,
          53.2,
          54.42,
          54.8,
          55.58,
          55.8,
          55.93333333333334,
          56.4,
          56.54333333333332,
          57.52857142857143,
          57.95,
          58.739999999999995,
          59.366666666666674,
          59.78571428571429,
          64.14520547945204
         ],
         "y": [
          "Spain",
          "Norway",
          "Brazil",
          "New Zealand",
          "Taiwan",
          "Denmark",
          "Austria",
          "Israel",
          "Republic of Ireland",
          "Germany",
          "Netherlands",
          "Belgium",
          "South Africa",
          "France",
          "Finland",
          "Sweden",
          "Hong Kong",
          "China",
          "South Korea",
          "United Kingdom",
          "Australia",
          "Singapore",
          "Japan",
          "Canada",
          "Switzerland",
          "United States of America"
         ]
        },
        {
         "marker": {
          "color": "blue",
          "size": 12
         },
         "mode": "markers",
         "name": "2013",
         "type": "scatter",
         "uid": "7ff7f09a-99c1-451a-afaa-23e7fc2e92fd",
         "visible": false,
         "x": [
          50.166666666666664,
          50.2,
          50.3,
          50.5,
          52.05,
          53.2,
          53.53333333333334,
          55.4,
          55.75454545454545,
          55.8,
          56.4,
          56.871428571428574,
          58.475,
          59.48,
          59.76896551724137,
          60.725,
          60.779999999999994,
          61.57142857142858,
          61.875,
          62.075,
          63.05,
          65.85733333333333,
          68.45,
          68.9
         ],
         "y": [
          "Israel",
          "Austria",
          "New Zealand",
          "Brazil",
          "Republic of Ireland",
          "Taiwan",
          "Denmark",
          "Belgium",
          "Germany",
          "South Africa",
          "Finland",
          "France",
          "Netherlands",
          "Sweden",
          "United Kingdom",
          "Hong Kong",
          "Japan",
          "Switzerland",
          "South Korea",
          "Australia",
          "Canada",
          "United States of America",
          "Singapore",
          "China"
         ]
        },
        {
         "marker": {
          "color": "blue",
          "size": 12
         },
         "mode": "markers",
         "name": "2014",
         "type": "scatter",
         "uid": "24e05c0e-65b6-47ff-bf90-07ab9de268e3",
         "visible": false,
         "x": [
          44.3,
          44.65,
          45.3,
          46.2,
          46.6,
          46.6,
          48.5,
          49.2,
          49.9,
          50.5,
          51.08,
          51.25,
          52.6,
          53.879999999999995,
          54.208333333333336,
          54.96,
          56.26206896551725,
          57.580000000000005,
          57.714285714285715,
          58.51428571428571,
          58.725,
          59.93333333333334,
          60.18571428571429,
          61.692207792207796,
          64.25,
          64.80000000000001
         ],
         "y": [
          "Turkey",
          "Israel",
          "Norway",
          "Austria",
          "Spain",
          "New Zealand",
          "Republic of Ireland",
          "Taiwan",
          "Denmark",
          "South Africa",
          "Belgium",
          "France",
          "Finland",
          "Germany",
          "Netherlands",
          "Sweden",
          "United Kingdom",
          "Japan",
          "Australia",
          "Switzerland",
          "South Korea",
          "Hong Kong",
          "Canada",
          "United States of America",
          "China",
          "Singapore"
         ]
        },
        {
         "marker": {
          "color": "blue",
          "size": 12
         },
         "mode": "markers",
         "name": "2015",
         "type": "scatter",
         "uid": "b8e6c95d-dc05-46c7-9c5c-1cdef0eefd52",
         "visible": false,
         "x": [
          46,
          46.6,
          46.7,
          46.9,
          47.5,
          48.1,
          49.3,
          50.53333333333333,
          50.675000000000004,
          51.2,
          52.6,
          52.871428571428574,
          53.9,
          53.900000000000006,
          54.94166666666667,
          55.91818181818182,
          56.279999999999994,
          57.4,
          57.724999999999994,
          58.63703703703704,
          58.68749999999999,
          58.833333333333336,
          59.5375,
          60.150000000000006,
          60.699999999999996,
          61.9,
          62.863513513513524,
          67.75
         ],
         "y": [
          "Russian Federation",
          "Israel",
          "Norway",
          "Austria",
          "New Zealand",
          "Spain",
          "Taiwan",
          "Denmark",
          "Turkey",
          "Republic of Ireland",
          "South Africa",
          "France",
          "Finland",
          "Belgium",
          "Germany",
          "Netherlands",
          "Sweden",
          "Japan",
          "Hong Kong",
          "United Kingdom",
          "Australia",
          "China",
          "Canada",
          "South Korea",
          "Switzerland",
          "Italy",
          "United States of America",
          "Singapore"
         ]
        },
        {
         "marker": {
          "color": "blue",
          "size": 12
         },
         "mode": "markers",
         "name": "2016",
         "type": "scatter",
         "uid": "f5fcd0c4-6273-45d8-8a5e-a254d49907d4",
         "visible": false,
         "x": [
          49.4,
          50.5,
          51,
          51.1,
          51.3,
          51.9,
          51.96666666666667,
          52.13333333333333,
          52.6,
          54.2,
          55.8,
          56.1,
          56.519999999999996,
          56.6,
          58.025,
          58.93000000000001,
          59.29999999999999,
          61.14166666666666,
          61.62500000000001,
          61.9,
          63.64285714285713,
          64.23333333333333,
          64.2375,
          64.65714285714286,
          65.5,
          67.43174603174603,
          71,
          73.7
         ],
         "y": [
          "Luxembourg",
          "Israel",
          "New Zealand",
          "Taiwan",
          "Republic of Ireland",
          "Russian Federation",
          "Spain",
          "Italy",
          "Norway",
          "Austria",
          "South Korea",
          "South Africa",
          "France",
          "Denmark",
          "Belgium",
          "Germany",
          "Sweden",
          "Netherlands",
          "United Kingdom",
          "Finland",
          "Switzerland",
          "Hong Kong",
          "Australia",
          "Canada",
          "Japan",
          "United States of America",
          "China",
          "Singapore"
         ]
        }
       ],
       "layout": {
        "autosize": false,
        "height": 800,
        "title": {
         "text": "Gemiddelde totale score voor elk land per jaar"
        },
        "updatemenus": [
         {
          "bgcolor": "#E2D3D0",
          "bordercolor": "#FFFFFF",
          "buttons": [
           {
            "args": [
             "visible",
             [
              true,
              false,
              false,
              false,
              false,
              false
             ]
            ],
            "label": "2011",
            "method": "restyle"
           },
           {
            "args": [
             "visible",
             [
              false,
              true,
              false,
              false,
              false,
              false
             ]
            ],
            "label": "2012",
            "method": "restyle"
           },
           {
            "args": [
             "visible",
             [
              false,
              false,
              true,
              false,
              false,
              false
             ]
            ],
            "label": "2013",
            "method": "restyle"
           },
           {
            "args": [
             "visible",
             [
              false,
              false,
              false,
              true,
              false,
              false
             ]
            ],
            "label": "2014",
            "method": "restyle"
           },
           {
            "args": [
             "visible",
             [
              false,
              false,
              false,
              false,
              true,
              false
             ]
            ],
            "label": "2015",
            "method": "restyle"
           },
           {
            "args": [
             "visible",
             [
              false,
              false,
              false,
              false,
              false,
              true
             ]
            ],
            "label": "2016",
            "method": "restyle"
           }
          ],
          "direction": "left",
          "font": {
           "size": 18
          },
          "pad": {
           "r": 10,
           "t": 10
          },
          "showactive": true,
          "type": "buttons",
          "x": 0.1,
          "xanchor": "left",
          "y": 1.08,
          "yanchor": "top"
         }
        ],
        "width": 800,
        "xaxis": {
         "automargin": true,
         "range": [
          0,
          100
         ],
         "showticklabels": true,
         "tickfont": {
          "color": "black",
          "family": "Old Standard TT, serif",
          "size": 14
         },
         "title": {
          "font": {
           "color": "black",
           "family": "Arial, sans-serif",
           "size": 20
          },
          "text": "Totale score"
         }
        },
        "yaxis": {
         "automargin": true,
         "ticklen": 6,
         "tickwidth": 3,
         "title": {
          "font": {
           "color": "black",
           "family": "Arial, sans-serif",
           "size": 20
          },
          "text": "Land"
         }
        }
       }
      },
      "text/html": [
       "<div>\n",
       "        \n",
       "        \n",
       "            <div id=\"c61e1a70-17c6-46a3-b0e1-991c9292994e\" class=\"plotly-graph-div\" style=\"height:800px; width:800px;\"></div>\n",
       "            <script type=\"text/javascript\">\n",
       "                require([\"plotly\"], function(Plotly) {\n",
       "                    window.PLOTLYENV=window.PLOTLYENV || {};\n",
       "                    window.PLOTLYENV.BASE_URL='https://plot.ly';\n",
       "                    \n",
       "                if (document.getElementById(\"c61e1a70-17c6-46a3-b0e1-991c9292994e\")) {\n",
       "                    Plotly.newPlot(\n",
       "                        'c61e1a70-17c6-46a3-b0e1-991c9292994e',\n",
       "                        [{\"marker\": {\"color\": \"blue\", \"size\": 12}, \"mode\": \"markers\", \"name\": \"2011\", \"type\": \"scatter\", \"uid\": \"3bdea6dd-5fc5-468e-aad4-c5f430ec3fbb\", \"visible\": true, \"x\": [46.95, 47.7, 51.06666666666666, 51.48, 51.6, 51.6, 51.8, 52.45, 52.45714285714286, 52.7, 54.599999999999994, 55.44, 56.1, 56.6, 58.58333333333332, 58.9, 59.375, 59.596296296296295, 59.800000000000004, 59.81428571428571, 60.46, 60.95, 61.825, 62.08333333333334, 63.8, 66.8086956521739], \"y\": [\"Austria\", \"Turkey\", \"Denmark\", \"Netherlands\", \"Spain\", \"Egypt\", \"New Zealand\", \"Taiwan\", \"Germany\", \"Norway\", \"Belgium\", \"Sweden\", \"South Africa\", \"Finland\", \"China\", \"Republic of Ireland\", \"South Korea\", \"United Kingdom\", \"Canada\", \"Australia\", \"Japan\", \"Singapore\", \"France\", \"Switzerland\", \"Hong Kong\", \"United States of America\"]}, {\"marker\": {\"color\": \"blue\", \"size\": 12}, \"mode\": \"markers\", \"name\": \"2012\", \"type\": \"scatter\", \"uid\": \"ab748c7b-2313-4e92-9dd3-4af2fb101503\", \"visible\": false, \"x\": [43.1, 43.2, 44.1, 44.6, 46.2, 47.699999999999996, 47.9, 47.9, 48.5, 49.966666666666676, 50.31666666666666, 52.93333333333334, 53.2, 54.42, 54.8, 55.58, 55.8, 55.93333333333334, 56.4, 56.54333333333332, 57.52857142857143, 57.95, 58.739999999999995, 59.366666666666674, 59.78571428571429, 64.14520547945204], \"y\": [\"Spain\", \"Norway\", \"Brazil\", \"New Zealand\", \"Taiwan\", \"Denmark\", \"Austria\", \"Israel\", \"Republic of Ireland\", \"Germany\", \"Netherlands\", \"Belgium\", \"South Africa\", \"France\", \"Finland\", \"Sweden\", \"Hong Kong\", \"China\", \"South Korea\", \"United Kingdom\", \"Australia\", \"Singapore\", \"Japan\", \"Canada\", \"Switzerland\", \"United States of America\"]}, {\"marker\": {\"color\": \"blue\", \"size\": 12}, \"mode\": \"markers\", \"name\": \"2013\", \"type\": \"scatter\", \"uid\": \"7ff7f09a-99c1-451a-afaa-23e7fc2e92fd\", \"visible\": false, \"x\": [50.166666666666664, 50.2, 50.3, 50.5, 52.05, 53.2, 53.53333333333334, 55.4, 55.75454545454545, 55.8, 56.4, 56.871428571428574, 58.475, 59.48, 59.76896551724137, 60.725, 60.779999999999994, 61.57142857142858, 61.875, 62.075, 63.05, 65.85733333333333, 68.45, 68.9], \"y\": [\"Israel\", \"Austria\", \"New Zealand\", \"Brazil\", \"Republic of Ireland\", \"Taiwan\", \"Denmark\", \"Belgium\", \"Germany\", \"South Africa\", \"Finland\", \"France\", \"Netherlands\", \"Sweden\", \"United Kingdom\", \"Hong Kong\", \"Japan\", \"Switzerland\", \"South Korea\", \"Australia\", \"Canada\", \"United States of America\", \"Singapore\", \"China\"]}, {\"marker\": {\"color\": \"blue\", \"size\": 12}, \"mode\": \"markers\", \"name\": \"2014\", \"type\": \"scatter\", \"uid\": \"24e05c0e-65b6-47ff-bf90-07ab9de268e3\", \"visible\": false, \"x\": [44.3, 44.65, 45.3, 46.2, 46.6, 46.6, 48.5, 49.2, 49.9, 50.5, 51.08, 51.25, 52.6, 53.879999999999995, 54.208333333333336, 54.96, 56.26206896551725, 57.580000000000005, 57.714285714285715, 58.51428571428571, 58.725, 59.93333333333334, 60.18571428571429, 61.692207792207796, 64.25, 64.80000000000001], \"y\": [\"Turkey\", \"Israel\", \"Norway\", \"Austria\", \"Spain\", \"New Zealand\", \"Republic of Ireland\", \"Taiwan\", \"Denmark\", \"South Africa\", \"Belgium\", \"France\", \"Finland\", \"Germany\", \"Netherlands\", \"Sweden\", \"United Kingdom\", \"Japan\", \"Australia\", \"Switzerland\", \"South Korea\", \"Hong Kong\", \"Canada\", \"United States of America\", \"China\", \"Singapore\"]}, {\"marker\": {\"color\": \"blue\", \"size\": 12}, \"mode\": \"markers\", \"name\": \"2015\", \"type\": \"scatter\", \"uid\": \"b8e6c95d-dc05-46c7-9c5c-1cdef0eefd52\", \"visible\": false, \"x\": [46.0, 46.6, 46.7, 46.9, 47.5, 48.1, 49.3, 50.53333333333333, 50.675000000000004, 51.2, 52.6, 52.871428571428574, 53.9, 53.900000000000006, 54.94166666666667, 55.91818181818182, 56.279999999999994, 57.4, 57.724999999999994, 58.63703703703704, 58.68749999999999, 58.833333333333336, 59.5375, 60.150000000000006, 60.699999999999996, 61.9, 62.863513513513524, 67.75], \"y\": [\"Russian Federation\", \"Israel\", \"Norway\", \"Austria\", \"New Zealand\", \"Spain\", \"Taiwan\", \"Denmark\", \"Turkey\", \"Republic of Ireland\", \"South Africa\", \"France\", \"Finland\", \"Belgium\", \"Germany\", \"Netherlands\", \"Sweden\", \"Japan\", \"Hong Kong\", \"United Kingdom\", \"Australia\", \"China\", \"Canada\", \"South Korea\", \"Switzerland\", \"Italy\", \"United States of America\", \"Singapore\"]}, {\"marker\": {\"color\": \"blue\", \"size\": 12}, \"mode\": \"markers\", \"name\": \"2016\", \"type\": \"scatter\", \"uid\": \"f5fcd0c4-6273-45d8-8a5e-a254d49907d4\", \"visible\": false, \"x\": [49.4, 50.5, 51.0, 51.1, 51.3, 51.9, 51.96666666666667, 52.13333333333333, 52.6, 54.2, 55.8, 56.1, 56.519999999999996, 56.6, 58.025, 58.93000000000001, 59.29999999999999, 61.14166666666666, 61.62500000000001, 61.9, 63.64285714285713, 64.23333333333333, 64.2375, 64.65714285714286, 65.5, 67.43174603174603, 71.0, 73.7], \"y\": [\"Luxembourg\", \"Israel\", \"New Zealand\", \"Taiwan\", \"Republic of Ireland\", \"Russian Federation\", \"Spain\", \"Italy\", \"Norway\", \"Austria\", \"South Korea\", \"South Africa\", \"France\", \"Denmark\", \"Belgium\", \"Germany\", \"Sweden\", \"Netherlands\", \"United Kingdom\", \"Finland\", \"Switzerland\", \"Hong Kong\", \"Australia\", \"Canada\", \"Japan\", \"United States of America\", \"China\", \"Singapore\"]}],\n",
       "                        {\"autosize\": false, \"height\": 800, \"title\": {\"text\": \"Gemiddelde totale score voor elk land per jaar\"}, \"updatemenus\": [{\"bgcolor\": \"#E2D3D0\", \"bordercolor\": \"#FFFFFF\", \"buttons\": [{\"args\": [\"visible\", [true, false, false, false, false, false]], \"label\": \"2011\", \"method\": \"restyle\"}, {\"args\": [\"visible\", [false, true, false, false, false, false]], \"label\": \"2012\", \"method\": \"restyle\"}, {\"args\": [\"visible\", [false, false, true, false, false, false]], \"label\": \"2013\", \"method\": \"restyle\"}, {\"args\": [\"visible\", [false, false, false, true, false, false]], \"label\": \"2014\", \"method\": \"restyle\"}, {\"args\": [\"visible\", [false, false, false, false, true, false]], \"label\": \"2015\", \"method\": \"restyle\"}, {\"args\": [\"visible\", [false, false, false, false, false, true]], \"label\": \"2016\", \"method\": \"restyle\"}], \"direction\": \"left\", \"font\": {\"size\": 18}, \"pad\": {\"r\": 10, \"t\": 10}, \"showactive\": true, \"type\": \"buttons\", \"x\": 0.1, \"xanchor\": \"left\", \"y\": 1.08, \"yanchor\": \"top\"}], \"width\": 800, \"xaxis\": {\"automargin\": true, \"range\": [0, 100], \"showticklabels\": true, \"tickfont\": {\"color\": \"black\", \"family\": \"Old Standard TT, serif\", \"size\": 14}, \"title\": {\"font\": {\"color\": \"black\", \"family\": \"Arial, sans-serif\", \"size\": 20}, \"text\": \"Totale score\"}}, \"yaxis\": {\"automargin\": true, \"ticklen\": 6, \"tickwidth\": 3, \"title\": {\"font\": {\"color\": \"black\", \"family\": \"Arial, sans-serif\", \"size\": 20}, \"text\": \"Land\"}}},\n",
       "                        {\"showLink\": false, \"linkText\": \"Export to plot.ly\", \"plotlyServerURL\": \"https://plot.ly\", \"responsive\": true}\n",
       "                    ).then(function(){\n",
       "                            \n",
       "var gd = document.getElementById('c61e1a70-17c6-46a3-b0e1-991c9292994e');\n",
       "var x = new MutationObserver(function (mutations, observer) {{\n",
       "        var display = window.getComputedStyle(gd).display;\n",
       "        if (!display || display === 'none') {{\n",
       "            console.log([gd, 'removed!']);\n",
       "            Plotly.purge(gd);\n",
       "            observer.disconnect();\n",
       "        }}\n",
       "}});\n",
       "\n",
       "// Listen for the removal of the full notebook cells\n",
       "var notebookContainer = gd.closest('#notebook-container');\n",
       "if (notebookContainer) {{\n",
       "    x.observe(notebookContainer, {childList: true});\n",
       "}}\n",
       "\n",
       "// Listen for the clearing of the current output cell\n",
       "var outputEl = gd.closest('.output');\n",
       "if (outputEl) {{\n",
       "    x.observe(outputEl, {childList: true});\n",
       "}}\n",
       "\n",
       "                        })\n",
       "                };\n",
       "                });\n",
       "            </script>\n",
       "        </div>"
      ]
     },
     "metadata": {},
     "output_type": "display_data"
    }
   ],
   "source": [
    "dotplot_totalscore()"
   ]
  },
  {
   "cell_type": "markdown",
   "metadata": {},
   "source": [
    "## Conclusie\n",
    "\n",
    "De stelling die deze data story leidde was: “Een hoger percentage internationale studenten leidt tot een hogere plaats op de wereldranglijst en tot een betere internationale reputatie”. Deze stelling kan deels als bewezen worden beschouwd en deels als weerlegd. Uit de laatste grafieken is namelijk op te maken dat landen met een hoger gemiddeld percentage internationale studenten niet per se hoger scoren. Het is echter ook te zien dat landen met een hoger gemiddeld percentage internationale studenten een betere internationale reputatie hebben, een hogere internationale score."
   ]
  }
 ],
 "metadata": {
  "kernelspec": {
   "display_name": "Python 3",
   "language": "python",
   "name": "python3"
  },
  "language_info": {
   "codemirror_mode": {
    "name": "ipython",
    "version": 3
   },
   "file_extension": ".py",
   "mimetype": "text/x-python",
   "name": "python",
   "nbconvert_exporter": "python",
   "pygments_lexer": "ipython3",
   "version": "3.6.5"
  }
 },
 "nbformat": 4,
 "nbformat_minor": 2
}
