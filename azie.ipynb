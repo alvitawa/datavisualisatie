{
 "cells": [
  {
   "cell_type": "code",
   "execution_count": 137,
   "metadata": {},
   "outputs": [
    {
     "data": {
      "text/html": [
       "        <script type=\"text/javascript\">\n",
       "        window.PlotlyConfig = {MathJaxConfig: 'local'};\n",
       "        if (window.MathJax) {MathJax.Hub.Config({SVG: {font: \"STIX-Web\"}});}\n",
       "        if (typeof require !== 'undefined') {\n",
       "        require.undef(\"plotly\");\n",
       "        requirejs.config({\n",
       "            paths: {\n",
       "                'plotly': ['https://cdn.plot.ly/plotly-latest.min']\n",
       "            }\n",
       "        });\n",
       "        require(['plotly'], function(Plotly) {\n",
       "            window._Plotly = Plotly;\n",
       "        });\n",
       "        }\n",
       "        </script>\n",
       "        "
      ]
     },
     "metadata": {},
     "output_type": "display_data"
    },
    {
     "name": "stdout",
     "output_type": "stream",
     "text": [
      "[2011, 2012, 2013, 2014, 2015, 2016]\n"
     ]
    }
   ],
   "source": [
    "\n",
    "from plotly.offline import init_notebook_mode, iplot\n",
    "import plotly.graph_objs as go\n",
    "import math\n",
    "\n",
    "# Start notebook mode\n",
    "init_notebook_mode(connected=True)\n",
    "\n",
    "import pandas as pd # we gebruiken pandas om de CSV data te laden en te visualiseren\n",
    "\n",
    "\n",
    "times = pd.read_csv(\"timesData.csv\")\n",
    "shanghai = pd.read_csv(\"shanghaiData.csv\")\n",
    "cwur = pd.read_csv(\"cwurData.csv\")\n",
    "\n",
    "# print(shanghai.loc[shanghai['university_name'] == 'Harvard University']['world_rank'])\n",
    "\n",
    "def conv_ranking(x):\n",
    "    spl = x.split('-')\n",
    "    if len(spl) == 2:\n",
    "        return (float(spl[0]) + float(spl[1])) / 2\n",
    "    s = (x if x[0] != '=' else x[1:])\n",
    "    f = float(s)\n",
    "    return f\n",
    "\n",
    "# countries = pd.read_csv(\"school_and_country_table.csv\")\n",
    "\n",
    "# df = times.set_index('university_name').join(countries.set_index('school_name'))\n",
    "# print(df)\n",
    "\n",
    "times['world_rank'] = times['world_rank'].map(conv_ranking)\n",
    "country_stats = times[['country', 'world_rank', 'year']].groupby(['year', 'country']).mean()\n",
    "print(list(x for x in country_stats.index.levels[0]))\n",
    "# print(country_stats.loc[2011])"
   ]
  },
  {
   "cell_type": "code",
   "execution_count": 157,
   "metadata": {
    "scrolled": false
   },
   "outputs": [
    {
     "data": {
      "application/vnd.plotly.v1+json": {
       "config": {
        "linkText": "Export to plot.ly",
        "plotlyServerURL": "https://plot.ly",
        "showLink": false
       },
       "data": [
        {
         "autocolorscale": false,
         "colorbar": {
          "title": {
           "text": "Average Ranking 2011 (high is bad)"
          }
         },
         "colorscale": [
          [
           0,
           "rgb(50,50,255)"
          ],
          [
           1,
           "rgb(255,50,50)"
          ]
         ],
         "customdata": [
          2011
         ],
         "locationmode": "country names",
         "locations": [
          "Australia",
          "Austria",
          "Belgium",
          "Canada",
          "China",
          "Denmark",
          "Egypt",
          "Finland",
          "France",
          "Germany",
          "Hong Kong",
          "Japan",
          "Netherlands",
          "New Zealand",
          "Norway",
          "Republic of Ireland",
          "Singapore",
          "South Africa",
          "South Korea",
          "Spain",
          "Sweden",
          "Switzerland",
          "Taiwan",
          "Turkey",
          "United Kingdom",
          "United States of America"
         ],
         "marker": {
          "line": {
           "color": "rgb(0,0,0)",
           "width": 0.25
          }
         },
         "type": "choropleth",
         "uid": "fd48f9c2-11d0-4d7c-a865-136c8a0c9637",
         "z": [
          90.57142857142857,
          191,
          121.5,
          106.88888888888889,
          105.33333333333333,
          155.33333333333334,
          147,
          102,
          80.25,
          145.21428571428572,
          80.5,
          91.4,
          149.4,
          145,
          135,
          85,
          104,
          107,
          101.5,
          148.5,
          133.33333333333334,
          83.66666666666667,
          141.5,
          147.5,
          104.79310344827586,
          71.84722222222223
         ]
        },
        {
         "autocolorscale": false,
         "colorbar": {
          "title": {
           "text": "Average Ranking 2012 (high is bad)"
          }
         },
         "colorscale": [
          [
           0,
           "rgb(50,50,255)"
          ],
          [
           1,
           "rgb(255,50,50)"
          ]
         ],
         "customdata": [
          2012
         ],
         "locationmode": "country names",
         "locations": [
          "Australia",
          "Austria",
          "Belgium",
          "Brazil",
          "Canada",
          "Chile",
          "China",
          "Czech Republic",
          "Denmark",
          "Egypt",
          "Estonia",
          "Finland",
          "France",
          "Germany",
          "Greece",
          "Hong Kong",
          "Iceland",
          "India",
          "Iran",
          "Israel",
          "Italy",
          "Japan",
          "Netherlands",
          "New Zealand",
          "Norway",
          "Poland",
          "Portugal",
          "Republic of Ireland",
          "Russian Federation",
          "Singapore",
          "South Africa",
          "South Korea",
          "Spain",
          "Sweden",
          "Switzerland",
          "Taiwan",
          "Thailand",
          "Turkey",
          "United Kingdom",
          "United States of America"
         ],
         "marker": {
          "line": {
           "color": "rgb(0,0,0)",
           "width": 0.25
          }
         },
         "type": "choropleth",
         "uid": "79320672-2c22-41ca-b99e-cac4e941ffb7",
         "z": [
          250.0952380952381,
          240.7,
          213.42857142857142,
          233,
          175.13888888888889,
          375,
          250.2,
          325.5,
          205.3,
          325.5,
          375,
          288.5,
          174,
          196.22727272727272,
          288,
          165.16666666666666,
          288,
          325.5,
          325.5,
          206.375,
          302.17857142857144,
          237.96875,
          138.6153846153846,
          279.1666666666667,
          230.75,
          325.5,
          350.25,
          270.3,
          331.5,
          104.5,
          209.66666666666666,
          206.78571428571428,
          293.8125,
          174.45,
          84.42857142857143,
          289.8125,
          375,
          278.625,
          187.65384615384616,
          150.2787610619469
         ]
        },
        {
         "autocolorscale": false,
         "colorbar": {
          "title": {
           "text": "Average Ranking 2013 (high is bad)"
          }
         },
         "colorscale": [
          [
           0,
           "rgb(50,50,255)"
          ],
          [
           1,
           "rgb(255,50,50)"
          ]
         ],
         "customdata": [
          2013
         ],
         "locationmode": "country names",
         "locations": [
          "Australia",
          "Austria",
          "Belgium",
          "Brazil",
          "Canada",
          "China",
          "Colombia",
          "Czech Republic",
          "Denmark",
          "Estonia",
          "Finland",
          "France",
          "Germany",
          "Greece",
          "Hong Kong",
          "Iceland",
          "India",
          "Iran",
          "Israel",
          "Italy",
          "Japan",
          "Mexico",
          "Netherlands",
          "New Zealand",
          "Norway",
          "Poland",
          "Portugal",
          "Republic of Ireland",
          "Russian Federation",
          "Saudi Arabia",
          "Singapore",
          "South Africa",
          "South Korea",
          "Spain",
          "Sweden",
          "Switzerland",
          "Taiwan",
          "Thailand",
          "Turkey",
          "United Kingdom",
          "United States of America"
         ],
         "marker": {
          "line": {
           "color": "rgb(0,0,0)",
           "width": 0.25
          }
         },
         "type": "choropleth",
         "uid": "84ca7fc7-cd60-4b18-981a-c7b4b43d4146",
         "z": [
          232.10526315789474,
          269.0833333333333,
          206.57142857142858,
          210.5,
          190.81578947368422,
          227.94444444444446,
          375.5,
          325.5,
          211.7,
          375.5,
          279.7,
          187.5,
          204.16,
          325.5,
          165.75,
          263,
          292.1666666666667,
          325.5,
          162.66666666666666,
          314.7857142857143,
          229.57692307692307,
          375.5,
          109.07692307692308,
          281.4166666666667,
          259.875,
          375.5,
          375.5,
          264.7,
          225.5,
          325.5,
          57.5,
          247.375,
          135.16666666666666,
          298.7142857142857,
          181.45,
          127.8125,
          291,
          375.5,
          253,
          182.90625,
          154.55405405405406
         ]
        },
        {
         "autocolorscale": false,
         "colorbar": {
          "title": {
           "text": "Average Ranking 2014 (high is bad)"
          }
         },
         "colorscale": [
          [
           0,
           "rgb(50,50,255)"
          ],
          [
           1,
           "rgb(255,50,50)"
          ]
         ],
         "customdata": [
          2014
         ],
         "locationmode": "country names",
         "locations": [
          "Australia",
          "Austria",
          "Belgium",
          "Brazil",
          "Canada",
          "China",
          "Colombia",
          "Czech Republic",
          "Denmark",
          "Estonia",
          "Finland",
          "France",
          "Germany",
          "Greece",
          "Hong Kong",
          "Iceland",
          "India",
          "Iran",
          "Israel",
          "Italy",
          "Japan",
          "Netherlands",
          "New Zealand",
          "Norway",
          "Poland",
          "Portugal",
          "Republic of Ireland",
          "Russian Federation",
          "Saudi Arabia",
          "Singapore",
          "South Africa",
          "South Korea",
          "Spain",
          "Sweden",
          "Switzerland",
          "Taiwan",
          "Thailand",
          "Turkey",
          "United Kingdom",
          "United States of America"
         ],
         "marker": {
          "line": {
           "color": "rgb(0,0,0)",
           "width": 0.25
          }
         },
         "type": "choropleth",
         "uid": "beefccc9-5754-4ceb-b079-401c27bbe331",
         "z": [
          229.39473684210526,
          272.5,
          178.07142857142858,
          281.75,
          195.21052631578948,
          237.4,
          263,
          375.5,
          203.7,
          375.5,
          290.4,
          166.22727272727272,
          209.21153846153845,
          325.5,
          168.41666666666666,
          263,
          348,
          263,
          201,
          298.8333333333333,
          198.5909090909091,
          109.84615384615384,
          268.2,
          259.125,
          325.5,
          375.5,
          255.8,
          238,
          375.5,
          51,
          229.83333333333334,
          164.5,
          315.8888888888889,
          190.5,
          118.375,
          305.6875,
          325.5,
          230.2,
          182.83673469387756,
          153.24770642201835
         ]
        },
        {
         "autocolorscale": false,
         "colorbar": {
          "title": {
           "text": "Average Ranking 2015 (high is bad)"
          }
         },
         "colorscale": [
          [
           0,
           "rgb(50,50,255)"
          ],
          [
           1,
           "rgb(255,50,50)"
          ]
         ],
         "customdata": [
          2015
         ],
         "locationmode": "country names",
         "locations": [
          "Australia",
          "Austria",
          "Belgium",
          "Brazil",
          "Canada",
          "Chile",
          "China",
          "Colombia",
          "Czech Republic",
          "Denmark",
          "Finland",
          "France",
          "Germany",
          "Greece",
          "Hong Kong",
          "Iceland",
          "India",
          "Iran",
          "Israel",
          "Italy",
          "Japan",
          "Macau",
          "Morocco",
          "Netherlands",
          "New Zealand",
          "Norway",
          "Poland",
          "Portugal",
          "Republic of Ireland",
          "Russian Federation",
          "Singapore",
          "South Africa",
          "South Korea",
          "Spain",
          "Sweden",
          "Switzerland",
          "Taiwan",
          "Thailand",
          "Turkey",
          "United Kingdom",
          "United States of America"
         ],
         "marker": {
          "line": {
           "color": "rgb(0,0,0)",
           "width": 0.25
          }
         },
         "type": "choropleth",
         "uid": "f120d550-7e59-4b2b-a69f-527cc8579512",
         "z": [
          227.975,
          254.3,
          207.14285714285714,
          269.25,
          183.36111111111111,
          263,
          252.86363636363637,
          263,
          325.5,
          227,
          293.7142857142857,
          181.3181818181818,
          211.07142857142858,
          325.5,
          158.91666666666666,
          263,
          331.75,
          350.5,
          204.66666666666666,
          290.94117647058823,
          230.08333333333334,
          288,
          325.5,
          121.15384615384616,
          285.4,
          265.625,
          325.5,
          375.5,
          260.5,
          260.75,
          43,
          225,
          207.61111111111111,
          273.75,
          202.5,
          111,
          305.4166666666667,
          375.5,
          184.91666666666666,
          171.75555555555556,
          155.13425925925927
         ]
        },
        {
         "autocolorscale": false,
         "colorbar": {
          "title": {
           "text": "Average Ranking 2016 (high is bad)"
          }
         },
         "colorscale": [
          [
           0,
           "rgb(50,50,255)"
          ],
          [
           1,
           "rgb(255,50,50)"
          ]
         ],
         "customdata": [
          2016
         ],
         "locationmode": "country names",
         "locations": [
          "Argentina",
          "Australia",
          "Austria",
          "Bangladesh",
          "Belarus",
          "Belgium",
          "Brazil",
          "Canada",
          "Chile",
          "China",
          "Colombia",
          "Cyprus",
          "Czech Republic",
          "Denmark",
          "Egypt",
          "Estonia",
          "Finland",
          "France",
          "Germany",
          "Ghana",
          "Greece",
          "Hong Kong",
          "Hungary",
          "Iceland",
          "India",
          "Indonesia",
          "Iran",
          "Israel",
          "Italy",
          "Japan",
          "Jordan",
          "Kenya",
          "Latvia",
          "Lebanon",
          "Lithuania",
          "Luxembourg",
          "Macau",
          "Malaysia",
          "Mexico",
          "Morocco",
          "Netherlands",
          "New Zealand",
          "Nigeria",
          "Norway",
          "Oman",
          "Pakistan",
          "Poland",
          "Portugal",
          "Qatar",
          "Republic of Ireland",
          "Romania",
          "Russian Federation",
          "Saudi Arabia",
          "Serbia",
          "Singapore",
          "Slovakia",
          "Slovenia",
          "South Africa",
          "South Korea",
          "Spain",
          "Sweden",
          "Switzerland",
          "Taiwan",
          "Thailand",
          "Turkey",
          "Uganda",
          "Ukraine",
          "Unisted States of America",
          "United Arab Emirates",
          "United Kingdom",
          "United States of America",
          "Unted Kingdom"
         ],
         "marker": {
          "line": {
           "color": "rgb(0,0,0)",
           "width": 0.25
          }
         },
         "type": "choropleth",
         "uid": "da7a953b-d6d1-4e98-aa88-83bab27d8916",
         "z": [
          700.5,
          304.0483870967742,
          320.7142857142857,
          700.5,
          700.5,
          212.35714285714286,
          638.7352941176471,
          285.92,
          592.1666666666666,
          536.6621621621622,
          625.5,
          375.5,
          553.2777777777778,
          188.58333333333334,
          700.5,
          463,
          361.6666666666667,
          385.77777777777777,
          198.4189189189189,
          700.5,
          561.2142857142857,
          177.91666666666666,
          675.5,
          275.5,
          568.1470588235294,
          700.5,
          581.75,
          380.0833333333333,
          371.4852941176471,
          578.060975609756,
          700.5,
          700.5,
          700.5,
          550.5,
          700.5,
          193,
          450.5,
          650.5,
          500.5,
          700.5,
          104.73076923076923,
          417.85714285714283,
          700.5,
          267,
          700.5,
          625.5,
          679.0714285714286,
          468.35714285714283,
          700.5,
          371.05555555555554,
          663,
          482.0769230769231,
          458.8333333333333,
          700.5,
          40.5,
          700.5,
          625.5,
          395.4166666666667,
          498.4166666666667,
          517.8,
          181.5909090909091,
          169.15,
          579.3125,
          679.0714285714286,
          561.8636363636364,
          450.5,
          700.5,
          225.5,
          625.5,
          334.43506493506493,
          267.5924657534247,
          450.5
         ]
        }
       ],
       "layout": {
        "geo": {
         "lakecolor": "rgb(255, 255, 255)",
         "projection": {
          "type": "equirectangular"
         },
         "scope": "world",
         "showlakes": true
        },
        "sliders": [
         {
          "active": 5,
          "pad": {
           "t": 1
          },
          "steps": [
           {
            "args": [
             "visible",
             [
              true,
              false,
              false,
              false,
              false,
              false
             ]
            ],
            "label": "Year 2011",
            "method": "restyle"
           },
           {
            "args": [
             "visible",
             [
              false,
              true,
              false,
              false,
              false,
              false
             ]
            ],
            "label": "Year 2012",
            "method": "restyle"
           },
           {
            "args": [
             "visible",
             [
              false,
              false,
              true,
              false,
              false,
              false
             ]
            ],
            "label": "Year 2013",
            "method": "restyle"
           },
           {
            "args": [
             "visible",
             [
              false,
              false,
              false,
              true,
              false,
              false
             ]
            ],
            "label": "Year 2014",
            "method": "restyle"
           },
           {
            "args": [
             "visible",
             [
              false,
              false,
              false,
              false,
              true,
              false
             ]
            ],
            "label": "Year 2015",
            "method": "restyle"
           },
           {
            "args": [
             "visible",
             [
              false,
              false,
              false,
              false,
              false,
              true
             ]
            ],
            "label": "Year 2016",
            "method": "restyle"
           }
          ]
         }
        ],
        "title": {
         "text": "Average ranking of universities by country (White means no data)"
        }
       }
      },
      "text/html": [
       "<div>\n",
       "        \n",
       "        \n",
       "            <div id=\"50632ee8-8d83-4b6a-8d18-a80575c1fcba\" class=\"plotly-graph-div\" style=\"height:525px; width:100%;\"></div>\n",
       "            <script type=\"text/javascript\">\n",
       "                require([\"plotly\"], function(Plotly) {\n",
       "                    window.PLOTLYENV=window.PLOTLYENV || {};\n",
       "                    window.PLOTLYENV.BASE_URL='https://plot.ly';\n",
       "                    \n",
       "                if (document.getElementById(\"50632ee8-8d83-4b6a-8d18-a80575c1fcba\")) {\n",
       "                    Plotly.newPlot(\n",
       "                        '50632ee8-8d83-4b6a-8d18-a80575c1fcba',\n",
       "                        [{\"autocolorscale\": false, \"colorbar\": {\"title\": {\"text\": \"Average Ranking 2011 (high is bad)\"}}, \"colorscale\": [[0, \"rgb(50,50,255)\"], [1, \"rgb(255,50,50)\"]], \"customdata\": [2011], \"locationmode\": \"country names\", \"locations\": [\"Australia\", \"Austria\", \"Belgium\", \"Canada\", \"China\", \"Denmark\", \"Egypt\", \"Finland\", \"France\", \"Germany\", \"Hong Kong\", \"Japan\", \"Netherlands\", \"New Zealand\", \"Norway\", \"Republic of Ireland\", \"Singapore\", \"South Africa\", \"South Korea\", \"Spain\", \"Sweden\", \"Switzerland\", \"Taiwan\", \"Turkey\", \"United Kingdom\", \"United States of America\"], \"marker\": {\"line\": {\"color\": \"rgb(0,0,0)\", \"width\": 0.25}}, \"type\": \"choropleth\", \"uid\": \"fd48f9c2-11d0-4d7c-a865-136c8a0c9637\", \"z\": [90.57142857142857, 191.0, 121.5, 106.88888888888889, 105.33333333333333, 155.33333333333334, 147.0, 102.0, 80.25, 145.21428571428572, 80.5, 91.4, 149.4, 145.0, 135.0, 85.0, 104.0, 107.0, 101.5, 148.5, 133.33333333333334, 83.66666666666667, 141.5, 147.5, 104.79310344827586, 71.84722222222223]}, {\"autocolorscale\": false, \"colorbar\": {\"title\": {\"text\": \"Average Ranking 2012 (high is bad)\"}}, \"colorscale\": [[0, \"rgb(50,50,255)\"], [1, \"rgb(255,50,50)\"]], \"customdata\": [2012], \"locationmode\": \"country names\", \"locations\": [\"Australia\", \"Austria\", \"Belgium\", \"Brazil\", \"Canada\", \"Chile\", \"China\", \"Czech Republic\", \"Denmark\", \"Egypt\", \"Estonia\", \"Finland\", \"France\", \"Germany\", \"Greece\", \"Hong Kong\", \"Iceland\", \"India\", \"Iran\", \"Israel\", \"Italy\", \"Japan\", \"Netherlands\", \"New Zealand\", \"Norway\", \"Poland\", \"Portugal\", \"Republic of Ireland\", \"Russian Federation\", \"Singapore\", \"South Africa\", \"South Korea\", \"Spain\", \"Sweden\", \"Switzerland\", \"Taiwan\", \"Thailand\", \"Turkey\", \"United Kingdom\", \"United States of America\"], \"marker\": {\"line\": {\"color\": \"rgb(0,0,0)\", \"width\": 0.25}}, \"type\": \"choropleth\", \"uid\": \"79320672-2c22-41ca-b99e-cac4e941ffb7\", \"z\": [250.0952380952381, 240.7, 213.42857142857142, 233.0, 175.13888888888889, 375.0, 250.2, 325.5, 205.3, 325.5, 375.0, 288.5, 174.0, 196.22727272727272, 288.0, 165.16666666666666, 288.0, 325.5, 325.5, 206.375, 302.17857142857144, 237.96875, 138.6153846153846, 279.1666666666667, 230.75, 325.5, 350.25, 270.3, 331.5, 104.5, 209.66666666666666, 206.78571428571428, 293.8125, 174.45, 84.42857142857143, 289.8125, 375.0, 278.625, 187.65384615384616, 150.2787610619469]}, {\"autocolorscale\": false, \"colorbar\": {\"title\": {\"text\": \"Average Ranking 2013 (high is bad)\"}}, \"colorscale\": [[0, \"rgb(50,50,255)\"], [1, \"rgb(255,50,50)\"]], \"customdata\": [2013], \"locationmode\": \"country names\", \"locations\": [\"Australia\", \"Austria\", \"Belgium\", \"Brazil\", \"Canada\", \"China\", \"Colombia\", \"Czech Republic\", \"Denmark\", \"Estonia\", \"Finland\", \"France\", \"Germany\", \"Greece\", \"Hong Kong\", \"Iceland\", \"India\", \"Iran\", \"Israel\", \"Italy\", \"Japan\", \"Mexico\", \"Netherlands\", \"New Zealand\", \"Norway\", \"Poland\", \"Portugal\", \"Republic of Ireland\", \"Russian Federation\", \"Saudi Arabia\", \"Singapore\", \"South Africa\", \"South Korea\", \"Spain\", \"Sweden\", \"Switzerland\", \"Taiwan\", \"Thailand\", \"Turkey\", \"United Kingdom\", \"United States of America\"], \"marker\": {\"line\": {\"color\": \"rgb(0,0,0)\", \"width\": 0.25}}, \"type\": \"choropleth\", \"uid\": \"84ca7fc7-cd60-4b18-981a-c7b4b43d4146\", \"z\": [232.10526315789474, 269.0833333333333, 206.57142857142858, 210.5, 190.81578947368422, 227.94444444444446, 375.5, 325.5, 211.7, 375.5, 279.7, 187.5, 204.16, 325.5, 165.75, 263.0, 292.1666666666667, 325.5, 162.66666666666666, 314.7857142857143, 229.57692307692307, 375.5, 109.07692307692308, 281.4166666666667, 259.875, 375.5, 375.5, 264.7, 225.5, 325.5, 57.5, 247.375, 135.16666666666666, 298.7142857142857, 181.45, 127.8125, 291.0, 375.5, 253.0, 182.90625, 154.55405405405406]}, {\"autocolorscale\": false, \"colorbar\": {\"title\": {\"text\": \"Average Ranking 2014 (high is bad)\"}}, \"colorscale\": [[0, \"rgb(50,50,255)\"], [1, \"rgb(255,50,50)\"]], \"customdata\": [2014], \"locationmode\": \"country names\", \"locations\": [\"Australia\", \"Austria\", \"Belgium\", \"Brazil\", \"Canada\", \"China\", \"Colombia\", \"Czech Republic\", \"Denmark\", \"Estonia\", \"Finland\", \"France\", \"Germany\", \"Greece\", \"Hong Kong\", \"Iceland\", \"India\", \"Iran\", \"Israel\", \"Italy\", \"Japan\", \"Netherlands\", \"New Zealand\", \"Norway\", \"Poland\", \"Portugal\", \"Republic of Ireland\", \"Russian Federation\", \"Saudi Arabia\", \"Singapore\", \"South Africa\", \"South Korea\", \"Spain\", \"Sweden\", \"Switzerland\", \"Taiwan\", \"Thailand\", \"Turkey\", \"United Kingdom\", \"United States of America\"], \"marker\": {\"line\": {\"color\": \"rgb(0,0,0)\", \"width\": 0.25}}, \"type\": \"choropleth\", \"uid\": \"beefccc9-5754-4ceb-b079-401c27bbe331\", \"z\": [229.39473684210526, 272.5, 178.07142857142858, 281.75, 195.21052631578948, 237.4, 263.0, 375.5, 203.7, 375.5, 290.4, 166.22727272727272, 209.21153846153845, 325.5, 168.41666666666666, 263.0, 348.0, 263.0, 201.0, 298.8333333333333, 198.5909090909091, 109.84615384615384, 268.2, 259.125, 325.5, 375.5, 255.8, 238.0, 375.5, 51.0, 229.83333333333334, 164.5, 315.8888888888889, 190.5, 118.375, 305.6875, 325.5, 230.2, 182.83673469387756, 153.24770642201835]}, {\"autocolorscale\": false, \"colorbar\": {\"title\": {\"text\": \"Average Ranking 2015 (high is bad)\"}}, \"colorscale\": [[0, \"rgb(50,50,255)\"], [1, \"rgb(255,50,50)\"]], \"customdata\": [2015], \"locationmode\": \"country names\", \"locations\": [\"Australia\", \"Austria\", \"Belgium\", \"Brazil\", \"Canada\", \"Chile\", \"China\", \"Colombia\", \"Czech Republic\", \"Denmark\", \"Finland\", \"France\", \"Germany\", \"Greece\", \"Hong Kong\", \"Iceland\", \"India\", \"Iran\", \"Israel\", \"Italy\", \"Japan\", \"Macau\", \"Morocco\", \"Netherlands\", \"New Zealand\", \"Norway\", \"Poland\", \"Portugal\", \"Republic of Ireland\", \"Russian Federation\", \"Singapore\", \"South Africa\", \"South Korea\", \"Spain\", \"Sweden\", \"Switzerland\", \"Taiwan\", \"Thailand\", \"Turkey\", \"United Kingdom\", \"United States of America\"], \"marker\": {\"line\": {\"color\": \"rgb(0,0,0)\", \"width\": 0.25}}, \"type\": \"choropleth\", \"uid\": \"f120d550-7e59-4b2b-a69f-527cc8579512\", \"z\": [227.975, 254.3, 207.14285714285714, 269.25, 183.36111111111111, 263.0, 252.86363636363637, 263.0, 325.5, 227.0, 293.7142857142857, 181.3181818181818, 211.07142857142858, 325.5, 158.91666666666666, 263.0, 331.75, 350.5, 204.66666666666666, 290.94117647058823, 230.08333333333334, 288.0, 325.5, 121.15384615384616, 285.4, 265.625, 325.5, 375.5, 260.5, 260.75, 43.0, 225.0, 207.61111111111111, 273.75, 202.5, 111.0, 305.4166666666667, 375.5, 184.91666666666666, 171.75555555555556, 155.13425925925927]}, {\"autocolorscale\": false, \"colorbar\": {\"title\": {\"text\": \"Average Ranking 2016 (high is bad)\"}}, \"colorscale\": [[0, \"rgb(50,50,255)\"], [1, \"rgb(255,50,50)\"]], \"customdata\": [2016], \"locationmode\": \"country names\", \"locations\": [\"Argentina\", \"Australia\", \"Austria\", \"Bangladesh\", \"Belarus\", \"Belgium\", \"Brazil\", \"Canada\", \"Chile\", \"China\", \"Colombia\", \"Cyprus\", \"Czech Republic\", \"Denmark\", \"Egypt\", \"Estonia\", \"Finland\", \"France\", \"Germany\", \"Ghana\", \"Greece\", \"Hong Kong\", \"Hungary\", \"Iceland\", \"India\", \"Indonesia\", \"Iran\", \"Israel\", \"Italy\", \"Japan\", \"Jordan\", \"Kenya\", \"Latvia\", \"Lebanon\", \"Lithuania\", \"Luxembourg\", \"Macau\", \"Malaysia\", \"Mexico\", \"Morocco\", \"Netherlands\", \"New Zealand\", \"Nigeria\", \"Norway\", \"Oman\", \"Pakistan\", \"Poland\", \"Portugal\", \"Qatar\", \"Republic of Ireland\", \"Romania\", \"Russian Federation\", \"Saudi Arabia\", \"Serbia\", \"Singapore\", \"Slovakia\", \"Slovenia\", \"South Africa\", \"South Korea\", \"Spain\", \"Sweden\", \"Switzerland\", \"Taiwan\", \"Thailand\", \"Turkey\", \"Uganda\", \"Ukraine\", \"Unisted States of America\", \"United Arab Emirates\", \"United Kingdom\", \"United States of America\", \"Unted Kingdom\"], \"marker\": {\"line\": {\"color\": \"rgb(0,0,0)\", \"width\": 0.25}}, \"type\": \"choropleth\", \"uid\": \"da7a953b-d6d1-4e98-aa88-83bab27d8916\", \"z\": [700.5, 304.0483870967742, 320.7142857142857, 700.5, 700.5, 212.35714285714286, 638.7352941176471, 285.92, 592.1666666666666, 536.6621621621622, 625.5, 375.5, 553.2777777777778, 188.58333333333334, 700.5, 463.0, 361.6666666666667, 385.77777777777777, 198.4189189189189, 700.5, 561.2142857142857, 177.91666666666666, 675.5, 275.5, 568.1470588235294, 700.5, 581.75, 380.0833333333333, 371.4852941176471, 578.060975609756, 700.5, 700.5, 700.5, 550.5, 700.5, 193.0, 450.5, 650.5, 500.5, 700.5, 104.73076923076923, 417.85714285714283, 700.5, 267.0, 700.5, 625.5, 679.0714285714286, 468.35714285714283, 700.5, 371.05555555555554, 663.0, 482.0769230769231, 458.8333333333333, 700.5, 40.5, 700.5, 625.5, 395.4166666666667, 498.4166666666667, 517.8, 181.5909090909091, 169.15, 579.3125, 679.0714285714286, 561.8636363636364, 450.5, 700.5, 225.5, 625.5, 334.43506493506493, 267.5924657534247, 450.5]}],\n",
       "                        {\"geo\": {\"lakecolor\": \"rgb(255, 255, 255)\", \"projection\": {\"type\": \"equirectangular\"}, \"scope\": \"world\", \"showlakes\": true}, \"sliders\": [{\"active\": 5, \"pad\": {\"t\": 1}, \"steps\": [{\"args\": [\"visible\", [true, false, false, false, false, false]], \"label\": \"Year 2011\", \"method\": \"restyle\"}, {\"args\": [\"visible\", [false, true, false, false, false, false]], \"label\": \"Year 2012\", \"method\": \"restyle\"}, {\"args\": [\"visible\", [false, false, true, false, false, false]], \"label\": \"Year 2013\", \"method\": \"restyle\"}, {\"args\": [\"visible\", [false, false, false, true, false, false]], \"label\": \"Year 2014\", \"method\": \"restyle\"}, {\"args\": [\"visible\", [false, false, false, false, true, false]], \"label\": \"Year 2015\", \"method\": \"restyle\"}, {\"args\": [\"visible\", [false, false, false, false, false, true]], \"label\": \"Year 2016\", \"method\": \"restyle\"}]}], \"title\": {\"text\": \"Average ranking of universities by country (White means no data)\"}},\n",
       "                        {\"showLink\": false, \"linkText\": \"Export to plot.ly\", \"plotlyServerURL\": \"https://plot.ly\", \"responsive\": true}\n",
       "                    ).then(function(){\n",
       "                            \n",
       "var gd = document.getElementById('50632ee8-8d83-4b6a-8d18-a80575c1fcba');\n",
       "var x = new MutationObserver(function (mutations, observer) {{\n",
       "        var display = window.getComputedStyle(gd).display;\n",
       "        if (!display || display === 'none') {{\n",
       "            console.log([gd, 'removed!']);\n",
       "            Plotly.purge(gd);\n",
       "            observer.disconnect();\n",
       "        }}\n",
       "}});\n",
       "\n",
       "// Listen for the removal of the full notebook cells\n",
       "var notebookContainer = gd.closest('#notebook-container');\n",
       "if (notebookContainer) {{\n",
       "    x.observe(notebookContainer, {childList: true});\n",
       "}}\n",
       "\n",
       "// Listen for the clearing of the current output cell\n",
       "var outputEl = gd.closest('.output');\n",
       "if (outputEl) {{\n",
       "    x.observe(outputEl, {childList: true});\n",
       "}}\n",
       "\n",
       "                        })\n",
       "                };\n",
       "                });\n",
       "            </script>\n",
       "        </div>"
      ]
     },
     "metadata": {},
     "output_type": "display_data"
    }
   ],
   "source": [
    "\n",
    "def choro(raw, year):\n",
    "    return go.Choropleth(\n",
    "        colorscale = [[0, 'rgb(50,50,255)'], [1, 'rgb(255,50,50)']],\n",
    "        autocolorscale = False,\n",
    "        locations = raw.index, #countries['country'],\n",
    "        z = raw['world_rank'].astype(float),\n",
    "        locationmode = 'country names',\n",
    "#         text = raw.index,\n",
    "        marker = go.choropleth.Marker(\n",
    "            line = go.choropleth.marker.Line(\n",
    "                color = 'rgb(0,0,0)',\n",
    "                width = .25\n",
    "            )),\n",
    "        colorbar = go.choropleth.ColorBar(\n",
    "            title = \"Average Ranking %s (high is bad)\" % str(year)),\n",
    "        customdata = [year]\n",
    "    )\n",
    "\n",
    "data = [choro(country_stats.loc[year], year) for year in country_stats.index.levels[0]]\n",
    "\n",
    "steps = []\n",
    "for i, d in enumerate(data):\n",
    "    step = dict(method='restyle',\n",
    "                args=['visible', [False] * (len(data))],\n",
    "                label='Year {}'.format(d.customdata[0]))\n",
    "    step['args'][1][i] = True\n",
    "    steps.append(step)\n",
    "    \n",
    "sliders = [dict(active=(len(data)-1),\n",
    "                pad={\"t\": 1},\n",
    "                steps=steps)]  \n",
    "\n",
    "layout = go.Layout(\n",
    "    title = go.layout.Title(\n",
    "        text = 'Average ranking of universities by country (White means no data)'\n",
    "    ),\n",
    "    geo = go.layout.Geo(\n",
    "        scope = 'world',\n",
    "        projection = go.layout.geo.Projection(type = 'equirectangular'),\n",
    "        showlakes = True,\n",
    "        lakecolor = 'rgb(255, 255, 255)'),\n",
    "    sliders = sliders\n",
    ")\n",
    "\n",
    "fig = go.Figure(data = data, layout = layout)\n",
    "iplot(fig)\n"
   ]
  },
  {
   "cell_type": "markdown",
   "metadata": {},
   "source": [
    "\n",
    "rankings = {} # rankings[universiteit] = [times, shanghai, cwur]\n",
    "\n",
    "def rename(university_name):\n",
    "    univ = university_name.split(',')[0].strip()\n",
    "    univ = univ.split('(')[0].strip()\n",
    "        \n",
    "    return univ\n",
    "\n",
    "print('times')\n",
    "for world_rank, year, university_name in zip(times['world_rank'], times['year'], times['university_name']):\n",
    "    if year not in rankings:\n",
    "        rankings[year] = {}\n",
    "    rankings[year][rename(university_name)] = world_rank\n",
    "    \n",
    "print('shanghai')\n",
    "for world_rank, year, university_name in zip(shanghai['world_rank'], shanghai['year'], shanghai['university_name']):\n",
    "    if year not in rankings :\n",
    "        continue\n",
    "        \n",
    "    if univ\n",
    "    rankings[year][] += world_rank\n",
    "    \n",
    "print('cwur')\n",
    "for world_rank, year, university_name in zip(cwur['world_rank'], cwur['year'], cwur['institution']):\n",
    "    if year not in rankings:\n",
    "        continue\n",
    "    rankings[year][rename(university_name)] += world_rank\n",
    "    \n",
    "for year in rankings:\n",
    "    print('year')\n",
    "    for univ in rankings[year]:\n",
    "        print(univ + ' ' + rankings[year][univ])\n",
    "\n",
    "# print(times['world_rank'], shanghai['world_rank'], cwur['world_rank'])\n",
    "\n",
    "# mashed = pd.DataFrame()\n"
   ]
  }
 ],
 "metadata": {
  "kernelspec": {
   "display_name": "Python 3",
   "language": "python",
   "name": "python3"
  },
  "language_info": {
   "codemirror_mode": {
    "name": "ipython",
    "version": 3
   },
   "file_extension": ".py",
   "mimetype": "text/x-python",
   "name": "python",
   "nbconvert_exporter": "python",
   "pygments_lexer": "ipython3",
   "version": "3.7.3"
  }
 },
 "nbformat": 4,
 "nbformat_minor": 2
}
