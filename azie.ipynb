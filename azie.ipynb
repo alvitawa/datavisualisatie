{
 "cells": [
  {
   "cell_type": "code",
   "execution_count": 3,
   "metadata": {},
   "outputs": [
    {
     "data": {
      "text/html": [
       "        <script type=\"text/javascript\">\n",
       "        window.PlotlyConfig = {MathJaxConfig: 'local'};\n",
       "        if (window.MathJax) {MathJax.Hub.Config({SVG: {font: \"STIX-Web\"}});}\n",
       "        if (typeof require !== 'undefined') {\n",
       "        require.undef(\"plotly\");\n",
       "        requirejs.config({\n",
       "            paths: {\n",
       "                'plotly': ['https://cdn.plot.ly/plotly-latest.min']\n",
       "            }\n",
       "        });\n",
       "        require(['plotly'], function(Plotly) {\n",
       "            window._Plotly = Plotly;\n",
       "        });\n",
       "        }\n",
       "        </script>\n",
       "        "
      ]
     },
     "metadata": {},
     "output_type": "display_data"
    }
   ],
   "source": [
    "\n",
    "from plotly.offline import init_notebook_mode, iplot\n",
    "import plotly.graph_objs as go\n",
    "import math\n",
    "\n",
    "# Start notebook mode\n",
    "init_notebook_mode(connected=True)\n",
    "\n",
    "import pandas as pd # we gebruiken pandas om de CSV data te laden en te visualiseren\n",
    "\n",
    "\n",
    "times = pd.read_csv(\"timesData.csv\")\n",
    "shanghai = pd.read_csv(\"shanghaiData.csv\")\n",
    "cwur = pd.read_csv(\"cwurData.csv\")\n",
    "\n",
    "# print(shanghai.loc[shanghai['university_name'] == 'Harvard University']['world_rank'])\n",
    "\n",
    "def conv_ranking(x):\n",
    "    spl = x.split('-')\n",
    "    if len(spl) == 2:\n",
    "        return (float(spl[0]) + float(spl[1])) / 2\n",
    "    s = (x if x[0] != '=' else x[1:])\n",
    "    f = float(s)\n",
    "    return f\n",
    "\n",
    "def conv_other(x):\n",
    "    try:\n",
    "        return float(x)\n",
    "    except Exception:\n",
    "        return 50\n",
    "\n",
    "# countries = pd.read_csv(\"school_and_country_table.csv\")\n",
    "\n",
    "# df = times.set_index('university_name').join(countries.set_index('school_name'))\n",
    "# print(df)\n",
    "\n",
    "times['world_rank'] = times['world_rank'].map(conv_ranking)\n",
    "times['total_score'] = times['total_score'].map(conv_other)\n",
    "# print(times.loc[times['total_score'] == '-'].iloc[0])\n",
    "country_stats = times.groupby(['year', 'country']).mean()\n",
    "# print(list(x for x in country_stats.index.levels[0]))\n",
    "# print(country_stats)"
   ]
  },
  {
   "cell_type": "code",
   "execution_count": 2,
   "metadata": {
    "scrolled": false
   },
   "outputs": [
    {
     "data": {
      "application/vnd.plotly.v1+json": {
       "config": {
        "linkText": "Export to plot.ly",
        "plotlyServerURL": "https://plot.ly",
        "showLink": false
       },
       "data": [
        {
         "autocolorscale": false,
         "colorbar": {
          "title": {
           "text": "Average (2011)"
          }
         },
         "colorscale": [
          [
           0,
           "rgb(50,50,255)"
          ],
          [
           1,
           "rgb(255,50,50)"
          ]
         ],
         "customdata": [
          2011
         ],
         "locationmode": "country names",
         "locations": [
          "Australia",
          "Austria",
          "Belgium",
          "Canada",
          "China",
          "Denmark",
          "Egypt",
          "Finland",
          "France",
          "Germany",
          "Hong Kong",
          "Japan",
          "Netherlands",
          "New Zealand",
          "Norway",
          "Republic of Ireland",
          "Singapore",
          "South Africa",
          "South Korea",
          "Spain",
          "Sweden",
          "Switzerland",
          "Taiwan",
          "Turkey",
          "United Kingdom",
          "United States of America"
         ],
         "marker": {
          "line": {
           "color": "rgb(0,0,0)",
           "width": 0.25
          }
         },
         "type": "choropleth",
         "uid": "a5561c98-3ed1-49d0-a9a0-c9e94bccd63d",
         "z": [
          90.57142857142857,
          191,
          121.5,
          106.88888888888889,
          105.33333333333333,
          155.33333333333334,
          147,
          102,
          80.25,
          145.21428571428572,
          80.5,
          91.4,
          149.4,
          145,
          135,
          85,
          104,
          107,
          101.5,
          148.5,
          133.33333333333334,
          83.66666666666667,
          141.5,
          147.5,
          104.79310344827586,
          71.84722222222223
         ]
        },
        {
         "autocolorscale": false,
         "colorbar": {
          "title": {
           "text": "Average (2012)"
          }
         },
         "colorscale": [
          [
           0,
           "rgb(50,50,255)"
          ],
          [
           1,
           "rgb(255,50,50)"
          ]
         ],
         "customdata": [
          2012
         ],
         "locationmode": "country names",
         "locations": [
          "Australia",
          "Austria",
          "Belgium",
          "Brazil",
          "Canada",
          "Chile",
          "China",
          "Czech Republic",
          "Denmark",
          "Egypt",
          "Estonia",
          "Finland",
          "France",
          "Germany",
          "Greece",
          "Hong Kong",
          "Iceland",
          "India",
          "Iran",
          "Israel",
          "Italy",
          "Japan",
          "Netherlands",
          "New Zealand",
          "Norway",
          "Poland",
          "Portugal",
          "Republic of Ireland",
          "Russian Federation",
          "Singapore",
          "South Africa",
          "South Korea",
          "Spain",
          "Sweden",
          "Switzerland",
          "Taiwan",
          "Thailand",
          "Turkey",
          "United Kingdom",
          "United States of America"
         ],
         "marker": {
          "line": {
           "color": "rgb(0,0,0)",
           "width": 0.25
          }
         },
         "type": "choropleth",
         "uid": "aa36536e-7b77-4d8f-82ca-48e6fe29e00b",
         "z": [
          250.0952380952381,
          240.7,
          213.42857142857142,
          233,
          175.13888888888889,
          375,
          250.2,
          325.5,
          205.3,
          325.5,
          375,
          288.5,
          174,
          196.22727272727272,
          288,
          165.16666666666666,
          288,
          325.5,
          325.5,
          206.375,
          302.17857142857144,
          237.96875,
          138.6153846153846,
          279.1666666666667,
          230.75,
          325.5,
          350.25,
          270.3,
          331.5,
          104.5,
          209.66666666666666,
          206.78571428571428,
          293.8125,
          174.45,
          84.42857142857143,
          289.8125,
          375,
          278.625,
          187.65384615384616,
          150.2787610619469
         ]
        },
        {
         "autocolorscale": false,
         "colorbar": {
          "title": {
           "text": "Average (2013)"
          }
         },
         "colorscale": [
          [
           0,
           "rgb(50,50,255)"
          ],
          [
           1,
           "rgb(255,50,50)"
          ]
         ],
         "customdata": [
          2013
         ],
         "locationmode": "country names",
         "locations": [
          "Australia",
          "Austria",
          "Belgium",
          "Brazil",
          "Canada",
          "China",
          "Colombia",
          "Czech Republic",
          "Denmark",
          "Estonia",
          "Finland",
          "France",
          "Germany",
          "Greece",
          "Hong Kong",
          "Iceland",
          "India",
          "Iran",
          "Israel",
          "Italy",
          "Japan",
          "Mexico",
          "Netherlands",
          "New Zealand",
          "Norway",
          "Poland",
          "Portugal",
          "Republic of Ireland",
          "Russian Federation",
          "Saudi Arabia",
          "Singapore",
          "South Africa",
          "South Korea",
          "Spain",
          "Sweden",
          "Switzerland",
          "Taiwan",
          "Thailand",
          "Turkey",
          "United Kingdom",
          "United States of America"
         ],
         "marker": {
          "line": {
           "color": "rgb(0,0,0)",
           "width": 0.25
          }
         },
         "type": "choropleth",
         "uid": "2cc8b46f-d288-4129-ae28-8bd0e2fdbc42",
         "z": [
          232.10526315789474,
          269.0833333333333,
          206.57142857142858,
          210.5,
          190.81578947368422,
          227.94444444444446,
          375.5,
          325.5,
          211.7,
          375.5,
          279.7,
          187.5,
          204.16,
          325.5,
          165.75,
          263,
          292.1666666666667,
          325.5,
          162.66666666666666,
          314.7857142857143,
          229.57692307692307,
          375.5,
          109.07692307692308,
          281.4166666666667,
          259.875,
          375.5,
          375.5,
          264.7,
          225.5,
          325.5,
          57.5,
          247.375,
          135.16666666666666,
          298.7142857142857,
          181.45,
          127.8125,
          291,
          375.5,
          253,
          182.90625,
          154.55405405405406
         ]
        },
        {
         "autocolorscale": false,
         "colorbar": {
          "title": {
           "text": "Average (2014)"
          }
         },
         "colorscale": [
          [
           0,
           "rgb(50,50,255)"
          ],
          [
           1,
           "rgb(255,50,50)"
          ]
         ],
         "customdata": [
          2014
         ],
         "locationmode": "country names",
         "locations": [
          "Australia",
          "Austria",
          "Belgium",
          "Brazil",
          "Canada",
          "China",
          "Colombia",
          "Czech Republic",
          "Denmark",
          "Estonia",
          "Finland",
          "France",
          "Germany",
          "Greece",
          "Hong Kong",
          "Iceland",
          "India",
          "Iran",
          "Israel",
          "Italy",
          "Japan",
          "Netherlands",
          "New Zealand",
          "Norway",
          "Poland",
          "Portugal",
          "Republic of Ireland",
          "Russian Federation",
          "Saudi Arabia",
          "Singapore",
          "South Africa",
          "South Korea",
          "Spain",
          "Sweden",
          "Switzerland",
          "Taiwan",
          "Thailand",
          "Turkey",
          "United Kingdom",
          "United States of America"
         ],
         "marker": {
          "line": {
           "color": "rgb(0,0,0)",
           "width": 0.25
          }
         },
         "type": "choropleth",
         "uid": "3b5c64d8-57e5-4e55-aff1-9c54237b8cde",
         "z": [
          229.39473684210526,
          272.5,
          178.07142857142858,
          281.75,
          195.21052631578948,
          237.4,
          263,
          375.5,
          203.7,
          375.5,
          290.4,
          166.22727272727272,
          209.21153846153845,
          325.5,
          168.41666666666666,
          263,
          348,
          263,
          201,
          298.8333333333333,
          198.5909090909091,
          109.84615384615384,
          268.2,
          259.125,
          325.5,
          375.5,
          255.8,
          238,
          375.5,
          51,
          229.83333333333334,
          164.5,
          315.8888888888889,
          190.5,
          118.375,
          305.6875,
          325.5,
          230.2,
          182.83673469387756,
          153.24770642201835
         ]
        },
        {
         "autocolorscale": false,
         "colorbar": {
          "title": {
           "text": "Average (2015)"
          }
         },
         "colorscale": [
          [
           0,
           "rgb(50,50,255)"
          ],
          [
           1,
           "rgb(255,50,50)"
          ]
         ],
         "customdata": [
          2015
         ],
         "locationmode": "country names",
         "locations": [
          "Australia",
          "Austria",
          "Belgium",
          "Brazil",
          "Canada",
          "Chile",
          "China",
          "Colombia",
          "Czech Republic",
          "Denmark",
          "Finland",
          "France",
          "Germany",
          "Greece",
          "Hong Kong",
          "Iceland",
          "India",
          "Iran",
          "Israel",
          "Italy",
          "Japan",
          "Macau",
          "Morocco",
          "Netherlands",
          "New Zealand",
          "Norway",
          "Poland",
          "Portugal",
          "Republic of Ireland",
          "Russian Federation",
          "Singapore",
          "South Africa",
          "South Korea",
          "Spain",
          "Sweden",
          "Switzerland",
          "Taiwan",
          "Thailand",
          "Turkey",
          "United Kingdom",
          "United States of America"
         ],
         "marker": {
          "line": {
           "color": "rgb(0,0,0)",
           "width": 0.25
          }
         },
         "type": "choropleth",
         "uid": "a3a0e9d9-4f2a-49be-85e9-8ea1a89f0673",
         "z": [
          227.975,
          254.3,
          207.14285714285714,
          269.25,
          183.36111111111111,
          263,
          252.86363636363637,
          263,
          325.5,
          227,
          293.7142857142857,
          181.3181818181818,
          211.07142857142858,
          325.5,
          158.91666666666666,
          263,
          331.75,
          350.5,
          204.66666666666666,
          290.94117647058823,
          230.08333333333334,
          288,
          325.5,
          121.15384615384616,
          285.4,
          265.625,
          325.5,
          375.5,
          260.5,
          260.75,
          43,
          225,
          207.61111111111111,
          273.75,
          202.5,
          111,
          305.4166666666667,
          375.5,
          184.91666666666666,
          171.75555555555556,
          155.13425925925927
         ]
        },
        {
         "autocolorscale": false,
         "colorbar": {
          "title": {
           "text": "Average (2016)"
          }
         },
         "colorscale": [
          [
           0,
           "rgb(50,50,255)"
          ],
          [
           1,
           "rgb(255,50,50)"
          ]
         ],
         "customdata": [
          2016
         ],
         "locationmode": "country names",
         "locations": [
          "Argentina",
          "Australia",
          "Austria",
          "Bangladesh",
          "Belarus",
          "Belgium",
          "Brazil",
          "Canada",
          "Chile",
          "China",
          "Colombia",
          "Cyprus",
          "Czech Republic",
          "Denmark",
          "Egypt",
          "Estonia",
          "Finland",
          "France",
          "Germany",
          "Ghana",
          "Greece",
          "Hong Kong",
          "Hungary",
          "Iceland",
          "India",
          "Indonesia",
          "Iran",
          "Israel",
          "Italy",
          "Japan",
          "Jordan",
          "Kenya",
          "Latvia",
          "Lebanon",
          "Lithuania",
          "Luxembourg",
          "Macau",
          "Malaysia",
          "Mexico",
          "Morocco",
          "Netherlands",
          "New Zealand",
          "Nigeria",
          "Norway",
          "Oman",
          "Pakistan",
          "Poland",
          "Portugal",
          "Qatar",
          "Republic of Ireland",
          "Romania",
          "Russian Federation",
          "Saudi Arabia",
          "Serbia",
          "Singapore",
          "Slovakia",
          "Slovenia",
          "South Africa",
          "South Korea",
          "Spain",
          "Sweden",
          "Switzerland",
          "Taiwan",
          "Thailand",
          "Turkey",
          "Uganda",
          "Ukraine",
          "Unisted States of America",
          "United Arab Emirates",
          "United Kingdom",
          "United States of America",
          "Unted Kingdom"
         ],
         "marker": {
          "line": {
           "color": "rgb(0,0,0)",
           "width": 0.25
          }
         },
         "type": "choropleth",
         "uid": "38a94260-8d54-49d5-ac1e-f1073043f4b3",
         "z": [
          700.5,
          304.0483870967742,
          320.7142857142857,
          700.5,
          700.5,
          212.35714285714286,
          638.7352941176471,
          285.92,
          592.1666666666666,
          536.6621621621622,
          625.5,
          375.5,
          553.2777777777778,
          188.58333333333334,
          700.5,
          463,
          361.6666666666667,
          385.77777777777777,
          198.4189189189189,
          700.5,
          561.2142857142857,
          177.91666666666666,
          675.5,
          275.5,
          568.1470588235294,
          700.5,
          581.75,
          380.0833333333333,
          371.4852941176471,
          578.060975609756,
          700.5,
          700.5,
          700.5,
          550.5,
          700.5,
          193,
          450.5,
          650.5,
          500.5,
          700.5,
          104.73076923076923,
          417.85714285714283,
          700.5,
          267,
          700.5,
          625.5,
          679.0714285714286,
          468.35714285714283,
          700.5,
          371.05555555555554,
          663,
          482.0769230769231,
          458.8333333333333,
          700.5,
          40.5,
          700.5,
          625.5,
          395.4166666666667,
          498.4166666666667,
          517.8,
          181.5909090909091,
          169.15,
          579.3125,
          679.0714285714286,
          561.8636363636364,
          450.5,
          700.5,
          225.5,
          625.5,
          334.43506493506493,
          267.5924657534247,
          450.5
         ]
        }
       ],
       "layout": {
        "geo": {
         "lakecolor": "rgb(255, 255, 255)",
         "projection": {
          "type": "equirectangular"
         },
         "scope": "world",
         "showlakes": true
        },
        "sliders": [
         {
          "active": 5,
          "pad": {
           "t": 1
          },
          "steps": [
           {
            "args": [
             "visible",
             [
              true,
              false,
              false,
              false,
              false,
              false
             ]
            ],
            "label": "Year 2011",
            "method": "restyle"
           },
           {
            "args": [
             "visible",
             [
              false,
              true,
              false,
              false,
              false,
              false
             ]
            ],
            "label": "Year 2012",
            "method": "restyle"
           },
           {
            "args": [
             "visible",
             [
              false,
              false,
              true,
              false,
              false,
              false
             ]
            ],
            "label": "Year 2013",
            "method": "restyle"
           },
           {
            "args": [
             "visible",
             [
              false,
              false,
              false,
              true,
              false,
              false
             ]
            ],
            "label": "Year 2014",
            "method": "restyle"
           },
           {
            "args": [
             "visible",
             [
              false,
              false,
              false,
              false,
              true,
              false
             ]
            ],
            "label": "Year 2015",
            "method": "restyle"
           },
           {
            "args": [
             "visible",
             [
              false,
              false,
              false,
              false,
              false,
              true
             ]
            ],
            "label": "Year 2016",
            "method": "restyle"
           }
          ]
         }
        ],
        "title": {
         "text": "Average of universities by country (world_rank)"
        }
       }
      },
      "text/html": [
       "<div>\n",
       "        \n",
       "        \n",
       "            <div id=\"9c63a847-b4ab-4974-9176-2dab4587f194\" class=\"plotly-graph-div\" style=\"height:525px; width:100%;\"></div>\n",
       "            <script type=\"text/javascript\">\n",
       "                require([\"plotly\"], function(Plotly) {\n",
       "                    window.PLOTLYENV=window.PLOTLYENV || {};\n",
       "                    window.PLOTLYENV.BASE_URL='https://plot.ly';\n",
       "                    \n",
       "                if (document.getElementById(\"9c63a847-b4ab-4974-9176-2dab4587f194\")) {\n",
       "                    Plotly.newPlot(\n",
       "                        '9c63a847-b4ab-4974-9176-2dab4587f194',\n",
       "                        [{\"autocolorscale\": false, \"colorbar\": {\"title\": {\"text\": \"Average (2011)\"}}, \"colorscale\": [[0, \"rgb(50,50,255)\"], [1, \"rgb(255,50,50)\"]], \"customdata\": [2011], \"locationmode\": \"country names\", \"locations\": [\"Australia\", \"Austria\", \"Belgium\", \"Canada\", \"China\", \"Denmark\", \"Egypt\", \"Finland\", \"France\", \"Germany\", \"Hong Kong\", \"Japan\", \"Netherlands\", \"New Zealand\", \"Norway\", \"Republic of Ireland\", \"Singapore\", \"South Africa\", \"South Korea\", \"Spain\", \"Sweden\", \"Switzerland\", \"Taiwan\", \"Turkey\", \"United Kingdom\", \"United States of America\"], \"marker\": {\"line\": {\"color\": \"rgb(0,0,0)\", \"width\": 0.25}}, \"type\": \"choropleth\", \"uid\": \"a5561c98-3ed1-49d0-a9a0-c9e94bccd63d\", \"z\": [90.57142857142857, 191.0, 121.5, 106.88888888888889, 105.33333333333333, 155.33333333333334, 147.0, 102.0, 80.25, 145.21428571428572, 80.5, 91.4, 149.4, 145.0, 135.0, 85.0, 104.0, 107.0, 101.5, 148.5, 133.33333333333334, 83.66666666666667, 141.5, 147.5, 104.79310344827586, 71.84722222222223]}, {\"autocolorscale\": false, \"colorbar\": {\"title\": {\"text\": \"Average (2012)\"}}, \"colorscale\": [[0, \"rgb(50,50,255)\"], [1, \"rgb(255,50,50)\"]], \"customdata\": [2012], \"locationmode\": \"country names\", \"locations\": [\"Australia\", \"Austria\", \"Belgium\", \"Brazil\", \"Canada\", \"Chile\", \"China\", \"Czech Republic\", \"Denmark\", \"Egypt\", \"Estonia\", \"Finland\", \"France\", \"Germany\", \"Greece\", \"Hong Kong\", \"Iceland\", \"India\", \"Iran\", \"Israel\", \"Italy\", \"Japan\", \"Netherlands\", \"New Zealand\", \"Norway\", \"Poland\", \"Portugal\", \"Republic of Ireland\", \"Russian Federation\", \"Singapore\", \"South Africa\", \"South Korea\", \"Spain\", \"Sweden\", \"Switzerland\", \"Taiwan\", \"Thailand\", \"Turkey\", \"United Kingdom\", \"United States of America\"], \"marker\": {\"line\": {\"color\": \"rgb(0,0,0)\", \"width\": 0.25}}, \"type\": \"choropleth\", \"uid\": \"aa36536e-7b77-4d8f-82ca-48e6fe29e00b\", \"z\": [250.0952380952381, 240.7, 213.42857142857142, 233.0, 175.13888888888889, 375.0, 250.2, 325.5, 205.3, 325.5, 375.0, 288.5, 174.0, 196.22727272727272, 288.0, 165.16666666666666, 288.0, 325.5, 325.5, 206.375, 302.17857142857144, 237.96875, 138.6153846153846, 279.1666666666667, 230.75, 325.5, 350.25, 270.3, 331.5, 104.5, 209.66666666666666, 206.78571428571428, 293.8125, 174.45, 84.42857142857143, 289.8125, 375.0, 278.625, 187.65384615384616, 150.2787610619469]}, {\"autocolorscale\": false, \"colorbar\": {\"title\": {\"text\": \"Average (2013)\"}}, \"colorscale\": [[0, \"rgb(50,50,255)\"], [1, \"rgb(255,50,50)\"]], \"customdata\": [2013], \"locationmode\": \"country names\", \"locations\": [\"Australia\", \"Austria\", \"Belgium\", \"Brazil\", \"Canada\", \"China\", \"Colombia\", \"Czech Republic\", \"Denmark\", \"Estonia\", \"Finland\", \"France\", \"Germany\", \"Greece\", \"Hong Kong\", \"Iceland\", \"India\", \"Iran\", \"Israel\", \"Italy\", \"Japan\", \"Mexico\", \"Netherlands\", \"New Zealand\", \"Norway\", \"Poland\", \"Portugal\", \"Republic of Ireland\", \"Russian Federation\", \"Saudi Arabia\", \"Singapore\", \"South Africa\", \"South Korea\", \"Spain\", \"Sweden\", \"Switzerland\", \"Taiwan\", \"Thailand\", \"Turkey\", \"United Kingdom\", \"United States of America\"], \"marker\": {\"line\": {\"color\": \"rgb(0,0,0)\", \"width\": 0.25}}, \"type\": \"choropleth\", \"uid\": \"2cc8b46f-d288-4129-ae28-8bd0e2fdbc42\", \"z\": [232.10526315789474, 269.0833333333333, 206.57142857142858, 210.5, 190.81578947368422, 227.94444444444446, 375.5, 325.5, 211.7, 375.5, 279.7, 187.5, 204.16, 325.5, 165.75, 263.0, 292.1666666666667, 325.5, 162.66666666666666, 314.7857142857143, 229.57692307692307, 375.5, 109.07692307692308, 281.4166666666667, 259.875, 375.5, 375.5, 264.7, 225.5, 325.5, 57.5, 247.375, 135.16666666666666, 298.7142857142857, 181.45, 127.8125, 291.0, 375.5, 253.0, 182.90625, 154.55405405405406]}, {\"autocolorscale\": false, \"colorbar\": {\"title\": {\"text\": \"Average (2014)\"}}, \"colorscale\": [[0, \"rgb(50,50,255)\"], [1, \"rgb(255,50,50)\"]], \"customdata\": [2014], \"locationmode\": \"country names\", \"locations\": [\"Australia\", \"Austria\", \"Belgium\", \"Brazil\", \"Canada\", \"China\", \"Colombia\", \"Czech Republic\", \"Denmark\", \"Estonia\", \"Finland\", \"France\", \"Germany\", \"Greece\", \"Hong Kong\", \"Iceland\", \"India\", \"Iran\", \"Israel\", \"Italy\", \"Japan\", \"Netherlands\", \"New Zealand\", \"Norway\", \"Poland\", \"Portugal\", \"Republic of Ireland\", \"Russian Federation\", \"Saudi Arabia\", \"Singapore\", \"South Africa\", \"South Korea\", \"Spain\", \"Sweden\", \"Switzerland\", \"Taiwan\", \"Thailand\", \"Turkey\", \"United Kingdom\", \"United States of America\"], \"marker\": {\"line\": {\"color\": \"rgb(0,0,0)\", \"width\": 0.25}}, \"type\": \"choropleth\", \"uid\": \"3b5c64d8-57e5-4e55-aff1-9c54237b8cde\", \"z\": [229.39473684210526, 272.5, 178.07142857142858, 281.75, 195.21052631578948, 237.4, 263.0, 375.5, 203.7, 375.5, 290.4, 166.22727272727272, 209.21153846153845, 325.5, 168.41666666666666, 263.0, 348.0, 263.0, 201.0, 298.8333333333333, 198.5909090909091, 109.84615384615384, 268.2, 259.125, 325.5, 375.5, 255.8, 238.0, 375.5, 51.0, 229.83333333333334, 164.5, 315.8888888888889, 190.5, 118.375, 305.6875, 325.5, 230.2, 182.83673469387756, 153.24770642201835]}, {\"autocolorscale\": false, \"colorbar\": {\"title\": {\"text\": \"Average (2015)\"}}, \"colorscale\": [[0, \"rgb(50,50,255)\"], [1, \"rgb(255,50,50)\"]], \"customdata\": [2015], \"locationmode\": \"country names\", \"locations\": [\"Australia\", \"Austria\", \"Belgium\", \"Brazil\", \"Canada\", \"Chile\", \"China\", \"Colombia\", \"Czech Republic\", \"Denmark\", \"Finland\", \"France\", \"Germany\", \"Greece\", \"Hong Kong\", \"Iceland\", \"India\", \"Iran\", \"Israel\", \"Italy\", \"Japan\", \"Macau\", \"Morocco\", \"Netherlands\", \"New Zealand\", \"Norway\", \"Poland\", \"Portugal\", \"Republic of Ireland\", \"Russian Federation\", \"Singapore\", \"South Africa\", \"South Korea\", \"Spain\", \"Sweden\", \"Switzerland\", \"Taiwan\", \"Thailand\", \"Turkey\", \"United Kingdom\", \"United States of America\"], \"marker\": {\"line\": {\"color\": \"rgb(0,0,0)\", \"width\": 0.25}}, \"type\": \"choropleth\", \"uid\": \"a3a0e9d9-4f2a-49be-85e9-8ea1a89f0673\", \"z\": [227.975, 254.3, 207.14285714285714, 269.25, 183.36111111111111, 263.0, 252.86363636363637, 263.0, 325.5, 227.0, 293.7142857142857, 181.3181818181818, 211.07142857142858, 325.5, 158.91666666666666, 263.0, 331.75, 350.5, 204.66666666666666, 290.94117647058823, 230.08333333333334, 288.0, 325.5, 121.15384615384616, 285.4, 265.625, 325.5, 375.5, 260.5, 260.75, 43.0, 225.0, 207.61111111111111, 273.75, 202.5, 111.0, 305.4166666666667, 375.5, 184.91666666666666, 171.75555555555556, 155.13425925925927]}, {\"autocolorscale\": false, \"colorbar\": {\"title\": {\"text\": \"Average (2016)\"}}, \"colorscale\": [[0, \"rgb(50,50,255)\"], [1, \"rgb(255,50,50)\"]], \"customdata\": [2016], \"locationmode\": \"country names\", \"locations\": [\"Argentina\", \"Australia\", \"Austria\", \"Bangladesh\", \"Belarus\", \"Belgium\", \"Brazil\", \"Canada\", \"Chile\", \"China\", \"Colombia\", \"Cyprus\", \"Czech Republic\", \"Denmark\", \"Egypt\", \"Estonia\", \"Finland\", \"France\", \"Germany\", \"Ghana\", \"Greece\", \"Hong Kong\", \"Hungary\", \"Iceland\", \"India\", \"Indonesia\", \"Iran\", \"Israel\", \"Italy\", \"Japan\", \"Jordan\", \"Kenya\", \"Latvia\", \"Lebanon\", \"Lithuania\", \"Luxembourg\", \"Macau\", \"Malaysia\", \"Mexico\", \"Morocco\", \"Netherlands\", \"New Zealand\", \"Nigeria\", \"Norway\", \"Oman\", \"Pakistan\", \"Poland\", \"Portugal\", \"Qatar\", \"Republic of Ireland\", \"Romania\", \"Russian Federation\", \"Saudi Arabia\", \"Serbia\", \"Singapore\", \"Slovakia\", \"Slovenia\", \"South Africa\", \"South Korea\", \"Spain\", \"Sweden\", \"Switzerland\", \"Taiwan\", \"Thailand\", \"Turkey\", \"Uganda\", \"Ukraine\", \"Unisted States of America\", \"United Arab Emirates\", \"United Kingdom\", \"United States of America\", \"Unted Kingdom\"], \"marker\": {\"line\": {\"color\": \"rgb(0,0,0)\", \"width\": 0.25}}, \"type\": \"choropleth\", \"uid\": \"38a94260-8d54-49d5-ac1e-f1073043f4b3\", \"z\": [700.5, 304.0483870967742, 320.7142857142857, 700.5, 700.5, 212.35714285714286, 638.7352941176471, 285.92, 592.1666666666666, 536.6621621621622, 625.5, 375.5, 553.2777777777778, 188.58333333333334, 700.5, 463.0, 361.6666666666667, 385.77777777777777, 198.4189189189189, 700.5, 561.2142857142857, 177.91666666666666, 675.5, 275.5, 568.1470588235294, 700.5, 581.75, 380.0833333333333, 371.4852941176471, 578.060975609756, 700.5, 700.5, 700.5, 550.5, 700.5, 193.0, 450.5, 650.5, 500.5, 700.5, 104.73076923076923, 417.85714285714283, 700.5, 267.0, 700.5, 625.5, 679.0714285714286, 468.35714285714283, 700.5, 371.05555555555554, 663.0, 482.0769230769231, 458.8333333333333, 700.5, 40.5, 700.5, 625.5, 395.4166666666667, 498.4166666666667, 517.8, 181.5909090909091, 169.15, 579.3125, 679.0714285714286, 561.8636363636364, 450.5, 700.5, 225.5, 625.5, 334.43506493506493, 267.5924657534247, 450.5]}],\n",
       "                        {\"geo\": {\"lakecolor\": \"rgb(255, 255, 255)\", \"projection\": {\"type\": \"equirectangular\"}, \"scope\": \"world\", \"showlakes\": true}, \"sliders\": [{\"active\": 5, \"pad\": {\"t\": 1}, \"steps\": [{\"args\": [\"visible\", [true, false, false, false, false, false]], \"label\": \"Year 2011\", \"method\": \"restyle\"}, {\"args\": [\"visible\", [false, true, false, false, false, false]], \"label\": \"Year 2012\", \"method\": \"restyle\"}, {\"args\": [\"visible\", [false, false, true, false, false, false]], \"label\": \"Year 2013\", \"method\": \"restyle\"}, {\"args\": [\"visible\", [false, false, false, true, false, false]], \"label\": \"Year 2014\", \"method\": \"restyle\"}, {\"args\": [\"visible\", [false, false, false, false, true, false]], \"label\": \"Year 2015\", \"method\": \"restyle\"}, {\"args\": [\"visible\", [false, false, false, false, false, true]], \"label\": \"Year 2016\", \"method\": \"restyle\"}]}], \"title\": {\"text\": \"Average of universities by country (world_rank)\"}},\n",
       "                        {\"showLink\": false, \"linkText\": \"Export to plot.ly\", \"plotlyServerURL\": \"https://plot.ly\", \"responsive\": true}\n",
       "                    ).then(function(){\n",
       "                            \n",
       "var gd = document.getElementById('9c63a847-b4ab-4974-9176-2dab4587f194');\n",
       "var x = new MutationObserver(function (mutations, observer) {{\n",
       "        var display = window.getComputedStyle(gd).display;\n",
       "        if (!display || display === 'none') {{\n",
       "            console.log([gd, 'removed!']);\n",
       "            Plotly.purge(gd);\n",
       "            observer.disconnect();\n",
       "        }}\n",
       "}});\n",
       "\n",
       "// Listen for the removal of the full notebook cells\n",
       "var notebookContainer = gd.closest('#notebook-container');\n",
       "if (notebookContainer) {{\n",
       "    x.observe(notebookContainer, {childList: true});\n",
       "}}\n",
       "\n",
       "// Listen for the clearing of the current output cell\n",
       "var outputEl = gd.closest('.output');\n",
       "if (outputEl) {{\n",
       "    x.observe(outputEl, {childList: true});\n",
       "}}\n",
       "\n",
       "                        })\n",
       "                };\n",
       "                });\n",
       "            </script>\n",
       "        </div>"
      ]
     },
     "metadata": {},
     "output_type": "display_data"
    },
    {
     "data": {
      "application/vnd.plotly.v1+json": {
       "config": {
        "linkText": "Export to plot.ly",
        "plotlyServerURL": "https://plot.ly",
        "showLink": false
       },
       "data": [
        {
         "autocolorscale": false,
         "colorbar": {
          "title": {
           "text": "Average (2011)"
          }
         },
         "colorscale": [
          [
           0,
           "rgb(50,50,255)"
          ],
          [
           1,
           "rgb(255,50,50)"
          ]
         ],
         "customdata": [
          2011
         ],
         "locationmode": "country names",
         "locations": [
          "Australia",
          "Austria",
          "Belgium",
          "Canada",
          "China",
          "Denmark",
          "Egypt",
          "Finland",
          "France",
          "Germany",
          "Hong Kong",
          "Japan",
          "Netherlands",
          "New Zealand",
          "Norway",
          "Republic of Ireland",
          "Singapore",
          "South Africa",
          "South Korea",
          "Spain",
          "Sweden",
          "Switzerland",
          "Taiwan",
          "Turkey",
          "United Kingdom",
          "United States of America"
         ],
         "marker": {
          "line": {
           "color": "rgb(0,0,0)",
           "width": 0.25
          }
         },
         "type": "choropleth",
         "uid": "d858848e-dc78-4c24-84f0-2c0c485a3256",
         "z": [
          49.65714285714285,
          42.75,
          55.25,
          52.42222222222222,
          60.300000000000004,
          42.800000000000004,
          29.5,
          49,
          56.925,
          49.107142857142854,
          47.775000000000006,
          70.30000000000001,
          48.11999999999999,
          34.8,
          39.9,
          45.05,
          54.55,
          36.6,
          61.525000000000006,
          34.55,
          48.5,
          54.83333333333334,
          50.45,
          36.9,
          51.113793103448266,
          61.45277777777781
         ]
        },
        {
         "autocolorscale": false,
         "colorbar": {
          "title": {
           "text": "Average (2012)"
          }
         },
         "colorscale": [
          [
           0,
           "rgb(50,50,255)"
          ],
          [
           1,
           "rgb(255,50,50)"
          ]
         ],
         "customdata": [
          2012
         ],
         "locationmode": "country names",
         "locations": [
          "Australia",
          "Austria",
          "Belgium",
          "Brazil",
          "Canada",
          "Chile",
          "China",
          "Czech Republic",
          "Denmark",
          "Egypt",
          "Estonia",
          "Finland",
          "France",
          "Germany",
          "Greece",
          "Hong Kong",
          "Iceland",
          "India",
          "Iran",
          "Israel",
          "Italy",
          "Japan",
          "Netherlands",
          "New Zealand",
          "Norway",
          "Poland",
          "Portugal",
          "Republic of Ireland",
          "Russian Federation",
          "Singapore",
          "South Africa",
          "South Korea",
          "Spain",
          "Sweden",
          "Switzerland",
          "Taiwan",
          "Thailand",
          "Turkey",
          "United Kingdom",
          "United States of America"
         ],
         "marker": {
          "line": {
           "color": "rgb(0,0,0)",
           "width": 0.25
          }
         },
         "type": "choropleth",
         "uid": "1e353680-8cf1-4a29-bc11-94629fb9c733",
         "z": [
          29.019047619047623,
          28.440000000000005,
          30.72857142857143,
          57,
          39.166666666666664,
          17.1,
          45.04,
          32.3,
          27.820000000000004,
          15.2,
          17.8,
          26.32,
          35.7875,
          37.36818181818181,
          13.1,
          42.05,
          10.7,
          43.8,
          28.5,
          40.4,
          23.30714285714286,
          44.62499999999999,
          36.5,
          19.549999999999997,
          28.450000000000003,
          23.35,
          18.325000000000003,
          23.380000000000003,
          42.75,
          53.55,
          28.433333333333334,
          47.81428571428571,
          22.912499999999998,
          34.44,
          47.59999999999999,
          28.012500000000003,
          29.9,
          28.625,
          35.150000000000006,
          47.35132743362832
         ]
        },
        {
         "autocolorscale": false,
         "colorbar": {
          "title": {
           "text": "Average (2013)"
          }
         },
         "colorscale": [
          [
           0,
           "rgb(50,50,255)"
          ],
          [
           1,
           "rgb(255,50,50)"
          ]
         ],
         "customdata": [
          2013
         ],
         "locationmode": "country names",
         "locations": [
          "Australia",
          "Austria",
          "Belgium",
          "Brazil",
          "Canada",
          "China",
          "Colombia",
          "Czech Republic",
          "Denmark",
          "Estonia",
          "Finland",
          "France",
          "Germany",
          "Greece",
          "Hong Kong",
          "Iceland",
          "India",
          "Iran",
          "Israel",
          "Italy",
          "Japan",
          "Mexico",
          "Netherlands",
          "New Zealand",
          "Norway",
          "Poland",
          "Portugal",
          "Republic of Ireland",
          "Russian Federation",
          "Saudi Arabia",
          "Singapore",
          "South Africa",
          "South Korea",
          "Spain",
          "Sweden",
          "Switzerland",
          "Taiwan",
          "Thailand",
          "Turkey",
          "United Kingdom",
          "United States of America"
         ],
         "marker": {
          "line": {
           "color": "rgb(0,0,0)",
           "width": 0.25
          }
         },
         "type": "choropleth",
         "uid": "33bfcc91-0749-4b7d-a900-45ecc9eb9d23",
         "z": [
          34.968421052631584,
          33.05,
          36.1,
          57.35,
          40.421052631578945,
          48.300000000000004,
          15.5,
          34.7,
          31.22,
          18.6,
          29.9,
          39.300000000000004,
          40.288000000000004,
          17.1,
          46.949999999999996,
          11.4,
          40.63333333333333,
          32.9,
          48.1,
          26.071428571428577,
          49.33076923076923,
          31,
          44.97692307692308,
          23.650000000000002,
          29.425,
          22.95,
          21.599999999999998,
          29.32,
          42.2,
          19.7,
          60.050000000000004,
          29.175000000000004,
          58.43333333333334,
          26.914285714285715,
          36.85,
          45.62500000000001,
          36.357142857142854,
          11.3,
          35.24,
          39.87083333333333,
          51.07927927927927
         ]
        },
        {
         "autocolorscale": false,
         "colorbar": {
          "title": {
           "text": "Average (2014)"
          }
         },
         "colorscale": [
          [
           0,
           "rgb(50,50,255)"
          ],
          [
           1,
           "rgb(255,50,50)"
          ]
         ],
         "customdata": [
          2014
         ],
         "locationmode": "country names",
         "locations": [
          "Australia",
          "Austria",
          "Belgium",
          "Brazil",
          "Canada",
          "China",
          "Colombia",
          "Czech Republic",
          "Denmark",
          "Estonia",
          "Finland",
          "France",
          "Germany",
          "Greece",
          "Hong Kong",
          "Iceland",
          "India",
          "Iran",
          "Israel",
          "Italy",
          "Japan",
          "Netherlands",
          "New Zealand",
          "Norway",
          "Poland",
          "Portugal",
          "Republic of Ireland",
          "Russian Federation",
          "Saudi Arabia",
          "Singapore",
          "South Africa",
          "South Korea",
          "Spain",
          "Sweden",
          "Switzerland",
          "Taiwan",
          "Thailand",
          "Turkey",
          "United Kingdom",
          "United States of America"
         ],
         "marker": {
          "line": {
           "color": "rgb(0,0,0)",
           "width": 0.25
          }
         },
         "type": "choropleth",
         "uid": "c1159272-f4bd-466c-91bf-7d9c4f10c666",
         "z": [
          29.85789473684211,
          28.45,
          33.14285714285714,
          44.25,
          36.72105263157895,
          40.74999999999999,
          14.5,
          29.1,
          28.4,
          20.3,
          27.360000000000003,
          36.23636363636364,
          35.269230769230774,
          18.2,
          39.916666666666664,
          12.5,
          31.059999999999995,
          29.7,
          39.26666666666666,
          24.533333333333328,
          47.91818181818182,
          37.46923076923077,
          21.52,
          28.925,
          18.7,
          18.85,
          27.360000000000003,
          54.4,
          19.799999999999997,
          52.85,
          24.46666666666667,
          50.699999999999996,
          23.344444444444445,
          31.970000000000006,
          41.387499999999996,
          31.212500000000002,
          13,
          25.380000000000003,
          35.69183673469388,
          46.66880733944956
         ]
        },
        {
         "autocolorscale": false,
         "colorbar": {
          "title": {
           "text": "Average (2015)"
          }
         },
         "colorscale": [
          [
           0,
           "rgb(50,50,255)"
          ],
          [
           1,
           "rgb(255,50,50)"
          ]
         ],
         "customdata": [
          2015
         ],
         "locationmode": "country names",
         "locations": [
          "Australia",
          "Austria",
          "Belgium",
          "Brazil",
          "Canada",
          "Chile",
          "China",
          "Colombia",
          "Czech Republic",
          "Denmark",
          "Finland",
          "France",
          "Germany",
          "Greece",
          "Hong Kong",
          "Iceland",
          "India",
          "Iran",
          "Israel",
          "Italy",
          "Japan",
          "Macau",
          "Morocco",
          "Netherlands",
          "New Zealand",
          "Norway",
          "Poland",
          "Portugal",
          "Republic of Ireland",
          "Russian Federation",
          "Singapore",
          "South Africa",
          "South Korea",
          "Spain",
          "Sweden",
          "Switzerland",
          "Taiwan",
          "Thailand",
          "Turkey",
          "United Kingdom",
          "United States of America"
         ],
         "marker": {
          "line": {
           "color": "rgb(0,0,0)",
           "width": 0.25
          }
         },
         "type": "choropleth",
         "uid": "e6585cb9-b0e5-4b53-8322-320333b644b8",
         "z": [
          32.32000000000001,
          30.939999999999998,
          35.97142857142857,
          47.5,
          38.98333333333333,
          13,
          40.25454545454545,
          17.3,
          31.5,
          29.619999999999997,
          27.657142857142862,
          36.045454545454554,
          36.65,
          19,
          40.61666666666667,
          14.9,
          28.925,
          24.7,
          40.63333333333333,
          27.300000000000004,
          44.99166666666667,
          17.1,
          16.3,
          38.746153846153845,
          23.4,
          29.95,
          20.8,
          25.15,
          29.839999999999996,
          40.25,
          57.95,
          26.366666666666664,
          45.46666666666667,
          26.650000000000002,
          33.48,
          43.675,
          34.85,
          16.7,
          29.966666666666665,
          37.504444444444445,
          47.066666666666684
         ]
        },
        {
         "autocolorscale": false,
         "colorbar": {
          "title": {
           "text": "Average (2016)"
          }
         },
         "colorscale": [
          [
           0,
           "rgb(50,50,255)"
          ],
          [
           1,
           "rgb(255,50,50)"
          ]
         ],
         "customdata": [
          2016
         ],
         "locationmode": "country names",
         "locations": [
          "Argentina",
          "Australia",
          "Austria",
          "Bangladesh",
          "Belarus",
          "Belgium",
          "Brazil",
          "Canada",
          "Chile",
          "China",
          "Colombia",
          "Cyprus",
          "Czech Republic",
          "Denmark",
          "Egypt",
          "Estonia",
          "Finland",
          "France",
          "Germany",
          "Ghana",
          "Greece",
          "Hong Kong",
          "Hungary",
          "Iceland",
          "India",
          "Indonesia",
          "Iran",
          "Israel",
          "Italy",
          "Japan",
          "Jordan",
          "Kenya",
          "Latvia",
          "Lebanon",
          "Lithuania",
          "Luxembourg",
          "Macau",
          "Malaysia",
          "Mexico",
          "Morocco",
          "Netherlands",
          "New Zealand",
          "Nigeria",
          "Norway",
          "Oman",
          "Pakistan",
          "Poland",
          "Portugal",
          "Qatar",
          "Republic of Ireland",
          "Romania",
          "Russian Federation",
          "Saudi Arabia",
          "Serbia",
          "Singapore",
          "Slovakia",
          "Slovenia",
          "South Africa",
          "South Korea",
          "Spain",
          "Sweden",
          "Switzerland",
          "Taiwan",
          "Thailand",
          "Turkey",
          "Uganda",
          "Ukraine",
          "Unisted States of America",
          "United Arab Emirates",
          "United Kingdom",
          "United States of America",
          "Unted Kingdom"
         ],
         "marker": {
          "line": {
           "color": "rgb(0,0,0)",
           "width": 0.25
          }
         },
         "type": "choropleth",
         "uid": "199223b7-0617-459b-b311-ccd5ca5f71a8",
         "z": [
          16,
          28.76129032258064,
          27.885714285714283,
          21.7,
          20.2,
          36.6,
          29.147058823529413,
          34.744,
          21.066666666666666,
          30.33243243243243,
          19.65,
          18,
          20.34444444444445,
          31.266666666666666,
          20.6,
          20.05,
          28.488888888888887,
          30.27777777777778,
          40.921621621621625,
          15.6,
          19.214285714285715,
          39.916666666666664,
          19.166666666666668,
          16.2,
          31.364705882352943,
          18.1,
          26.799999999999997,
          31.799999999999997,
          25.408823529411773,
          29.96097560975609,
          17.7,
          13.7,
          22.6,
          27.7,
          18.3,
          25,
          18.5,
          23.6,
          33.3,
          17.4,
          41.66153846153846,
          24.47142857142857,
          22.7,
          29.65,
          21.3,
          19.65,
          19.557142857142857,
          26.285714285714285,
          9.9,
          27.7,
          25.799999999999997,
          36.73076923076923,
          23.099999999999998,
          20.4,
          60.05,
          23.15,
          21,
          25.599999999999998,
          29.620833333333334,
          24.315999999999995,
          34.30909090909091,
          41.54,
          24.16666666666667,
          20.171428571428574,
          20.509090909090908,
          15.1,
          24.799999999999997,
          32,
          15.600000000000001,
          32.34675324675324,
          40.95958904109589,
          18.4
         ]
        }
       ],
       "layout": {
        "geo": {
         "lakecolor": "rgb(255, 255, 255)",
         "projection": {
          "type": "equirectangular"
         },
         "scope": "world",
         "showlakes": true
        },
        "sliders": [
         {
          "active": 5,
          "pad": {
           "t": 1
          },
          "steps": [
           {
            "args": [
             "visible",
             [
              true,
              false,
              false,
              false,
              false,
              false
             ]
            ],
            "label": "Year 2011",
            "method": "restyle"
           },
           {
            "args": [
             "visible",
             [
              false,
              true,
              false,
              false,
              false,
              false
             ]
            ],
            "label": "Year 2012",
            "method": "restyle"
           },
           {
            "args": [
             "visible",
             [
              false,
              false,
              true,
              false,
              false,
              false
             ]
            ],
            "label": "Year 2013",
            "method": "restyle"
           },
           {
            "args": [
             "visible",
             [
              false,
              false,
              false,
              true,
              false,
              false
             ]
            ],
            "label": "Year 2014",
            "method": "restyle"
           },
           {
            "args": [
             "visible",
             [
              false,
              false,
              false,
              false,
              true,
              false
             ]
            ],
            "label": "Year 2015",
            "method": "restyle"
           },
           {
            "args": [
             "visible",
             [
              false,
              false,
              false,
              false,
              false,
              true
             ]
            ],
            "label": "Year 2016",
            "method": "restyle"
           }
          ]
         }
        ],
        "title": {
         "text": "Average of universities by country (teaching)"
        }
       }
      },
      "text/html": [
       "<div>\n",
       "        \n",
       "        \n",
       "            <div id=\"4f91c0ea-5a76-422b-ba41-2ad90170f220\" class=\"plotly-graph-div\" style=\"height:525px; width:100%;\"></div>\n",
       "            <script type=\"text/javascript\">\n",
       "                require([\"plotly\"], function(Plotly) {\n",
       "                    window.PLOTLYENV=window.PLOTLYENV || {};\n",
       "                    window.PLOTLYENV.BASE_URL='https://plot.ly';\n",
       "                    \n",
       "                if (document.getElementById(\"4f91c0ea-5a76-422b-ba41-2ad90170f220\")) {\n",
       "                    Plotly.newPlot(\n",
       "                        '4f91c0ea-5a76-422b-ba41-2ad90170f220',\n",
       "                        [{\"autocolorscale\": false, \"colorbar\": {\"title\": {\"text\": \"Average (2011)\"}}, \"colorscale\": [[0, \"rgb(50,50,255)\"], [1, \"rgb(255,50,50)\"]], \"customdata\": [2011], \"locationmode\": \"country names\", \"locations\": [\"Australia\", \"Austria\", \"Belgium\", \"Canada\", \"China\", \"Denmark\", \"Egypt\", \"Finland\", \"France\", \"Germany\", \"Hong Kong\", \"Japan\", \"Netherlands\", \"New Zealand\", \"Norway\", \"Republic of Ireland\", \"Singapore\", \"South Africa\", \"South Korea\", \"Spain\", \"Sweden\", \"Switzerland\", \"Taiwan\", \"Turkey\", \"United Kingdom\", \"United States of America\"], \"marker\": {\"line\": {\"color\": \"rgb(0,0,0)\", \"width\": 0.25}}, \"type\": \"choropleth\", \"uid\": \"d858848e-dc78-4c24-84f0-2c0c485a3256\", \"z\": [49.65714285714285, 42.75, 55.25, 52.42222222222222, 60.300000000000004, 42.800000000000004, 29.5, 49.0, 56.925, 49.107142857142854, 47.775000000000006, 70.30000000000001, 48.11999999999999, 34.8, 39.9, 45.05, 54.55, 36.6, 61.525000000000006, 34.55, 48.5, 54.83333333333334, 50.45, 36.9, 51.113793103448266, 61.45277777777781]}, {\"autocolorscale\": false, \"colorbar\": {\"title\": {\"text\": \"Average (2012)\"}}, \"colorscale\": [[0, \"rgb(50,50,255)\"], [1, \"rgb(255,50,50)\"]], \"customdata\": [2012], \"locationmode\": \"country names\", \"locations\": [\"Australia\", \"Austria\", \"Belgium\", \"Brazil\", \"Canada\", \"Chile\", \"China\", \"Czech Republic\", \"Denmark\", \"Egypt\", \"Estonia\", \"Finland\", \"France\", \"Germany\", \"Greece\", \"Hong Kong\", \"Iceland\", \"India\", \"Iran\", \"Israel\", \"Italy\", \"Japan\", \"Netherlands\", \"New Zealand\", \"Norway\", \"Poland\", \"Portugal\", \"Republic of Ireland\", \"Russian Federation\", \"Singapore\", \"South Africa\", \"South Korea\", \"Spain\", \"Sweden\", \"Switzerland\", \"Taiwan\", \"Thailand\", \"Turkey\", \"United Kingdom\", \"United States of America\"], \"marker\": {\"line\": {\"color\": \"rgb(0,0,0)\", \"width\": 0.25}}, \"type\": \"choropleth\", \"uid\": \"1e353680-8cf1-4a29-bc11-94629fb9c733\", \"z\": [29.019047619047623, 28.440000000000005, 30.72857142857143, 57.0, 39.166666666666664, 17.1, 45.04, 32.3, 27.820000000000004, 15.2, 17.8, 26.32, 35.7875, 37.36818181818181, 13.1, 42.05, 10.7, 43.8, 28.5, 40.4, 23.30714285714286, 44.62499999999999, 36.5, 19.549999999999997, 28.450000000000003, 23.35, 18.325000000000003, 23.380000000000003, 42.75, 53.55, 28.433333333333334, 47.81428571428571, 22.912499999999998, 34.44, 47.59999999999999, 28.012500000000003, 29.9, 28.625, 35.150000000000006, 47.35132743362832]}, {\"autocolorscale\": false, \"colorbar\": {\"title\": {\"text\": \"Average (2013)\"}}, \"colorscale\": [[0, \"rgb(50,50,255)\"], [1, \"rgb(255,50,50)\"]], \"customdata\": [2013], \"locationmode\": \"country names\", \"locations\": [\"Australia\", \"Austria\", \"Belgium\", \"Brazil\", \"Canada\", \"China\", \"Colombia\", \"Czech Republic\", \"Denmark\", \"Estonia\", \"Finland\", \"France\", \"Germany\", \"Greece\", \"Hong Kong\", \"Iceland\", \"India\", \"Iran\", \"Israel\", \"Italy\", \"Japan\", \"Mexico\", \"Netherlands\", \"New Zealand\", \"Norway\", \"Poland\", \"Portugal\", \"Republic of Ireland\", \"Russian Federation\", \"Saudi Arabia\", \"Singapore\", \"South Africa\", \"South Korea\", \"Spain\", \"Sweden\", \"Switzerland\", \"Taiwan\", \"Thailand\", \"Turkey\", \"United Kingdom\", \"United States of America\"], \"marker\": {\"line\": {\"color\": \"rgb(0,0,0)\", \"width\": 0.25}}, \"type\": \"choropleth\", \"uid\": \"33bfcc91-0749-4b7d-a900-45ecc9eb9d23\", \"z\": [34.968421052631584, 33.05, 36.1, 57.35, 40.421052631578945, 48.300000000000004, 15.5, 34.7, 31.22, 18.6, 29.9, 39.300000000000004, 40.288000000000004, 17.1, 46.949999999999996, 11.4, 40.63333333333333, 32.9, 48.1, 26.071428571428577, 49.33076923076923, 31.0, 44.97692307692308, 23.650000000000002, 29.425, 22.95, 21.599999999999998, 29.32, 42.2, 19.7, 60.050000000000004, 29.175000000000004, 58.43333333333334, 26.914285714285715, 36.85, 45.62500000000001, 36.357142857142854, 11.3, 35.24, 39.87083333333333, 51.07927927927927]}, {\"autocolorscale\": false, \"colorbar\": {\"title\": {\"text\": \"Average (2014)\"}}, \"colorscale\": [[0, \"rgb(50,50,255)\"], [1, \"rgb(255,50,50)\"]], \"customdata\": [2014], \"locationmode\": \"country names\", \"locations\": [\"Australia\", \"Austria\", \"Belgium\", \"Brazil\", \"Canada\", \"China\", \"Colombia\", \"Czech Republic\", \"Denmark\", \"Estonia\", \"Finland\", \"France\", \"Germany\", \"Greece\", \"Hong Kong\", \"Iceland\", \"India\", \"Iran\", \"Israel\", \"Italy\", \"Japan\", \"Netherlands\", \"New Zealand\", \"Norway\", \"Poland\", \"Portugal\", \"Republic of Ireland\", \"Russian Federation\", \"Saudi Arabia\", \"Singapore\", \"South Africa\", \"South Korea\", \"Spain\", \"Sweden\", \"Switzerland\", \"Taiwan\", \"Thailand\", \"Turkey\", \"United Kingdom\", \"United States of America\"], \"marker\": {\"line\": {\"color\": \"rgb(0,0,0)\", \"width\": 0.25}}, \"type\": \"choropleth\", \"uid\": \"c1159272-f4bd-466c-91bf-7d9c4f10c666\", \"z\": [29.85789473684211, 28.45, 33.14285714285714, 44.25, 36.72105263157895, 40.74999999999999, 14.5, 29.1, 28.4, 20.3, 27.360000000000003, 36.23636363636364, 35.269230769230774, 18.2, 39.916666666666664, 12.5, 31.059999999999995, 29.7, 39.26666666666666, 24.533333333333328, 47.91818181818182, 37.46923076923077, 21.52, 28.925, 18.7, 18.85, 27.360000000000003, 54.4, 19.799999999999997, 52.85, 24.46666666666667, 50.699999999999996, 23.344444444444445, 31.970000000000006, 41.387499999999996, 31.212500000000002, 13.0, 25.380000000000003, 35.69183673469388, 46.66880733944956]}, {\"autocolorscale\": false, \"colorbar\": {\"title\": {\"text\": \"Average (2015)\"}}, \"colorscale\": [[0, \"rgb(50,50,255)\"], [1, \"rgb(255,50,50)\"]], \"customdata\": [2015], \"locationmode\": \"country names\", \"locations\": [\"Australia\", \"Austria\", \"Belgium\", \"Brazil\", \"Canada\", \"Chile\", \"China\", \"Colombia\", \"Czech Republic\", \"Denmark\", \"Finland\", \"France\", \"Germany\", \"Greece\", \"Hong Kong\", \"Iceland\", \"India\", \"Iran\", \"Israel\", \"Italy\", \"Japan\", \"Macau\", \"Morocco\", \"Netherlands\", \"New Zealand\", \"Norway\", \"Poland\", \"Portugal\", \"Republic of Ireland\", \"Russian Federation\", \"Singapore\", \"South Africa\", \"South Korea\", \"Spain\", \"Sweden\", \"Switzerland\", \"Taiwan\", \"Thailand\", \"Turkey\", \"United Kingdom\", \"United States of America\"], \"marker\": {\"line\": {\"color\": \"rgb(0,0,0)\", \"width\": 0.25}}, \"type\": \"choropleth\", \"uid\": \"e6585cb9-b0e5-4b53-8322-320333b644b8\", \"z\": [32.32000000000001, 30.939999999999998, 35.97142857142857, 47.5, 38.98333333333333, 13.0, 40.25454545454545, 17.3, 31.5, 29.619999999999997, 27.657142857142862, 36.045454545454554, 36.65, 19.0, 40.61666666666667, 14.9, 28.925, 24.7, 40.63333333333333, 27.300000000000004, 44.99166666666667, 17.1, 16.3, 38.746153846153845, 23.4, 29.95, 20.8, 25.15, 29.839999999999996, 40.25, 57.95, 26.366666666666664, 45.46666666666667, 26.650000000000002, 33.48, 43.675, 34.85, 16.7, 29.966666666666665, 37.504444444444445, 47.066666666666684]}, {\"autocolorscale\": false, \"colorbar\": {\"title\": {\"text\": \"Average (2016)\"}}, \"colorscale\": [[0, \"rgb(50,50,255)\"], [1, \"rgb(255,50,50)\"]], \"customdata\": [2016], \"locationmode\": \"country names\", \"locations\": [\"Argentina\", \"Australia\", \"Austria\", \"Bangladesh\", \"Belarus\", \"Belgium\", \"Brazil\", \"Canada\", \"Chile\", \"China\", \"Colombia\", \"Cyprus\", \"Czech Republic\", \"Denmark\", \"Egypt\", \"Estonia\", \"Finland\", \"France\", \"Germany\", \"Ghana\", \"Greece\", \"Hong Kong\", \"Hungary\", \"Iceland\", \"India\", \"Indonesia\", \"Iran\", \"Israel\", \"Italy\", \"Japan\", \"Jordan\", \"Kenya\", \"Latvia\", \"Lebanon\", \"Lithuania\", \"Luxembourg\", \"Macau\", \"Malaysia\", \"Mexico\", \"Morocco\", \"Netherlands\", \"New Zealand\", \"Nigeria\", \"Norway\", \"Oman\", \"Pakistan\", \"Poland\", \"Portugal\", \"Qatar\", \"Republic of Ireland\", \"Romania\", \"Russian Federation\", \"Saudi Arabia\", \"Serbia\", \"Singapore\", \"Slovakia\", \"Slovenia\", \"South Africa\", \"South Korea\", \"Spain\", \"Sweden\", \"Switzerland\", \"Taiwan\", \"Thailand\", \"Turkey\", \"Uganda\", \"Ukraine\", \"Unisted States of America\", \"United Arab Emirates\", \"United Kingdom\", \"United States of America\", \"Unted Kingdom\"], \"marker\": {\"line\": {\"color\": \"rgb(0,0,0)\", \"width\": 0.25}}, \"type\": \"choropleth\", \"uid\": \"199223b7-0617-459b-b311-ccd5ca5f71a8\", \"z\": [16.0, 28.76129032258064, 27.885714285714283, 21.7, 20.2, 36.6, 29.147058823529413, 34.744, 21.066666666666666, 30.33243243243243, 19.65, 18.0, 20.34444444444445, 31.266666666666666, 20.6, 20.05, 28.488888888888887, 30.27777777777778, 40.921621621621625, 15.6, 19.214285714285715, 39.916666666666664, 19.166666666666668, 16.2, 31.364705882352943, 18.1, 26.799999999999997, 31.799999999999997, 25.408823529411773, 29.96097560975609, 17.7, 13.7, 22.6, 27.7, 18.3, 25.0, 18.5, 23.6, 33.3, 17.4, 41.66153846153846, 24.47142857142857, 22.7, 29.65, 21.3, 19.65, 19.557142857142857, 26.285714285714285, 9.9, 27.7, 25.799999999999997, 36.73076923076923, 23.099999999999998, 20.4, 60.05, 23.15, 21.0, 25.599999999999998, 29.620833333333334, 24.315999999999995, 34.30909090909091, 41.54, 24.16666666666667, 20.171428571428574, 20.509090909090908, 15.1, 24.799999999999997, 32.0, 15.600000000000001, 32.34675324675324, 40.95958904109589, 18.4]}],\n",
       "                        {\"geo\": {\"lakecolor\": \"rgb(255, 255, 255)\", \"projection\": {\"type\": \"equirectangular\"}, \"scope\": \"world\", \"showlakes\": true}, \"sliders\": [{\"active\": 5, \"pad\": {\"t\": 1}, \"steps\": [{\"args\": [\"visible\", [true, false, false, false, false, false]], \"label\": \"Year 2011\", \"method\": \"restyle\"}, {\"args\": [\"visible\", [false, true, false, false, false, false]], \"label\": \"Year 2012\", \"method\": \"restyle\"}, {\"args\": [\"visible\", [false, false, true, false, false, false]], \"label\": \"Year 2013\", \"method\": \"restyle\"}, {\"args\": [\"visible\", [false, false, false, true, false, false]], \"label\": \"Year 2014\", \"method\": \"restyle\"}, {\"args\": [\"visible\", [false, false, false, false, true, false]], \"label\": \"Year 2015\", \"method\": \"restyle\"}, {\"args\": [\"visible\", [false, false, false, false, false, true]], \"label\": \"Year 2016\", \"method\": \"restyle\"}]}], \"title\": {\"text\": \"Average of universities by country (teaching)\"}},\n",
       "                        {\"showLink\": false, \"linkText\": \"Export to plot.ly\", \"plotlyServerURL\": \"https://plot.ly\", \"responsive\": true}\n",
       "                    ).then(function(){\n",
       "                            \n",
       "var gd = document.getElementById('4f91c0ea-5a76-422b-ba41-2ad90170f220');\n",
       "var x = new MutationObserver(function (mutations, observer) {{\n",
       "        var display = window.getComputedStyle(gd).display;\n",
       "        if (!display || display === 'none') {{\n",
       "            console.log([gd, 'removed!']);\n",
       "            Plotly.purge(gd);\n",
       "            observer.disconnect();\n",
       "        }}\n",
       "}});\n",
       "\n",
       "// Listen for the removal of the full notebook cells\n",
       "var notebookContainer = gd.closest('#notebook-container');\n",
       "if (notebookContainer) {{\n",
       "    x.observe(notebookContainer, {childList: true});\n",
       "}}\n",
       "\n",
       "// Listen for the clearing of the current output cell\n",
       "var outputEl = gd.closest('.output');\n",
       "if (outputEl) {{\n",
       "    x.observe(outputEl, {childList: true});\n",
       "}}\n",
       "\n",
       "                        })\n",
       "                };\n",
       "                });\n",
       "            </script>\n",
       "        </div>"
      ]
     },
     "metadata": {},
     "output_type": "display_data"
    },
    {
     "data": {
      "application/vnd.plotly.v1+json": {
       "config": {
        "linkText": "Export to plot.ly",
        "plotlyServerURL": "https://plot.ly",
        "showLink": false
       },
       "data": [
        {
         "autocolorscale": false,
         "colorbar": {
          "title": {
           "text": "Average (2011)"
          }
         },
         "colorscale": [
          [
           0,
           "rgb(50,50,255)"
          ],
          [
           1,
           "rgb(255,50,50)"
          ]
         ],
         "customdata": [
          2011
         ],
         "locationmode": "country names",
         "locations": [
          "Australia",
          "Austria",
          "Belgium",
          "Canada",
          "China",
          "Denmark",
          "Egypt",
          "Finland",
          "France",
          "Germany",
          "Hong Kong",
          "Japan",
          "Netherlands",
          "New Zealand",
          "Norway",
          "Republic of Ireland",
          "Singapore",
          "South Africa",
          "South Korea",
          "Spain",
          "Sweden",
          "Switzerland",
          "Taiwan",
          "Turkey",
          "United Kingdom",
          "United States of America"
         ],
         "marker": {
          "line": {
           "color": "rgb(0,0,0)",
           "width": 0.25
          }
         },
         "type": "choropleth",
         "uid": "c0b6ff42-da7d-45be-ba71-89fb643e5887",
         "z": [
          53.34285714285714,
          40.25,
          61,
          60.71111111111111,
          49.78333333333333,
          49.4,
          28,
          51.4,
          43.97500000000001,
          42.285714285714285,
          50.349999999999994,
          71.78,
          52.519999999999996,
          39.2,
          42.1,
          40.95,
          62.15,
          42.1,
          57.175,
          33.35,
          58.43333333333333,
          54.699999999999996,
          54.15,
          37.8,
          52.903448275862075,
          61.9347222222222
         ]
        },
        {
         "autocolorscale": false,
         "colorbar": {
          "title": {
           "text": "Average (2012)"
          }
         },
         "colorscale": [
          [
           0,
           "rgb(50,50,255)"
          ],
          [
           1,
           "rgb(255,50,50)"
          ]
         ],
         "customdata": [
          2012
         ],
         "locationmode": "country names",
         "locations": [
          "Australia",
          "Austria",
          "Belgium",
          "Brazil",
          "Canada",
          "Chile",
          "China",
          "Czech Republic",
          "Denmark",
          "Egypt",
          "Estonia",
          "Finland",
          "France",
          "Germany",
          "Greece",
          "Hong Kong",
          "Iceland",
          "India",
          "Iran",
          "Israel",
          "Italy",
          "Japan",
          "Netherlands",
          "New Zealand",
          "Norway",
          "Poland",
          "Portugal",
          "Republic of Ireland",
          "Russian Federation",
          "Singapore",
          "South Africa",
          "South Korea",
          "Spain",
          "Sweden",
          "Switzerland",
          "Taiwan",
          "Thailand",
          "Turkey",
          "United Kingdom",
          "United States of America"
         ],
         "marker": {
          "line": {
           "color": "rgb(0,0,0)",
           "width": 0.25
          }
         },
         "type": "choropleth",
         "uid": "2fc92b16-064c-4850-9cf2-ee16a3cd1813",
         "z": [
          31.952380952380945,
          18.839999999999996,
          32.27142857142858,
          45.55,
          43.70555555555556,
          16.3,
          30.46999999999999,
          24.6,
          27.419999999999998,
          7.8,
          17.8,
          27.22,
          22.5875,
          28.15,
          12.6,
          45.4,
          17.3,
          15.7,
          29.7,
          48.575,
          18.514285714285712,
          35.84374999999999,
          45.68461538461538,
          23.316666666666666,
          26.200000000000003,
          15.85,
          12.85,
          19.440000000000005,
          23.6,
          63.4,
          34.5,
          40.07142857142857,
          16.175,
          41.80999999999999,
          44.5,
          33.2,
          14.7,
          22.275000000000002,
          35.93269230769231,
          44.81238938053095
         ]
        },
        {
         "autocolorscale": false,
         "colorbar": {
          "title": {
           "text": "Average (2013)"
          }
         },
         "colorscale": [
          [
           0,
           "rgb(50,50,255)"
          ],
          [
           1,
           "rgb(255,50,50)"
          ]
         ],
         "customdata": [
          2013
         ],
         "locationmode": "country names",
         "locations": [
          "Australia",
          "Austria",
          "Belgium",
          "Brazil",
          "Canada",
          "China",
          "Colombia",
          "Czech Republic",
          "Denmark",
          "Estonia",
          "Finland",
          "France",
          "Germany",
          "Greece",
          "Hong Kong",
          "Iceland",
          "India",
          "Iran",
          "Israel",
          "Italy",
          "Japan",
          "Mexico",
          "Netherlands",
          "New Zealand",
          "Norway",
          "Poland",
          "Portugal",
          "Republic of Ireland",
          "Russian Federation",
          "Saudi Arabia",
          "Singapore",
          "South Africa",
          "South Korea",
          "Spain",
          "Sweden",
          "Switzerland",
          "Taiwan",
          "Thailand",
          "Turkey",
          "United Kingdom",
          "United States of America"
         ],
         "marker": {
          "line": {
           "color": "rgb(0,0,0)",
           "width": 0.25
          }
         },
         "type": "choropleth",
         "uid": "25df4cd9-c8c1-45bb-bfe6-9d2bd304ca55",
         "z": [
          40.92105263157894,
          23.633333333333336,
          39.71428571428571,
          56.25,
          44.652631578947364,
          37.666666666666664,
          11.4,
          26.2,
          33.9,
          27.4,
          27.720000000000006,
          31.74166666666667,
          31.983999999999995,
          16.3,
          51.949999999999996,
          28,
          30.700000000000003,
          42.8,
          55.26666666666667,
          21.46428571428572,
          41.630769230769225,
          31.6,
          57.86923076923077,
          27.333333333333332,
          28.424999999999997,
          16.1,
          20.633333333333333,
          25.7,
          29.35,
          10.3,
          77.05000000000001,
          34.75,
          59.53333333333333,
          21.771428571428572,
          46.459999999999994,
          43.599999999999994,
          43.028571428571425,
          10.2,
          31.639999999999997,
          41.043749999999996,
          48.223423423423434
         ]
        },
        {
         "autocolorscale": false,
         "colorbar": {
          "title": {
           "text": "Average (2014)"
          }
         },
         "colorscale": [
          [
           0,
           "rgb(50,50,255)"
          ],
          [
           1,
           "rgb(255,50,50)"
          ]
         ],
         "customdata": [
          2014
         ],
         "locationmode": "country names",
         "locations": [
          "Australia",
          "Austria",
          "Belgium",
          "Brazil",
          "Canada",
          "China",
          "Colombia",
          "Czech Republic",
          "Denmark",
          "Estonia",
          "Finland",
          "France",
          "Germany",
          "Greece",
          "Hong Kong",
          "Iceland",
          "India",
          "Iran",
          "Israel",
          "Italy",
          "Japan",
          "Netherlands",
          "New Zealand",
          "Norway",
          "Poland",
          "Portugal",
          "Republic of Ireland",
          "Russian Federation",
          "Saudi Arabia",
          "Singapore",
          "South Africa",
          "South Korea",
          "Spain",
          "Sweden",
          "Switzerland",
          "Taiwan",
          "Thailand",
          "Turkey",
          "United Kingdom",
          "United States of America"
         ],
         "marker": {
          "line": {
           "color": "rgb(0,0,0)",
           "width": 0.25
          }
         },
         "type": "choropleth",
         "uid": "34731b85-3963-4911-bed0-4bca4727a16c",
         "z": [
          34.38947368421053,
          21.616666666666664,
          35.57142857142858,
          44.15,
          38.67894736842105,
          30.85,
          10.5,
          19.9,
          29.619999999999997,
          21.2,
          24.119999999999997,
          27.536363636363635,
          27.434615384615388,
          16.6,
          44.56666666666666,
          24.3,
          20.9,
          37.2,
          40.833333333333336,
          19.68,
          40.41818181818183,
          49.607692307692304,
          26.119999999999997,
          25.925,
          14.3,
          18.200000000000003,
          23.240000000000002,
          36.6,
          15.25,
          66.05,
          29.866666666666664,
          49.128571428571426,
          19.15555555555555,
          39.910000000000004,
          41.075,
          37.4625,
          10.5,
          23.02,
          35.45306122448981,
          42.854128440366985
         ]
        },
        {
         "autocolorscale": false,
         "colorbar": {
          "title": {
           "text": "Average (2015)"
          }
         },
         "colorscale": [
          [
           0,
           "rgb(50,50,255)"
          ],
          [
           1,
           "rgb(255,50,50)"
          ]
         ],
         "customdata": [
          2015
         ],
         "locationmode": "country names",
         "locations": [
          "Australia",
          "Austria",
          "Belgium",
          "Brazil",
          "Canada",
          "Chile",
          "China",
          "Colombia",
          "Czech Republic",
          "Denmark",
          "Finland",
          "France",
          "Germany",
          "Greece",
          "Hong Kong",
          "Iceland",
          "India",
          "Iran",
          "Israel",
          "Italy",
          "Japan",
          "Macau",
          "Morocco",
          "Netherlands",
          "New Zealand",
          "Norway",
          "Poland",
          "Portugal",
          "Republic of Ireland",
          "Russian Federation",
          "Singapore",
          "South Africa",
          "South Korea",
          "Spain",
          "Sweden",
          "Switzerland",
          "Taiwan",
          "Thailand",
          "Turkey",
          "United Kingdom",
          "United States of America"
         ],
         "marker": {
          "line": {
           "color": "rgb(0,0,0)",
           "width": 0.25
          }
         },
         "type": "choropleth",
         "uid": "179df131-3d3a-4dac-992a-d612b47631ea",
         "z": [
          36.639999999999986,
          24.7,
          36.60000000000001,
          45.2,
          41.24444444444444,
          10.1,
          31.91818181818182,
          12.1,
          24.3,
          31.82,
          27.785714285714285,
          28.681818181818183,
          30.80714285714285,
          16.8,
          45.91666666666666,
          24.7,
          22.224999999999998,
          31,
          41.63333333333333,
          21.800000000000004,
          38.34166666666667,
          20.3,
          6.5,
          51.276923076923076,
          26,
          27.4,
          13.6,
          19.5,
          24.860000000000003,
          29.65,
          67,
          29.400000000000002,
          44.488888888888894,
          23.316666666666666,
          40.88,
          44.37499999999999,
          42.31666666666667,
          10,
          30.099999999999998,
          38.33555555555554,
          44.02870370370369
         ]
        },
        {
         "autocolorscale": false,
         "colorbar": {
          "title": {
           "text": "Average (2016)"
          }
         },
         "colorscale": [
          [
           0,
           "rgb(50,50,255)"
          ],
          [
           1,
           "rgb(255,50,50)"
          ]
         ],
         "customdata": [
          2016
         ],
         "locationmode": "country names",
         "locations": [
          "Argentina",
          "Australia",
          "Austria",
          "Bangladesh",
          "Belarus",
          "Belgium",
          "Brazil",
          "Canada",
          "Chile",
          "China",
          "Colombia",
          "Cyprus",
          "Czech Republic",
          "Denmark",
          "Egypt",
          "Estonia",
          "Finland",
          "France",
          "Germany",
          "Ghana",
          "Greece",
          "Hong Kong",
          "Hungary",
          "Iceland",
          "India",
          "Indonesia",
          "Iran",
          "Israel",
          "Italy",
          "Japan",
          "Jordan",
          "Kenya",
          "Latvia",
          "Lebanon",
          "Lithuania",
          "Luxembourg",
          "Macau",
          "Malaysia",
          "Mexico",
          "Morocco",
          "Netherlands",
          "New Zealand",
          "Nigeria",
          "Norway",
          "Oman",
          "Pakistan",
          "Poland",
          "Portugal",
          "Qatar",
          "Republic of Ireland",
          "Romania",
          "Russian Federation",
          "Saudi Arabia",
          "Serbia",
          "Singapore",
          "Slovakia",
          "Slovenia",
          "South Africa",
          "South Korea",
          "Spain",
          "Sweden",
          "Switzerland",
          "Taiwan",
          "Thailand",
          "Turkey",
          "Uganda",
          "Ukraine",
          "Unisted States of America",
          "United Arab Emirates",
          "United Kingdom",
          "United States of America",
          "Unted Kingdom"
         ],
         "marker": {
          "line": {
           "color": "rgb(0,0,0)",
           "width": 0.25
          }
         },
         "type": "choropleth",
         "uid": "c814c7d0-d10e-424d-bfd6-2e831c752f0a",
         "z": [
          9,
          32.83225806451614,
          22.84285714285715,
          7.2,
          8.7,
          43.17142857142857,
          17.67058823529412,
          36.24399999999999,
          13.333333333333334,
          24.88378378378379,
          17.450000000000003,
          28.5,
          14.38888888888889,
          32.15,
          8.399999999999999,
          18.9,
          26.099999999999998,
          21.01111111111111,
          41.71081081081082,
          15.6,
          16.3,
          43.56666666666666,
          11.216666666666667,
          16.2,
          17.641176470588235,
          8,
          22.35,
          32.88333333333333,
          20.288235294117655,
          20.853658536585364,
          6.95,
          9,
          10.2,
          11.2,
          13.6,
          26.7,
          17,
          15.14,
          26.450000000000003,
          6.3,
          54.76153846153847,
          23.75714285714286,
          11.1,
          30.175,
          10.6,
          8.45,
          10.12857142857143,
          23.785714285714285,
          10.3,
          23.522222222222226,
          10.375,
          22.71538461538462,
          15.133333333333335,
          13.2,
          72.9,
          9.45,
          12.55,
          27.233333333333334,
          27.475000000000005,
          17.424,
          41.21818181818182,
          41.45,
          25.15833333333333,
          10.857142857142858,
          19.400000000000002,
          10.6,
          9.95,
          35.5,
          12.7,
          31.04025974025973,
          37.35068493150682,
          20.4
         ]
        }
       ],
       "layout": {
        "geo": {
         "lakecolor": "rgb(255, 255, 255)",
         "projection": {
          "type": "equirectangular"
         },
         "scope": "world",
         "showlakes": true
        },
        "sliders": [
         {
          "active": 5,
          "pad": {
           "t": 1
          },
          "steps": [
           {
            "args": [
             "visible",
             [
              true,
              false,
              false,
              false,
              false,
              false
             ]
            ],
            "label": "Year 2011",
            "method": "restyle"
           },
           {
            "args": [
             "visible",
             [
              false,
              true,
              false,
              false,
              false,
              false
             ]
            ],
            "label": "Year 2012",
            "method": "restyle"
           },
           {
            "args": [
             "visible",
             [
              false,
              false,
              true,
              false,
              false,
              false
             ]
            ],
            "label": "Year 2013",
            "method": "restyle"
           },
           {
            "args": [
             "visible",
             [
              false,
              false,
              false,
              true,
              false,
              false
             ]
            ],
            "label": "Year 2014",
            "method": "restyle"
           },
           {
            "args": [
             "visible",
             [
              false,
              false,
              false,
              false,
              true,
              false
             ]
            ],
            "label": "Year 2015",
            "method": "restyle"
           },
           {
            "args": [
             "visible",
             [
              false,
              false,
              false,
              false,
              false,
              true
             ]
            ],
            "label": "Year 2016",
            "method": "restyle"
           }
          ]
         }
        ],
        "title": {
         "text": "Average of universities by country (research)"
        }
       }
      },
      "text/html": [
       "<div>\n",
       "        \n",
       "        \n",
       "            <div id=\"f4cd5658-2b06-4a98-b7b6-b89b280f71d1\" class=\"plotly-graph-div\" style=\"height:525px; width:100%;\"></div>\n",
       "            <script type=\"text/javascript\">\n",
       "                require([\"plotly\"], function(Plotly) {\n",
       "                    window.PLOTLYENV=window.PLOTLYENV || {};\n",
       "                    window.PLOTLYENV.BASE_URL='https://plot.ly';\n",
       "                    \n",
       "                if (document.getElementById(\"f4cd5658-2b06-4a98-b7b6-b89b280f71d1\")) {\n",
       "                    Plotly.newPlot(\n",
       "                        'f4cd5658-2b06-4a98-b7b6-b89b280f71d1',\n",
       "                        [{\"autocolorscale\": false, \"colorbar\": {\"title\": {\"text\": \"Average (2011)\"}}, \"colorscale\": [[0, \"rgb(50,50,255)\"], [1, \"rgb(255,50,50)\"]], \"customdata\": [2011], \"locationmode\": \"country names\", \"locations\": [\"Australia\", \"Austria\", \"Belgium\", \"Canada\", \"China\", \"Denmark\", \"Egypt\", \"Finland\", \"France\", \"Germany\", \"Hong Kong\", \"Japan\", \"Netherlands\", \"New Zealand\", \"Norway\", \"Republic of Ireland\", \"Singapore\", \"South Africa\", \"South Korea\", \"Spain\", \"Sweden\", \"Switzerland\", \"Taiwan\", \"Turkey\", \"United Kingdom\", \"United States of America\"], \"marker\": {\"line\": {\"color\": \"rgb(0,0,0)\", \"width\": 0.25}}, \"type\": \"choropleth\", \"uid\": \"c0b6ff42-da7d-45be-ba71-89fb643e5887\", \"z\": [53.34285714285714, 40.25, 61.0, 60.71111111111111, 49.78333333333333, 49.4, 28.0, 51.4, 43.97500000000001, 42.285714285714285, 50.349999999999994, 71.78, 52.519999999999996, 39.2, 42.1, 40.95, 62.15, 42.1, 57.175, 33.35, 58.43333333333333, 54.699999999999996, 54.15, 37.8, 52.903448275862075, 61.9347222222222]}, {\"autocolorscale\": false, \"colorbar\": {\"title\": {\"text\": \"Average (2012)\"}}, \"colorscale\": [[0, \"rgb(50,50,255)\"], [1, \"rgb(255,50,50)\"]], \"customdata\": [2012], \"locationmode\": \"country names\", \"locations\": [\"Australia\", \"Austria\", \"Belgium\", \"Brazil\", \"Canada\", \"Chile\", \"China\", \"Czech Republic\", \"Denmark\", \"Egypt\", \"Estonia\", \"Finland\", \"France\", \"Germany\", \"Greece\", \"Hong Kong\", \"Iceland\", \"India\", \"Iran\", \"Israel\", \"Italy\", \"Japan\", \"Netherlands\", \"New Zealand\", \"Norway\", \"Poland\", \"Portugal\", \"Republic of Ireland\", \"Russian Federation\", \"Singapore\", \"South Africa\", \"South Korea\", \"Spain\", \"Sweden\", \"Switzerland\", \"Taiwan\", \"Thailand\", \"Turkey\", \"United Kingdom\", \"United States of America\"], \"marker\": {\"line\": {\"color\": \"rgb(0,0,0)\", \"width\": 0.25}}, \"type\": \"choropleth\", \"uid\": \"2fc92b16-064c-4850-9cf2-ee16a3cd1813\", \"z\": [31.952380952380945, 18.839999999999996, 32.27142857142858, 45.55, 43.70555555555556, 16.3, 30.46999999999999, 24.6, 27.419999999999998, 7.8, 17.8, 27.22, 22.5875, 28.15, 12.6, 45.4, 17.3, 15.7, 29.7, 48.575, 18.514285714285712, 35.84374999999999, 45.68461538461538, 23.316666666666666, 26.200000000000003, 15.85, 12.85, 19.440000000000005, 23.6, 63.4, 34.5, 40.07142857142857, 16.175, 41.80999999999999, 44.5, 33.2, 14.7, 22.275000000000002, 35.93269230769231, 44.81238938053095]}, {\"autocolorscale\": false, \"colorbar\": {\"title\": {\"text\": \"Average (2013)\"}}, \"colorscale\": [[0, \"rgb(50,50,255)\"], [1, \"rgb(255,50,50)\"]], \"customdata\": [2013], \"locationmode\": \"country names\", \"locations\": [\"Australia\", \"Austria\", \"Belgium\", \"Brazil\", \"Canada\", \"China\", \"Colombia\", \"Czech Republic\", \"Denmark\", \"Estonia\", \"Finland\", \"France\", \"Germany\", \"Greece\", \"Hong Kong\", \"Iceland\", \"India\", \"Iran\", \"Israel\", \"Italy\", \"Japan\", \"Mexico\", \"Netherlands\", \"New Zealand\", \"Norway\", \"Poland\", \"Portugal\", \"Republic of Ireland\", \"Russian Federation\", \"Saudi Arabia\", \"Singapore\", \"South Africa\", \"South Korea\", \"Spain\", \"Sweden\", \"Switzerland\", \"Taiwan\", \"Thailand\", \"Turkey\", \"United Kingdom\", \"United States of America\"], \"marker\": {\"line\": {\"color\": \"rgb(0,0,0)\", \"width\": 0.25}}, \"type\": \"choropleth\", \"uid\": \"25df4cd9-c8c1-45bb-bfe6-9d2bd304ca55\", \"z\": [40.92105263157894, 23.633333333333336, 39.71428571428571, 56.25, 44.652631578947364, 37.666666666666664, 11.4, 26.2, 33.9, 27.4, 27.720000000000006, 31.74166666666667, 31.983999999999995, 16.3, 51.949999999999996, 28.0, 30.700000000000003, 42.8, 55.26666666666667, 21.46428571428572, 41.630769230769225, 31.6, 57.86923076923077, 27.333333333333332, 28.424999999999997, 16.1, 20.633333333333333, 25.7, 29.35, 10.3, 77.05000000000001, 34.75, 59.53333333333333, 21.771428571428572, 46.459999999999994, 43.599999999999994, 43.028571428571425, 10.2, 31.639999999999997, 41.043749999999996, 48.223423423423434]}, {\"autocolorscale\": false, \"colorbar\": {\"title\": {\"text\": \"Average (2014)\"}}, \"colorscale\": [[0, \"rgb(50,50,255)\"], [1, \"rgb(255,50,50)\"]], \"customdata\": [2014], \"locationmode\": \"country names\", \"locations\": [\"Australia\", \"Austria\", \"Belgium\", \"Brazil\", \"Canada\", \"China\", \"Colombia\", \"Czech Republic\", \"Denmark\", \"Estonia\", \"Finland\", \"France\", \"Germany\", \"Greece\", \"Hong Kong\", \"Iceland\", \"India\", \"Iran\", \"Israel\", \"Italy\", \"Japan\", \"Netherlands\", \"New Zealand\", \"Norway\", \"Poland\", \"Portugal\", \"Republic of Ireland\", \"Russian Federation\", \"Saudi Arabia\", \"Singapore\", \"South Africa\", \"South Korea\", \"Spain\", \"Sweden\", \"Switzerland\", \"Taiwan\", \"Thailand\", \"Turkey\", \"United Kingdom\", \"United States of America\"], \"marker\": {\"line\": {\"color\": \"rgb(0,0,0)\", \"width\": 0.25}}, \"type\": \"choropleth\", \"uid\": \"34731b85-3963-4911-bed0-4bca4727a16c\", \"z\": [34.38947368421053, 21.616666666666664, 35.57142857142858, 44.15, 38.67894736842105, 30.85, 10.5, 19.9, 29.619999999999997, 21.2, 24.119999999999997, 27.536363636363635, 27.434615384615388, 16.6, 44.56666666666666, 24.3, 20.9, 37.2, 40.833333333333336, 19.68, 40.41818181818183, 49.607692307692304, 26.119999999999997, 25.925, 14.3, 18.200000000000003, 23.240000000000002, 36.6, 15.25, 66.05, 29.866666666666664, 49.128571428571426, 19.15555555555555, 39.910000000000004, 41.075, 37.4625, 10.5, 23.02, 35.45306122448981, 42.854128440366985]}, {\"autocolorscale\": false, \"colorbar\": {\"title\": {\"text\": \"Average (2015)\"}}, \"colorscale\": [[0, \"rgb(50,50,255)\"], [1, \"rgb(255,50,50)\"]], \"customdata\": [2015], \"locationmode\": \"country names\", \"locations\": [\"Australia\", \"Austria\", \"Belgium\", \"Brazil\", \"Canada\", \"Chile\", \"China\", \"Colombia\", \"Czech Republic\", \"Denmark\", \"Finland\", \"France\", \"Germany\", \"Greece\", \"Hong Kong\", \"Iceland\", \"India\", \"Iran\", \"Israel\", \"Italy\", \"Japan\", \"Macau\", \"Morocco\", \"Netherlands\", \"New Zealand\", \"Norway\", \"Poland\", \"Portugal\", \"Republic of Ireland\", \"Russian Federation\", \"Singapore\", \"South Africa\", \"South Korea\", \"Spain\", \"Sweden\", \"Switzerland\", \"Taiwan\", \"Thailand\", \"Turkey\", \"United Kingdom\", \"United States of America\"], \"marker\": {\"line\": {\"color\": \"rgb(0,0,0)\", \"width\": 0.25}}, \"type\": \"choropleth\", \"uid\": \"179df131-3d3a-4dac-992a-d612b47631ea\", \"z\": [36.639999999999986, 24.7, 36.60000000000001, 45.2, 41.24444444444444, 10.1, 31.91818181818182, 12.1, 24.3, 31.82, 27.785714285714285, 28.681818181818183, 30.80714285714285, 16.8, 45.91666666666666, 24.7, 22.224999999999998, 31.0, 41.63333333333333, 21.800000000000004, 38.34166666666667, 20.3, 6.5, 51.276923076923076, 26.0, 27.4, 13.6, 19.5, 24.860000000000003, 29.65, 67.0, 29.400000000000002, 44.488888888888894, 23.316666666666666, 40.88, 44.37499999999999, 42.31666666666667, 10.0, 30.099999999999998, 38.33555555555554, 44.02870370370369]}, {\"autocolorscale\": false, \"colorbar\": {\"title\": {\"text\": \"Average (2016)\"}}, \"colorscale\": [[0, \"rgb(50,50,255)\"], [1, \"rgb(255,50,50)\"]], \"customdata\": [2016], \"locationmode\": \"country names\", \"locations\": [\"Argentina\", \"Australia\", \"Austria\", \"Bangladesh\", \"Belarus\", \"Belgium\", \"Brazil\", \"Canada\", \"Chile\", \"China\", \"Colombia\", \"Cyprus\", \"Czech Republic\", \"Denmark\", \"Egypt\", \"Estonia\", \"Finland\", \"France\", \"Germany\", \"Ghana\", \"Greece\", \"Hong Kong\", \"Hungary\", \"Iceland\", \"India\", \"Indonesia\", \"Iran\", \"Israel\", \"Italy\", \"Japan\", \"Jordan\", \"Kenya\", \"Latvia\", \"Lebanon\", \"Lithuania\", \"Luxembourg\", \"Macau\", \"Malaysia\", \"Mexico\", \"Morocco\", \"Netherlands\", \"New Zealand\", \"Nigeria\", \"Norway\", \"Oman\", \"Pakistan\", \"Poland\", \"Portugal\", \"Qatar\", \"Republic of Ireland\", \"Romania\", \"Russian Federation\", \"Saudi Arabia\", \"Serbia\", \"Singapore\", \"Slovakia\", \"Slovenia\", \"South Africa\", \"South Korea\", \"Spain\", \"Sweden\", \"Switzerland\", \"Taiwan\", \"Thailand\", \"Turkey\", \"Uganda\", \"Ukraine\", \"Unisted States of America\", \"United Arab Emirates\", \"United Kingdom\", \"United States of America\", \"Unted Kingdom\"], \"marker\": {\"line\": {\"color\": \"rgb(0,0,0)\", \"width\": 0.25}}, \"type\": \"choropleth\", \"uid\": \"c814c7d0-d10e-424d-bfd6-2e831c752f0a\", \"z\": [9.0, 32.83225806451614, 22.84285714285715, 7.2, 8.7, 43.17142857142857, 17.67058823529412, 36.24399999999999, 13.333333333333334, 24.88378378378379, 17.450000000000003, 28.5, 14.38888888888889, 32.15, 8.399999999999999, 18.9, 26.099999999999998, 21.01111111111111, 41.71081081081082, 15.6, 16.3, 43.56666666666666, 11.216666666666667, 16.2, 17.641176470588235, 8.0, 22.35, 32.88333333333333, 20.288235294117655, 20.853658536585364, 6.95, 9.0, 10.2, 11.2, 13.6, 26.7, 17.0, 15.14, 26.450000000000003, 6.3, 54.76153846153847, 23.75714285714286, 11.1, 30.175, 10.6, 8.45, 10.12857142857143, 23.785714285714285, 10.3, 23.522222222222226, 10.375, 22.71538461538462, 15.133333333333335, 13.2, 72.9, 9.45, 12.55, 27.233333333333334, 27.475000000000005, 17.424, 41.21818181818182, 41.45, 25.15833333333333, 10.857142857142858, 19.400000000000002, 10.6, 9.95, 35.5, 12.7, 31.04025974025973, 37.35068493150682, 20.4]}],\n",
       "                        {\"geo\": {\"lakecolor\": \"rgb(255, 255, 255)\", \"projection\": {\"type\": \"equirectangular\"}, \"scope\": \"world\", \"showlakes\": true}, \"sliders\": [{\"active\": 5, \"pad\": {\"t\": 1}, \"steps\": [{\"args\": [\"visible\", [true, false, false, false, false, false]], \"label\": \"Year 2011\", \"method\": \"restyle\"}, {\"args\": [\"visible\", [false, true, false, false, false, false]], \"label\": \"Year 2012\", \"method\": \"restyle\"}, {\"args\": [\"visible\", [false, false, true, false, false, false]], \"label\": \"Year 2013\", \"method\": \"restyle\"}, {\"args\": [\"visible\", [false, false, false, true, false, false]], \"label\": \"Year 2014\", \"method\": \"restyle\"}, {\"args\": [\"visible\", [false, false, false, false, true, false]], \"label\": \"Year 2015\", \"method\": \"restyle\"}, {\"args\": [\"visible\", [false, false, false, false, false, true]], \"label\": \"Year 2016\", \"method\": \"restyle\"}]}], \"title\": {\"text\": \"Average of universities by country (research)\"}},\n",
       "                        {\"showLink\": false, \"linkText\": \"Export to plot.ly\", \"plotlyServerURL\": \"https://plot.ly\", \"responsive\": true}\n",
       "                    ).then(function(){\n",
       "                            \n",
       "var gd = document.getElementById('f4cd5658-2b06-4a98-b7b6-b89b280f71d1');\n",
       "var x = new MutationObserver(function (mutations, observer) {{\n",
       "        var display = window.getComputedStyle(gd).display;\n",
       "        if (!display || display === 'none') {{\n",
       "            console.log([gd, 'removed!']);\n",
       "            Plotly.purge(gd);\n",
       "            observer.disconnect();\n",
       "        }}\n",
       "}});\n",
       "\n",
       "// Listen for the removal of the full notebook cells\n",
       "var notebookContainer = gd.closest('#notebook-container');\n",
       "if (notebookContainer) {{\n",
       "    x.observe(notebookContainer, {childList: true});\n",
       "}}\n",
       "\n",
       "// Listen for the clearing of the current output cell\n",
       "var outputEl = gd.closest('.output');\n",
       "if (outputEl) {{\n",
       "    x.observe(outputEl, {childList: true});\n",
       "}}\n",
       "\n",
       "                        })\n",
       "                };\n",
       "                });\n",
       "            </script>\n",
       "        </div>"
      ]
     },
     "metadata": {},
     "output_type": "display_data"
    },
    {
     "data": {
      "application/vnd.plotly.v1+json": {
       "config": {
        "linkText": "Export to plot.ly",
        "plotlyServerURL": "https://plot.ly",
        "showLink": false
       },
       "data": [
        {
         "autocolorscale": false,
         "colorbar": {
          "title": {
           "text": "Average (2011)"
          }
         },
         "colorscale": [
          [
           0,
           "rgb(50,50,255)"
          ],
          [
           1,
           "rgb(255,50,50)"
          ]
         ],
         "customdata": [
          2011
         ],
         "locationmode": "country names",
         "locations": [
          "Australia",
          "Austria",
          "Belgium",
          "Canada",
          "China",
          "Denmark",
          "Egypt",
          "Finland",
          "France",
          "Germany",
          "Hong Kong",
          "Japan",
          "Netherlands",
          "New Zealand",
          "Norway",
          "Republic of Ireland",
          "Singapore",
          "South Africa",
          "South Korea",
          "Spain",
          "Sweden",
          "Switzerland",
          "Taiwan",
          "Turkey",
          "United Kingdom",
          "United States of America"
         ],
         "marker": {
          "line": {
           "color": "rgb(0,0,0)",
           "width": 0.25
          }
         },
         "type": "choropleth",
         "uid": "88a5d7f3-5eae-4cf4-87a3-480871fad59d",
         "z": [
          71.4,
          52.900000000000006,
          49,
          65.52222222222221,
          66.35000000000001,
          60.06666666666666,
          99.8,
          75.4,
          86.85000000000001,
          65.03571428571428,
          88.57499999999999,
          46.220000000000006,
          53.73,
          71.8,
          73.1,
          85.35,
          61.85,
          82.8,
          62.2,
          88.30000000000001,
          52.9,
          72.06666666666668,
          55.075,
          81.05000000000001,
          72.50344827586207,
          79.28055555555554
         ]
        },
        {
         "autocolorscale": false,
         "colorbar": {
          "title": {
           "text": "Average (2012)"
          }
         },
         "colorscale": [
          [
           0,
           "rgb(50,50,255)"
          ],
          [
           1,
           "rgb(255,50,50)"
          ]
         ],
         "customdata": [
          2012
         ],
         "locationmode": "country names",
         "locations": [
          "Australia",
          "Austria",
          "Belgium",
          "Brazil",
          "Canada",
          "Chile",
          "China",
          "Czech Republic",
          "Denmark",
          "Egypt",
          "Estonia",
          "Finland",
          "France",
          "Germany",
          "Greece",
          "Hong Kong",
          "Iceland",
          "India",
          "Iran",
          "Israel",
          "Italy",
          "Japan",
          "Netherlands",
          "New Zealand",
          "Norway",
          "Poland",
          "Portugal",
          "Republic of Ireland",
          "Russian Federation",
          "Singapore",
          "South Africa",
          "South Korea",
          "Spain",
          "Sweden",
          "Switzerland",
          "Taiwan",
          "Thailand",
          "Turkey",
          "United Kingdom",
          "United States of America"
         ],
         "marker": {
          "line": {
           "color": "rgb(0,0,0)",
           "width": 0.25
          }
         },
         "type": "choropleth",
         "uid": "f458ac75-9acf-4b38-b19f-c7811213f88b",
         "z": [
          42.33809523809524,
          50.62,
          53.75714285714285,
          17,
          55.211111111111116,
          30.1,
          38.61,
          31,
          57.6,
          61.4,
          34.4,
          47.4,
          76.575,
          59.04090909090908,
          66.7,
          51.43333333333334,
          62.4,
          38.8,
          19.3,
          32.775,
          48.692857142857136,
          39.41875,
          60.97692307692308,
          42.93333333333334,
          54.075,
          43.7,
          35.125,
          51,
          7.05,
          48.95,
          48.20000000000001,
          40.142857142857146,
          54.525,
          56.749999999999986,
          80.47142857142856,
          36.0375,
          20.9,
          47.625,
          60.59230769230768,
          71.32477876106195
         ]
        },
        {
         "autocolorscale": false,
         "colorbar": {
          "title": {
           "text": "Average (2013)"
          }
         },
         "colorscale": [
          [
           0,
           "rgb(50,50,255)"
          ],
          [
           1,
           "rgb(255,50,50)"
          ]
         ],
         "customdata": [
          2013
         ],
         "locationmode": "country names",
         "locations": [
          "Australia",
          "Austria",
          "Belgium",
          "Brazil",
          "Canada",
          "China",
          "Colombia",
          "Czech Republic",
          "Denmark",
          "Estonia",
          "Finland",
          "France",
          "Germany",
          "Greece",
          "Hong Kong",
          "Iceland",
          "India",
          "Iran",
          "Israel",
          "Italy",
          "Japan",
          "Mexico",
          "Netherlands",
          "New Zealand",
          "Norway",
          "Poland",
          "Portugal",
          "Republic of Ireland",
          "Russian Federation",
          "Saudi Arabia",
          "Singapore",
          "South Africa",
          "South Korea",
          "Spain",
          "Sweden",
          "Switzerland",
          "Taiwan",
          "Thailand",
          "Turkey",
          "United Kingdom",
          "United States of America"
         ],
         "marker": {
          "line": {
           "color": "rgb(0,0,0)",
           "width": 0.25
          }
         },
         "type": "choropleth",
         "uid": "885be060-c052-4fbd-9e66-bc54986dd67e",
         "z": [
          53.805263157894736,
          56.81666666666666,
          61.94285714285714,
          28.35,
          61.32631578947369,
          52.366666666666674,
          68.2,
          42,
          66.22,
          52.4,
          56.34000000000001,
          73.75833333333334,
          67.044,
          68.6,
          56.26666666666667,
          71,
          43.46666666666666,
          34.2,
          48.23333333333333,
          59.31428571428571,
          50.74615384615384,
          24.6,
          66.9,
          53.75,
          58.925000000000004,
          51.1,
          50.13333333333333,
          58.080000000000005,
          59.85,
          63.4,
          60.85,
          54.6,
          53.65,
          64.21428571428571,
          63.36999999999999,
          79.725,
          38.814285714285724,
          68.4,
          56.98,
          69.41874999999997,
          76.44414414414413
         ]
        },
        {
         "autocolorscale": false,
         "colorbar": {
          "title": {
           "text": "Average (2014)"
          }
         },
         "colorscale": [
          [
           0,
           "rgb(50,50,255)"
          ],
          [
           1,
           "rgb(255,50,50)"
          ]
         ],
         "customdata": [
          2014
         ],
         "locationmode": "country names",
         "locations": [
          "Australia",
          "Austria",
          "Belgium",
          "Brazil",
          "Canada",
          "China",
          "Colombia",
          "Czech Republic",
          "Denmark",
          "Estonia",
          "Finland",
          "France",
          "Germany",
          "Greece",
          "Hong Kong",
          "Iceland",
          "India",
          "Iran",
          "Israel",
          "Italy",
          "Japan",
          "Netherlands",
          "New Zealand",
          "Norway",
          "Poland",
          "Portugal",
          "Republic of Ireland",
          "Russian Federation",
          "Saudi Arabia",
          "Singapore",
          "South Africa",
          "South Korea",
          "Spain",
          "Sweden",
          "Switzerland",
          "Taiwan",
          "Thailand",
          "Turkey",
          "United Kingdom",
          "United States of America"
         ],
         "marker": {
          "line": {
           "color": "rgb(0,0,0)",
           "width": 0.25
          }
         },
         "type": "choropleth",
         "uid": "add2b2ac-d5bd-4467-9592-373b985fe61a",
         "z": [
          56.63157894736842,
          56.53333333333333,
          66.21428571428571,
          28.65,
          61.40526315789473,
          56.36,
          89.3,
          43.6,
          65.66,
          46.2,
          58.15999999999999,
          76.34545454545456,
          68.15,
          65.6,
          60.01666666666667,
          71.1,
          50.78,
          49,
          49.333333333333336,
          64.04666666666668,
          54.26363636363636,
          68.05384615384615,
          57.06,
          59.775000000000006,
          71.1,
          48.95,
          60.88000000000001,
          27,
          45.25,
          66.95,
          62.49999999999999,
          51.142857142857146,
          62.01111111111111,
          63.510000000000005,
          76.75,
          40.75,
          75.4,
          73.64000000000001,
          69.68571428571428,
          76.71926605504585
         ]
        },
        {
         "autocolorscale": false,
         "colorbar": {
          "title": {
           "text": "Average (2015)"
          }
         },
         "colorscale": [
          [
           0,
           "rgb(50,50,255)"
          ],
          [
           1,
           "rgb(255,50,50)"
          ]
         ],
         "customdata": [
          2015
         ],
         "locationmode": "country names",
         "locations": [
          "Australia",
          "Austria",
          "Belgium",
          "Brazil",
          "Canada",
          "Chile",
          "China",
          "Colombia",
          "Czech Republic",
          "Denmark",
          "Finland",
          "France",
          "Germany",
          "Greece",
          "Hong Kong",
          "Iceland",
          "India",
          "Iran",
          "Israel",
          "Italy",
          "Japan",
          "Macau",
          "Morocco",
          "Netherlands",
          "New Zealand",
          "Norway",
          "Poland",
          "Portugal",
          "Republic of Ireland",
          "Russian Federation",
          "Singapore",
          "South Africa",
          "South Korea",
          "Spain",
          "Sweden",
          "Switzerland",
          "Taiwan",
          "Thailand",
          "Turkey",
          "United Kingdom",
          "United States of America"
         ],
         "marker": {
          "line": {
           "color": "rgb(0,0,0)",
           "width": 0.25
          }
         },
         "type": "choropleth",
         "uid": "d6ac325f-71f2-44e0-8ea1-7890bf08f100",
         "z": [
          59.24000000000001,
          60.239999999999995,
          62.58571428571429,
          30.15,
          64.83888888888889,
          99.7,
          58.18181818181818,
          89.8,
          50.1,
          64.14,
          57.07142857142857,
          75.72727272727273,
          68.12142857142857,
          67,
          65.28333333333333,
          74.8,
          60.525,
          49.65,
          51.56666666666666,
          68.14705882352939,
          55.32500000000001,
          68.1,
          83,
          66.91538461538461,
          56.720000000000006,
          59.400000000000006,
          70,
          52.7,
          60.5,
          52.15,
          70.95,
          66.49999999999999,
          54.47777777777778,
          68.18333333333332,
          63.79,
          78.08749999999999,
          39.25000000000001,
          75,
          81.91666666666667,
          73.89111111111113,
          77.43888888888893
         ]
        },
        {
         "autocolorscale": false,
         "colorbar": {
          "title": {
           "text": "Average (2016)"
          }
         },
         "colorscale": [
          [
           0,
           "rgb(50,50,255)"
          ],
          [
           1,
           "rgb(255,50,50)"
          ]
         ],
         "customdata": [
          2016
         ],
         "locationmode": "country names",
         "locations": [
          "Argentina",
          "Australia",
          "Austria",
          "Bangladesh",
          "Belarus",
          "Belgium",
          "Brazil",
          "Canada",
          "Chile",
          "China",
          "Colombia",
          "Cyprus",
          "Czech Republic",
          "Denmark",
          "Egypt",
          "Estonia",
          "Finland",
          "France",
          "Germany",
          "Ghana",
          "Greece",
          "Hong Kong",
          "Hungary",
          "Iceland",
          "India",
          "Indonesia",
          "Iran",
          "Israel",
          "Italy",
          "Japan",
          "Jordan",
          "Kenya",
          "Latvia",
          "Lebanon",
          "Lithuania",
          "Luxembourg",
          "Macau",
          "Malaysia",
          "Mexico",
          "Morocco",
          "Netherlands",
          "New Zealand",
          "Nigeria",
          "Norway",
          "Oman",
          "Pakistan",
          "Poland",
          "Portugal",
          "Qatar",
          "Republic of Ireland",
          "Romania",
          "Russian Federation",
          "Saudi Arabia",
          "Serbia",
          "Singapore",
          "Slovakia",
          "Slovenia",
          "South Africa",
          "South Korea",
          "Spain",
          "Sweden",
          "Switzerland",
          "Taiwan",
          "Thailand",
          "Turkey",
          "Uganda",
          "Ukraine",
          "Unisted States of America",
          "United Arab Emirates",
          "United Kingdom",
          "United States of America",
          "Unted Kingdom"
         ],
         "marker": {
          "line": {
           "color": "rgb(0,0,0)",
           "width": 0.25
          }
         },
         "type": "choropleth",
         "uid": "2b3d0950-b06c-4fda-99c1-e3abe277c5e1",
         "z": [
          12.5,
          60.603225806451604,
          61.771428571428565,
          9.6,
          6,
          64.25714285714285,
          15.729411764705882,
          58.87200000000001,
          28.799999999999997,
          27.71081081081081,
          23,
          56.7,
          39.75555555555556,
          79.45,
          14,
          51.45,
          58.099999999999994,
          56.74444444444445,
          68.47837837837838,
          19.5,
          43.07142857142857,
          71.51666666666667,
          26.416666666666668,
          91.4,
          28.923529411764704,
          13.9,
          26.162500000000005,
          44.083333333333336,
          66.49705882352941,
          27.048780487804876,
          12.1,
          19.5,
          20.9,
          31.9,
          26.1,
          84.8,
          49.7,
          19.28,
          19.1,
          12.1,
          79.91538461538462,
          47.885714285714286,
          4.6,
          69.125,
          16,
          40.3,
          28.542857142857144,
          41.285714285714285,
          22.3,
          52.511111111111106,
          17.85,
          33.261538461538464,
          41.1,
          14,
          82.5,
          22.25,
          33.05,
          46.15,
          35.38333333333333,
          43.97999999999999,
          76.54545454545455,
          75.65,
          26.537500000000005,
          24.528571428571432,
          33.67272727272728,
          70.7,
          2.95,
          67.7,
          17.5,
          60.89999999999998,
          70.69726027397259,
          51.9
         ]
        }
       ],
       "layout": {
        "geo": {
         "lakecolor": "rgb(255, 255, 255)",
         "projection": {
          "type": "equirectangular"
         },
         "scope": "world",
         "showlakes": true
        },
        "sliders": [
         {
          "active": 5,
          "pad": {
           "t": 1
          },
          "steps": [
           {
            "args": [
             "visible",
             [
              true,
              false,
              false,
              false,
              false,
              false
             ]
            ],
            "label": "Year 2011",
            "method": "restyle"
           },
           {
            "args": [
             "visible",
             [
              false,
              true,
              false,
              false,
              false,
              false
             ]
            ],
            "label": "Year 2012",
            "method": "restyle"
           },
           {
            "args": [
             "visible",
             [
              false,
              false,
              true,
              false,
              false,
              false
             ]
            ],
            "label": "Year 2013",
            "method": "restyle"
           },
           {
            "args": [
             "visible",
             [
              false,
              false,
              false,
              true,
              false,
              false
             ]
            ],
            "label": "Year 2014",
            "method": "restyle"
           },
           {
            "args": [
             "visible",
             [
              false,
              false,
              false,
              false,
              true,
              false
             ]
            ],
            "label": "Year 2015",
            "method": "restyle"
           },
           {
            "args": [
             "visible",
             [
              false,
              false,
              false,
              false,
              false,
              true
             ]
            ],
            "label": "Year 2016",
            "method": "restyle"
           }
          ]
         }
        ],
        "title": {
         "text": "Average of universities by country (citations)"
        }
       }
      },
      "text/html": [
       "<div>\n",
       "        \n",
       "        \n",
       "            <div id=\"8f8af0d0-18d1-4235-8114-f73c6bca65c5\" class=\"plotly-graph-div\" style=\"height:525px; width:100%;\"></div>\n",
       "            <script type=\"text/javascript\">\n",
       "                require([\"plotly\"], function(Plotly) {\n",
       "                    window.PLOTLYENV=window.PLOTLYENV || {};\n",
       "                    window.PLOTLYENV.BASE_URL='https://plot.ly';\n",
       "                    \n",
       "                if (document.getElementById(\"8f8af0d0-18d1-4235-8114-f73c6bca65c5\")) {\n",
       "                    Plotly.newPlot(\n",
       "                        '8f8af0d0-18d1-4235-8114-f73c6bca65c5',\n",
       "                        [{\"autocolorscale\": false, \"colorbar\": {\"title\": {\"text\": \"Average (2011)\"}}, \"colorscale\": [[0, \"rgb(50,50,255)\"], [1, \"rgb(255,50,50)\"]], \"customdata\": [2011], \"locationmode\": \"country names\", \"locations\": [\"Australia\", \"Austria\", \"Belgium\", \"Canada\", \"China\", \"Denmark\", \"Egypt\", \"Finland\", \"France\", \"Germany\", \"Hong Kong\", \"Japan\", \"Netherlands\", \"New Zealand\", \"Norway\", \"Republic of Ireland\", \"Singapore\", \"South Africa\", \"South Korea\", \"Spain\", \"Sweden\", \"Switzerland\", \"Taiwan\", \"Turkey\", \"United Kingdom\", \"United States of America\"], \"marker\": {\"line\": {\"color\": \"rgb(0,0,0)\", \"width\": 0.25}}, \"type\": \"choropleth\", \"uid\": \"88a5d7f3-5eae-4cf4-87a3-480871fad59d\", \"z\": [71.4, 52.900000000000006, 49.0, 65.52222222222221, 66.35000000000001, 60.06666666666666, 99.8, 75.4, 86.85000000000001, 65.03571428571428, 88.57499999999999, 46.220000000000006, 53.73, 71.8, 73.1, 85.35, 61.85, 82.8, 62.2, 88.30000000000001, 52.9, 72.06666666666668, 55.075, 81.05000000000001, 72.50344827586207, 79.28055555555554]}, {\"autocolorscale\": false, \"colorbar\": {\"title\": {\"text\": \"Average (2012)\"}}, \"colorscale\": [[0, \"rgb(50,50,255)\"], [1, \"rgb(255,50,50)\"]], \"customdata\": [2012], \"locationmode\": \"country names\", \"locations\": [\"Australia\", \"Austria\", \"Belgium\", \"Brazil\", \"Canada\", \"Chile\", \"China\", \"Czech Republic\", \"Denmark\", \"Egypt\", \"Estonia\", \"Finland\", \"France\", \"Germany\", \"Greece\", \"Hong Kong\", \"Iceland\", \"India\", \"Iran\", \"Israel\", \"Italy\", \"Japan\", \"Netherlands\", \"New Zealand\", \"Norway\", \"Poland\", \"Portugal\", \"Republic of Ireland\", \"Russian Federation\", \"Singapore\", \"South Africa\", \"South Korea\", \"Spain\", \"Sweden\", \"Switzerland\", \"Taiwan\", \"Thailand\", \"Turkey\", \"United Kingdom\", \"United States of America\"], \"marker\": {\"line\": {\"color\": \"rgb(0,0,0)\", \"width\": 0.25}}, \"type\": \"choropleth\", \"uid\": \"f458ac75-9acf-4b38-b19f-c7811213f88b\", \"z\": [42.33809523809524, 50.62, 53.75714285714285, 17.0, 55.211111111111116, 30.1, 38.61, 31.0, 57.6, 61.4, 34.4, 47.4, 76.575, 59.04090909090908, 66.7, 51.43333333333334, 62.4, 38.8, 19.3, 32.775, 48.692857142857136, 39.41875, 60.97692307692308, 42.93333333333334, 54.075, 43.7, 35.125, 51.0, 7.05, 48.95, 48.20000000000001, 40.142857142857146, 54.525, 56.749999999999986, 80.47142857142856, 36.0375, 20.9, 47.625, 60.59230769230768, 71.32477876106195]}, {\"autocolorscale\": false, \"colorbar\": {\"title\": {\"text\": \"Average (2013)\"}}, \"colorscale\": [[0, \"rgb(50,50,255)\"], [1, \"rgb(255,50,50)\"]], \"customdata\": [2013], \"locationmode\": \"country names\", \"locations\": [\"Australia\", \"Austria\", \"Belgium\", \"Brazil\", \"Canada\", \"China\", \"Colombia\", \"Czech Republic\", \"Denmark\", \"Estonia\", \"Finland\", \"France\", \"Germany\", \"Greece\", \"Hong Kong\", \"Iceland\", \"India\", \"Iran\", \"Israel\", \"Italy\", \"Japan\", \"Mexico\", \"Netherlands\", \"New Zealand\", \"Norway\", \"Poland\", \"Portugal\", \"Republic of Ireland\", \"Russian Federation\", \"Saudi Arabia\", \"Singapore\", \"South Africa\", \"South Korea\", \"Spain\", \"Sweden\", \"Switzerland\", \"Taiwan\", \"Thailand\", \"Turkey\", \"United Kingdom\", \"United States of America\"], \"marker\": {\"line\": {\"color\": \"rgb(0,0,0)\", \"width\": 0.25}}, \"type\": \"choropleth\", \"uid\": \"885be060-c052-4fbd-9e66-bc54986dd67e\", \"z\": [53.805263157894736, 56.81666666666666, 61.94285714285714, 28.35, 61.32631578947369, 52.366666666666674, 68.2, 42.0, 66.22, 52.4, 56.34000000000001, 73.75833333333334, 67.044, 68.6, 56.26666666666667, 71.0, 43.46666666666666, 34.2, 48.23333333333333, 59.31428571428571, 50.74615384615384, 24.6, 66.9, 53.75, 58.925000000000004, 51.1, 50.13333333333333, 58.080000000000005, 59.85, 63.4, 60.85, 54.6, 53.65, 64.21428571428571, 63.36999999999999, 79.725, 38.814285714285724, 68.4, 56.98, 69.41874999999997, 76.44414414414413]}, {\"autocolorscale\": false, \"colorbar\": {\"title\": {\"text\": \"Average (2014)\"}}, \"colorscale\": [[0, \"rgb(50,50,255)\"], [1, \"rgb(255,50,50)\"]], \"customdata\": [2014], \"locationmode\": \"country names\", \"locations\": [\"Australia\", \"Austria\", \"Belgium\", \"Brazil\", \"Canada\", \"China\", \"Colombia\", \"Czech Republic\", \"Denmark\", \"Estonia\", \"Finland\", \"France\", \"Germany\", \"Greece\", \"Hong Kong\", \"Iceland\", \"India\", \"Iran\", \"Israel\", \"Italy\", \"Japan\", \"Netherlands\", \"New Zealand\", \"Norway\", \"Poland\", \"Portugal\", \"Republic of Ireland\", \"Russian Federation\", \"Saudi Arabia\", \"Singapore\", \"South Africa\", \"South Korea\", \"Spain\", \"Sweden\", \"Switzerland\", \"Taiwan\", \"Thailand\", \"Turkey\", \"United Kingdom\", \"United States of America\"], \"marker\": {\"line\": {\"color\": \"rgb(0,0,0)\", \"width\": 0.25}}, \"type\": \"choropleth\", \"uid\": \"add2b2ac-d5bd-4467-9592-373b985fe61a\", \"z\": [56.63157894736842, 56.53333333333333, 66.21428571428571, 28.65, 61.40526315789473, 56.36, 89.3, 43.6, 65.66, 46.2, 58.15999999999999, 76.34545454545456, 68.15, 65.6, 60.01666666666667, 71.1, 50.78, 49.0, 49.333333333333336, 64.04666666666668, 54.26363636363636, 68.05384615384615, 57.06, 59.775000000000006, 71.1, 48.95, 60.88000000000001, 27.0, 45.25, 66.95, 62.49999999999999, 51.142857142857146, 62.01111111111111, 63.510000000000005, 76.75, 40.75, 75.4, 73.64000000000001, 69.68571428571428, 76.71926605504585]}, {\"autocolorscale\": false, \"colorbar\": {\"title\": {\"text\": \"Average (2015)\"}}, \"colorscale\": [[0, \"rgb(50,50,255)\"], [1, \"rgb(255,50,50)\"]], \"customdata\": [2015], \"locationmode\": \"country names\", \"locations\": [\"Australia\", \"Austria\", \"Belgium\", \"Brazil\", \"Canada\", \"Chile\", \"China\", \"Colombia\", \"Czech Republic\", \"Denmark\", \"Finland\", \"France\", \"Germany\", \"Greece\", \"Hong Kong\", \"Iceland\", \"India\", \"Iran\", \"Israel\", \"Italy\", \"Japan\", \"Macau\", \"Morocco\", \"Netherlands\", \"New Zealand\", \"Norway\", \"Poland\", \"Portugal\", \"Republic of Ireland\", \"Russian Federation\", \"Singapore\", \"South Africa\", \"South Korea\", \"Spain\", \"Sweden\", \"Switzerland\", \"Taiwan\", \"Thailand\", \"Turkey\", \"United Kingdom\", \"United States of America\"], \"marker\": {\"line\": {\"color\": \"rgb(0,0,0)\", \"width\": 0.25}}, \"type\": \"choropleth\", \"uid\": \"d6ac325f-71f2-44e0-8ea1-7890bf08f100\", \"z\": [59.24000000000001, 60.239999999999995, 62.58571428571429, 30.15, 64.83888888888889, 99.7, 58.18181818181818, 89.8, 50.1, 64.14, 57.07142857142857, 75.72727272727273, 68.12142857142857, 67.0, 65.28333333333333, 74.8, 60.525, 49.65, 51.56666666666666, 68.14705882352939, 55.32500000000001, 68.1, 83.0, 66.91538461538461, 56.720000000000006, 59.400000000000006, 70.0, 52.7, 60.5, 52.15, 70.95, 66.49999999999999, 54.47777777777778, 68.18333333333332, 63.79, 78.08749999999999, 39.25000000000001, 75.0, 81.91666666666667, 73.89111111111113, 77.43888888888893]}, {\"autocolorscale\": false, \"colorbar\": {\"title\": {\"text\": \"Average (2016)\"}}, \"colorscale\": [[0, \"rgb(50,50,255)\"], [1, \"rgb(255,50,50)\"]], \"customdata\": [2016], \"locationmode\": \"country names\", \"locations\": [\"Argentina\", \"Australia\", \"Austria\", \"Bangladesh\", \"Belarus\", \"Belgium\", \"Brazil\", \"Canada\", \"Chile\", \"China\", \"Colombia\", \"Cyprus\", \"Czech Republic\", \"Denmark\", \"Egypt\", \"Estonia\", \"Finland\", \"France\", \"Germany\", \"Ghana\", \"Greece\", \"Hong Kong\", \"Hungary\", \"Iceland\", \"India\", \"Indonesia\", \"Iran\", \"Israel\", \"Italy\", \"Japan\", \"Jordan\", \"Kenya\", \"Latvia\", \"Lebanon\", \"Lithuania\", \"Luxembourg\", \"Macau\", \"Malaysia\", \"Mexico\", \"Morocco\", \"Netherlands\", \"New Zealand\", \"Nigeria\", \"Norway\", \"Oman\", \"Pakistan\", \"Poland\", \"Portugal\", \"Qatar\", \"Republic of Ireland\", \"Romania\", \"Russian Federation\", \"Saudi Arabia\", \"Serbia\", \"Singapore\", \"Slovakia\", \"Slovenia\", \"South Africa\", \"South Korea\", \"Spain\", \"Sweden\", \"Switzerland\", \"Taiwan\", \"Thailand\", \"Turkey\", \"Uganda\", \"Ukraine\", \"Unisted States of America\", \"United Arab Emirates\", \"United Kingdom\", \"United States of America\", \"Unted Kingdom\"], \"marker\": {\"line\": {\"color\": \"rgb(0,0,0)\", \"width\": 0.25}}, \"type\": \"choropleth\", \"uid\": \"2b3d0950-b06c-4fda-99c1-e3abe277c5e1\", \"z\": [12.5, 60.603225806451604, 61.771428571428565, 9.6, 6.0, 64.25714285714285, 15.729411764705882, 58.87200000000001, 28.799999999999997, 27.71081081081081, 23.0, 56.7, 39.75555555555556, 79.45, 14.0, 51.45, 58.099999999999994, 56.74444444444445, 68.47837837837838, 19.5, 43.07142857142857, 71.51666666666667, 26.416666666666668, 91.4, 28.923529411764704, 13.9, 26.162500000000005, 44.083333333333336, 66.49705882352941, 27.048780487804876, 12.1, 19.5, 20.9, 31.9, 26.1, 84.8, 49.7, 19.28, 19.1, 12.1, 79.91538461538462, 47.885714285714286, 4.6, 69.125, 16.0, 40.3, 28.542857142857144, 41.285714285714285, 22.3, 52.511111111111106, 17.85, 33.261538461538464, 41.1, 14.0, 82.5, 22.25, 33.05, 46.15, 35.38333333333333, 43.97999999999999, 76.54545454545455, 75.65, 26.537500000000005, 24.528571428571432, 33.67272727272728, 70.7, 2.95, 67.7, 17.5, 60.89999999999998, 70.69726027397259, 51.9]}],\n",
       "                        {\"geo\": {\"lakecolor\": \"rgb(255, 255, 255)\", \"projection\": {\"type\": \"equirectangular\"}, \"scope\": \"world\", \"showlakes\": true}, \"sliders\": [{\"active\": 5, \"pad\": {\"t\": 1}, \"steps\": [{\"args\": [\"visible\", [true, false, false, false, false, false]], \"label\": \"Year 2011\", \"method\": \"restyle\"}, {\"args\": [\"visible\", [false, true, false, false, false, false]], \"label\": \"Year 2012\", \"method\": \"restyle\"}, {\"args\": [\"visible\", [false, false, true, false, false, false]], \"label\": \"Year 2013\", \"method\": \"restyle\"}, {\"args\": [\"visible\", [false, false, false, true, false, false]], \"label\": \"Year 2014\", \"method\": \"restyle\"}, {\"args\": [\"visible\", [false, false, false, false, true, false]], \"label\": \"Year 2015\", \"method\": \"restyle\"}, {\"args\": [\"visible\", [false, false, false, false, false, true]], \"label\": \"Year 2016\", \"method\": \"restyle\"}]}], \"title\": {\"text\": \"Average of universities by country (citations)\"}},\n",
       "                        {\"showLink\": false, \"linkText\": \"Export to plot.ly\", \"plotlyServerURL\": \"https://plot.ly\", \"responsive\": true}\n",
       "                    ).then(function(){\n",
       "                            \n",
       "var gd = document.getElementById('8f8af0d0-18d1-4235-8114-f73c6bca65c5');\n",
       "var x = new MutationObserver(function (mutations, observer) {{\n",
       "        var display = window.getComputedStyle(gd).display;\n",
       "        if (!display || display === 'none') {{\n",
       "            console.log([gd, 'removed!']);\n",
       "            Plotly.purge(gd);\n",
       "            observer.disconnect();\n",
       "        }}\n",
       "}});\n",
       "\n",
       "// Listen for the removal of the full notebook cells\n",
       "var notebookContainer = gd.closest('#notebook-container');\n",
       "if (notebookContainer) {{\n",
       "    x.observe(notebookContainer, {childList: true});\n",
       "}}\n",
       "\n",
       "// Listen for the clearing of the current output cell\n",
       "var outputEl = gd.closest('.output');\n",
       "if (outputEl) {{\n",
       "    x.observe(outputEl, {childList: true});\n",
       "}}\n",
       "\n",
       "                        })\n",
       "                };\n",
       "                });\n",
       "            </script>\n",
       "        </div>"
      ]
     },
     "metadata": {},
     "output_type": "display_data"
    },
    {
     "data": {
      "application/vnd.plotly.v1+json": {
       "config": {
        "linkText": "Export to plot.ly",
        "plotlyServerURL": "https://plot.ly",
        "showLink": false
       },
       "data": [
        {
         "autocolorscale": false,
         "colorbar": {
          "title": {
           "text": "Average (2011)"
          }
         },
         "colorscale": [
          [
           0,
           "rgb(50,50,255)"
          ],
          [
           1,
           "rgb(255,50,50)"
          ]
         ],
         "customdata": [
          2011
         ],
         "locationmode": "country names",
         "locations": [
          "Australia",
          "Austria",
          "Belgium",
          "Canada",
          "China",
          "Denmark",
          "Egypt",
          "Finland",
          "France",
          "Germany",
          "Hong Kong",
          "Japan",
          "Netherlands",
          "New Zealand",
          "Norway",
          "Republic of Ireland",
          "Singapore",
          "South Africa",
          "South Korea",
          "Spain",
          "Sweden",
          "Switzerland",
          "Taiwan",
          "Turkey",
          "United Kingdom",
          "United States of America"
         ],
         "marker": {
          "line": {
           "color": "rgb(0,0,0)",
           "width": 0.25
          }
         },
         "type": "choropleth",
         "uid": "c2fadc2a-516f-4544-9cbc-52e6135e88d8",
         "z": [
          59.81428571428571,
          46.95,
          54.599999999999994,
          59.800000000000004,
          58.58333333333332,
          51.06666666666666,
          51.6,
          56.6,
          61.825,
          52.45714285714286,
          63.8,
          60.46,
          51.48,
          51.8,
          52.7,
          58.9,
          60.95,
          56.1,
          59.375,
          51.6,
          53.9,
          62.08333333333334,
          52.45,
          51.55,
          59.53448275862069,
          66.42638888888888
         ]
        },
        {
         "autocolorscale": false,
         "colorbar": {
          "title": {
           "text": "Average (2012)"
          }
         },
         "colorscale": [
          [
           0,
           "rgb(50,50,255)"
          ],
          [
           1,
           "rgb(255,50,50)"
          ]
         ],
         "customdata": [
          2012
         ],
         "locationmode": "country names",
         "locations": [
          "Australia",
          "Austria",
          "Belgium",
          "Brazil",
          "Canada",
          "Chile",
          "China",
          "Czech Republic",
          "Denmark",
          "Egypt",
          "Estonia",
          "Finland",
          "France",
          "Germany",
          "Greece",
          "Hong Kong",
          "Iceland",
          "India",
          "Iran",
          "Israel",
          "Italy",
          "Japan",
          "Netherlands",
          "New Zealand",
          "Norway",
          "Poland",
          "Portugal",
          "Republic of Ireland",
          "Russian Federation",
          "Singapore",
          "South Africa",
          "South Korea",
          "Spain",
          "Sweden",
          "Switzerland",
          "Taiwan",
          "Thailand",
          "Turkey",
          "United Kingdom",
          "United States of America"
         ],
         "marker": {
          "line": {
           "color": "rgb(0,0,0)",
           "width": 0.25
          }
         },
         "type": "choropleth",
         "uid": "3e87fefa-db91-4285-a8a5-26d6946baa33",
         "z": [
          52.50952380952381,
          49.58,
          51.25714285714286,
          47.05,
          54.68333333333334,
          50,
          51.779999999999994,
          50,
          48.62,
          50,
          50,
          50.96,
          52.7625,
          49.98181818181819,
          50,
          53.86666666666667,
          50,
          50,
          50,
          48.95,
          50,
          52.73125,
          50.29230769230769,
          49.1,
          46.6,
          50,
          50,
          49.4,
          50,
          57.95,
          51.06666666666666,
          52.74285714285714,
          49.1375,
          52.79,
          59.78571428571429,
          49.525,
          50,
          50,
          54.090384615384615,
          59.02566371681416
         ]
        },
        {
         "autocolorscale": false,
         "colorbar": {
          "title": {
           "text": "Average (2013)"
          }
         },
         "colorscale": [
          [
           0,
           "rgb(50,50,255)"
          ],
          [
           1,
           "rgb(255,50,50)"
          ]
         ],
         "customdata": [
          2013
         ],
         "locationmode": "country names",
         "locations": [
          "Australia",
          "Austria",
          "Belgium",
          "Brazil",
          "Canada",
          "China",
          "Colombia",
          "Czech Republic",
          "Denmark",
          "Estonia",
          "Finland",
          "France",
          "Germany",
          "Greece",
          "Hong Kong",
          "Iceland",
          "India",
          "Iran",
          "Israel",
          "Italy",
          "Japan",
          "Mexico",
          "Netherlands",
          "New Zealand",
          "Norway",
          "Poland",
          "Portugal",
          "Republic of Ireland",
          "Russian Federation",
          "Saudi Arabia",
          "Singapore",
          "South Africa",
          "South Korea",
          "Spain",
          "Sweden",
          "Switzerland",
          "Taiwan",
          "Thailand",
          "Turkey",
          "United Kingdom",
          "United States of America"
         ],
         "marker": {
          "line": {
           "color": "rgb(0,0,0)",
           "width": 0.25
          }
         },
         "type": "choropleth",
         "uid": "1796325a-b66c-4362-803a-22ffe10506bb",
         "z": [
          55.084210526315786,
          50.03333333333333,
          53.08571428571429,
          50.25,
          55.49473684210527,
          54.2,
          50,
          50,
          52.120000000000005,
          50,
          51.279999999999994,
          54.00833333333333,
          52.532,
          50,
          57.15,
          50,
          50,
          50,
          50.166666666666664,
          50,
          54.146153846153844,
          50,
          57.823076923076925,
          50.050000000000004,
          50,
          50,
          50,
          50.82,
          50,
          50,
          68.45,
          51.45,
          57.916666666666664,
          50,
          54.739999999999995,
          60.12500000000001,
          50.457142857142856,
          50,
          50,
          56.53125,
          60.69369369369369
         ]
        },
        {
         "autocolorscale": false,
         "colorbar": {
          "title": {
           "text": "Average (2014)"
          }
         },
         "colorscale": [
          [
           0,
           "rgb(50,50,255)"
          ],
          [
           1,
           "rgb(255,50,50)"
          ]
         ],
         "customdata": [
          2014
         ],
         "locationmode": "country names",
         "locations": [
          "Australia",
          "Austria",
          "Belgium",
          "Brazil",
          "Canada",
          "China",
          "Colombia",
          "Czech Republic",
          "Denmark",
          "Estonia",
          "Finland",
          "France",
          "Germany",
          "Greece",
          "Hong Kong",
          "Iceland",
          "India",
          "Iran",
          "Israel",
          "Italy",
          "Japan",
          "Netherlands",
          "New Zealand",
          "Norway",
          "Poland",
          "Portugal",
          "Republic of Ireland",
          "Russian Federation",
          "Saudi Arabia",
          "Singapore",
          "South Africa",
          "South Korea",
          "Spain",
          "Sweden",
          "Switzerland",
          "Taiwan",
          "Thailand",
          "Turkey",
          "United Kingdom",
          "United States of America"
         ],
         "marker": {
          "line": {
           "color": "rgb(0,0,0)",
           "width": 0.25
          }
         },
         "type": "choropleth",
         "uid": "8994b43e-351f-4743-b478-bf34465a69db",
         "z": [
          52.8421052631579,
          49.36666666666667,
          50.771428571428565,
          50,
          53.752631578947366,
          52.85,
          50,
          50,
          49.94,
          50,
          50.519999999999996,
          50.90909090909091,
          51.49230769230769,
          50,
          54.96666666666667,
          50,
          50,
          50,
          46.43333333333334,
          50,
          53.44545454545455,
          53.88461538461539,
          49.32,
          48.825,
          50,
          50,
          49.4,
          50,
          50,
          64.80000000000001,
          50.166666666666664,
          54.98571428571428,
          49.62222222222223,
          52.48,
          57.449999999999996,
          49.9,
          50,
          48.86,
          54.16326530612245,
          58.25963302752294
         ]
        },
        {
         "autocolorscale": false,
         "colorbar": {
          "title": {
           "text": "Average (2015)"
          }
         },
         "colorscale": [
          [
           0,
           "rgb(50,50,255)"
          ],
          [
           1,
           "rgb(255,50,50)"
          ]
         ],
         "customdata": [
          2015
         ],
         "locationmode": "country names",
         "locations": [
          "Australia",
          "Austria",
          "Belgium",
          "Brazil",
          "Canada",
          "Chile",
          "China",
          "Colombia",
          "Czech Republic",
          "Denmark",
          "Finland",
          "France",
          "Germany",
          "Greece",
          "Hong Kong",
          "Iceland",
          "India",
          "Iran",
          "Israel",
          "Italy",
          "Japan",
          "Macau",
          "Morocco",
          "Netherlands",
          "New Zealand",
          "Norway",
          "Poland",
          "Portugal",
          "Republic of Ireland",
          "Russian Federation",
          "Singapore",
          "South Africa",
          "South Korea",
          "Spain",
          "Sweden",
          "Switzerland",
          "Taiwan",
          "Thailand",
          "Turkey",
          "United Kingdom",
          "United States of America"
         ],
         "marker": {
          "line": {
           "color": "rgb(0,0,0)",
           "width": 0.25
          }
         },
         "type": "choropleth",
         "uid": "f4c4571e-52fd-43f8-bbe9-6f13115993c6",
         "z": [
          53.475,
          49.38,
          52.228571428571435,
          50,
          54.23888888888889,
          50,
          52.40909090909091,
          50,
          50,
          50.32,
          50.55714285714286,
          51.82727272727273,
          52.11785714285715,
          50,
          55.15,
          50,
          50,
          50,
          48.86666666666667,
          50.699999999999996,
          53.083333333333336,
          50,
          50,
          55.00769230769231,
          49.5,
          49.175,
          50,
          50,
          50.239999999999995,
          48,
          67.75,
          50.86666666666667,
          54.51111111111111,
          49.68333333333334,
          53.14,
          59.3625,
          49.88333333333333,
          50,
          50.45000000000001,
          55.72222222222222,
          58.8138888888889
         ]
        },
        {
         "autocolorscale": false,
         "colorbar": {
          "title": {
           "text": "Average (2016)"
          }
         },
         "colorscale": [
          [
           0,
           "rgb(50,50,255)"
          ],
          [
           1,
           "rgb(255,50,50)"
          ]
         ],
         "customdata": [
          2016
         ],
         "locationmode": "country names",
         "locations": [
          "Argentina",
          "Australia",
          "Austria",
          "Bangladesh",
          "Belarus",
          "Belgium",
          "Brazil",
          "Canada",
          "Chile",
          "China",
          "Colombia",
          "Cyprus",
          "Czech Republic",
          "Denmark",
          "Egypt",
          "Estonia",
          "Finland",
          "France",
          "Germany",
          "Ghana",
          "Greece",
          "Hong Kong",
          "Hungary",
          "Iceland",
          "India",
          "Indonesia",
          "Iran",
          "Israel",
          "Italy",
          "Japan",
          "Jordan",
          "Kenya",
          "Latvia",
          "Lebanon",
          "Lithuania",
          "Luxembourg",
          "Macau",
          "Malaysia",
          "Mexico",
          "Morocco",
          "Netherlands",
          "New Zealand",
          "Nigeria",
          "Norway",
          "Oman",
          "Pakistan",
          "Poland",
          "Portugal",
          "Qatar",
          "Republic of Ireland",
          "Romania",
          "Russian Federation",
          "Saudi Arabia",
          "Serbia",
          "Singapore",
          "Slovakia",
          "Slovenia",
          "South Africa",
          "South Korea",
          "Spain",
          "Sweden",
          "Switzerland",
          "Taiwan",
          "Thailand",
          "Turkey",
          "Uganda",
          "Ukraine",
          "Unisted States of America",
          "United Arab Emirates",
          "United Kingdom",
          "United States of America",
          "Unted Kingdom"
         ],
         "marker": {
          "line": {
           "color": "rgb(0,0,0)",
           "width": 0.25
          }
         },
         "type": "choropleth",
         "uid": "4da1365a-6c2a-42f8-8140-6cd8665a403c",
         "z": [
          50,
          53.6741935483871,
          50.6,
          50,
          50,
          54.58571428571429,
          50,
          54.104,
          50,
          51.13513513513514,
          50,
          50,
          50,
          53.300000000000004,
          50,
          50,
          51.32222222222222,
          51.2074074074074,
          54.82702702702703,
          50,
          50,
          57.11666666666667,
          50,
          50,
          50,
          50,
          50,
          50.083333333333336,
          50.188235294117646,
          50.75609756097561,
          50,
          50,
          50,
          50,
          50,
          49.4,
          50,
          50,
          50,
          50,
          60.28461538461538,
          50.142857142857146,
          50,
          51.3,
          50,
          50,
          50,
          50,
          50,
          50.28888888888889,
          50,
          50.146153846153844,
          50,
          50,
          73.7,
          50,
          50,
          51.01666666666667,
          50.96666666666667,
          50.236000000000004,
          55.07272727272727,
          59.55,
          50.04583333333333,
          50,
          50,
          50,
          50,
          50,
          50,
          55.30779220779222,
          57.521917808219186,
          50
         ]
        }
       ],
       "layout": {
        "geo": {
         "lakecolor": "rgb(255, 255, 255)",
         "projection": {
          "type": "equirectangular"
         },
         "scope": "world",
         "showlakes": true
        },
        "sliders": [
         {
          "active": 5,
          "pad": {
           "t": 1
          },
          "steps": [
           {
            "args": [
             "visible",
             [
              true,
              false,
              false,
              false,
              false,
              false
             ]
            ],
            "label": "Year 2011",
            "method": "restyle"
           },
           {
            "args": [
             "visible",
             [
              false,
              true,
              false,
              false,
              false,
              false
             ]
            ],
            "label": "Year 2012",
            "method": "restyle"
           },
           {
            "args": [
             "visible",
             [
              false,
              false,
              true,
              false,
              false,
              false
             ]
            ],
            "label": "Year 2013",
            "method": "restyle"
           },
           {
            "args": [
             "visible",
             [
              false,
              false,
              false,
              true,
              false,
              false
             ]
            ],
            "label": "Year 2014",
            "method": "restyle"
           },
           {
            "args": [
             "visible",
             [
              false,
              false,
              false,
              false,
              true,
              false
             ]
            ],
            "label": "Year 2015",
            "method": "restyle"
           },
           {
            "args": [
             "visible",
             [
              false,
              false,
              false,
              false,
              false,
              true
             ]
            ],
            "label": "Year 2016",
            "method": "restyle"
           }
          ]
         }
        ],
        "title": {
         "text": "Average of universities by country (total_score)"
        }
       }
      },
      "text/html": [
       "<div>\n",
       "        \n",
       "        \n",
       "            <div id=\"b049a4c3-1ed2-4136-a3a2-07bb5bb81bd5\" class=\"plotly-graph-div\" style=\"height:525px; width:100%;\"></div>\n",
       "            <script type=\"text/javascript\">\n",
       "                require([\"plotly\"], function(Plotly) {\n",
       "                    window.PLOTLYENV=window.PLOTLYENV || {};\n",
       "                    window.PLOTLYENV.BASE_URL='https://plot.ly';\n",
       "                    \n",
       "                if (document.getElementById(\"b049a4c3-1ed2-4136-a3a2-07bb5bb81bd5\")) {\n",
       "                    Plotly.newPlot(\n",
       "                        'b049a4c3-1ed2-4136-a3a2-07bb5bb81bd5',\n",
       "                        [{\"autocolorscale\": false, \"colorbar\": {\"title\": {\"text\": \"Average (2011)\"}}, \"colorscale\": [[0, \"rgb(50,50,255)\"], [1, \"rgb(255,50,50)\"]], \"customdata\": [2011], \"locationmode\": \"country names\", \"locations\": [\"Australia\", \"Austria\", \"Belgium\", \"Canada\", \"China\", \"Denmark\", \"Egypt\", \"Finland\", \"France\", \"Germany\", \"Hong Kong\", \"Japan\", \"Netherlands\", \"New Zealand\", \"Norway\", \"Republic of Ireland\", \"Singapore\", \"South Africa\", \"South Korea\", \"Spain\", \"Sweden\", \"Switzerland\", \"Taiwan\", \"Turkey\", \"United Kingdom\", \"United States of America\"], \"marker\": {\"line\": {\"color\": \"rgb(0,0,0)\", \"width\": 0.25}}, \"type\": \"choropleth\", \"uid\": \"c2fadc2a-516f-4544-9cbc-52e6135e88d8\", \"z\": [59.81428571428571, 46.95, 54.599999999999994, 59.800000000000004, 58.58333333333332, 51.06666666666666, 51.6, 56.6, 61.825, 52.45714285714286, 63.8, 60.46, 51.48, 51.8, 52.7, 58.9, 60.95, 56.1, 59.375, 51.6, 53.9, 62.08333333333334, 52.45, 51.55, 59.53448275862069, 66.42638888888888]}, {\"autocolorscale\": false, \"colorbar\": {\"title\": {\"text\": \"Average (2012)\"}}, \"colorscale\": [[0, \"rgb(50,50,255)\"], [1, \"rgb(255,50,50)\"]], \"customdata\": [2012], \"locationmode\": \"country names\", \"locations\": [\"Australia\", \"Austria\", \"Belgium\", \"Brazil\", \"Canada\", \"Chile\", \"China\", \"Czech Republic\", \"Denmark\", \"Egypt\", \"Estonia\", \"Finland\", \"France\", \"Germany\", \"Greece\", \"Hong Kong\", \"Iceland\", \"India\", \"Iran\", \"Israel\", \"Italy\", \"Japan\", \"Netherlands\", \"New Zealand\", \"Norway\", \"Poland\", \"Portugal\", \"Republic of Ireland\", \"Russian Federation\", \"Singapore\", \"South Africa\", \"South Korea\", \"Spain\", \"Sweden\", \"Switzerland\", \"Taiwan\", \"Thailand\", \"Turkey\", \"United Kingdom\", \"United States of America\"], \"marker\": {\"line\": {\"color\": \"rgb(0,0,0)\", \"width\": 0.25}}, \"type\": \"choropleth\", \"uid\": \"3e87fefa-db91-4285-a8a5-26d6946baa33\", \"z\": [52.50952380952381, 49.58, 51.25714285714286, 47.05, 54.68333333333334, 50.0, 51.779999999999994, 50.0, 48.62, 50.0, 50.0, 50.96, 52.7625, 49.98181818181819, 50.0, 53.86666666666667, 50.0, 50.0, 50.0, 48.95, 50.0, 52.73125, 50.29230769230769, 49.1, 46.6, 50.0, 50.0, 49.4, 50.0, 57.95, 51.06666666666666, 52.74285714285714, 49.1375, 52.79, 59.78571428571429, 49.525, 50.0, 50.0, 54.090384615384615, 59.02566371681416]}, {\"autocolorscale\": false, \"colorbar\": {\"title\": {\"text\": \"Average (2013)\"}}, \"colorscale\": [[0, \"rgb(50,50,255)\"], [1, \"rgb(255,50,50)\"]], \"customdata\": [2013], \"locationmode\": \"country names\", \"locations\": [\"Australia\", \"Austria\", \"Belgium\", \"Brazil\", \"Canada\", \"China\", \"Colombia\", \"Czech Republic\", \"Denmark\", \"Estonia\", \"Finland\", \"France\", \"Germany\", \"Greece\", \"Hong Kong\", \"Iceland\", \"India\", \"Iran\", \"Israel\", \"Italy\", \"Japan\", \"Mexico\", \"Netherlands\", \"New Zealand\", \"Norway\", \"Poland\", \"Portugal\", \"Republic of Ireland\", \"Russian Federation\", \"Saudi Arabia\", \"Singapore\", \"South Africa\", \"South Korea\", \"Spain\", \"Sweden\", \"Switzerland\", \"Taiwan\", \"Thailand\", \"Turkey\", \"United Kingdom\", \"United States of America\"], \"marker\": {\"line\": {\"color\": \"rgb(0,0,0)\", \"width\": 0.25}}, \"type\": \"choropleth\", \"uid\": \"1796325a-b66c-4362-803a-22ffe10506bb\", \"z\": [55.084210526315786, 50.03333333333333, 53.08571428571429, 50.25, 55.49473684210527, 54.2, 50.0, 50.0, 52.120000000000005, 50.0, 51.279999999999994, 54.00833333333333, 52.532, 50.0, 57.15, 50.0, 50.0, 50.0, 50.166666666666664, 50.0, 54.146153846153844, 50.0, 57.823076923076925, 50.050000000000004, 50.0, 50.0, 50.0, 50.82, 50.0, 50.0, 68.45, 51.45, 57.916666666666664, 50.0, 54.739999999999995, 60.12500000000001, 50.457142857142856, 50.0, 50.0, 56.53125, 60.69369369369369]}, {\"autocolorscale\": false, \"colorbar\": {\"title\": {\"text\": \"Average (2014)\"}}, \"colorscale\": [[0, \"rgb(50,50,255)\"], [1, \"rgb(255,50,50)\"]], \"customdata\": [2014], \"locationmode\": \"country names\", \"locations\": [\"Australia\", \"Austria\", \"Belgium\", \"Brazil\", \"Canada\", \"China\", \"Colombia\", \"Czech Republic\", \"Denmark\", \"Estonia\", \"Finland\", \"France\", \"Germany\", \"Greece\", \"Hong Kong\", \"Iceland\", \"India\", \"Iran\", \"Israel\", \"Italy\", \"Japan\", \"Netherlands\", \"New Zealand\", \"Norway\", \"Poland\", \"Portugal\", \"Republic of Ireland\", \"Russian Federation\", \"Saudi Arabia\", \"Singapore\", \"South Africa\", \"South Korea\", \"Spain\", \"Sweden\", \"Switzerland\", \"Taiwan\", \"Thailand\", \"Turkey\", \"United Kingdom\", \"United States of America\"], \"marker\": {\"line\": {\"color\": \"rgb(0,0,0)\", \"width\": 0.25}}, \"type\": \"choropleth\", \"uid\": \"8994b43e-351f-4743-b478-bf34465a69db\", \"z\": [52.8421052631579, 49.36666666666667, 50.771428571428565, 50.0, 53.752631578947366, 52.85, 50.0, 50.0, 49.94, 50.0, 50.519999999999996, 50.90909090909091, 51.49230769230769, 50.0, 54.96666666666667, 50.0, 50.0, 50.0, 46.43333333333334, 50.0, 53.44545454545455, 53.88461538461539, 49.32, 48.825, 50.0, 50.0, 49.4, 50.0, 50.0, 64.80000000000001, 50.166666666666664, 54.98571428571428, 49.62222222222223, 52.48, 57.449999999999996, 49.9, 50.0, 48.86, 54.16326530612245, 58.25963302752294]}, {\"autocolorscale\": false, \"colorbar\": {\"title\": {\"text\": \"Average (2015)\"}}, \"colorscale\": [[0, \"rgb(50,50,255)\"], [1, \"rgb(255,50,50)\"]], \"customdata\": [2015], \"locationmode\": \"country names\", \"locations\": [\"Australia\", \"Austria\", \"Belgium\", \"Brazil\", \"Canada\", \"Chile\", \"China\", \"Colombia\", \"Czech Republic\", \"Denmark\", \"Finland\", \"France\", \"Germany\", \"Greece\", \"Hong Kong\", \"Iceland\", \"India\", \"Iran\", \"Israel\", \"Italy\", \"Japan\", \"Macau\", \"Morocco\", \"Netherlands\", \"New Zealand\", \"Norway\", \"Poland\", \"Portugal\", \"Republic of Ireland\", \"Russian Federation\", \"Singapore\", \"South Africa\", \"South Korea\", \"Spain\", \"Sweden\", \"Switzerland\", \"Taiwan\", \"Thailand\", \"Turkey\", \"United Kingdom\", \"United States of America\"], \"marker\": {\"line\": {\"color\": \"rgb(0,0,0)\", \"width\": 0.25}}, \"type\": \"choropleth\", \"uid\": \"f4c4571e-52fd-43f8-bbe9-6f13115993c6\", \"z\": [53.475, 49.38, 52.228571428571435, 50.0, 54.23888888888889, 50.0, 52.40909090909091, 50.0, 50.0, 50.32, 50.55714285714286, 51.82727272727273, 52.11785714285715, 50.0, 55.15, 50.0, 50.0, 50.0, 48.86666666666667, 50.699999999999996, 53.083333333333336, 50.0, 50.0, 55.00769230769231, 49.5, 49.175, 50.0, 50.0, 50.239999999999995, 48.0, 67.75, 50.86666666666667, 54.51111111111111, 49.68333333333334, 53.14, 59.3625, 49.88333333333333, 50.0, 50.45000000000001, 55.72222222222222, 58.8138888888889]}, {\"autocolorscale\": false, \"colorbar\": {\"title\": {\"text\": \"Average (2016)\"}}, \"colorscale\": [[0, \"rgb(50,50,255)\"], [1, \"rgb(255,50,50)\"]], \"customdata\": [2016], \"locationmode\": \"country names\", \"locations\": [\"Argentina\", \"Australia\", \"Austria\", \"Bangladesh\", \"Belarus\", \"Belgium\", \"Brazil\", \"Canada\", \"Chile\", \"China\", \"Colombia\", \"Cyprus\", \"Czech Republic\", \"Denmark\", \"Egypt\", \"Estonia\", \"Finland\", \"France\", \"Germany\", \"Ghana\", \"Greece\", \"Hong Kong\", \"Hungary\", \"Iceland\", \"India\", \"Indonesia\", \"Iran\", \"Israel\", \"Italy\", \"Japan\", \"Jordan\", \"Kenya\", \"Latvia\", \"Lebanon\", \"Lithuania\", \"Luxembourg\", \"Macau\", \"Malaysia\", \"Mexico\", \"Morocco\", \"Netherlands\", \"New Zealand\", \"Nigeria\", \"Norway\", \"Oman\", \"Pakistan\", \"Poland\", \"Portugal\", \"Qatar\", \"Republic of Ireland\", \"Romania\", \"Russian Federation\", \"Saudi Arabia\", \"Serbia\", \"Singapore\", \"Slovakia\", \"Slovenia\", \"South Africa\", \"South Korea\", \"Spain\", \"Sweden\", \"Switzerland\", \"Taiwan\", \"Thailand\", \"Turkey\", \"Uganda\", \"Ukraine\", \"Unisted States of America\", \"United Arab Emirates\", \"United Kingdom\", \"United States of America\", \"Unted Kingdom\"], \"marker\": {\"line\": {\"color\": \"rgb(0,0,0)\", \"width\": 0.25}}, \"type\": \"choropleth\", \"uid\": \"4da1365a-6c2a-42f8-8140-6cd8665a403c\", \"z\": [50.0, 53.6741935483871, 50.6, 50.0, 50.0, 54.58571428571429, 50.0, 54.104, 50.0, 51.13513513513514, 50.0, 50.0, 50.0, 53.300000000000004, 50.0, 50.0, 51.32222222222222, 51.2074074074074, 54.82702702702703, 50.0, 50.0, 57.11666666666667, 50.0, 50.0, 50.0, 50.0, 50.0, 50.083333333333336, 50.188235294117646, 50.75609756097561, 50.0, 50.0, 50.0, 50.0, 50.0, 49.4, 50.0, 50.0, 50.0, 50.0, 60.28461538461538, 50.142857142857146, 50.0, 51.3, 50.0, 50.0, 50.0, 50.0, 50.0, 50.28888888888889, 50.0, 50.146153846153844, 50.0, 50.0, 73.7, 50.0, 50.0, 51.01666666666667, 50.96666666666667, 50.236000000000004, 55.07272727272727, 59.55, 50.04583333333333, 50.0, 50.0, 50.0, 50.0, 50.0, 50.0, 55.30779220779222, 57.521917808219186, 50.0]}],\n",
       "                        {\"geo\": {\"lakecolor\": \"rgb(255, 255, 255)\", \"projection\": {\"type\": \"equirectangular\"}, \"scope\": \"world\", \"showlakes\": true}, \"sliders\": [{\"active\": 5, \"pad\": {\"t\": 1}, \"steps\": [{\"args\": [\"visible\", [true, false, false, false, false, false]], \"label\": \"Year 2011\", \"method\": \"restyle\"}, {\"args\": [\"visible\", [false, true, false, false, false, false]], \"label\": \"Year 2012\", \"method\": \"restyle\"}, {\"args\": [\"visible\", [false, false, true, false, false, false]], \"label\": \"Year 2013\", \"method\": \"restyle\"}, {\"args\": [\"visible\", [false, false, false, true, false, false]], \"label\": \"Year 2014\", \"method\": \"restyle\"}, {\"args\": [\"visible\", [false, false, false, false, true, false]], \"label\": \"Year 2015\", \"method\": \"restyle\"}, {\"args\": [\"visible\", [false, false, false, false, false, true]], \"label\": \"Year 2016\", \"method\": \"restyle\"}]}], \"title\": {\"text\": \"Average of universities by country (total_score)\"}},\n",
       "                        {\"showLink\": false, \"linkText\": \"Export to plot.ly\", \"plotlyServerURL\": \"https://plot.ly\", \"responsive\": true}\n",
       "                    ).then(function(){\n",
       "                            \n",
       "var gd = document.getElementById('b049a4c3-1ed2-4136-a3a2-07bb5bb81bd5');\n",
       "var x = new MutationObserver(function (mutations, observer) {{\n",
       "        var display = window.getComputedStyle(gd).display;\n",
       "        if (!display || display === 'none') {{\n",
       "            console.log([gd, 'removed!']);\n",
       "            Plotly.purge(gd);\n",
       "            observer.disconnect();\n",
       "        }}\n",
       "}});\n",
       "\n",
       "// Listen for the removal of the full notebook cells\n",
       "var notebookContainer = gd.closest('#notebook-container');\n",
       "if (notebookContainer) {{\n",
       "    x.observe(notebookContainer, {childList: true});\n",
       "}}\n",
       "\n",
       "// Listen for the clearing of the current output cell\n",
       "var outputEl = gd.closest('.output');\n",
       "if (outputEl) {{\n",
       "    x.observe(outputEl, {childList: true});\n",
       "}}\n",
       "\n",
       "                        })\n",
       "                };\n",
       "                });\n",
       "            </script>\n",
       "        </div>"
      ]
     },
     "metadata": {},
     "output_type": "display_data"
    },
    {
     "data": {
      "application/vnd.plotly.v1+json": {
       "config": {
        "linkText": "Export to plot.ly",
        "plotlyServerURL": "https://plot.ly",
        "showLink": false
       },
       "data": [
        {
         "autocolorscale": false,
         "colorbar": {
          "title": {
           "text": "Average (2011)"
          }
         },
         "colorscale": [
          [
           0,
           "rgb(50,50,255)"
          ],
          [
           1,
           "rgb(255,50,50)"
          ]
         ],
         "customdata": [
          2011
         ],
         "locationmode": "country names",
         "locations": [
          "Australia",
          "Austria",
          "Belgium",
          "Canada",
          "China",
          "Denmark",
          "Egypt",
          "Finland",
          "France",
          "Germany",
          "Hong Kong",
          "Japan",
          "Netherlands",
          "New Zealand",
          "Norway",
          "Republic of Ireland",
          "Singapore",
          "South Africa",
          "South Korea",
          "Spain",
          "Sweden",
          "Switzerland",
          "Taiwan",
          "Turkey",
          "United Kingdom",
          "United States of America"
         ],
         "marker": {
          "line": {
           "color": "rgb(0,0,0)",
           "width": 0.25
          }
         },
         "type": "choropleth",
         "uid": "6ed4899f-e479-4efb-93b5-38c1563f935e",
         "z": [
          27.471428571428568,
          18.7,
          38,
          19.57777777777778,
          12.616666666666667,
          7.566666666666667,
          23.3,
          15.1,
          7.35,
          36.92142857142858,
          19.575000000000003,
          6.28,
          17.21,
          18.9,
          11.1,
          21.25,
          15.85,
          12.1,
          11.4,
          15.25,
          14.016666666666666,
          12.85,
          15.4,
          22.2,
          14.551851851851852,
          11.842028985507248
         ]
        },
        {
         "autocolorscale": false,
         "colorbar": {
          "title": {
           "text": "Average (2012)"
          }
         },
         "colorscale": [
          [
           0,
           "rgb(50,50,255)"
          ],
          [
           1,
           "rgb(255,50,50)"
          ]
         ],
         "customdata": [
          2012
         ],
         "locationmode": "country names",
         "locations": [
          "Australia",
          "Austria",
          "Belgium",
          "Brazil",
          "Canada",
          "Chile",
          "China",
          "Czech Republic",
          "Denmark",
          "Egypt",
          "Estonia",
          "Finland",
          "France",
          "Germany",
          "Greece",
          "Hong Kong",
          "Iceland",
          "India",
          "Iran",
          "Israel",
          "Italy",
          "Japan",
          "Netherlands",
          "New Zealand",
          "Norway",
          "Poland",
          "Portugal",
          "Republic of Ireland",
          "Russian Federation",
          "Singapore",
          "South Africa",
          "South Korea",
          "Spain",
          "Sweden",
          "Switzerland",
          "Taiwan",
          "Thailand",
          "Turkey",
          "United Kingdom",
          "United States of America"
         ],
         "marker": {
          "line": {
           "color": "rgb(0,0,0)",
           "width": 0.25
          }
         },
         "type": "choropleth",
         "uid": "63d91f0c-d58c-480c-82e6-2a3ad62a59fb",
         "z": [
          26.14761904761905,
          29.060000000000002,
          31.057142857142857,
          14.95,
          22.849999999999998,
          15.3,
          12.59,
          13,
          10.26,
          23.3,
          13,
          16.139999999999997,
          12.975000000000001,
          36.51904761904762,
          26.9,
          15.933333333333335,
          25.9,
          14.9,
          18.7,
          17.625,
          34.15,
          8.7375,
          17.415384615384617,
          18.433333333333334,
          14,
          12.8,
          18.375,
          23.919999999999998,
          6.45,
          15.85,
          17.900000000000002,
          14.157142857142857,
          13.5375,
          13.169999999999998,
          14.228571428571428,
          16.287499999999998,
          7.5,
          21.066666666666666,
          15.938775510204081,
          13.738834951456308
         ]
        },
        {
         "autocolorscale": false,
         "colorbar": {
          "title": {
           "text": "Average (2013)"
          }
         },
         "colorscale": [
          [
           0,
           "rgb(50,50,255)"
          ],
          [
           1,
           "rgb(255,50,50)"
          ]
         ],
         "customdata": [
          2013
         ],
         "locationmode": "country names",
         "locations": [
          "Australia",
          "Austria",
          "Belgium",
          "Brazil",
          "Canada",
          "China",
          "Colombia",
          "Czech Republic",
          "Denmark",
          "Estonia",
          "Finland",
          "France",
          "Germany",
          "Greece",
          "Hong Kong",
          "Iceland",
          "India",
          "Iran",
          "Israel",
          "Italy",
          "Japan",
          "Mexico",
          "Netherlands",
          "New Zealand",
          "Norway",
          "Poland",
          "Portugal",
          "Republic of Ireland",
          "Russian Federation",
          "Saudi Arabia",
          "Singapore",
          "South Africa",
          "South Korea",
          "Spain",
          "Sweden",
          "Switzerland",
          "Taiwan",
          "Thailand",
          "Turkey",
          "United Kingdom",
          "United States of America"
         ],
         "marker": {
          "line": {
           "color": "rgb(0,0,0)",
           "width": 0.25
          }
         },
         "type": "choropleth",
         "uid": "e5109128-190a-4a0a-aa87-adcea9572b9a",
         "z": [
          27.442105263157888,
          24.700000000000003,
          31.057142857142857,
          14.95,
          22.499999999999996,
          12.600000000000001,
          16.9,
          13,
          10.26,
          13,
          16.259999999999998,
          12.049999999999999,
          39.788,
          26.9,
          15.933333333333335,
          25.9,
          17.03333333333333,
          18.7,
          18.166666666666664,
          35.714285714285715,
          8.36923076923077,
          11.6,
          17.415384615384617,
          18.433333333333334,
          14,
          12.8,
          18.46666666666667,
          23.919999999999998,
          7.5,
          8.4,
          15.85,
          19.65,
          13.616666666666667,
          14.828571428571427,
          13.169999999999998,
          18.3125,
          14.742857142857142,
          23.7,
          19.45,
          15.6,
          13.436893203883495
         ]
        },
        {
         "autocolorscale": false,
         "colorbar": {
          "title": {
           "text": "Average (2014)"
          }
         },
         "colorscale": [
          [
           0,
           "rgb(50,50,255)"
          ],
          [
           1,
           "rgb(255,50,50)"
          ]
         ],
         "customdata": [
          2014
         ],
         "locationmode": "country names",
         "locations": [
          "Australia",
          "Austria",
          "Belgium",
          "Brazil",
          "Canada",
          "China",
          "Colombia",
          "Czech Republic",
          "Denmark",
          "Estonia",
          "Finland",
          "France",
          "Germany",
          "Greece",
          "Hong Kong",
          "Iceland",
          "India",
          "Iran",
          "Israel",
          "Italy",
          "Japan",
          "Netherlands",
          "New Zealand",
          "Norway",
          "Poland",
          "Portugal",
          "Republic of Ireland",
          "Russian Federation",
          "Saudi Arabia",
          "Singapore",
          "South Africa",
          "South Korea",
          "Spain",
          "Sweden",
          "Switzerland",
          "Taiwan",
          "Thailand",
          "Turkey",
          "United Kingdom",
          "United States of America"
         ],
         "marker": {
          "line": {
           "color": "rgb(0,0,0)",
           "width": 0.25
          }
         },
         "type": "choropleth",
         "uid": "5bb85241-5cd2-4649-807d-46ec0b69760b",
         "z": [
          28.173684210526314,
          24.700000000000003,
          31.057142857142857,
          14.95,
          22.5,
          12.830000000000002,
          16.9,
          13,
          10.260000000000002,
          13,
          16.259999999999998,
          11.745454545454544,
          39.10384615384615,
          26.9,
          15.933333333333335,
          25.9,
          17.92,
          18.7,
          18.166666666666664,
          37.13333333333334,
          7.2727272727272725,
          17.415384615384617,
          18.76,
          14,
          14.1,
          18.8,
          23.919999999999998,
          7.7,
          10.9,
          15.85,
          17.900000000000002,
          13.157142857142858,
          14.133333333333333,
          13.169999999999998,
          18.3125,
          14.825,
          23.7,
          19.45,
          15.81063829787234,
          13.314563106796115
         ]
        },
        {
         "autocolorscale": false,
         "colorbar": {
          "title": {
           "text": "Average (2015)"
          }
         },
         "colorscale": [
          [
           0,
           "rgb(50,50,255)"
          ],
          [
           1,
           "rgb(255,50,50)"
          ]
         ],
         "customdata": [
          2015
         ],
         "locationmode": "country names",
         "locations": [
          "Australia",
          "Austria",
          "Belgium",
          "Brazil",
          "Canada",
          "Chile",
          "China",
          "Colombia",
          "Czech Republic",
          "Denmark",
          "Finland",
          "France",
          "Germany",
          "Greece",
          "Hong Kong",
          "Iceland",
          "India",
          "Iran",
          "Israel",
          "Italy",
          "Japan",
          "Macau",
          "Morocco",
          "Netherlands",
          "New Zealand",
          "Norway",
          "Poland",
          "Portugal",
          "Republic of Ireland",
          "Russian Federation",
          "Singapore",
          "South Africa",
          "South Korea",
          "Spain",
          "Sweden",
          "Switzerland",
          "Taiwan",
          "Thailand",
          "Turkey",
          "United Kingdom",
          "United States of America"
         ],
         "marker": {
          "line": {
           "color": "rgb(0,0,0)",
           "width": 0.25
          }
         },
         "type": "choropleth",
         "uid": "e11102ae-348f-4db8-8efb-3b76b01bbee0",
         "z": [
          28.04,
          23.82,
          31.057142857142857,
          14.95,
          22.177777777777777,
          34,
          12.972727272727274,
          16.9,
          13,
          10.260000000000002,
          17.11428571428571,
          11.745454545454544,
          37.96296296296296,
          26.9,
          15.933333333333335,
          25.9,
          16.424999999999997,
          22.6,
          18.166666666666664,
          37.33529411764707,
          8.075000000000001,
          14.9,
          38.7,
          17.415384615384617,
          18.76,
          14,
          14.1,
          18.15,
          21.439999999999998,
          7.4,
          15.85,
          17.900000000000002,
          13.944444444444445,
          13.633333333333333,
          13.169999999999998,
          18.3125,
          15.566666666666668,
          23.7,
          18.740000000000002,
          15.649999999999999,
          13.238235294117647
         ]
        },
        {
         "autocolorscale": false,
         "colorbar": {
          "title": {
           "text": "Average (2016)"
          }
         },
         "colorscale": [
          [
           0,
           "rgb(50,50,255)"
          ],
          [
           1,
           "rgb(255,50,50)"
          ]
         ],
         "customdata": [
          2016
         ],
         "locationmode": "country names",
         "locations": [
          "Argentina",
          "Australia",
          "Austria",
          "Bangladesh",
          "Belarus",
          "Belgium",
          "Brazil",
          "Canada",
          "Chile",
          "China",
          "Colombia",
          "Cyprus",
          "Czech Republic",
          "Denmark",
          "Egypt",
          "Estonia",
          "Finland",
          "France",
          "Germany",
          "Ghana",
          "Greece",
          "Hong Kong",
          "Hungary",
          "Iceland",
          "India",
          "Indonesia",
          "Iran",
          "Israel",
          "Italy",
          "Japan",
          "Jordan",
          "Kenya",
          "Latvia",
          "Lebanon",
          "Lithuania",
          "Luxembourg",
          "Macau",
          "Malaysia",
          "Mexico",
          "Morocco",
          "Netherlands",
          "New Zealand",
          "Nigeria",
          "Norway",
          "Oman",
          "Pakistan",
          "Poland",
          "Portugal",
          "Qatar",
          "Republic of Ireland",
          "Romania",
          "Russian Federation",
          "Saudi Arabia",
          "Serbia",
          "Singapore",
          "Slovakia",
          "Slovenia",
          "South Africa",
          "South Korea",
          "Spain",
          "Sweden",
          "Switzerland",
          "Taiwan",
          "Thailand",
          "Turkey",
          "Uganda",
          "Ukraine",
          "Unisted States of America",
          "United Arab Emirates",
          "United Kingdom",
          "United States of America",
          "Unted Kingdom"
         ],
         "marker": {
          "line": {
           "color": "rgb(0,0,0)",
           "width": 0.25
          }
         },
         "type": "choropleth",
         "uid": "708f3de2-c63b-4ce8-971a-563138e2b83d",
         "z": [
          38.1,
          26.91935483870968,
          22.95714285714286,
          6.9,
          10.6,
          31.057142857142857,
          14.21764705882353,
          21.663999999999998,
          19.21666666666667,
          14.358333333333336,
          19.95,
          22.9,
          17.833333333333336,
          15.66666666666667,
          22.8,
          20.8,
          15.97777777777778,
          19.05185185185185,
          40.22162162162163,
          37.5,
          34.714285714285715,
          15.933333333333335,
          17.48333333333333,
          25.9,
          16.80588235294118,
          15.8,
          22.525,
          18.98333333333333,
          33.71764705882354,
          9.792682926829269,
          15,
          47,
          26.5,
          8.9,
          14.2,
          15.9,
          14.9,
          12.919999999999998,
          16.05,
          38.7,
          17.415384615384617,
          18.38571428571429,
          17.1,
          14,
          9,
          16.75,
          16.185714285714287,
          18.099999999999998,
          19,
          21.866666666666667,
          25.1,
          7.7153846153846155,
          9.633333333333333,
          28.3,
          15.85,
          12.5,
          17.450000000000003,
          34.516666666666666,
          15.908333333333333,
          14.888000000000003,
          13.409090909090908,
          16.580000000000002,
          17.75,
          18.3,
          37.45,
          29.4,
          8.95,
          null,
          13.3,
          17.221333333333334,
          14.580689655172415,
          null
         ]
        }
       ],
       "layout": {
        "geo": {
         "lakecolor": "rgb(255, 255, 255)",
         "projection": {
          "type": "equirectangular"
         },
         "scope": "world",
         "showlakes": true
        },
        "sliders": [
         {
          "active": 5,
          "pad": {
           "t": 1
          },
          "steps": [
           {
            "args": [
             "visible",
             [
              true,
              false,
              false,
              false,
              false,
              false
             ]
            ],
            "label": "Year 2011",
            "method": "restyle"
           },
           {
            "args": [
             "visible",
             [
              false,
              true,
              false,
              false,
              false,
              false
             ]
            ],
            "label": "Year 2012",
            "method": "restyle"
           },
           {
            "args": [
             "visible",
             [
              false,
              false,
              true,
              false,
              false,
              false
             ]
            ],
            "label": "Year 2013",
            "method": "restyle"
           },
           {
            "args": [
             "visible",
             [
              false,
              false,
              false,
              true,
              false,
              false
             ]
            ],
            "label": "Year 2014",
            "method": "restyle"
           },
           {
            "args": [
             "visible",
             [
              false,
              false,
              false,
              false,
              true,
              false
             ]
            ],
            "label": "Year 2015",
            "method": "restyle"
           },
           {
            "args": [
             "visible",
             [
              false,
              false,
              false,
              false,
              false,
              true
             ]
            ],
            "label": "Year 2016",
            "method": "restyle"
           }
          ]
         }
        ],
        "title": {
         "text": "Average of universities by country (student_staff_ratio)"
        }
       }
      },
      "text/html": [
       "<div>\n",
       "        \n",
       "        \n",
       "            <div id=\"3e752ba8-c285-41fb-b7a3-037d6799837a\" class=\"plotly-graph-div\" style=\"height:525px; width:100%;\"></div>\n",
       "            <script type=\"text/javascript\">\n",
       "                require([\"plotly\"], function(Plotly) {\n",
       "                    window.PLOTLYENV=window.PLOTLYENV || {};\n",
       "                    window.PLOTLYENV.BASE_URL='https://plot.ly';\n",
       "                    \n",
       "                if (document.getElementById(\"3e752ba8-c285-41fb-b7a3-037d6799837a\")) {\n",
       "                    Plotly.newPlot(\n",
       "                        '3e752ba8-c285-41fb-b7a3-037d6799837a',\n",
       "                        [{\"autocolorscale\": false, \"colorbar\": {\"title\": {\"text\": \"Average (2011)\"}}, \"colorscale\": [[0, \"rgb(50,50,255)\"], [1, \"rgb(255,50,50)\"]], \"customdata\": [2011], \"locationmode\": \"country names\", \"locations\": [\"Australia\", \"Austria\", \"Belgium\", \"Canada\", \"China\", \"Denmark\", \"Egypt\", \"Finland\", \"France\", \"Germany\", \"Hong Kong\", \"Japan\", \"Netherlands\", \"New Zealand\", \"Norway\", \"Republic of Ireland\", \"Singapore\", \"South Africa\", \"South Korea\", \"Spain\", \"Sweden\", \"Switzerland\", \"Taiwan\", \"Turkey\", \"United Kingdom\", \"United States of America\"], \"marker\": {\"line\": {\"color\": \"rgb(0,0,0)\", \"width\": 0.25}}, \"type\": \"choropleth\", \"uid\": \"6ed4899f-e479-4efb-93b5-38c1563f935e\", \"z\": [27.471428571428568, 18.7, 38.0, 19.57777777777778, 12.616666666666667, 7.566666666666667, 23.3, 15.1, 7.35, 36.92142857142858, 19.575000000000003, 6.28, 17.21, 18.9, 11.1, 21.25, 15.85, 12.1, 11.4, 15.25, 14.016666666666666, 12.85, 15.4, 22.2, 14.551851851851852, 11.842028985507248]}, {\"autocolorscale\": false, \"colorbar\": {\"title\": {\"text\": \"Average (2012)\"}}, \"colorscale\": [[0, \"rgb(50,50,255)\"], [1, \"rgb(255,50,50)\"]], \"customdata\": [2012], \"locationmode\": \"country names\", \"locations\": [\"Australia\", \"Austria\", \"Belgium\", \"Brazil\", \"Canada\", \"Chile\", \"China\", \"Czech Republic\", \"Denmark\", \"Egypt\", \"Estonia\", \"Finland\", \"France\", \"Germany\", \"Greece\", \"Hong Kong\", \"Iceland\", \"India\", \"Iran\", \"Israel\", \"Italy\", \"Japan\", \"Netherlands\", \"New Zealand\", \"Norway\", \"Poland\", \"Portugal\", \"Republic of Ireland\", \"Russian Federation\", \"Singapore\", \"South Africa\", \"South Korea\", \"Spain\", \"Sweden\", \"Switzerland\", \"Taiwan\", \"Thailand\", \"Turkey\", \"United Kingdom\", \"United States of America\"], \"marker\": {\"line\": {\"color\": \"rgb(0,0,0)\", \"width\": 0.25}}, \"type\": \"choropleth\", \"uid\": \"63d91f0c-d58c-480c-82e6-2a3ad62a59fb\", \"z\": [26.14761904761905, 29.060000000000002, 31.057142857142857, 14.95, 22.849999999999998, 15.3, 12.59, 13.0, 10.26, 23.3, 13.0, 16.139999999999997, 12.975000000000001, 36.51904761904762, 26.9, 15.933333333333335, 25.9, 14.9, 18.7, 17.625, 34.15, 8.7375, 17.415384615384617, 18.433333333333334, 14.0, 12.8, 18.375, 23.919999999999998, 6.45, 15.85, 17.900000000000002, 14.157142857142857, 13.5375, 13.169999999999998, 14.228571428571428, 16.287499999999998, 7.5, 21.066666666666666, 15.938775510204081, 13.738834951456308]}, {\"autocolorscale\": false, \"colorbar\": {\"title\": {\"text\": \"Average (2013)\"}}, \"colorscale\": [[0, \"rgb(50,50,255)\"], [1, \"rgb(255,50,50)\"]], \"customdata\": [2013], \"locationmode\": \"country names\", \"locations\": [\"Australia\", \"Austria\", \"Belgium\", \"Brazil\", \"Canada\", \"China\", \"Colombia\", \"Czech Republic\", \"Denmark\", \"Estonia\", \"Finland\", \"France\", \"Germany\", \"Greece\", \"Hong Kong\", \"Iceland\", \"India\", \"Iran\", \"Israel\", \"Italy\", \"Japan\", \"Mexico\", \"Netherlands\", \"New Zealand\", \"Norway\", \"Poland\", \"Portugal\", \"Republic of Ireland\", \"Russian Federation\", \"Saudi Arabia\", \"Singapore\", \"South Africa\", \"South Korea\", \"Spain\", \"Sweden\", \"Switzerland\", \"Taiwan\", \"Thailand\", \"Turkey\", \"United Kingdom\", \"United States of America\"], \"marker\": {\"line\": {\"color\": \"rgb(0,0,0)\", \"width\": 0.25}}, \"type\": \"choropleth\", \"uid\": \"e5109128-190a-4a0a-aa87-adcea9572b9a\", \"z\": [27.442105263157888, 24.700000000000003, 31.057142857142857, 14.95, 22.499999999999996, 12.600000000000001, 16.9, 13.0, 10.26, 13.0, 16.259999999999998, 12.049999999999999, 39.788, 26.9, 15.933333333333335, 25.9, 17.03333333333333, 18.7, 18.166666666666664, 35.714285714285715, 8.36923076923077, 11.6, 17.415384615384617, 18.433333333333334, 14.0, 12.8, 18.46666666666667, 23.919999999999998, 7.5, 8.4, 15.85, 19.65, 13.616666666666667, 14.828571428571427, 13.169999999999998, 18.3125, 14.742857142857142, 23.7, 19.45, 15.6, 13.436893203883495]}, {\"autocolorscale\": false, \"colorbar\": {\"title\": {\"text\": \"Average (2014)\"}}, \"colorscale\": [[0, \"rgb(50,50,255)\"], [1, \"rgb(255,50,50)\"]], \"customdata\": [2014], \"locationmode\": \"country names\", \"locations\": [\"Australia\", \"Austria\", \"Belgium\", \"Brazil\", \"Canada\", \"China\", \"Colombia\", \"Czech Republic\", \"Denmark\", \"Estonia\", \"Finland\", \"France\", \"Germany\", \"Greece\", \"Hong Kong\", \"Iceland\", \"India\", \"Iran\", \"Israel\", \"Italy\", \"Japan\", \"Netherlands\", \"New Zealand\", \"Norway\", \"Poland\", \"Portugal\", \"Republic of Ireland\", \"Russian Federation\", \"Saudi Arabia\", \"Singapore\", \"South Africa\", \"South Korea\", \"Spain\", \"Sweden\", \"Switzerland\", \"Taiwan\", \"Thailand\", \"Turkey\", \"United Kingdom\", \"United States of America\"], \"marker\": {\"line\": {\"color\": \"rgb(0,0,0)\", \"width\": 0.25}}, \"type\": \"choropleth\", \"uid\": \"5bb85241-5cd2-4649-807d-46ec0b69760b\", \"z\": [28.173684210526314, 24.700000000000003, 31.057142857142857, 14.95, 22.5, 12.830000000000002, 16.9, 13.0, 10.260000000000002, 13.0, 16.259999999999998, 11.745454545454544, 39.10384615384615, 26.9, 15.933333333333335, 25.9, 17.92, 18.7, 18.166666666666664, 37.13333333333334, 7.2727272727272725, 17.415384615384617, 18.76, 14.0, 14.1, 18.8, 23.919999999999998, 7.7, 10.9, 15.85, 17.900000000000002, 13.157142857142858, 14.133333333333333, 13.169999999999998, 18.3125, 14.825, 23.7, 19.45, 15.81063829787234, 13.314563106796115]}, {\"autocolorscale\": false, \"colorbar\": {\"title\": {\"text\": \"Average (2015)\"}}, \"colorscale\": [[0, \"rgb(50,50,255)\"], [1, \"rgb(255,50,50)\"]], \"customdata\": [2015], \"locationmode\": \"country names\", \"locations\": [\"Australia\", \"Austria\", \"Belgium\", \"Brazil\", \"Canada\", \"Chile\", \"China\", \"Colombia\", \"Czech Republic\", \"Denmark\", \"Finland\", \"France\", \"Germany\", \"Greece\", \"Hong Kong\", \"Iceland\", \"India\", \"Iran\", \"Israel\", \"Italy\", \"Japan\", \"Macau\", \"Morocco\", \"Netherlands\", \"New Zealand\", \"Norway\", \"Poland\", \"Portugal\", \"Republic of Ireland\", \"Russian Federation\", \"Singapore\", \"South Africa\", \"South Korea\", \"Spain\", \"Sweden\", \"Switzerland\", \"Taiwan\", \"Thailand\", \"Turkey\", \"United Kingdom\", \"United States of America\"], \"marker\": {\"line\": {\"color\": \"rgb(0,0,0)\", \"width\": 0.25}}, \"type\": \"choropleth\", \"uid\": \"e11102ae-348f-4db8-8efb-3b76b01bbee0\", \"z\": [28.04, 23.82, 31.057142857142857, 14.95, 22.177777777777777, 34.0, 12.972727272727274, 16.9, 13.0, 10.260000000000002, 17.11428571428571, 11.745454545454544, 37.96296296296296, 26.9, 15.933333333333335, 25.9, 16.424999999999997, 22.6, 18.166666666666664, 37.33529411764707, 8.075000000000001, 14.9, 38.7, 17.415384615384617, 18.76, 14.0, 14.1, 18.15, 21.439999999999998, 7.4, 15.85, 17.900000000000002, 13.944444444444445, 13.633333333333333, 13.169999999999998, 18.3125, 15.566666666666668, 23.7, 18.740000000000002, 15.649999999999999, 13.238235294117647]}, {\"autocolorscale\": false, \"colorbar\": {\"title\": {\"text\": \"Average (2016)\"}}, \"colorscale\": [[0, \"rgb(50,50,255)\"], [1, \"rgb(255,50,50)\"]], \"customdata\": [2016], \"locationmode\": \"country names\", \"locations\": [\"Argentina\", \"Australia\", \"Austria\", \"Bangladesh\", \"Belarus\", \"Belgium\", \"Brazil\", \"Canada\", \"Chile\", \"China\", \"Colombia\", \"Cyprus\", \"Czech Republic\", \"Denmark\", \"Egypt\", \"Estonia\", \"Finland\", \"France\", \"Germany\", \"Ghana\", \"Greece\", \"Hong Kong\", \"Hungary\", \"Iceland\", \"India\", \"Indonesia\", \"Iran\", \"Israel\", \"Italy\", \"Japan\", \"Jordan\", \"Kenya\", \"Latvia\", \"Lebanon\", \"Lithuania\", \"Luxembourg\", \"Macau\", \"Malaysia\", \"Mexico\", \"Morocco\", \"Netherlands\", \"New Zealand\", \"Nigeria\", \"Norway\", \"Oman\", \"Pakistan\", \"Poland\", \"Portugal\", \"Qatar\", \"Republic of Ireland\", \"Romania\", \"Russian Federation\", \"Saudi Arabia\", \"Serbia\", \"Singapore\", \"Slovakia\", \"Slovenia\", \"South Africa\", \"South Korea\", \"Spain\", \"Sweden\", \"Switzerland\", \"Taiwan\", \"Thailand\", \"Turkey\", \"Uganda\", \"Ukraine\", \"Unisted States of America\", \"United Arab Emirates\", \"United Kingdom\", \"United States of America\", \"Unted Kingdom\"], \"marker\": {\"line\": {\"color\": \"rgb(0,0,0)\", \"width\": 0.25}}, \"type\": \"choropleth\", \"uid\": \"708f3de2-c63b-4ce8-971a-563138e2b83d\", \"z\": [38.1, 26.91935483870968, 22.95714285714286, 6.9, 10.6, 31.057142857142857, 14.21764705882353, 21.663999999999998, 19.21666666666667, 14.358333333333336, 19.95, 22.9, 17.833333333333336, 15.66666666666667, 22.8, 20.8, 15.97777777777778, 19.05185185185185, 40.22162162162163, 37.5, 34.714285714285715, 15.933333333333335, 17.48333333333333, 25.9, 16.80588235294118, 15.8, 22.525, 18.98333333333333, 33.71764705882354, 9.792682926829269, 15.0, 47.0, 26.5, 8.9, 14.2, 15.9, 14.9, 12.919999999999998, 16.05, 38.7, 17.415384615384617, 18.38571428571429, 17.1, 14.0, 9.0, 16.75, 16.185714285714287, 18.099999999999998, 19.0, 21.866666666666667, 25.1, 7.7153846153846155, 9.633333333333333, 28.3, 15.85, 12.5, 17.450000000000003, 34.516666666666666, 15.908333333333333, 14.888000000000003, 13.409090909090908, 16.580000000000002, 17.75, 18.3, 37.45, 29.4, 8.95, null, 13.3, 17.221333333333334, 14.580689655172415, null]}],\n",
       "                        {\"geo\": {\"lakecolor\": \"rgb(255, 255, 255)\", \"projection\": {\"type\": \"equirectangular\"}, \"scope\": \"world\", \"showlakes\": true}, \"sliders\": [{\"active\": 5, \"pad\": {\"t\": 1}, \"steps\": [{\"args\": [\"visible\", [true, false, false, false, false, false]], \"label\": \"Year 2011\", \"method\": \"restyle\"}, {\"args\": [\"visible\", [false, true, false, false, false, false]], \"label\": \"Year 2012\", \"method\": \"restyle\"}, {\"args\": [\"visible\", [false, false, true, false, false, false]], \"label\": \"Year 2013\", \"method\": \"restyle\"}, {\"args\": [\"visible\", [false, false, false, true, false, false]], \"label\": \"Year 2014\", \"method\": \"restyle\"}, {\"args\": [\"visible\", [false, false, false, false, true, false]], \"label\": \"Year 2015\", \"method\": \"restyle\"}, {\"args\": [\"visible\", [false, false, false, false, false, true]], \"label\": \"Year 2016\", \"method\": \"restyle\"}]}], \"title\": {\"text\": \"Average of universities by country (student_staff_ratio)\"}},\n",
       "                        {\"showLink\": false, \"linkText\": \"Export to plot.ly\", \"plotlyServerURL\": \"https://plot.ly\", \"responsive\": true}\n",
       "                    ).then(function(){\n",
       "                            \n",
       "var gd = document.getElementById('3e752ba8-c285-41fb-b7a3-037d6799837a');\n",
       "var x = new MutationObserver(function (mutations, observer) {{\n",
       "        var display = window.getComputedStyle(gd).display;\n",
       "        if (!display || display === 'none') {{\n",
       "            console.log([gd, 'removed!']);\n",
       "            Plotly.purge(gd);\n",
       "            observer.disconnect();\n",
       "        }}\n",
       "}});\n",
       "\n",
       "// Listen for the removal of the full notebook cells\n",
       "var notebookContainer = gd.closest('#notebook-container');\n",
       "if (notebookContainer) {{\n",
       "    x.observe(notebookContainer, {childList: true});\n",
       "}}\n",
       "\n",
       "// Listen for the clearing of the current output cell\n",
       "var outputEl = gd.closest('.output');\n",
       "if (outputEl) {{\n",
       "    x.observe(outputEl, {childList: true});\n",
       "}}\n",
       "\n",
       "                        })\n",
       "                };\n",
       "                });\n",
       "            </script>\n",
       "        </div>"
      ]
     },
     "metadata": {},
     "output_type": "display_data"
    }
   ],
   "source": [
    "\n",
    "def choro(raw, year, statistic):\n",
    "    return go.Choropleth(\n",
    "        colorscale = [[0, 'rgb(50,50,255)'], [1, 'rgb(255,50,50)']],\n",
    "        autocolorscale = False,\n",
    "        locations = raw.index, #countries['country'],\n",
    "        z = raw[statistic].astype(float),\n",
    "        locationmode = 'country names',\n",
    "#         text = raw.index,\n",
    "        marker = go.choropleth.Marker(\n",
    "            line = go.choropleth.marker.Line(\n",
    "                color = 'rgb(0,0,0)',\n",
    "                width = .25\n",
    "            )),\n",
    "        colorbar = go.choropleth.ColorBar(\n",
    "            title = \"Average (%s)\" % str(year)),\n",
    "        customdata = [year]\n",
    "    )\n",
    "\n",
    "def worldmap(statistic):\n",
    "    data = [choro(country_stats.loc[year], year, statistic) for year in country_stats.index.levels[0]]\n",
    "\n",
    "    steps = []\n",
    "    for i, d in enumerate(data):\n",
    "        step = dict(method='restyle',\n",
    "                    args=['visible', [False] * (len(data))],\n",
    "                    label='Year {}'.format(d.customdata[0]))\n",
    "        step['args'][1][i] = True\n",
    "        steps.append(step)\n",
    "\n",
    "    sliders = [dict(active=(len(data)-1),\n",
    "                    pad={\"t\": 1},\n",
    "                    steps=steps)]  \n",
    "\n",
    "    layout = go.Layout(\n",
    "        title = go.layout.Title(\n",
    "            text = 'Average of universities by country (%s)' % statistic\n",
    "        ),\n",
    "        geo = go.layout.Geo(\n",
    "            scope = 'world',\n",
    "            projection = go.layout.geo.Projection(type = 'equirectangular'),\n",
    "            showlakes = True,\n",
    "            lakecolor = 'rgb(255, 255, 255)'),\n",
    "        sliders = sliders\n",
    "    )\n",
    "\n",
    "    fig = go.Figure(data = data, layout = layout)\n",
    "    iplot(fig)\n",
    "\n",
    "for stat in country_stats.columns:\n",
    "    worldmap(stat)"
   ]
  },
  {
   "cell_type": "markdown",
   "metadata": {},
   "source": []
  },
  {
   "cell_type": "code",
   "execution_count": 4,
   "metadata": {},
   "outputs": [],
   "source": [
    "Japan = times[times['country'] == 'Japan']\n",
    "HONGKONG = times[times['country'] == 'Hong Kong']\n",
    "South_Korea = times[times['country'] == 'South Korea']\n",
    "China = times[times['country'] == 'China']\n",
    "Singapore = times[times['country'] == 'Singapore']\n",
    "Taiwan = times[times['country'] == 'Taiwan']\n",
    "Thailand = times[times['country'] == 'Thailand']\n",
    "USA = times[times['country'] == 'United States of America']\n",
    "asias = pd.concat([Japan, HONGKONG, South_Korea, China, Singapore, Taiwan, Thailand], ignore_index=True)\n",
    "\n",
    "\n",
    "rankasia = asias[['world_rank', 'year']].groupby(['year']).mean()\n",
    "rankUSA = USA[['world_rank', 'year']].groupby(['year']).mean()"
   ]
  },
  {
   "cell_type": "code",
   "execution_count": 5,
   "metadata": {},
   "outputs": [
    {
     "data": {
      "application/vnd.plotly.v1+json": {
       "config": {
        "linkText": "Export to plot.ly",
        "plotlyServerURL": "https://plot.ly",
        "showLink": false
       },
       "data": [
        {
         "name": "Azië",
         "type": "bar",
         "uid": "02ae721c-d959-4ad1-a300-7319fd167436",
         "x": [
          2011,
          2012,
          2013,
          2014,
          2015,
          2016
         ],
         "y": [
          103.64,
          233.01,
          212.9318181818182,
          213.1888888888889,
          226.77659574468086,
          534.2163120567376
         ]
        },
        {
         "name": "USA",
         "type": "bar",
         "uid": "4af8f864-e2ad-4b60-b534-73c4705fae75",
         "x": [
          2011,
          2012,
          2013,
          2014,
          2015,
          2016
         ],
         "y": [
          71.84722222222223,
          150.2787610619469,
          154.55405405405406,
          153.24770642201835,
          155.13425925925927,
          267.5924657534247
         ]
        }
       ],
       "layout": {
        "barmode": "group",
        "title": {
         "text": "Vergeljking tussen Amerikaanse en Aziatische universiteiten over de jaren"
        },
        "xaxis": {
         "title": {
          "text": "Jaar"
         },
         "type": "category"
        },
        "yaxis": {
         "title": {
          "text": "Gemiddelde world ranking"
         }
        }
       }
      },
      "text/html": [
       "<div>\n",
       "        \n",
       "        \n",
       "            <div id=\"f23c654c-ef9b-4aa6-9284-5786d928989e\" class=\"plotly-graph-div\" style=\"height:525px; width:100%;\"></div>\n",
       "            <script type=\"text/javascript\">\n",
       "                require([\"plotly\"], function(Plotly) {\n",
       "                    window.PLOTLYENV=window.PLOTLYENV || {};\n",
       "                    window.PLOTLYENV.BASE_URL='https://plot.ly';\n",
       "                    \n",
       "                if (document.getElementById(\"f23c654c-ef9b-4aa6-9284-5786d928989e\")) {\n",
       "                    Plotly.newPlot(\n",
       "                        'f23c654c-ef9b-4aa6-9284-5786d928989e',\n",
       "                        [{\"name\": \"Azi\\u00eb\", \"type\": \"bar\", \"uid\": \"02ae721c-d959-4ad1-a300-7319fd167436\", \"x\": [2011, 2012, 2013, 2014, 2015, 2016], \"y\": [103.64, 233.01, 212.9318181818182, 213.1888888888889, 226.77659574468086, 534.2163120567376]}, {\"name\": \"USA\", \"type\": \"bar\", \"uid\": \"4af8f864-e2ad-4b60-b534-73c4705fae75\", \"x\": [2011, 2012, 2013, 2014, 2015, 2016], \"y\": [71.84722222222223, 150.2787610619469, 154.55405405405406, 153.24770642201835, 155.13425925925927, 267.5924657534247]}],\n",
       "                        {\"barmode\": \"group\", \"title\": {\"text\": \"Vergeljking tussen Amerikaanse en Aziatische universiteiten over de jaren\"}, \"xaxis\": {\"title\": {\"text\": \"Jaar\"}, \"type\": \"category\"}, \"yaxis\": {\"title\": {\"text\": \"Gemiddelde world ranking\"}}},\n",
       "                        {\"showLink\": false, \"linkText\": \"Export to plot.ly\", \"plotlyServerURL\": \"https://plot.ly\", \"responsive\": true}\n",
       "                    ).then(function(){\n",
       "                            \n",
       "var gd = document.getElementById('f23c654c-ef9b-4aa6-9284-5786d928989e');\n",
       "var x = new MutationObserver(function (mutations, observer) {{\n",
       "        var display = window.getComputedStyle(gd).display;\n",
       "        if (!display || display === 'none') {{\n",
       "            console.log([gd, 'removed!']);\n",
       "            Plotly.purge(gd);\n",
       "            observer.disconnect();\n",
       "        }}\n",
       "}});\n",
       "\n",
       "// Listen for the removal of the full notebook cells\n",
       "var notebookContainer = gd.closest('#notebook-container');\n",
       "if (notebookContainer) {{\n",
       "    x.observe(notebookContainer, {childList: true});\n",
       "}}\n",
       "\n",
       "// Listen for the clearing of the current output cell\n",
       "var outputEl = gd.closest('.output');\n",
       "if (outputEl) {{\n",
       "    x.observe(outputEl, {childList: true});\n",
       "}}\n",
       "\n",
       "                        })\n",
       "                };\n",
       "                });\n",
       "            </script>\n",
       "        </div>"
      ]
     },
     "metadata": {},
     "output_type": "display_data"
    }
   ],
   "source": [
    "trace1 = go.Bar(\n",
    "    x=rankasia.index,\n",
    "    y=rankasia['world_rank'],\n",
    "    name='Azië'\n",
    ")\n",
    "\n",
    "trace2 = go.Bar(\n",
    "    x=rankUSA.index,\n",
    "    y=rankUSA['world_rank'],\n",
    "    name='USA'\n",
    ")\n",
    "data = [trace1, trace2]\n",
    "\n",
    "layout = go.Layout(\n",
    "    \n",
    "    barmode='group',\n",
    "    \n",
    "    title=go.layout.Title(\n",
    "        text='Vergeljking tussen Amerikaanse en Aziatische universiteiten over de jaren',\n",
    "        \n",
    "    ),\n",
    "    xaxis=go.layout.XAxis(\n",
    "        title=go.layout.xaxis.Title(\n",
    "            text='Jaar'\n",
    "        ),\n",
    "        type='category' # het type van de X as is categorisch\n",
    "    ),\n",
    "    yaxis = go.layout.YAxis(\n",
    "        title=go.layout.yaxis.Title(\n",
    "            text='Gemiddelde world ranking'\n",
    "        )\n",
    "    )\n",
    ")\n",
    "\n",
    "fig = go.Figure(data=data, layout=layout)\n",
    "iplot(fig)\n"
   ]
  },
  {
   "cell_type": "code",
   "execution_count": 6,
   "metadata": {},
   "outputs": [],
   "source": [
    "count_asia= asias['year'].value_counts()\n",
    "count_USA= USA['year'].value_counts()\n",
    "count_asia= count_asia.to_frame(name=None)\n",
    "count_USA= count_USA.to_frame(name=None)\n",
    "count_asia= count_asia.iloc[::-1]\n",
    "count_USA= count_USA.iloc[::-1]\n"
   ]
  },
  {
   "cell_type": "code",
   "execution_count": 7,
   "metadata": {},
   "outputs": [
    {
     "data": {
      "application/vnd.plotly.v1+json": {
       "config": {
        "linkText": "Export to plot.ly",
        "plotlyServerURL": "https://plot.ly",
        "showLink": false
       },
       "data": [
        {
         "name": "Azië",
         "type": "bar",
         "uid": "2a441051-0872-4d06-91eb-8f98dde0f91a",
         "x": [
          2011,
          2013,
          2014,
          2015,
          2012,
          2016
         ],
         "y": [
          25,
          44,
          45,
          47,
          50,
          141
         ]
        },
        {
         "name": "USA",
         "type": "bar",
         "uid": "3cac8594-5bdc-484f-96ba-c52feb75354c",
         "x": [
          2011,
          2015,
          2014,
          2013,
          2012,
          2016
         ],
         "y": [
          72,
          108,
          109,
          111,
          113,
          146
         ]
        }
       ],
       "layout": {
        "barmode": "group",
        "title": {
         "text": "Vergeljking tussen de hoeveelheid Amerikaanse en Aziatische universiteiten over de jaren"
        },
        "xaxis": {
         "title": {
          "text": "Jaar"
         },
         "type": "category"
        },
        "yaxis": {
         "title": {
          "text": "Hoeveelheid universiteiten"
         }
        }
       }
      },
      "text/html": [
       "<div>\n",
       "        \n",
       "        \n",
       "            <div id=\"913905e3-dd30-4cda-bd27-2521c0c4ee9f\" class=\"plotly-graph-div\" style=\"height:525px; width:100%;\"></div>\n",
       "            <script type=\"text/javascript\">\n",
       "                require([\"plotly\"], function(Plotly) {\n",
       "                    window.PLOTLYENV=window.PLOTLYENV || {};\n",
       "                    window.PLOTLYENV.BASE_URL='https://plot.ly';\n",
       "                    \n",
       "                if (document.getElementById(\"913905e3-dd30-4cda-bd27-2521c0c4ee9f\")) {\n",
       "                    Plotly.newPlot(\n",
       "                        '913905e3-dd30-4cda-bd27-2521c0c4ee9f',\n",
       "                        [{\"name\": \"Azi\\u00eb\", \"type\": \"bar\", \"uid\": \"2a441051-0872-4d06-91eb-8f98dde0f91a\", \"x\": [2011, 2013, 2014, 2015, 2012, 2016], \"y\": [25, 44, 45, 47, 50, 141]}, {\"name\": \"USA\", \"type\": \"bar\", \"uid\": \"3cac8594-5bdc-484f-96ba-c52feb75354c\", \"x\": [2011, 2015, 2014, 2013, 2012, 2016], \"y\": [72, 108, 109, 111, 113, 146]}],\n",
       "                        {\"barmode\": \"group\", \"title\": {\"text\": \"Vergeljking tussen de hoeveelheid Amerikaanse en Aziatische universiteiten over de jaren\"}, \"xaxis\": {\"title\": {\"text\": \"Jaar\"}, \"type\": \"category\"}, \"yaxis\": {\"title\": {\"text\": \"Hoeveelheid universiteiten\"}}},\n",
       "                        {\"showLink\": false, \"linkText\": \"Export to plot.ly\", \"plotlyServerURL\": \"https://plot.ly\", \"responsive\": true}\n",
       "                    ).then(function(){\n",
       "                            \n",
       "var gd = document.getElementById('913905e3-dd30-4cda-bd27-2521c0c4ee9f');\n",
       "var x = new MutationObserver(function (mutations, observer) {{\n",
       "        var display = window.getComputedStyle(gd).display;\n",
       "        if (!display || display === 'none') {{\n",
       "            console.log([gd, 'removed!']);\n",
       "            Plotly.purge(gd);\n",
       "            observer.disconnect();\n",
       "        }}\n",
       "}});\n",
       "\n",
       "// Listen for the removal of the full notebook cells\n",
       "var notebookContainer = gd.closest('#notebook-container');\n",
       "if (notebookContainer) {{\n",
       "    x.observe(notebookContainer, {childList: true});\n",
       "}}\n",
       "\n",
       "// Listen for the clearing of the current output cell\n",
       "var outputEl = gd.closest('.output');\n",
       "if (outputEl) {{\n",
       "    x.observe(outputEl, {childList: true});\n",
       "}}\n",
       "\n",
       "                        })\n",
       "                };\n",
       "                });\n",
       "            </script>\n",
       "        </div>"
      ]
     },
     "metadata": {},
     "output_type": "display_data"
    }
   ],
   "source": [
    "trace1 = go.Bar(\n",
    "    x=count_asia.index,\n",
    "    y=count_asia['year'],\n",
    "    name='Azië'\n",
    ")\n",
    "\n",
    "trace2 = go.Bar(\n",
    "    x=count_USA.index,\n",
    "    y=count_USA['year'],\n",
    "    name='USA'\n",
    ")\n",
    "data = [trace1, trace2]\n",
    "\n",
    "layout = go.Layout(\n",
    "    \n",
    "    barmode='group',\n",
    "    \n",
    "    title=go.layout.Title(\n",
    "        text='Vergeljking tussen de hoeveelheid Amerikaanse en Aziatische universiteiten over de jaren',\n",
    "        \n",
    "    ),\n",
    "    xaxis=go.layout.XAxis(\n",
    "        title=go.layout.xaxis.Title(\n",
    "            text='Jaar'\n",
    "        ),\n",
    "        type='category' # het type van de X as is categorisch\n",
    "    ),\n",
    "    yaxis = go.layout.YAxis(\n",
    "        title=go.layout.yaxis.Title(\n",
    "            text='Hoeveelheid universiteiten'\n",
    "        )\n",
    "    )\n",
    ")\n",
    "\n",
    "fig = go.Figure(data=data, layout=layout)\n",
    "iplot(fig)\n"
   ]
  },
  {
   "cell_type": "code",
   "execution_count": null,
   "metadata": {},
   "outputs": [],
   "source": []
  },
  {
   "cell_type": "code",
   "execution_count": null,
   "metadata": {},
   "outputs": [],
   "source": []
  },
  {
   "cell_type": "code",
   "execution_count": null,
   "metadata": {},
   "outputs": [],
   "source": []
  },
  {
   "cell_type": "code",
   "execution_count": null,
   "metadata": {},
   "outputs": [],
   "source": []
  }
 ],
 "metadata": {
  "kernelspec": {
   "display_name": "Python 3",
   "language": "python",
   "name": "python3"
  },
  "language_info": {
   "codemirror_mode": {
    "name": "ipython",
    "version": 3
   },
   "file_extension": ".py",
   "mimetype": "text/x-python",
   "name": "python",
   "nbconvert_exporter": "python",
   "pygments_lexer": "ipython3",
   "version": "3.7.3"
  }
 },
 "nbformat": 4,
 "nbformat_minor": 2
}
