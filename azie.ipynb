{
 "cells": [
  {
   "cell_type": "code",
   "execution_count": 30,
   "metadata": {},
   "outputs": [
    {
     "data": {
      "text/html": [
       "        <script type=\"text/javascript\">\n",
       "        window.PlotlyConfig = {MathJaxConfig: 'local'};\n",
       "        if (window.MathJax) {MathJax.Hub.Config({SVG: {font: \"STIX-Web\"}});}\n",
       "        if (typeof require !== 'undefined') {\n",
       "        require.undef(\"plotly\");\n",
       "        requirejs.config({\n",
       "            paths: {\n",
       "                'plotly': ['https://cdn.plot.ly/plotly-latest.min']\n",
       "            }\n",
       "        });\n",
       "        require(['plotly'], function(Plotly) {\n",
       "            window._Plotly = Plotly;\n",
       "        });\n",
       "        }\n",
       "        </script>\n",
       "        "
      ]
     },
     "metadata": {},
     "output_type": "display_data"
    }
   ],
   "source": [
    "\n",
    "from plotly.offline import init_notebook_mode, iplot\n",
    "import plotly.graph_objs as go\n",
    "import math\n",
    "\n",
    "# Start notebook mode\n",
    "init_notebook_mode(connected=True)\n",
    "\n",
    "import pandas as pd # we gebruiken pandas om de CSV data te laden en te visualiseren\n",
    "\n",
    "\n",
    "times = pd.read_csv(\"timesData.csv\")\n",
    "shanghai = pd.read_csv(\"shanghaiData.csv\")\n",
    "cwur = pd.read_csv(\"cwurData.csv\")\n",
    "\n",
    "# print(shanghai.loc[shanghai['university_name'] == 'Harvard University']['world_rank'])\n",
    "\n",
    "def conv_ranking(x):\n",
    "    spl = x.split('-')\n",
    "    if len(spl) == 2:\n",
    "        return (float(spl[0]) + float(spl[1])) / 2\n",
    "    s = (x if x[0] != '=' else x[1:])\n",
    "    f = float(s)\n",
    "    return f\n",
    "\n",
    "def conv_other(x):\n",
    "    try:\n",
    "        return float(x)\n",
    "    except Exception:\n",
    "        return 50\n",
    "\n",
    "# countries = pd.read_csv(\"school_and_country_table.csv\")\n",
    "\n",
    "# df = times.set_index('university_name').join(countries.set_index('school_name'))\n",
    "# print(df)\n",
    "\n",
    "times['world_rank'] = times['world_rank'].map(conv_ranking)\n",
    "times['total_score'] = times['total_score'].map(conv_other)\n",
    "# print(times.loc[times['total_score'] == '-'].iloc[0])\n",
    "country_stats = times.groupby(['year', 'country']).mean()\n",
    "counts = times.groupby(['year', 'country']).size()\n",
    "# print(list(x for x in country_stats.index.levels[0]))\n",
    "country_stats['count'] = counts"
   ]
  },
  {
   "cell_type": "code",
   "execution_count": 31,
   "metadata": {
    "scrolled": false
   },
   "outputs": [
    {
     "data": {
      "application/vnd.plotly.v1+json": {
       "config": {
        "linkText": "Export to plot.ly",
        "plotlyServerURL": "https://plot.ly",
        "showLink": false
       },
       "data": [
        {
         "autocolorscale": false,
         "colorbar": {
          "title": {
           "text": "Average Ranking"
          }
         },
         "colorscale": [
          [
           0,
           "rgb(50,50,255)"
          ],
          [
           1,
           "rgb(255,50,50)"
          ]
         ],
         "customdata": [
          2011
         ],
         "locationmode": "country names",
         "locations": [
          "Australia",
          "Austria",
          "Belgium",
          "Canada",
          "China",
          "Denmark",
          "Egypt",
          "Finland",
          "France",
          "Germany",
          "Hong Kong",
          "Japan",
          "Netherlands",
          "New Zealand",
          "Norway",
          "Republic of Ireland",
          "Singapore",
          "South Africa",
          "South Korea",
          "Spain",
          "Sweden",
          "Switzerland",
          "Taiwan",
          "Turkey",
          "United Kingdom",
          "United States of America"
         ],
         "marker": {
          "line": {
           "color": "rgb(0,0,0)",
           "width": 0.25
          }
         },
         "reversescale": false,
         "type": "choropleth",
         "uid": "d061c275-2718-4487-9641-d8efaec30041",
         "z": [
          90.57142857142857,
          191,
          121.5,
          106.88888888888889,
          105.33333333333333,
          155.33333333333334,
          147,
          102,
          80.25,
          145.21428571428572,
          80.5,
          91.4,
          149.4,
          145,
          135,
          85,
          104,
          107,
          101.5,
          148.5,
          133.33333333333334,
          83.66666666666667,
          141.5,
          147.5,
          104.79310344827586,
          71.84722222222223
         ],
         "zmax": 800,
         "zmin": 0
        },
        {
         "autocolorscale": false,
         "colorbar": {
          "title": {
           "text": "Average Ranking"
          }
         },
         "colorscale": [
          [
           0,
           "rgb(50,50,255)"
          ],
          [
           1,
           "rgb(255,50,50)"
          ]
         ],
         "customdata": [
          2012
         ],
         "locationmode": "country names",
         "locations": [
          "Australia",
          "Austria",
          "Belgium",
          "Brazil",
          "Canada",
          "Chile",
          "China",
          "Czech Republic",
          "Denmark",
          "Egypt",
          "Estonia",
          "Finland",
          "France",
          "Germany",
          "Greece",
          "Hong Kong",
          "Iceland",
          "India",
          "Iran",
          "Israel",
          "Italy",
          "Japan",
          "Netherlands",
          "New Zealand",
          "Norway",
          "Poland",
          "Portugal",
          "Republic of Ireland",
          "Russian Federation",
          "Singapore",
          "South Africa",
          "South Korea",
          "Spain",
          "Sweden",
          "Switzerland",
          "Taiwan",
          "Thailand",
          "Turkey",
          "United Kingdom",
          "United States of America"
         ],
         "marker": {
          "line": {
           "color": "rgb(0,0,0)",
           "width": 0.25
          }
         },
         "reversescale": false,
         "type": "choropleth",
         "uid": "ed50442f-319f-40e8-80d7-781358e4c9d4",
         "z": [
          250.0952380952381,
          240.7,
          213.42857142857142,
          233,
          175.13888888888889,
          375,
          250.2,
          325.5,
          205.3,
          325.5,
          375,
          288.5,
          174,
          196.22727272727272,
          288,
          165.16666666666666,
          288,
          325.5,
          325.5,
          206.375,
          302.17857142857144,
          237.96875,
          138.6153846153846,
          279.1666666666667,
          230.75,
          325.5,
          350.25,
          270.3,
          331.5,
          104.5,
          209.66666666666666,
          206.78571428571428,
          293.8125,
          174.45,
          84.42857142857143,
          289.8125,
          375,
          278.625,
          187.65384615384616,
          150.2787610619469
         ],
         "zmax": 800,
         "zmin": 0
        },
        {
         "autocolorscale": false,
         "colorbar": {
          "title": {
           "text": "Average Ranking"
          }
         },
         "colorscale": [
          [
           0,
           "rgb(50,50,255)"
          ],
          [
           1,
           "rgb(255,50,50)"
          ]
         ],
         "customdata": [
          2013
         ],
         "locationmode": "country names",
         "locations": [
          "Australia",
          "Austria",
          "Belgium",
          "Brazil",
          "Canada",
          "China",
          "Colombia",
          "Czech Republic",
          "Denmark",
          "Estonia",
          "Finland",
          "France",
          "Germany",
          "Greece",
          "Hong Kong",
          "Iceland",
          "India",
          "Iran",
          "Israel",
          "Italy",
          "Japan",
          "Mexico",
          "Netherlands",
          "New Zealand",
          "Norway",
          "Poland",
          "Portugal",
          "Republic of Ireland",
          "Russian Federation",
          "Saudi Arabia",
          "Singapore",
          "South Africa",
          "South Korea",
          "Spain",
          "Sweden",
          "Switzerland",
          "Taiwan",
          "Thailand",
          "Turkey",
          "United Kingdom",
          "United States of America"
         ],
         "marker": {
          "line": {
           "color": "rgb(0,0,0)",
           "width": 0.25
          }
         },
         "reversescale": false,
         "type": "choropleth",
         "uid": "21b0fbe3-6313-4955-b000-3604744a9d0d",
         "z": [
          232.10526315789474,
          269.0833333333333,
          206.57142857142858,
          210.5,
          190.81578947368422,
          227.94444444444446,
          375.5,
          325.5,
          211.7,
          375.5,
          279.7,
          187.5,
          204.16,
          325.5,
          165.75,
          263,
          292.1666666666667,
          325.5,
          162.66666666666666,
          314.7857142857143,
          229.57692307692307,
          375.5,
          109.07692307692308,
          281.4166666666667,
          259.875,
          375.5,
          375.5,
          264.7,
          225.5,
          325.5,
          57.5,
          247.375,
          135.16666666666666,
          298.7142857142857,
          181.45,
          127.8125,
          291,
          375.5,
          253,
          182.90625,
          154.55405405405406
         ],
         "zmax": 800,
         "zmin": 0
        },
        {
         "autocolorscale": false,
         "colorbar": {
          "title": {
           "text": "Average Ranking"
          }
         },
         "colorscale": [
          [
           0,
           "rgb(50,50,255)"
          ],
          [
           1,
           "rgb(255,50,50)"
          ]
         ],
         "customdata": [
          2014
         ],
         "locationmode": "country names",
         "locations": [
          "Australia",
          "Austria",
          "Belgium",
          "Brazil",
          "Canada",
          "China",
          "Colombia",
          "Czech Republic",
          "Denmark",
          "Estonia",
          "Finland",
          "France",
          "Germany",
          "Greece",
          "Hong Kong",
          "Iceland",
          "India",
          "Iran",
          "Israel",
          "Italy",
          "Japan",
          "Netherlands",
          "New Zealand",
          "Norway",
          "Poland",
          "Portugal",
          "Republic of Ireland",
          "Russian Federation",
          "Saudi Arabia",
          "Singapore",
          "South Africa",
          "South Korea",
          "Spain",
          "Sweden",
          "Switzerland",
          "Taiwan",
          "Thailand",
          "Turkey",
          "United Kingdom",
          "United States of America"
         ],
         "marker": {
          "line": {
           "color": "rgb(0,0,0)",
           "width": 0.25
          }
         },
         "reversescale": false,
         "type": "choropleth",
         "uid": "604c3d3f-08c2-4a15-ae91-2322cb11178d",
         "z": [
          229.39473684210526,
          272.5,
          178.07142857142858,
          281.75,
          195.21052631578948,
          237.4,
          263,
          375.5,
          203.7,
          375.5,
          290.4,
          166.22727272727272,
          209.21153846153845,
          325.5,
          168.41666666666666,
          263,
          348,
          263,
          201,
          298.8333333333333,
          198.5909090909091,
          109.84615384615384,
          268.2,
          259.125,
          325.5,
          375.5,
          255.8,
          238,
          375.5,
          51,
          229.83333333333334,
          164.5,
          315.8888888888889,
          190.5,
          118.375,
          305.6875,
          325.5,
          230.2,
          182.83673469387756,
          153.24770642201835
         ],
         "zmax": 800,
         "zmin": 0
        },
        {
         "autocolorscale": false,
         "colorbar": {
          "title": {
           "text": "Average Ranking"
          }
         },
         "colorscale": [
          [
           0,
           "rgb(50,50,255)"
          ],
          [
           1,
           "rgb(255,50,50)"
          ]
         ],
         "customdata": [
          2015
         ],
         "locationmode": "country names",
         "locations": [
          "Australia",
          "Austria",
          "Belgium",
          "Brazil",
          "Canada",
          "Chile",
          "China",
          "Colombia",
          "Czech Republic",
          "Denmark",
          "Finland",
          "France",
          "Germany",
          "Greece",
          "Hong Kong",
          "Iceland",
          "India",
          "Iran",
          "Israel",
          "Italy",
          "Japan",
          "Macau",
          "Morocco",
          "Netherlands",
          "New Zealand",
          "Norway",
          "Poland",
          "Portugal",
          "Republic of Ireland",
          "Russian Federation",
          "Singapore",
          "South Africa",
          "South Korea",
          "Spain",
          "Sweden",
          "Switzerland",
          "Taiwan",
          "Thailand",
          "Turkey",
          "United Kingdom",
          "United States of America"
         ],
         "marker": {
          "line": {
           "color": "rgb(0,0,0)",
           "width": 0.25
          }
         },
         "reversescale": false,
         "type": "choropleth",
         "uid": "afafeec9-2d7f-408f-a261-ce6631af2160",
         "z": [
          227.975,
          254.3,
          207.14285714285714,
          269.25,
          183.36111111111111,
          263,
          252.86363636363637,
          263,
          325.5,
          227,
          293.7142857142857,
          181.3181818181818,
          211.07142857142858,
          325.5,
          158.91666666666666,
          263,
          331.75,
          350.5,
          204.66666666666666,
          290.94117647058823,
          230.08333333333334,
          288,
          325.5,
          121.15384615384616,
          285.4,
          265.625,
          325.5,
          375.5,
          260.5,
          260.75,
          43,
          225,
          207.61111111111111,
          273.75,
          202.5,
          111,
          305.4166666666667,
          375.5,
          184.91666666666666,
          171.75555555555556,
          155.13425925925927
         ],
         "zmax": 800,
         "zmin": 0
        },
        {
         "autocolorscale": false,
         "colorbar": {
          "title": {
           "text": "Average Ranking"
          }
         },
         "colorscale": [
          [
           0,
           "rgb(50,50,255)"
          ],
          [
           1,
           "rgb(255,50,50)"
          ]
         ],
         "customdata": [
          2016
         ],
         "locationmode": "country names",
         "locations": [
          "Argentina",
          "Australia",
          "Austria",
          "Bangladesh",
          "Belarus",
          "Belgium",
          "Brazil",
          "Canada",
          "Chile",
          "China",
          "Colombia",
          "Cyprus",
          "Czech Republic",
          "Denmark",
          "Egypt",
          "Estonia",
          "Finland",
          "France",
          "Germany",
          "Ghana",
          "Greece",
          "Hong Kong",
          "Hungary",
          "Iceland",
          "India",
          "Indonesia",
          "Iran",
          "Israel",
          "Italy",
          "Japan",
          "Jordan",
          "Kenya",
          "Latvia",
          "Lebanon",
          "Lithuania",
          "Luxembourg",
          "Macau",
          "Malaysia",
          "Mexico",
          "Morocco",
          "Netherlands",
          "New Zealand",
          "Nigeria",
          "Norway",
          "Oman",
          "Pakistan",
          "Poland",
          "Portugal",
          "Qatar",
          "Republic of Ireland",
          "Romania",
          "Russian Federation",
          "Saudi Arabia",
          "Serbia",
          "Singapore",
          "Slovakia",
          "Slovenia",
          "South Africa",
          "South Korea",
          "Spain",
          "Sweden",
          "Switzerland",
          "Taiwan",
          "Thailand",
          "Turkey",
          "Uganda",
          "Ukraine",
          "Unisted States of America",
          "United Arab Emirates",
          "United Kingdom",
          "United States of America",
          "Unted Kingdom"
         ],
         "marker": {
          "line": {
           "color": "rgb(0,0,0)",
           "width": 0.25
          }
         },
         "reversescale": false,
         "type": "choropleth",
         "uid": "150173d9-e5a0-44f1-8bd9-ce0df6190c99",
         "z": [
          700.5,
          304.0483870967742,
          320.7142857142857,
          700.5,
          700.5,
          212.35714285714286,
          638.7352941176471,
          285.92,
          592.1666666666666,
          536.6621621621622,
          625.5,
          375.5,
          553.2777777777778,
          188.58333333333334,
          700.5,
          463,
          361.6666666666667,
          385.77777777777777,
          198.4189189189189,
          700.5,
          561.2142857142857,
          177.91666666666666,
          675.5,
          275.5,
          568.1470588235294,
          700.5,
          581.75,
          380.0833333333333,
          371.4852941176471,
          578.060975609756,
          700.5,
          700.5,
          700.5,
          550.5,
          700.5,
          193,
          450.5,
          650.5,
          500.5,
          700.5,
          104.73076923076923,
          417.85714285714283,
          700.5,
          267,
          700.5,
          625.5,
          679.0714285714286,
          468.35714285714283,
          700.5,
          371.05555555555554,
          663,
          482.0769230769231,
          458.8333333333333,
          700.5,
          40.5,
          700.5,
          625.5,
          395.4166666666667,
          498.4166666666667,
          517.8,
          181.5909090909091,
          169.15,
          579.3125,
          679.0714285714286,
          561.8636363636364,
          450.5,
          700.5,
          225.5,
          625.5,
          334.43506493506493,
          267.5924657534247,
          450.5
         ],
         "zmax": 800,
         "zmin": 0
        }
       ],
       "layout": {
        "geo": {
         "lakecolor": "rgb(255, 255, 255)",
         "projection": {
          "type": "equirectangular"
         },
         "scope": "world",
         "showlakes": true
        },
        "sliders": [
         {
          "active": 5,
          "pad": {
           "t": 1
          },
          "steps": [
           {
            "args": [
             "visible",
             [
              true,
              false,
              false,
              false,
              false,
              false
             ]
            ],
            "label": "Year 2011",
            "method": "restyle"
           },
           {
            "args": [
             "visible",
             [
              false,
              true,
              false,
              false,
              false,
              false
             ]
            ],
            "label": "Year 2012",
            "method": "restyle"
           },
           {
            "args": [
             "visible",
             [
              false,
              false,
              true,
              false,
              false,
              false
             ]
            ],
            "label": "Year 2013",
            "method": "restyle"
           },
           {
            "args": [
             "visible",
             [
              false,
              false,
              false,
              true,
              false,
              false
             ]
            ],
            "label": "Year 2014",
            "method": "restyle"
           },
           {
            "args": [
             "visible",
             [
              false,
              false,
              false,
              false,
              true,
              false
             ]
            ],
            "label": "Year 2015",
            "method": "restyle"
           },
           {
            "args": [
             "visible",
             [
              false,
              false,
              false,
              false,
              false,
              true
             ]
            ],
            "label": "Year 2016",
            "method": "restyle"
           }
          ]
         }
        ],
        "title": {
         "text": "Average ranking of universities in each country"
        }
       }
      },
      "text/html": [
       "<div>\n",
       "        \n",
       "        \n",
       "            <div id=\"5fe1b3af-59a1-4997-9557-6178e42dc1e6\" class=\"plotly-graph-div\" style=\"height:525px; width:100%;\"></div>\n",
       "            <script type=\"text/javascript\">\n",
       "                require([\"plotly\"], function(Plotly) {\n",
       "                    window.PLOTLYENV=window.PLOTLYENV || {};\n",
       "                    window.PLOTLYENV.BASE_URL='https://plot.ly';\n",
       "                    \n",
       "                if (document.getElementById(\"5fe1b3af-59a1-4997-9557-6178e42dc1e6\")) {\n",
       "                    Plotly.newPlot(\n",
       "                        '5fe1b3af-59a1-4997-9557-6178e42dc1e6',\n",
       "                        [{\"autocolorscale\": false, \"colorbar\": {\"title\": {\"text\": \"Average Ranking\"}}, \"colorscale\": [[0, \"rgb(50,50,255)\"], [1, \"rgb(255,50,50)\"]], \"customdata\": [2011], \"locationmode\": \"country names\", \"locations\": [\"Australia\", \"Austria\", \"Belgium\", \"Canada\", \"China\", \"Denmark\", \"Egypt\", \"Finland\", \"France\", \"Germany\", \"Hong Kong\", \"Japan\", \"Netherlands\", \"New Zealand\", \"Norway\", \"Republic of Ireland\", \"Singapore\", \"South Africa\", \"South Korea\", \"Spain\", \"Sweden\", \"Switzerland\", \"Taiwan\", \"Turkey\", \"United Kingdom\", \"United States of America\"], \"marker\": {\"line\": {\"color\": \"rgb(0,0,0)\", \"width\": 0.25}}, \"reversescale\": false, \"type\": \"choropleth\", \"uid\": \"d061c275-2718-4487-9641-d8efaec30041\", \"z\": [90.57142857142857, 191.0, 121.5, 106.88888888888889, 105.33333333333333, 155.33333333333334, 147.0, 102.0, 80.25, 145.21428571428572, 80.5, 91.4, 149.4, 145.0, 135.0, 85.0, 104.0, 107.0, 101.5, 148.5, 133.33333333333334, 83.66666666666667, 141.5, 147.5, 104.79310344827586, 71.84722222222223], \"zmax\": 800, \"zmin\": 0}, {\"autocolorscale\": false, \"colorbar\": {\"title\": {\"text\": \"Average Ranking\"}}, \"colorscale\": [[0, \"rgb(50,50,255)\"], [1, \"rgb(255,50,50)\"]], \"customdata\": [2012], \"locationmode\": \"country names\", \"locations\": [\"Australia\", \"Austria\", \"Belgium\", \"Brazil\", \"Canada\", \"Chile\", \"China\", \"Czech Republic\", \"Denmark\", \"Egypt\", \"Estonia\", \"Finland\", \"France\", \"Germany\", \"Greece\", \"Hong Kong\", \"Iceland\", \"India\", \"Iran\", \"Israel\", \"Italy\", \"Japan\", \"Netherlands\", \"New Zealand\", \"Norway\", \"Poland\", \"Portugal\", \"Republic of Ireland\", \"Russian Federation\", \"Singapore\", \"South Africa\", \"South Korea\", \"Spain\", \"Sweden\", \"Switzerland\", \"Taiwan\", \"Thailand\", \"Turkey\", \"United Kingdom\", \"United States of America\"], \"marker\": {\"line\": {\"color\": \"rgb(0,0,0)\", \"width\": 0.25}}, \"reversescale\": false, \"type\": \"choropleth\", \"uid\": \"ed50442f-319f-40e8-80d7-781358e4c9d4\", \"z\": [250.0952380952381, 240.7, 213.42857142857142, 233.0, 175.13888888888889, 375.0, 250.2, 325.5, 205.3, 325.5, 375.0, 288.5, 174.0, 196.22727272727272, 288.0, 165.16666666666666, 288.0, 325.5, 325.5, 206.375, 302.17857142857144, 237.96875, 138.6153846153846, 279.1666666666667, 230.75, 325.5, 350.25, 270.3, 331.5, 104.5, 209.66666666666666, 206.78571428571428, 293.8125, 174.45, 84.42857142857143, 289.8125, 375.0, 278.625, 187.65384615384616, 150.2787610619469], \"zmax\": 800, \"zmin\": 0}, {\"autocolorscale\": false, \"colorbar\": {\"title\": {\"text\": \"Average Ranking\"}}, \"colorscale\": [[0, \"rgb(50,50,255)\"], [1, \"rgb(255,50,50)\"]], \"customdata\": [2013], \"locationmode\": \"country names\", \"locations\": [\"Australia\", \"Austria\", \"Belgium\", \"Brazil\", \"Canada\", \"China\", \"Colombia\", \"Czech Republic\", \"Denmark\", \"Estonia\", \"Finland\", \"France\", \"Germany\", \"Greece\", \"Hong Kong\", \"Iceland\", \"India\", \"Iran\", \"Israel\", \"Italy\", \"Japan\", \"Mexico\", \"Netherlands\", \"New Zealand\", \"Norway\", \"Poland\", \"Portugal\", \"Republic of Ireland\", \"Russian Federation\", \"Saudi Arabia\", \"Singapore\", \"South Africa\", \"South Korea\", \"Spain\", \"Sweden\", \"Switzerland\", \"Taiwan\", \"Thailand\", \"Turkey\", \"United Kingdom\", \"United States of America\"], \"marker\": {\"line\": {\"color\": \"rgb(0,0,0)\", \"width\": 0.25}}, \"reversescale\": false, \"type\": \"choropleth\", \"uid\": \"21b0fbe3-6313-4955-b000-3604744a9d0d\", \"z\": [232.10526315789474, 269.0833333333333, 206.57142857142858, 210.5, 190.81578947368422, 227.94444444444446, 375.5, 325.5, 211.7, 375.5, 279.7, 187.5, 204.16, 325.5, 165.75, 263.0, 292.1666666666667, 325.5, 162.66666666666666, 314.7857142857143, 229.57692307692307, 375.5, 109.07692307692308, 281.4166666666667, 259.875, 375.5, 375.5, 264.7, 225.5, 325.5, 57.5, 247.375, 135.16666666666666, 298.7142857142857, 181.45, 127.8125, 291.0, 375.5, 253.0, 182.90625, 154.55405405405406], \"zmax\": 800, \"zmin\": 0}, {\"autocolorscale\": false, \"colorbar\": {\"title\": {\"text\": \"Average Ranking\"}}, \"colorscale\": [[0, \"rgb(50,50,255)\"], [1, \"rgb(255,50,50)\"]], \"customdata\": [2014], \"locationmode\": \"country names\", \"locations\": [\"Australia\", \"Austria\", \"Belgium\", \"Brazil\", \"Canada\", \"China\", \"Colombia\", \"Czech Republic\", \"Denmark\", \"Estonia\", \"Finland\", \"France\", \"Germany\", \"Greece\", \"Hong Kong\", \"Iceland\", \"India\", \"Iran\", \"Israel\", \"Italy\", \"Japan\", \"Netherlands\", \"New Zealand\", \"Norway\", \"Poland\", \"Portugal\", \"Republic of Ireland\", \"Russian Federation\", \"Saudi Arabia\", \"Singapore\", \"South Africa\", \"South Korea\", \"Spain\", \"Sweden\", \"Switzerland\", \"Taiwan\", \"Thailand\", \"Turkey\", \"United Kingdom\", \"United States of America\"], \"marker\": {\"line\": {\"color\": \"rgb(0,0,0)\", \"width\": 0.25}}, \"reversescale\": false, \"type\": \"choropleth\", \"uid\": \"604c3d3f-08c2-4a15-ae91-2322cb11178d\", \"z\": [229.39473684210526, 272.5, 178.07142857142858, 281.75, 195.21052631578948, 237.4, 263.0, 375.5, 203.7, 375.5, 290.4, 166.22727272727272, 209.21153846153845, 325.5, 168.41666666666666, 263.0, 348.0, 263.0, 201.0, 298.8333333333333, 198.5909090909091, 109.84615384615384, 268.2, 259.125, 325.5, 375.5, 255.8, 238.0, 375.5, 51.0, 229.83333333333334, 164.5, 315.8888888888889, 190.5, 118.375, 305.6875, 325.5, 230.2, 182.83673469387756, 153.24770642201835], \"zmax\": 800, \"zmin\": 0}, {\"autocolorscale\": false, \"colorbar\": {\"title\": {\"text\": \"Average Ranking\"}}, \"colorscale\": [[0, \"rgb(50,50,255)\"], [1, \"rgb(255,50,50)\"]], \"customdata\": [2015], \"locationmode\": \"country names\", \"locations\": [\"Australia\", \"Austria\", \"Belgium\", \"Brazil\", \"Canada\", \"Chile\", \"China\", \"Colombia\", \"Czech Republic\", \"Denmark\", \"Finland\", \"France\", \"Germany\", \"Greece\", \"Hong Kong\", \"Iceland\", \"India\", \"Iran\", \"Israel\", \"Italy\", \"Japan\", \"Macau\", \"Morocco\", \"Netherlands\", \"New Zealand\", \"Norway\", \"Poland\", \"Portugal\", \"Republic of Ireland\", \"Russian Federation\", \"Singapore\", \"South Africa\", \"South Korea\", \"Spain\", \"Sweden\", \"Switzerland\", \"Taiwan\", \"Thailand\", \"Turkey\", \"United Kingdom\", \"United States of America\"], \"marker\": {\"line\": {\"color\": \"rgb(0,0,0)\", \"width\": 0.25}}, \"reversescale\": false, \"type\": \"choropleth\", \"uid\": \"afafeec9-2d7f-408f-a261-ce6631af2160\", \"z\": [227.975, 254.3, 207.14285714285714, 269.25, 183.36111111111111, 263.0, 252.86363636363637, 263.0, 325.5, 227.0, 293.7142857142857, 181.3181818181818, 211.07142857142858, 325.5, 158.91666666666666, 263.0, 331.75, 350.5, 204.66666666666666, 290.94117647058823, 230.08333333333334, 288.0, 325.5, 121.15384615384616, 285.4, 265.625, 325.5, 375.5, 260.5, 260.75, 43.0, 225.0, 207.61111111111111, 273.75, 202.5, 111.0, 305.4166666666667, 375.5, 184.91666666666666, 171.75555555555556, 155.13425925925927], \"zmax\": 800, \"zmin\": 0}, {\"autocolorscale\": false, \"colorbar\": {\"title\": {\"text\": \"Average Ranking\"}}, \"colorscale\": [[0, \"rgb(50,50,255)\"], [1, \"rgb(255,50,50)\"]], \"customdata\": [2016], \"locationmode\": \"country names\", \"locations\": [\"Argentina\", \"Australia\", \"Austria\", \"Bangladesh\", \"Belarus\", \"Belgium\", \"Brazil\", \"Canada\", \"Chile\", \"China\", \"Colombia\", \"Cyprus\", \"Czech Republic\", \"Denmark\", \"Egypt\", \"Estonia\", \"Finland\", \"France\", \"Germany\", \"Ghana\", \"Greece\", \"Hong Kong\", \"Hungary\", \"Iceland\", \"India\", \"Indonesia\", \"Iran\", \"Israel\", \"Italy\", \"Japan\", \"Jordan\", \"Kenya\", \"Latvia\", \"Lebanon\", \"Lithuania\", \"Luxembourg\", \"Macau\", \"Malaysia\", \"Mexico\", \"Morocco\", \"Netherlands\", \"New Zealand\", \"Nigeria\", \"Norway\", \"Oman\", \"Pakistan\", \"Poland\", \"Portugal\", \"Qatar\", \"Republic of Ireland\", \"Romania\", \"Russian Federation\", \"Saudi Arabia\", \"Serbia\", \"Singapore\", \"Slovakia\", \"Slovenia\", \"South Africa\", \"South Korea\", \"Spain\", \"Sweden\", \"Switzerland\", \"Taiwan\", \"Thailand\", \"Turkey\", \"Uganda\", \"Ukraine\", \"Unisted States of America\", \"United Arab Emirates\", \"United Kingdom\", \"United States of America\", \"Unted Kingdom\"], \"marker\": {\"line\": {\"color\": \"rgb(0,0,0)\", \"width\": 0.25}}, \"reversescale\": false, \"type\": \"choropleth\", \"uid\": \"150173d9-e5a0-44f1-8bd9-ce0df6190c99\", \"z\": [700.5, 304.0483870967742, 320.7142857142857, 700.5, 700.5, 212.35714285714286, 638.7352941176471, 285.92, 592.1666666666666, 536.6621621621622, 625.5, 375.5, 553.2777777777778, 188.58333333333334, 700.5, 463.0, 361.6666666666667, 385.77777777777777, 198.4189189189189, 700.5, 561.2142857142857, 177.91666666666666, 675.5, 275.5, 568.1470588235294, 700.5, 581.75, 380.0833333333333, 371.4852941176471, 578.060975609756, 700.5, 700.5, 700.5, 550.5, 700.5, 193.0, 450.5, 650.5, 500.5, 700.5, 104.73076923076923, 417.85714285714283, 700.5, 267.0, 700.5, 625.5, 679.0714285714286, 468.35714285714283, 700.5, 371.05555555555554, 663.0, 482.0769230769231, 458.8333333333333, 700.5, 40.5, 700.5, 625.5, 395.4166666666667, 498.4166666666667, 517.8, 181.5909090909091, 169.15, 579.3125, 679.0714285714286, 561.8636363636364, 450.5, 700.5, 225.5, 625.5, 334.43506493506493, 267.5924657534247, 450.5], \"zmax\": 800, \"zmin\": 0}],\n",
       "                        {\"geo\": {\"lakecolor\": \"rgb(255, 255, 255)\", \"projection\": {\"type\": \"equirectangular\"}, \"scope\": \"world\", \"showlakes\": true}, \"sliders\": [{\"active\": 5, \"pad\": {\"t\": 1}, \"steps\": [{\"args\": [\"visible\", [true, false, false, false, false, false]], \"label\": \"Year 2011\", \"method\": \"restyle\"}, {\"args\": [\"visible\", [false, true, false, false, false, false]], \"label\": \"Year 2012\", \"method\": \"restyle\"}, {\"args\": [\"visible\", [false, false, true, false, false, false]], \"label\": \"Year 2013\", \"method\": \"restyle\"}, {\"args\": [\"visible\", [false, false, false, true, false, false]], \"label\": \"Year 2014\", \"method\": \"restyle\"}, {\"args\": [\"visible\", [false, false, false, false, true, false]], \"label\": \"Year 2015\", \"method\": \"restyle\"}, {\"args\": [\"visible\", [false, false, false, false, false, true]], \"label\": \"Year 2016\", \"method\": \"restyle\"}]}], \"title\": {\"text\": \"Average ranking of universities in each country\"}},\n",
       "                        {\"showLink\": false, \"linkText\": \"Export to plot.ly\", \"plotlyServerURL\": \"https://plot.ly\", \"responsive\": true}\n",
       "                    ).then(function(){\n",
       "                            \n",
       "var gd = document.getElementById('5fe1b3af-59a1-4997-9557-6178e42dc1e6');\n",
       "var x = new MutationObserver(function (mutations, observer) {{\n",
       "        var display = window.getComputedStyle(gd).display;\n",
       "        if (!display || display === 'none') {{\n",
       "            console.log([gd, 'removed!']);\n",
       "            Plotly.purge(gd);\n",
       "            observer.disconnect();\n",
       "        }}\n",
       "}});\n",
       "\n",
       "// Listen for the removal of the full notebook cells\n",
       "var notebookContainer = gd.closest('#notebook-container');\n",
       "if (notebookContainer) {{\n",
       "    x.observe(notebookContainer, {childList: true});\n",
       "}}\n",
       "\n",
       "// Listen for the clearing of the current output cell\n",
       "var outputEl = gd.closest('.output');\n",
       "if (outputEl) {{\n",
       "    x.observe(outputEl, {childList: true});\n",
       "}}\n",
       "\n",
       "                        })\n",
       "                };\n",
       "                });\n",
       "            </script>\n",
       "        </div>"
      ]
     },
     "metadata": {},
     "output_type": "display_data"
    },
    {
     "data": {
      "application/vnd.plotly.v1+json": {
       "config": {
        "linkText": "Export to plot.ly",
        "plotlyServerURL": "https://plot.ly",
        "showLink": false
       },
       "data": [
        {
         "autocolorscale": false,
         "colorbar": {
          "title": {
           "text": "Amount"
          }
         },
         "colorscale": [
          [
           0,
           "rgb(50,50,255)"
          ],
          [
           1,
           "rgb(255,50,50)"
          ]
         ],
         "customdata": [
          2011
         ],
         "locationmode": "country names",
         "locations": [
          "Australia",
          "Austria",
          "Belgium",
          "Canada",
          "China",
          "Denmark",
          "Egypt",
          "Finland",
          "France",
          "Germany",
          "Hong Kong",
          "Japan",
          "Netherlands",
          "New Zealand",
          "Norway",
          "Republic of Ireland",
          "Singapore",
          "South Africa",
          "South Korea",
          "Spain",
          "Sweden",
          "Switzerland",
          "Taiwan",
          "Turkey",
          "United Kingdom",
          "United States of America"
         ],
         "marker": {
          "line": {
           "color": "rgb(0,0,0)",
           "width": 0.25
          }
         },
         "reversescale": true,
         "type": "choropleth",
         "uid": "b8183f0b-ae60-43fc-bee2-524f0952e9b1",
         "z": [
          7,
          2,
          2,
          9,
          6,
          3,
          1,
          1,
          4,
          14,
          4,
          5,
          10,
          1,
          1,
          2,
          2,
          1,
          4,
          2,
          6,
          6,
          4,
          2,
          29,
          72
         ],
         "zmax": 150,
         "zmin": 0
        },
        {
         "autocolorscale": false,
         "colorbar": {
          "title": {
           "text": "Amount"
          }
         },
         "colorscale": [
          [
           0,
           "rgb(50,50,255)"
          ],
          [
           1,
           "rgb(255,50,50)"
          ]
         ],
         "customdata": [
          2012
         ],
         "locationmode": "country names",
         "locations": [
          "Australia",
          "Austria",
          "Belgium",
          "Brazil",
          "Canada",
          "Chile",
          "China",
          "Czech Republic",
          "Denmark",
          "Egypt",
          "Estonia",
          "Finland",
          "France",
          "Germany",
          "Greece",
          "Hong Kong",
          "Iceland",
          "India",
          "Iran",
          "Israel",
          "Italy",
          "Japan",
          "Netherlands",
          "New Zealand",
          "Norway",
          "Poland",
          "Portugal",
          "Republic of Ireland",
          "Russian Federation",
          "Singapore",
          "South Africa",
          "South Korea",
          "Spain",
          "Sweden",
          "Switzerland",
          "Taiwan",
          "Thailand",
          "Turkey",
          "United Kingdom",
          "United States of America"
         ],
         "marker": {
          "line": {
           "color": "rgb(0,0,0)",
           "width": 0.25
          }
         },
         "reversescale": true,
         "type": "choropleth",
         "uid": "7293979e-9af9-4417-91a4-173c0f54629b",
         "z": [
          21,
          5,
          7,
          2,
          18,
          1,
          10,
          1,
          5,
          1,
          1,
          5,
          8,
          22,
          1,
          6,
          1,
          1,
          1,
          4,
          14,
          16,
          13,
          6,
          4,
          2,
          4,
          5,
          2,
          2,
          3,
          7,
          8,
          10,
          7,
          8,
          1,
          4,
          52,
          113
         ],
         "zmax": 150,
         "zmin": 0
        },
        {
         "autocolorscale": false,
         "colorbar": {
          "title": {
           "text": "Amount"
          }
         },
         "colorscale": [
          [
           0,
           "rgb(50,50,255)"
          ],
          [
           1,
           "rgb(255,50,50)"
          ]
         ],
         "customdata": [
          2013
         ],
         "locationmode": "country names",
         "locations": [
          "Australia",
          "Austria",
          "Belgium",
          "Brazil",
          "Canada",
          "China",
          "Colombia",
          "Czech Republic",
          "Denmark",
          "Estonia",
          "Finland",
          "France",
          "Germany",
          "Greece",
          "Hong Kong",
          "Iceland",
          "India",
          "Iran",
          "Israel",
          "Italy",
          "Japan",
          "Mexico",
          "Netherlands",
          "New Zealand",
          "Norway",
          "Poland",
          "Portugal",
          "Republic of Ireland",
          "Russian Federation",
          "Saudi Arabia",
          "Singapore",
          "South Africa",
          "South Korea",
          "Spain",
          "Sweden",
          "Switzerland",
          "Taiwan",
          "Thailand",
          "Turkey",
          "United Kingdom",
          "United States of America"
         ],
         "marker": {
          "line": {
           "color": "rgb(0,0,0)",
           "width": 0.25
          }
         },
         "reversescale": true,
         "type": "choropleth",
         "uid": "c22e2c5b-d616-41a4-ba11-4503800548fa",
         "z": [
          19,
          6,
          7,
          2,
          19,
          9,
          1,
          1,
          5,
          1,
          5,
          12,
          25,
          1,
          6,
          1,
          3,
          1,
          3,
          14,
          13,
          1,
          13,
          6,
          4,
          2,
          3,
          5,
          2,
          1,
          2,
          4,
          6,
          7,
          10,
          8,
          7,
          1,
          5,
          48,
          111
         ],
         "zmax": 150,
         "zmin": 0
        },
        {
         "autocolorscale": false,
         "colorbar": {
          "title": {
           "text": "Amount"
          }
         },
         "colorscale": [
          [
           0,
           "rgb(50,50,255)"
          ],
          [
           1,
           "rgb(255,50,50)"
          ]
         ],
         "customdata": [
          2014
         ],
         "locationmode": "country names",
         "locations": [
          "Australia",
          "Austria",
          "Belgium",
          "Brazil",
          "Canada",
          "China",
          "Colombia",
          "Czech Republic",
          "Denmark",
          "Estonia",
          "Finland",
          "France",
          "Germany",
          "Greece",
          "Hong Kong",
          "Iceland",
          "India",
          "Iran",
          "Israel",
          "Italy",
          "Japan",
          "Netherlands",
          "New Zealand",
          "Norway",
          "Poland",
          "Portugal",
          "Republic of Ireland",
          "Russian Federation",
          "Saudi Arabia",
          "Singapore",
          "South Africa",
          "South Korea",
          "Spain",
          "Sweden",
          "Switzerland",
          "Taiwan",
          "Thailand",
          "Turkey",
          "United Kingdom",
          "United States of America"
         ],
         "marker": {
          "line": {
           "color": "rgb(0,0,0)",
           "width": 0.25
          }
         },
         "reversescale": true,
         "type": "choropleth",
         "uid": "c0dcde0a-10d8-4ae6-ae58-f2c73ca1cb1e",
         "z": [
          19,
          6,
          7,
          2,
          19,
          10,
          1,
          1,
          5,
          1,
          5,
          11,
          26,
          1,
          6,
          1,
          5,
          1,
          3,
          15,
          11,
          13,
          5,
          4,
          1,
          2,
          5,
          1,
          2,
          2,
          3,
          7,
          9,
          10,
          8,
          8,
          1,
          5,
          49,
          109
         ],
         "zmax": 150,
         "zmin": 0
        },
        {
         "autocolorscale": false,
         "colorbar": {
          "title": {
           "text": "Amount"
          }
         },
         "colorscale": [
          [
           0,
           "rgb(50,50,255)"
          ],
          [
           1,
           "rgb(255,50,50)"
          ]
         ],
         "customdata": [
          2015
         ],
         "locationmode": "country names",
         "locations": [
          "Australia",
          "Austria",
          "Belgium",
          "Brazil",
          "Canada",
          "Chile",
          "China",
          "Colombia",
          "Czech Republic",
          "Denmark",
          "Finland",
          "France",
          "Germany",
          "Greece",
          "Hong Kong",
          "Iceland",
          "India",
          "Iran",
          "Israel",
          "Italy",
          "Japan",
          "Macau",
          "Morocco",
          "Netherlands",
          "New Zealand",
          "Norway",
          "Poland",
          "Portugal",
          "Republic of Ireland",
          "Russian Federation",
          "Singapore",
          "South Africa",
          "South Korea",
          "Spain",
          "Sweden",
          "Switzerland",
          "Taiwan",
          "Thailand",
          "Turkey",
          "United Kingdom",
          "United States of America"
         ],
         "marker": {
          "line": {
           "color": "rgb(0,0,0)",
           "width": 0.25
          }
         },
         "reversescale": true,
         "type": "choropleth",
         "uid": "06f54fc8-f062-498c-ab8e-5864fb924e40",
         "z": [
          20,
          5,
          7,
          2,
          18,
          1,
          11,
          1,
          1,
          5,
          7,
          11,
          28,
          1,
          6,
          1,
          4,
          2,
          3,
          17,
          12,
          1,
          1,
          13,
          5,
          4,
          1,
          2,
          5,
          2,
          2,
          3,
          9,
          6,
          10,
          8,
          6,
          1,
          6,
          45,
          108
         ],
         "zmax": 150,
         "zmin": 0
        },
        {
         "autocolorscale": false,
         "colorbar": {
          "title": {
           "text": "Amount"
          }
         },
         "colorscale": [
          [
           0,
           "rgb(50,50,255)"
          ],
          [
           1,
           "rgb(255,50,50)"
          ]
         ],
         "customdata": [
          2016
         ],
         "locationmode": "country names",
         "locations": [
          "Argentina",
          "Australia",
          "Austria",
          "Bangladesh",
          "Belarus",
          "Belgium",
          "Brazil",
          "Canada",
          "Chile",
          "China",
          "Colombia",
          "Cyprus",
          "Czech Republic",
          "Denmark",
          "Egypt",
          "Estonia",
          "Finland",
          "France",
          "Germany",
          "Ghana",
          "Greece",
          "Hong Kong",
          "Hungary",
          "Iceland",
          "India",
          "Indonesia",
          "Iran",
          "Israel",
          "Italy",
          "Japan",
          "Jordan",
          "Kenya",
          "Latvia",
          "Lebanon",
          "Lithuania",
          "Luxembourg",
          "Macau",
          "Malaysia",
          "Mexico",
          "Morocco",
          "Netherlands",
          "New Zealand",
          "Nigeria",
          "Norway",
          "Oman",
          "Pakistan",
          "Poland",
          "Portugal",
          "Qatar",
          "Republic of Ireland",
          "Romania",
          "Russian Federation",
          "Saudi Arabia",
          "Serbia",
          "Singapore",
          "Slovakia",
          "Slovenia",
          "South Africa",
          "South Korea",
          "Spain",
          "Sweden",
          "Switzerland",
          "Taiwan",
          "Thailand",
          "Turkey",
          "Uganda",
          "Ukraine",
          "Unisted States of America",
          "United Arab Emirates",
          "United Kingdom",
          "United States of America",
          "Unted Kingdom"
         ],
         "marker": {
          "line": {
           "color": "rgb(0,0,0)",
           "width": 0.25
          }
         },
         "reversescale": true,
         "type": "choropleth",
         "uid": "b9f4f8a8-935f-4389-b738-e0434eb3497c",
         "z": [
          1,
          31,
          7,
          1,
          1,
          7,
          17,
          25,
          6,
          37,
          2,
          1,
          9,
          6,
          3,
          2,
          9,
          27,
          37,
          1,
          7,
          6,
          6,
          1,
          17,
          1,
          8,
          6,
          34,
          41,
          2,
          1,
          1,
          1,
          1,
          1,
          1,
          5,
          2,
          1,
          13,
          7,
          1,
          4,
          1,
          2,
          7,
          7,
          1,
          9,
          4,
          13,
          3,
          1,
          2,
          2,
          2,
          6,
          24,
          25,
          11,
          10,
          24,
          7,
          11,
          1,
          2,
          1,
          2,
          77,
          146,
          1
         ],
         "zmax": 150,
         "zmin": 0
        }
       ],
       "layout": {
        "geo": {
         "lakecolor": "rgb(255, 255, 255)",
         "projection": {
          "type": "equirectangular"
         },
         "scope": "world",
         "showlakes": true
        },
        "sliders": [
         {
          "active": 5,
          "pad": {
           "t": 1
          },
          "steps": [
           {
            "args": [
             "visible",
             [
              true,
              false,
              false,
              false,
              false,
              false
             ]
            ],
            "label": "Year 2011",
            "method": "restyle"
           },
           {
            "args": [
             "visible",
             [
              false,
              true,
              false,
              false,
              false,
              false
             ]
            ],
            "label": "Year 2012",
            "method": "restyle"
           },
           {
            "args": [
             "visible",
             [
              false,
              false,
              true,
              false,
              false,
              false
             ]
            ],
            "label": "Year 2013",
            "method": "restyle"
           },
           {
            "args": [
             "visible",
             [
              false,
              false,
              false,
              true,
              false,
              false
             ]
            ],
            "label": "Year 2014",
            "method": "restyle"
           },
           {
            "args": [
             "visible",
             [
              false,
              false,
              false,
              false,
              true,
              false
             ]
            ],
            "label": "Year 2015",
            "method": "restyle"
           },
           {
            "args": [
             "visible",
             [
              false,
              false,
              false,
              false,
              false,
              true
             ]
            ],
            "label": "Year 2016",
            "method": "restyle"
           }
          ]
         }
        ],
        "title": {
         "text": "Number of universities in each country"
        }
       }
      },
      "text/html": [
       "<div>\n",
       "        \n",
       "        \n",
       "            <div id=\"b2902e83-2735-45b3-964b-9973881e1621\" class=\"plotly-graph-div\" style=\"height:525px; width:100%;\"></div>\n",
       "            <script type=\"text/javascript\">\n",
       "                require([\"plotly\"], function(Plotly) {\n",
       "                    window.PLOTLYENV=window.PLOTLYENV || {};\n",
       "                    window.PLOTLYENV.BASE_URL='https://plot.ly';\n",
       "                    \n",
       "                if (document.getElementById(\"b2902e83-2735-45b3-964b-9973881e1621\")) {\n",
       "                    Plotly.newPlot(\n",
       "                        'b2902e83-2735-45b3-964b-9973881e1621',\n",
       "                        [{\"autocolorscale\": false, \"colorbar\": {\"title\": {\"text\": \"Amount\"}}, \"colorscale\": [[0, \"rgb(50,50,255)\"], [1, \"rgb(255,50,50)\"]], \"customdata\": [2011], \"locationmode\": \"country names\", \"locations\": [\"Australia\", \"Austria\", \"Belgium\", \"Canada\", \"China\", \"Denmark\", \"Egypt\", \"Finland\", \"France\", \"Germany\", \"Hong Kong\", \"Japan\", \"Netherlands\", \"New Zealand\", \"Norway\", \"Republic of Ireland\", \"Singapore\", \"South Africa\", \"South Korea\", \"Spain\", \"Sweden\", \"Switzerland\", \"Taiwan\", \"Turkey\", \"United Kingdom\", \"United States of America\"], \"marker\": {\"line\": {\"color\": \"rgb(0,0,0)\", \"width\": 0.25}}, \"reversescale\": true, \"type\": \"choropleth\", \"uid\": \"b8183f0b-ae60-43fc-bee2-524f0952e9b1\", \"z\": [7.0, 2.0, 2.0, 9.0, 6.0, 3.0, 1.0, 1.0, 4.0, 14.0, 4.0, 5.0, 10.0, 1.0, 1.0, 2.0, 2.0, 1.0, 4.0, 2.0, 6.0, 6.0, 4.0, 2.0, 29.0, 72.0], \"zmax\": 150, \"zmin\": 0}, {\"autocolorscale\": false, \"colorbar\": {\"title\": {\"text\": \"Amount\"}}, \"colorscale\": [[0, \"rgb(50,50,255)\"], [1, \"rgb(255,50,50)\"]], \"customdata\": [2012], \"locationmode\": \"country names\", \"locations\": [\"Australia\", \"Austria\", \"Belgium\", \"Brazil\", \"Canada\", \"Chile\", \"China\", \"Czech Republic\", \"Denmark\", \"Egypt\", \"Estonia\", \"Finland\", \"France\", \"Germany\", \"Greece\", \"Hong Kong\", \"Iceland\", \"India\", \"Iran\", \"Israel\", \"Italy\", \"Japan\", \"Netherlands\", \"New Zealand\", \"Norway\", \"Poland\", \"Portugal\", \"Republic of Ireland\", \"Russian Federation\", \"Singapore\", \"South Africa\", \"South Korea\", \"Spain\", \"Sweden\", \"Switzerland\", \"Taiwan\", \"Thailand\", \"Turkey\", \"United Kingdom\", \"United States of America\"], \"marker\": {\"line\": {\"color\": \"rgb(0,0,0)\", \"width\": 0.25}}, \"reversescale\": true, \"type\": \"choropleth\", \"uid\": \"7293979e-9af9-4417-91a4-173c0f54629b\", \"z\": [21.0, 5.0, 7.0, 2.0, 18.0, 1.0, 10.0, 1.0, 5.0, 1.0, 1.0, 5.0, 8.0, 22.0, 1.0, 6.0, 1.0, 1.0, 1.0, 4.0, 14.0, 16.0, 13.0, 6.0, 4.0, 2.0, 4.0, 5.0, 2.0, 2.0, 3.0, 7.0, 8.0, 10.0, 7.0, 8.0, 1.0, 4.0, 52.0, 113.0], \"zmax\": 150, \"zmin\": 0}, {\"autocolorscale\": false, \"colorbar\": {\"title\": {\"text\": \"Amount\"}}, \"colorscale\": [[0, \"rgb(50,50,255)\"], [1, \"rgb(255,50,50)\"]], \"customdata\": [2013], \"locationmode\": \"country names\", \"locations\": [\"Australia\", \"Austria\", \"Belgium\", \"Brazil\", \"Canada\", \"China\", \"Colombia\", \"Czech Republic\", \"Denmark\", \"Estonia\", \"Finland\", \"France\", \"Germany\", \"Greece\", \"Hong Kong\", \"Iceland\", \"India\", \"Iran\", \"Israel\", \"Italy\", \"Japan\", \"Mexico\", \"Netherlands\", \"New Zealand\", \"Norway\", \"Poland\", \"Portugal\", \"Republic of Ireland\", \"Russian Federation\", \"Saudi Arabia\", \"Singapore\", \"South Africa\", \"South Korea\", \"Spain\", \"Sweden\", \"Switzerland\", \"Taiwan\", \"Thailand\", \"Turkey\", \"United Kingdom\", \"United States of America\"], \"marker\": {\"line\": {\"color\": \"rgb(0,0,0)\", \"width\": 0.25}}, \"reversescale\": true, \"type\": \"choropleth\", \"uid\": \"c22e2c5b-d616-41a4-ba11-4503800548fa\", \"z\": [19.0, 6.0, 7.0, 2.0, 19.0, 9.0, 1.0, 1.0, 5.0, 1.0, 5.0, 12.0, 25.0, 1.0, 6.0, 1.0, 3.0, 1.0, 3.0, 14.0, 13.0, 1.0, 13.0, 6.0, 4.0, 2.0, 3.0, 5.0, 2.0, 1.0, 2.0, 4.0, 6.0, 7.0, 10.0, 8.0, 7.0, 1.0, 5.0, 48.0, 111.0], \"zmax\": 150, \"zmin\": 0}, {\"autocolorscale\": false, \"colorbar\": {\"title\": {\"text\": \"Amount\"}}, \"colorscale\": [[0, \"rgb(50,50,255)\"], [1, \"rgb(255,50,50)\"]], \"customdata\": [2014], \"locationmode\": \"country names\", \"locations\": [\"Australia\", \"Austria\", \"Belgium\", \"Brazil\", \"Canada\", \"China\", \"Colombia\", \"Czech Republic\", \"Denmark\", \"Estonia\", \"Finland\", \"France\", \"Germany\", \"Greece\", \"Hong Kong\", \"Iceland\", \"India\", \"Iran\", \"Israel\", \"Italy\", \"Japan\", \"Netherlands\", \"New Zealand\", \"Norway\", \"Poland\", \"Portugal\", \"Republic of Ireland\", \"Russian Federation\", \"Saudi Arabia\", \"Singapore\", \"South Africa\", \"South Korea\", \"Spain\", \"Sweden\", \"Switzerland\", \"Taiwan\", \"Thailand\", \"Turkey\", \"United Kingdom\", \"United States of America\"], \"marker\": {\"line\": {\"color\": \"rgb(0,0,0)\", \"width\": 0.25}}, \"reversescale\": true, \"type\": \"choropleth\", \"uid\": \"c0dcde0a-10d8-4ae6-ae58-f2c73ca1cb1e\", \"z\": [19.0, 6.0, 7.0, 2.0, 19.0, 10.0, 1.0, 1.0, 5.0, 1.0, 5.0, 11.0, 26.0, 1.0, 6.0, 1.0, 5.0, 1.0, 3.0, 15.0, 11.0, 13.0, 5.0, 4.0, 1.0, 2.0, 5.0, 1.0, 2.0, 2.0, 3.0, 7.0, 9.0, 10.0, 8.0, 8.0, 1.0, 5.0, 49.0, 109.0], \"zmax\": 150, \"zmin\": 0}, {\"autocolorscale\": false, \"colorbar\": {\"title\": {\"text\": \"Amount\"}}, \"colorscale\": [[0, \"rgb(50,50,255)\"], [1, \"rgb(255,50,50)\"]], \"customdata\": [2015], \"locationmode\": \"country names\", \"locations\": [\"Australia\", \"Austria\", \"Belgium\", \"Brazil\", \"Canada\", \"Chile\", \"China\", \"Colombia\", \"Czech Republic\", \"Denmark\", \"Finland\", \"France\", \"Germany\", \"Greece\", \"Hong Kong\", \"Iceland\", \"India\", \"Iran\", \"Israel\", \"Italy\", \"Japan\", \"Macau\", \"Morocco\", \"Netherlands\", \"New Zealand\", \"Norway\", \"Poland\", \"Portugal\", \"Republic of Ireland\", \"Russian Federation\", \"Singapore\", \"South Africa\", \"South Korea\", \"Spain\", \"Sweden\", \"Switzerland\", \"Taiwan\", \"Thailand\", \"Turkey\", \"United Kingdom\", \"United States of America\"], \"marker\": {\"line\": {\"color\": \"rgb(0,0,0)\", \"width\": 0.25}}, \"reversescale\": true, \"type\": \"choropleth\", \"uid\": \"06f54fc8-f062-498c-ab8e-5864fb924e40\", \"z\": [20.0, 5.0, 7.0, 2.0, 18.0, 1.0, 11.0, 1.0, 1.0, 5.0, 7.0, 11.0, 28.0, 1.0, 6.0, 1.0, 4.0, 2.0, 3.0, 17.0, 12.0, 1.0, 1.0, 13.0, 5.0, 4.0, 1.0, 2.0, 5.0, 2.0, 2.0, 3.0, 9.0, 6.0, 10.0, 8.0, 6.0, 1.0, 6.0, 45.0, 108.0], \"zmax\": 150, \"zmin\": 0}, {\"autocolorscale\": false, \"colorbar\": {\"title\": {\"text\": \"Amount\"}}, \"colorscale\": [[0, \"rgb(50,50,255)\"], [1, \"rgb(255,50,50)\"]], \"customdata\": [2016], \"locationmode\": \"country names\", \"locations\": [\"Argentina\", \"Australia\", \"Austria\", \"Bangladesh\", \"Belarus\", \"Belgium\", \"Brazil\", \"Canada\", \"Chile\", \"China\", \"Colombia\", \"Cyprus\", \"Czech Republic\", \"Denmark\", \"Egypt\", \"Estonia\", \"Finland\", \"France\", \"Germany\", \"Ghana\", \"Greece\", \"Hong Kong\", \"Hungary\", \"Iceland\", \"India\", \"Indonesia\", \"Iran\", \"Israel\", \"Italy\", \"Japan\", \"Jordan\", \"Kenya\", \"Latvia\", \"Lebanon\", \"Lithuania\", \"Luxembourg\", \"Macau\", \"Malaysia\", \"Mexico\", \"Morocco\", \"Netherlands\", \"New Zealand\", \"Nigeria\", \"Norway\", \"Oman\", \"Pakistan\", \"Poland\", \"Portugal\", \"Qatar\", \"Republic of Ireland\", \"Romania\", \"Russian Federation\", \"Saudi Arabia\", \"Serbia\", \"Singapore\", \"Slovakia\", \"Slovenia\", \"South Africa\", \"South Korea\", \"Spain\", \"Sweden\", \"Switzerland\", \"Taiwan\", \"Thailand\", \"Turkey\", \"Uganda\", \"Ukraine\", \"Unisted States of America\", \"United Arab Emirates\", \"United Kingdom\", \"United States of America\", \"Unted Kingdom\"], \"marker\": {\"line\": {\"color\": \"rgb(0,0,0)\", \"width\": 0.25}}, \"reversescale\": true, \"type\": \"choropleth\", \"uid\": \"b9f4f8a8-935f-4389-b738-e0434eb3497c\", \"z\": [1.0, 31.0, 7.0, 1.0, 1.0, 7.0, 17.0, 25.0, 6.0, 37.0, 2.0, 1.0, 9.0, 6.0, 3.0, 2.0, 9.0, 27.0, 37.0, 1.0, 7.0, 6.0, 6.0, 1.0, 17.0, 1.0, 8.0, 6.0, 34.0, 41.0, 2.0, 1.0, 1.0, 1.0, 1.0, 1.0, 1.0, 5.0, 2.0, 1.0, 13.0, 7.0, 1.0, 4.0, 1.0, 2.0, 7.0, 7.0, 1.0, 9.0, 4.0, 13.0, 3.0, 1.0, 2.0, 2.0, 2.0, 6.0, 24.0, 25.0, 11.0, 10.0, 24.0, 7.0, 11.0, 1.0, 2.0, 1.0, 2.0, 77.0, 146.0, 1.0], \"zmax\": 150, \"zmin\": 0}],\n",
       "                        {\"geo\": {\"lakecolor\": \"rgb(255, 255, 255)\", \"projection\": {\"type\": \"equirectangular\"}, \"scope\": \"world\", \"showlakes\": true}, \"sliders\": [{\"active\": 5, \"pad\": {\"t\": 1}, \"steps\": [{\"args\": [\"visible\", [true, false, false, false, false, false]], \"label\": \"Year 2011\", \"method\": \"restyle\"}, {\"args\": [\"visible\", [false, true, false, false, false, false]], \"label\": \"Year 2012\", \"method\": \"restyle\"}, {\"args\": [\"visible\", [false, false, true, false, false, false]], \"label\": \"Year 2013\", \"method\": \"restyle\"}, {\"args\": [\"visible\", [false, false, false, true, false, false]], \"label\": \"Year 2014\", \"method\": \"restyle\"}, {\"args\": [\"visible\", [false, false, false, false, true, false]], \"label\": \"Year 2015\", \"method\": \"restyle\"}, {\"args\": [\"visible\", [false, false, false, false, false, true]], \"label\": \"Year 2016\", \"method\": \"restyle\"}]}], \"title\": {\"text\": \"Number of universities in each country\"}},\n",
       "                        {\"showLink\": false, \"linkText\": \"Export to plot.ly\", \"plotlyServerURL\": \"https://plot.ly\", \"responsive\": true}\n",
       "                    ).then(function(){\n",
       "                            \n",
       "var gd = document.getElementById('b2902e83-2735-45b3-964b-9973881e1621');\n",
       "var x = new MutationObserver(function (mutations, observer) {{\n",
       "        var display = window.getComputedStyle(gd).display;\n",
       "        if (!display || display === 'none') {{\n",
       "            console.log([gd, 'removed!']);\n",
       "            Plotly.purge(gd);\n",
       "            observer.disconnect();\n",
       "        }}\n",
       "}});\n",
       "\n",
       "// Listen for the removal of the full notebook cells\n",
       "var notebookContainer = gd.closest('#notebook-container');\n",
       "if (notebookContainer) {{\n",
       "    x.observe(notebookContainer, {childList: true});\n",
       "}}\n",
       "\n",
       "// Listen for the clearing of the current output cell\n",
       "var outputEl = gd.closest('.output');\n",
       "if (outputEl) {{\n",
       "    x.observe(outputEl, {childList: true});\n",
       "}}\n",
       "\n",
       "                        })\n",
       "                };\n",
       "                });\n",
       "            </script>\n",
       "        </div>"
      ]
     },
     "metadata": {},
     "output_type": "display_data"
    }
   ],
   "source": [
    "\n",
    "def choro(raw, year, statistic, unit, zmax, rv):\n",
    "    return go.Choropleth(\n",
    "        zmin = 0,\n",
    "        zmax = zmax,\n",
    "        reversescale = rv,\n",
    "        colorscale = [[0, 'rgb(50,50,255)'], [1, 'rgb(255,50,50)']],\n",
    "        autocolorscale = False,\n",
    "        locations = raw.index, #countries['country'],\n",
    "        z = raw[statistic].astype(float),\n",
    "        locationmode = 'country names',\n",
    "#         text = raw.index,\n",
    "        marker = go.choropleth.Marker(\n",
    "            line = go.choropleth.marker.Line(\n",
    "                color = 'rgb(0,0,0)',\n",
    "                width = .25\n",
    "            )),\n",
    "        colorbar = go.choropleth.ColorBar(\n",
    "            title = unit),\n",
    "        customdata = [year]\n",
    "    )\n",
    "\n",
    "def worldmap(statistic, title, unit, zmax, rv):\n",
    "    data = [choro(country_stats.loc[year], year, statistic, unit, zmax, rv) for year in country_stats.index.levels[0]]\n",
    "\n",
    "    steps = []\n",
    "    for i, d in enumerate(data):\n",
    "        step = dict(method='restyle',\n",
    "                    args=['visible', [False] * (len(data))],\n",
    "                    label='Year {}'.format(d.customdata[0]))\n",
    "        step['args'][1][i] = True\n",
    "        steps.append(step)\n",
    "\n",
    "    sliders = [dict(active=(len(data)-1),\n",
    "                    pad={\"t\": 1},\n",
    "                    steps=steps)]  \n",
    "\n",
    "    layout = go.Layout(\n",
    "        title = go.layout.Title(\n",
    "            text = title\n",
    "        ),\n",
    "        geo = go.layout.Geo(\n",
    "            scope = 'world',\n",
    "            projection = go.layout.geo.Projection(type = 'equirectangular'),\n",
    "            showlakes = True,\n",
    "            lakecolor = 'rgb(255, 255, 255)'),\n",
    "        sliders = sliders\n",
    "    )\n",
    "\n",
    "    fig = go.Figure(data = data, layout = layout)\n",
    "    iplot(fig)\n",
    "\n",
    "# for stat in country_stats.columns:\n",
    "#     worldmap(stat)\n",
    "\n",
    "\n",
    "worldmap('world_rank', 'Average ranking of universities in each country', 'Average Ranking', 800, False)\n",
    "worldmap('count', 'Number of universities in each country', 'Amount', 150, True)"
   ]
  },
  {
   "cell_type": "markdown",
   "metadata": {},
   "source": []
  },
  {
   "cell_type": "code",
   "execution_count": 2,
   "metadata": {},
   "outputs": [],
   "source": [
    "Japan = times[times['country'] == 'Japan']\n",
    "HONGKONG = times[times['country'] == 'Hong Kong']\n",
    "South_Korea = times[times['country'] == 'South Korea']\n",
    "China = times[times['country'] == 'China']\n",
    "Singapore = times[times['country'] == 'Singapore']\n",
    "Taiwan = times[times['country'] == 'Taiwan']\n",
    "Thailand = times[times['country'] == 'Thailand']\n",
    "USA = times[times['country'] == 'United States of America']\n",
    "asias = pd.concat([Japan, HONGKONG, South_Korea, China, Singapore, Taiwan, Thailand], ignore_index=True)\n",
    "\n",
    "\n",
    "rankasia = asias[['world_rank', 'year']].groupby(['year']).mean()\n",
    "rankUSA = USA[['world_rank', 'year']].groupby(['year']).mean()"
   ]
  },
  {
   "cell_type": "code",
   "execution_count": 3,
   "metadata": {},
   "outputs": [
    {
     "data": {
      "application/vnd.plotly.v1+json": {
       "config": {
        "linkText": "Export to plot.ly",
        "plotlyServerURL": "https://plot.ly",
        "showLink": false
       },
       "data": [
        {
         "name": "Azië",
         "type": "bar",
         "uid": "4cebc5f0-c66d-4949-a7f3-8660a8ca3969",
         "x": [
          2011,
          2012,
          2013,
          2014,
          2015,
          2016
         ],
         "y": [
          103.64,
          233.01,
          212.9318181818182,
          213.1888888888889,
          226.77659574468086,
          534.2163120567376
         ]
        },
        {
         "name": "USA",
         "type": "bar",
         "uid": "89bb84c0-c586-478e-9971-522fd9db3589",
         "x": [
          2011,
          2012,
          2013,
          2014,
          2015,
          2016
         ],
         "y": [
          71.84722222222223,
          150.2787610619469,
          154.55405405405406,
          153.24770642201835,
          155.13425925925927,
          267.5924657534247
         ]
        }
       ],
       "layout": {
        "barmode": "group",
        "title": {
         "text": "Vergeljking tussen Amerikaanse en Aziatische universiteiten over de jaren"
        },
        "xaxis": {
         "title": {
          "text": "Jaar"
         },
         "type": "category"
        },
        "yaxis": {
         "title": {
          "text": "Gemiddelde world ranking"
         }
        }
       }
      },
      "text/html": [
       "<div>\n",
       "        \n",
       "        \n",
       "            <div id=\"a217b4e8-d199-4fa8-8e23-c844069fdab9\" class=\"plotly-graph-div\" style=\"height:525px; width:100%;\"></div>\n",
       "            <script type=\"text/javascript\">\n",
       "                require([\"plotly\"], function(Plotly) {\n",
       "                    window.PLOTLYENV=window.PLOTLYENV || {};\n",
       "                    window.PLOTLYENV.BASE_URL='https://plot.ly';\n",
       "                    \n",
       "                if (document.getElementById(\"a217b4e8-d199-4fa8-8e23-c844069fdab9\")) {\n",
       "                    Plotly.newPlot(\n",
       "                        'a217b4e8-d199-4fa8-8e23-c844069fdab9',\n",
       "                        [{\"name\": \"Azi\\u00eb\", \"type\": \"bar\", \"uid\": \"4cebc5f0-c66d-4949-a7f3-8660a8ca3969\", \"x\": [2011, 2012, 2013, 2014, 2015, 2016], \"y\": [103.64, 233.01, 212.9318181818182, 213.1888888888889, 226.77659574468086, 534.2163120567376]}, {\"name\": \"USA\", \"type\": \"bar\", \"uid\": \"89bb84c0-c586-478e-9971-522fd9db3589\", \"x\": [2011, 2012, 2013, 2014, 2015, 2016], \"y\": [71.84722222222223, 150.2787610619469, 154.55405405405406, 153.24770642201835, 155.13425925925927, 267.5924657534247]}],\n",
       "                        {\"barmode\": \"group\", \"title\": {\"text\": \"Vergeljking tussen Amerikaanse en Aziatische universiteiten over de jaren\"}, \"xaxis\": {\"title\": {\"text\": \"Jaar\"}, \"type\": \"category\"}, \"yaxis\": {\"title\": {\"text\": \"Gemiddelde world ranking\"}}},\n",
       "                        {\"showLink\": false, \"linkText\": \"Export to plot.ly\", \"plotlyServerURL\": \"https://plot.ly\", \"responsive\": true}\n",
       "                    ).then(function(){\n",
       "                            \n",
       "var gd = document.getElementById('a217b4e8-d199-4fa8-8e23-c844069fdab9');\n",
       "var x = new MutationObserver(function (mutations, observer) {{\n",
       "        var display = window.getComputedStyle(gd).display;\n",
       "        if (!display || display === 'none') {{\n",
       "            console.log([gd, 'removed!']);\n",
       "            Plotly.purge(gd);\n",
       "            observer.disconnect();\n",
       "        }}\n",
       "}});\n",
       "\n",
       "// Listen for the removal of the full notebook cells\n",
       "var notebookContainer = gd.closest('#notebook-container');\n",
       "if (notebookContainer) {{\n",
       "    x.observe(notebookContainer, {childList: true});\n",
       "}}\n",
       "\n",
       "// Listen for the clearing of the current output cell\n",
       "var outputEl = gd.closest('.output');\n",
       "if (outputEl) {{\n",
       "    x.observe(outputEl, {childList: true});\n",
       "}}\n",
       "\n",
       "                        })\n",
       "                };\n",
       "                });\n",
       "            </script>\n",
       "        </div>"
      ]
     },
     "metadata": {},
     "output_type": "display_data"
    }
   ],
   "source": [
    "trace1 = go.Bar(\n",
    "    x=rankasia.index,\n",
    "    y=rankasia['world_rank'],\n",
    "    name='Azië'\n",
    ")\n",
    "\n",
    "trace2 = go.Bar(\n",
    "    x=rankUSA.index,\n",
    "    y=rankUSA['world_rank'],\n",
    "    name='USA'\n",
    ")\n",
    "data = [trace1, trace2]\n",
    "\n",
    "layout = go.Layout(\n",
    "    \n",
    "    barmode='group',\n",
    "    \n",
    "    title=go.layout.Title(\n",
    "        text='Vergeljking tussen Amerikaanse en Aziatische universiteiten over de jaren',\n",
    "        \n",
    "    ),\n",
    "    xaxis=go.layout.XAxis(\n",
    "        title=go.layout.xaxis.Title(\n",
    "            text='Jaar'\n",
    "        ),\n",
    "        type='category' # het type van de X as is categorisch\n",
    "    ),\n",
    "    yaxis = go.layout.YAxis(\n",
    "        title=go.layout.yaxis.Title(\n",
    "            text='Gemiddelde world ranking'\n",
    "        )\n",
    "    )\n",
    ")\n",
    "\n",
    "fig = go.Figure(data=data, layout=layout)\n",
    "iplot(fig)\n"
   ]
  },
  {
   "cell_type": "code",
   "execution_count": 4,
   "metadata": {},
   "outputs": [],
   "source": [
    "count_asia= asias['year'].value_counts()\n",
    "count_USA= USA['year'].value_counts()\n",
    "count_asia= count_asia.to_frame(name=None)\n",
    "count_USA= count_USA.to_frame(name=None)\n",
    "count_asia= count_asia.iloc[::-1]\n",
    "count_USA= count_USA.iloc[::-1]\n"
   ]
  },
  {
   "cell_type": "code",
   "execution_count": 5,
   "metadata": {},
   "outputs": [
    {
     "data": {
      "application/vnd.plotly.v1+json": {
       "config": {
        "linkText": "Export to plot.ly",
        "plotlyServerURL": "https://plot.ly",
        "showLink": false
       },
       "data": [
        {
         "name": "Azië",
         "type": "bar",
         "uid": "51d4ae88-c66d-4126-8d63-e52e1a59b1df",
         "x": [
          2011,
          2013,
          2014,
          2015,
          2012,
          2016
         ],
         "y": [
          25,
          44,
          45,
          47,
          50,
          141
         ]
        },
        {
         "name": "USA",
         "type": "bar",
         "uid": "f08a2a10-8f0a-44b3-b309-9d6d483f56f1",
         "x": [
          2011,
          2015,
          2014,
          2013,
          2012,
          2016
         ],
         "y": [
          72,
          108,
          109,
          111,
          113,
          146
         ]
        }
       ],
       "layout": {
        "barmode": "group",
        "title": {
         "text": "Vergeljking tussen de hoeveelheid Amerikaanse en Aziatische universiteiten over de jaren"
        },
        "xaxis": {
         "title": {
          "text": "Jaar"
         },
         "type": "category"
        },
        "yaxis": {
         "title": {
          "text": "Hoeveelheid universiteiten"
         }
        }
       }
      },
      "text/html": [
       "<div>\n",
       "        \n",
       "        \n",
       "            <div id=\"8ec3dd36-910e-428e-a860-b96d34cfd2a0\" class=\"plotly-graph-div\" style=\"height:525px; width:100%;\"></div>\n",
       "            <script type=\"text/javascript\">\n",
       "                require([\"plotly\"], function(Plotly) {\n",
       "                    window.PLOTLYENV=window.PLOTLYENV || {};\n",
       "                    window.PLOTLYENV.BASE_URL='https://plot.ly';\n",
       "                    \n",
       "                if (document.getElementById(\"8ec3dd36-910e-428e-a860-b96d34cfd2a0\")) {\n",
       "                    Plotly.newPlot(\n",
       "                        '8ec3dd36-910e-428e-a860-b96d34cfd2a0',\n",
       "                        [{\"name\": \"Azi\\u00eb\", \"type\": \"bar\", \"uid\": \"51d4ae88-c66d-4126-8d63-e52e1a59b1df\", \"x\": [2011, 2013, 2014, 2015, 2012, 2016], \"y\": [25, 44, 45, 47, 50, 141]}, {\"name\": \"USA\", \"type\": \"bar\", \"uid\": \"f08a2a10-8f0a-44b3-b309-9d6d483f56f1\", \"x\": [2011, 2015, 2014, 2013, 2012, 2016], \"y\": [72, 108, 109, 111, 113, 146]}],\n",
       "                        {\"barmode\": \"group\", \"title\": {\"text\": \"Vergeljking tussen de hoeveelheid Amerikaanse en Aziatische universiteiten over de jaren\"}, \"xaxis\": {\"title\": {\"text\": \"Jaar\"}, \"type\": \"category\"}, \"yaxis\": {\"title\": {\"text\": \"Hoeveelheid universiteiten\"}}},\n",
       "                        {\"showLink\": false, \"linkText\": \"Export to plot.ly\", \"plotlyServerURL\": \"https://plot.ly\", \"responsive\": true}\n",
       "                    ).then(function(){\n",
       "                            \n",
       "var gd = document.getElementById('8ec3dd36-910e-428e-a860-b96d34cfd2a0');\n",
       "var x = new MutationObserver(function (mutations, observer) {{\n",
       "        var display = window.getComputedStyle(gd).display;\n",
       "        if (!display || display === 'none') {{\n",
       "            console.log([gd, 'removed!']);\n",
       "            Plotly.purge(gd);\n",
       "            observer.disconnect();\n",
       "        }}\n",
       "}});\n",
       "\n",
       "// Listen for the removal of the full notebook cells\n",
       "var notebookContainer = gd.closest('#notebook-container');\n",
       "if (notebookContainer) {{\n",
       "    x.observe(notebookContainer, {childList: true});\n",
       "}}\n",
       "\n",
       "// Listen for the clearing of the current output cell\n",
       "var outputEl = gd.closest('.output');\n",
       "if (outputEl) {{\n",
       "    x.observe(outputEl, {childList: true});\n",
       "}}\n",
       "\n",
       "                        })\n",
       "                };\n",
       "                });\n",
       "            </script>\n",
       "        </div>"
      ]
     },
     "metadata": {},
     "output_type": "display_data"
    }
   ],
   "source": [
    "trace1 = go.Bar(\n",
    "    x=count_asia.index,\n",
    "    y=count_asia['year'],\n",
    "    name='Azië'\n",
    ")\n",
    "\n",
    "trace2 = go.Bar(\n",
    "    x=count_USA.index,\n",
    "    y=count_USA['year'],\n",
    "    name='USA'\n",
    ")\n",
    "data = [trace1, trace2]\n",
    "\n",
    "layout = go.Layout(\n",
    "    \n",
    "    barmode='group',\n",
    "    \n",
    "    title=go.layout.Title(\n",
    "        text='Vergeljking tussen de hoeveelheid Amerikaanse en Aziatische universiteiten over de jaren',\n",
    "        \n",
    "    ),\n",
    "    xaxis=go.layout.XAxis(\n",
    "        title=go.layout.xaxis.Title(\n",
    "            text='Jaar'\n",
    "        ),\n",
    "        type='category' # het type van de X as is categorisch\n",
    "    ),\n",
    "    yaxis = go.layout.YAxis(\n",
    "        title=go.layout.yaxis.Title(\n",
    "            text='Hoeveelheid universiteiten'\n",
    "        )\n",
    "    )\n",
    ")\n",
    "\n",
    "fig = go.Figure(data=data, layout=layout)\n",
    "iplot(fig)\n"
   ]
  },
  {
   "cell_type": "code",
   "execution_count": 44,
   "metadata": {},
   "outputs": [
    {
     "ename": "IndexingError",
     "evalue": "Unalignable boolean Series provided as indexer (index of the boolean Series and of the indexed object do not match",
     "output_type": "error",
     "traceback": [
      "\u001b[0;31m--------------------------------------------------------------\u001b[0m",
      "\u001b[0;31mIndexingError\u001b[0m                Traceback (most recent call last)",
      "\u001b[0;32m<ipython-input-44-e3d866e094fd>\u001b[0m in \u001b[0;36m<module>\u001b[0;34m\u001b[0m\n\u001b[1;32m      1\u001b[0m \u001b[0muniv2011\u001b[0m \u001b[0;34m=\u001b[0m \u001b[0mtimes\u001b[0m\u001b[0;34m.\u001b[0m\u001b[0mloc\u001b[0m\u001b[0;34m[\u001b[0m\u001b[0mtimes\u001b[0m\u001b[0;34m[\u001b[0m\u001b[0;34m'year'\u001b[0m\u001b[0;34m]\u001b[0m \u001b[0;34m==\u001b[0m \u001b[0;36m2011\u001b[0m\u001b[0;34m]\u001b[0m\u001b[0;34m[\u001b[0m\u001b[0;34m'university_name'\u001b[0m\u001b[0;34m]\u001b[0m\u001b[0;34m\u001b[0m\u001b[0;34m\u001b[0m\u001b[0m\n\u001b[1;32m      2\u001b[0m \u001b[0mrankasia_filtered\u001b[0m \u001b[0;34m=\u001b[0m \u001b[0masias\u001b[0m\u001b[0;34m.\u001b[0m\u001b[0mloc\u001b[0m\u001b[0;34m[\u001b[0m\u001b[0masias\u001b[0m\u001b[0;34m[\u001b[0m\u001b[0;34m'university_name'\u001b[0m\u001b[0;34m]\u001b[0m\u001b[0;34m.\u001b[0m\u001b[0misin\u001b[0m\u001b[0;34m(\u001b[0m\u001b[0muniv2011\u001b[0m\u001b[0;34m)\u001b[0m\u001b[0;34m]\u001b[0m\u001b[0;34m.\u001b[0m\u001b[0mgroupby\u001b[0m\u001b[0;34m(\u001b[0m\u001b[0;34m[\u001b[0m\u001b[0;34m'year'\u001b[0m\u001b[0;34m]\u001b[0m\u001b[0;34m)\u001b[0m\u001b[0;34m.\u001b[0m\u001b[0mmean\u001b[0m\u001b[0;34m(\u001b[0m\u001b[0;34m)\u001b[0m\u001b[0;34m\u001b[0m\u001b[0;34m\u001b[0m\u001b[0m\n\u001b[0;32m----> 3\u001b[0;31m \u001b[0mrankUSA_filtered\u001b[0m \u001b[0;34m=\u001b[0m \u001b[0mUSA\u001b[0m\u001b[0;34m.\u001b[0m\u001b[0mloc\u001b[0m\u001b[0;34m[\u001b[0m\u001b[0masias\u001b[0m\u001b[0;34m[\u001b[0m\u001b[0;34m'university_name'\u001b[0m\u001b[0;34m]\u001b[0m\u001b[0;34m.\u001b[0m\u001b[0misin\u001b[0m\u001b[0;34m(\u001b[0m\u001b[0muniv2011\u001b[0m\u001b[0;34m)\u001b[0m\u001b[0;34m]\u001b[0m\u001b[0;34m.\u001b[0m\u001b[0mgroupby\u001b[0m\u001b[0;34m(\u001b[0m\u001b[0;34m[\u001b[0m\u001b[0;34m'year'\u001b[0m\u001b[0;34m]\u001b[0m\u001b[0;34m)\u001b[0m\u001b[0;34m.\u001b[0m\u001b[0mmean\u001b[0m\u001b[0;34m(\u001b[0m\u001b[0;34m)\u001b[0m\u001b[0;34m\u001b[0m\u001b[0;34m\u001b[0m\u001b[0m\n\u001b[0m\u001b[1;32m      4\u001b[0m \u001b[0;34m\u001b[0m\u001b[0m\n\u001b[1;32m      5\u001b[0m trace1 = go.Bar(\n",
      "\u001b[0;32m~/.local/lib/python3.6/site-packages/pandas/core/indexing.py\u001b[0m in \u001b[0;36m__getitem__\u001b[0;34m(self, key)\u001b[0m\n\u001b[1;32m   1498\u001b[0m \u001b[0;34m\u001b[0m\u001b[0m\n\u001b[1;32m   1499\u001b[0m             \u001b[0mmaybe_callable\u001b[0m \u001b[0;34m=\u001b[0m \u001b[0mcom\u001b[0m\u001b[0;34m.\u001b[0m\u001b[0mapply_if_callable\u001b[0m\u001b[0;34m(\u001b[0m\u001b[0mkey\u001b[0m\u001b[0;34m,\u001b[0m \u001b[0mself\u001b[0m\u001b[0;34m.\u001b[0m\u001b[0mobj\u001b[0m\u001b[0;34m)\u001b[0m\u001b[0;34m\u001b[0m\u001b[0;34m\u001b[0m\u001b[0m\n\u001b[0;32m-> 1500\u001b[0;31m             \u001b[0;32mreturn\u001b[0m \u001b[0mself\u001b[0m\u001b[0;34m.\u001b[0m\u001b[0m_getitem_axis\u001b[0m\u001b[0;34m(\u001b[0m\u001b[0mmaybe_callable\u001b[0m\u001b[0;34m,\u001b[0m \u001b[0maxis\u001b[0m\u001b[0;34m=\u001b[0m\u001b[0maxis\u001b[0m\u001b[0;34m)\u001b[0m\u001b[0;34m\u001b[0m\u001b[0;34m\u001b[0m\u001b[0m\n\u001b[0m\u001b[1;32m   1501\u001b[0m \u001b[0;34m\u001b[0m\u001b[0m\n\u001b[1;32m   1502\u001b[0m     \u001b[0;32mdef\u001b[0m \u001b[0m_is_scalar_access\u001b[0m\u001b[0;34m(\u001b[0m\u001b[0mself\u001b[0m\u001b[0;34m,\u001b[0m \u001b[0mkey\u001b[0m\u001b[0;34m)\u001b[0m\u001b[0;34m:\u001b[0m\u001b[0;34m\u001b[0m\u001b[0;34m\u001b[0m\u001b[0m\n",
      "\u001b[0;32m~/.local/lib/python3.6/site-packages/pandas/core/indexing.py\u001b[0m in \u001b[0;36m_getitem_axis\u001b[0;34m(self, key, axis)\u001b[0m\n\u001b[1;32m   1867\u001b[0m             \u001b[0;32mreturn\u001b[0m \u001b[0mself\u001b[0m\u001b[0;34m.\u001b[0m\u001b[0m_get_slice_axis\u001b[0m\u001b[0;34m(\u001b[0m\u001b[0mkey\u001b[0m\u001b[0;34m,\u001b[0m \u001b[0maxis\u001b[0m\u001b[0;34m=\u001b[0m\u001b[0maxis\u001b[0m\u001b[0;34m)\u001b[0m\u001b[0;34m\u001b[0m\u001b[0;34m\u001b[0m\u001b[0m\n\u001b[1;32m   1868\u001b[0m         \u001b[0;32melif\u001b[0m \u001b[0mcom\u001b[0m\u001b[0;34m.\u001b[0m\u001b[0mis_bool_indexer\u001b[0m\u001b[0;34m(\u001b[0m\u001b[0mkey\u001b[0m\u001b[0;34m)\u001b[0m\u001b[0;34m:\u001b[0m\u001b[0;34m\u001b[0m\u001b[0;34m\u001b[0m\u001b[0m\n\u001b[0;32m-> 1869\u001b[0;31m             \u001b[0;32mreturn\u001b[0m \u001b[0mself\u001b[0m\u001b[0;34m.\u001b[0m\u001b[0m_getbool_axis\u001b[0m\u001b[0;34m(\u001b[0m\u001b[0mkey\u001b[0m\u001b[0;34m,\u001b[0m \u001b[0maxis\u001b[0m\u001b[0;34m=\u001b[0m\u001b[0maxis\u001b[0m\u001b[0;34m)\u001b[0m\u001b[0;34m\u001b[0m\u001b[0;34m\u001b[0m\u001b[0m\n\u001b[0m\u001b[1;32m   1870\u001b[0m         \u001b[0;32melif\u001b[0m \u001b[0mis_list_like_indexer\u001b[0m\u001b[0;34m(\u001b[0m\u001b[0mkey\u001b[0m\u001b[0;34m)\u001b[0m\u001b[0;34m:\u001b[0m\u001b[0;34m\u001b[0m\u001b[0;34m\u001b[0m\u001b[0m\n\u001b[1;32m   1871\u001b[0m \u001b[0;34m\u001b[0m\u001b[0m\n",
      "\u001b[0;32m~/.local/lib/python3.6/site-packages/pandas/core/indexing.py\u001b[0m in \u001b[0;36m_getbool_axis\u001b[0;34m(self, key, axis)\u001b[0m\n\u001b[1;32m   1513\u001b[0m             \u001b[0maxis\u001b[0m \u001b[0;34m=\u001b[0m \u001b[0mself\u001b[0m\u001b[0;34m.\u001b[0m\u001b[0maxis\u001b[0m \u001b[0;32mor\u001b[0m \u001b[0;36m0\u001b[0m\u001b[0;34m\u001b[0m\u001b[0;34m\u001b[0m\u001b[0m\n\u001b[1;32m   1514\u001b[0m         \u001b[0mlabels\u001b[0m \u001b[0;34m=\u001b[0m \u001b[0mself\u001b[0m\u001b[0;34m.\u001b[0m\u001b[0mobj\u001b[0m\u001b[0;34m.\u001b[0m\u001b[0m_get_axis\u001b[0m\u001b[0;34m(\u001b[0m\u001b[0maxis\u001b[0m\u001b[0;34m)\u001b[0m\u001b[0;34m\u001b[0m\u001b[0;34m\u001b[0m\u001b[0m\n\u001b[0;32m-> 1515\u001b[0;31m         \u001b[0mkey\u001b[0m \u001b[0;34m=\u001b[0m \u001b[0mcheck_bool_indexer\u001b[0m\u001b[0;34m(\u001b[0m\u001b[0mlabels\u001b[0m\u001b[0;34m,\u001b[0m \u001b[0mkey\u001b[0m\u001b[0;34m)\u001b[0m\u001b[0;34m\u001b[0m\u001b[0;34m\u001b[0m\u001b[0m\n\u001b[0m\u001b[1;32m   1516\u001b[0m         \u001b[0minds\u001b[0m\u001b[0;34m,\u001b[0m \u001b[0;34m=\u001b[0m \u001b[0mkey\u001b[0m\u001b[0;34m.\u001b[0m\u001b[0mnonzero\u001b[0m\u001b[0;34m(\u001b[0m\u001b[0;34m)\u001b[0m\u001b[0;34m\u001b[0m\u001b[0;34m\u001b[0m\u001b[0m\n\u001b[1;32m   1517\u001b[0m         \u001b[0;32mtry\u001b[0m\u001b[0;34m:\u001b[0m\u001b[0;34m\u001b[0m\u001b[0;34m\u001b[0m\u001b[0m\n",
      "\u001b[0;32m~/.local/lib/python3.6/site-packages/pandas/core/indexing.py\u001b[0m in \u001b[0;36mcheck_bool_indexer\u001b[0;34m(ax, key)\u001b[0m\n\u001b[1;32m   2484\u001b[0m         \u001b[0mmask\u001b[0m \u001b[0;34m=\u001b[0m \u001b[0misna\u001b[0m\u001b[0;34m(\u001b[0m\u001b[0mresult\u001b[0m\u001b[0;34m.\u001b[0m\u001b[0m_values\u001b[0m\u001b[0;34m)\u001b[0m\u001b[0;34m\u001b[0m\u001b[0;34m\u001b[0m\u001b[0m\n\u001b[1;32m   2485\u001b[0m         \u001b[0;32mif\u001b[0m \u001b[0mmask\u001b[0m\u001b[0;34m.\u001b[0m\u001b[0many\u001b[0m\u001b[0;34m(\u001b[0m\u001b[0;34m)\u001b[0m\u001b[0;34m:\u001b[0m\u001b[0;34m\u001b[0m\u001b[0;34m\u001b[0m\u001b[0m\n\u001b[0;32m-> 2486\u001b[0;31m             raise IndexingError('Unalignable boolean Series provided as '\n\u001b[0m\u001b[1;32m   2487\u001b[0m                                 \u001b[0;34m'indexer (index of the boolean Series and of '\u001b[0m\u001b[0;34m\u001b[0m\u001b[0;34m\u001b[0m\u001b[0m\n\u001b[1;32m   2488\u001b[0m                                 'the indexed object do not match')\n",
      "\u001b[0;31mIndexingError\u001b[0m: Unalignable boolean Series provided as indexer (index of the boolean Series and of the indexed object do not match"
     ]
    }
   ],
   "source": [
    "univ2011 = times.loc[times['year'] == 2011]['university_name']\n",
    "rankasia_filtered = asias.loc[asias['university_name'].isin(univ2011)].groupby(['year']).mean()\n",
    "rankUSA_filtered = USA.loc[USA['university_name'].isin(univ2011)].groupby(['year']).mean()\n",
    "\n",
    "trace1 = go.Bar(\n",
    "    x=rankasia_filtered.index,\n",
    "    y=rankasia_filtered['world_rank'],\n",
    "    name='Azië'\n",
    ")\n",
    "\n",
    "trace2 = go.Bar(\n",
    "    x=rankUSA_filtered.index,\n",
    "    y=rankUSA_filtered['world_rank'],\n",
    "    name='USA'\n",
    ")\n",
    "data = [trace1, trace2]\n",
    "\n",
    "layout = go.Layout(\n",
    "    \n",
    "    barmode='group',\n",
    "    \n",
    "    title=go.layout.Title(\n",
    "        text='Vergeljking tussen Amerikaanse en Aziatische universiteiten over de jaren',\n",
    "        \n",
    "    ),\n",
    "    xaxis=go.layout.XAxis(\n",
    "        title=go.layout.xaxis.Title(\n",
    "            text='Jaar'\n",
    "        ),\n",
    "        type='category' # het type van de X as is categorisch\n",
    "    ),\n",
    "    yaxis = go.layout.YAxis(\n",
    "        title=go.layout.yaxis.Title(\n",
    "            text='Gemiddelde world ranking'\n",
    "        )\n",
    "    )\n",
    ")\n",
    "\n",
    "fig = go.Figure(data=data, layout=layout)\n",
    "iplot(fig)\n"
   ]
  },
  {
   "cell_type": "code",
   "execution_count": null,
   "metadata": {},
   "outputs": [],
   "source": []
  },
  {
   "cell_type": "code",
   "execution_count": null,
   "metadata": {},
   "outputs": [],
   "source": []
  },
  {
   "cell_type": "code",
   "execution_count": null,
   "metadata": {},
   "outputs": [],
   "source": []
  }
 ],
 "metadata": {
  "kernelspec": {
   "display_name": "Python 3",
   "language": "python",
   "name": "python3"
  },
  "language_info": {
   "codemirror_mode": {
    "name": "ipython",
    "version": 3
   },
   "file_extension": ".py",
   "mimetype": "text/x-python",
   "name": "python",
   "nbconvert_exporter": "python",
   "pygments_lexer": "ipython3",
   "version": "3.6.8"
  }
 },
 "nbformat": 4,
 "nbformat_minor": 2
}
