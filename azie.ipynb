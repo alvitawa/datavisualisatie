{
 "cells": [
  {
   "cell_type": "code",
   "execution_count": 16,
   "metadata": {},
   "outputs": [
    {
     "data": {
      "text/html": [
       "        <script type=\"text/javascript\">\n",
       "        window.PlotlyConfig = {MathJaxConfig: 'local'};\n",
       "        if (window.MathJax) {MathJax.Hub.Config({SVG: {font: \"STIX-Web\"}});}\n",
       "        if (typeof require !== 'undefined') {\n",
       "        require.undef(\"plotly\");\n",
       "        requirejs.config({\n",
       "            paths: {\n",
       "                'plotly': ['https://cdn.plot.ly/plotly-latest.min']\n",
       "            }\n",
       "        });\n",
       "        require(['plotly'], function(Plotly) {\n",
       "            window._Plotly = Plotly;\n",
       "        });\n",
       "        }\n",
       "        </script>\n",
       "        "
      ]
     },
     "metadata": {},
     "output_type": "display_data"
    },
    {
     "name": "stdout",
     "output_type": "stream",
     "text": [
      "times\n",
      "shanghai\n",
      "2011\n",
      "2011\n",
      "2011\n",
      "2011\n",
      "2011\n",
      "2011\n",
      "2011\n",
      "2011\n",
      "2011\n",
      "2011\n",
      "2011\n",
      "2011\n",
      "2011\n",
      "2011\n",
      "2011\n",
      "2011\n",
      "2011\n",
      "2011\n"
     ]
    },
    {
     "ename": "KeyError",
     "evalue": "'The Johns Hopkins University'",
     "output_type": "error",
     "traceback": [
      "\u001b[0;31m---------------------------------------------------------------------------\u001b[0m",
      "\u001b[0;31mKeyError\u001b[0m                                  Traceback (most recent call last)",
      "\u001b[0;32m<ipython-input-16-ed6d08966754>\u001b[0m in \u001b[0;36m<module>\u001b[0;34m\u001b[0m\n\u001b[1;32m     38\u001b[0m         \u001b[0;32mcontinue\u001b[0m\u001b[0;34m\u001b[0m\u001b[0;34m\u001b[0m\u001b[0m\n\u001b[1;32m     39\u001b[0m     \u001b[0mprint\u001b[0m\u001b[0;34m(\u001b[0m\u001b[0myear\u001b[0m\u001b[0;34m)\u001b[0m\u001b[0;34m\u001b[0m\u001b[0;34m\u001b[0m\u001b[0m\n\u001b[0;32m---> 40\u001b[0;31m     \u001b[0mrankings\u001b[0m\u001b[0;34m[\u001b[0m\u001b[0myear\u001b[0m\u001b[0;34m]\u001b[0m\u001b[0;34m[\u001b[0m\u001b[0mrename\u001b[0m\u001b[0;34m(\u001b[0m\u001b[0muniversity_name\u001b[0m\u001b[0;34m)\u001b[0m\u001b[0;34m]\u001b[0m \u001b[0;34m+=\u001b[0m \u001b[0mworld_rank\u001b[0m\u001b[0;34m\u001b[0m\u001b[0;34m\u001b[0m\u001b[0m\n\u001b[0m\u001b[1;32m     41\u001b[0m \u001b[0;34m\u001b[0m\u001b[0m\n\u001b[1;32m     42\u001b[0m \u001b[0mprint\u001b[0m\u001b[0;34m(\u001b[0m\u001b[0;34m'cwur'\u001b[0m\u001b[0;34m)\u001b[0m\u001b[0;34m\u001b[0m\u001b[0;34m\u001b[0m\u001b[0m\n",
      "\u001b[0;31mKeyError\u001b[0m: 'The Johns Hopkins University'"
     ]
    }
   ],
   "source": [
    "# Deze cell importeert een aantal functies en modules die je nodig hebt om deze opdracht te maken.\n",
    "\n",
    "from plotly.offline import init_notebook_mode, iplot\n",
    "import plotly.graph_objs as go\n",
    "\n",
    "# Start notebook mode\n",
    "init_notebook_mode(connected=True)\n",
    "\n",
    "import pandas as pd # we gebruiken pandas om de CSV data te laden en te visualiseren\n",
    "\n",
    "\n",
    "times = pd.read_csv(\"timesData.csv\")\n",
    "shanghai = pd.read_csv(\"shanghaiData.csv\")\n",
    "cwur = pd.read_csv(\"cwurData.csv\")\n",
    "\n",
    "rankings = {} # rankings[universiteit] = [times, shanghai, cwur]\n",
    "\n",
    "# institution (cwur)\n",
    "\n",
    "def rename(university_name):\n",
    "    univ = university_name.split(',')[0].strip()\n",
    "    univ = univ.split('(')[0].strip()\n",
    "    \n",
    "#     if univ != university_name:\n",
    "#         print(univ, university_name, sep='\\t\\t')\n",
    "        \n",
    "    return univ\n",
    "\n",
    "print('times')\n",
    "for world_rank, year, university_name in zip(times['world_rank'], times['year'], times['university_name']):\n",
    "    if year not in rankings:\n",
    "        rankings[year] = {}\n",
    "    rankings[year][rename(university_name)] = world_rank\n",
    "    \n",
    "print('shanghai')\n",
    "for world_rank, year, university_name in zip(shanghai['world_rank'], shanghai['year'], shanghai['university_name']):\n",
    "    if year not in rankings :\n",
    "        continue\n",
    "        \n",
    "    if univ\n",
    "    rankings[year][] += world_rank\n",
    "    \n",
    "print('cwur')\n",
    "for world_rank, year, university_name in zip(cwur['world_rank'], cwur['year'], cwur['institution']):\n",
    "    if year not in rankings:\n",
    "        continue\n",
    "    rankings[year][rename(university_name)] += world_rank\n",
    "    \n",
    "for year in rankings:\n",
    "    print('year')\n",
    "    for univ in rankings[year]:\n",
    "        print(univ + ' ' + rankings[year][univ])\n",
    "\n",
    "# print(times['world_rank'], shanghai['world_rank'], cwur['world_rank'])\n",
    "\n",
    "# mashed = pd.DataFrame()\n"
   ]
  },
  {
   "cell_type": "code",
   "execution_count": null,
   "metadata": {},
   "outputs": [],
   "source": []
  }
 ],
 "metadata": {
  "kernelspec": {
   "display_name": "Python 3",
   "language": "python",
   "name": "python3"
  },
  "language_info": {
   "codemirror_mode": {
    "name": "ipython",
    "version": 3
   },
   "file_extension": ".py",
   "mimetype": "text/x-python",
   "name": "python",
   "nbconvert_exporter": "python",
   "pygments_lexer": "ipython3",
   "version": "3.7.3"
  }
 },
 "nbformat": 4,
 "nbformat_minor": 2
}
