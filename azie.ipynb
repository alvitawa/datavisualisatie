{
 "cells": [
  {
   "cell_type": "markdown",
   "metadata": {},
   "source": []
  },
  {
   "cell_type": "code",
   "execution_count": 1,
   "metadata": {},
   "outputs": [
    {
     "data": {
      "text/html": [
       "        <script type=\"text/javascript\">\n",
       "        window.PlotlyConfig = {MathJaxConfig: 'local'};\n",
       "        if (window.MathJax) {MathJax.Hub.Config({SVG: {font: \"STIX-Web\"}});}\n",
       "        if (typeof require !== 'undefined') {\n",
       "        require.undef(\"plotly\");\n",
       "        requirejs.config({\n",
       "            paths: {\n",
       "                'plotly': ['https://cdn.plot.ly/plotly-latest.min']\n",
       "            }\n",
       "        });\n",
       "        require(['plotly'], function(Plotly) {\n",
       "            window._Plotly = Plotly;\n",
       "        });\n",
       "        }\n",
       "        </script>\n",
       "        "
      ]
     },
     "metadata": {},
     "output_type": "display_data"
    },
    {
     "name": "stderr",
     "output_type": "stream",
     "text": [
      "/Users/gingerdwarf/datavisualisatie/common.py:22: UserWarning:\n",
      "\n",
      "Boolean Series key will be reindexed to match DataFrame index.\n",
      "\n"
     ]
    },
    {
     "data": {
      "text/html": [
       "        <script type=\"text/javascript\">\n",
       "        window.PlotlyConfig = {MathJaxConfig: 'local'};\n",
       "        if (window.MathJax) {MathJax.Hub.Config({SVG: {font: \"STIX-Web\"}});}\n",
       "        if (typeof require !== 'undefined') {\n",
       "        require.undef(\"plotly\");\n",
       "        requirejs.config({\n",
       "            paths: {\n",
       "                'plotly': ['https://cdn.plot.ly/plotly-latest.min']\n",
       "            }\n",
       "        });\n",
       "        require(['plotly'], function(Plotly) {\n",
       "            window._Plotly = Plotly;\n",
       "        });\n",
       "        }\n",
       "        </script>\n",
       "        "
      ]
     },
     "metadata": {},
     "output_type": "display_data"
    },
    {
     "data": {
      "text/plain": [
       "<module 'common' from '/Users/gingerdwarf/datavisualisatie/common.py'>"
      ]
     },
     "execution_count": 1,
     "metadata": {},
     "output_type": "execute_result"
    }
   ],
   "source": [
    "import common\n",
    "from common import *\n",
    "from importlib import reload\n",
    "reload(common)"
   ]
  },
  {
   "cell_type": "markdown",
   "metadata": {},
   "source": [
    "# Het gat tussen de kwaliteit van de universiteiten van Amerika en Azië wordt kleiner\n",
    "\n",
    "Groep 13 - Vedran Marinović, Frank Tamer, Alfonso Warmerdam, Boudewijn Welkzijn"
   ]
  },
  {
   "cell_type": "markdown",
   "metadata": {},
   "source": [
    "## Inleiding\n",
    "\n",
    "Na de dekolonisatie van Azië in de jaren 50 is Azië's economie enorm gegroeid. Vooral China is economisch enorm gegroeid. China is bijvoorbeeld 4.2% gestegen op de Human Development Index tussen 2012 tot 2017 (HDI). Deze stijging kan ook gezien worden bij andere Aziatische landen. De Human Development Index geeft goed weer hoe het met de ontwikkeling staat van een land. De Verenigde Staten ontwikkelt zich minder vergeleken met Aziatische landen. De Verenigde Staten is van 2012 tot 2017 maar 0.7 % gestegen. De stelling van deze data story is of de kwaliteit van universiteiten in Azië ook meer is gegroeid dan in de V.S. de laatste jaren.\n"
   ]
  },
  {
   "cell_type": "code",
   "execution_count": 3,
   "metadata": {
    "scrolled": false
   },
   "outputs": [
    {
     "data": {
      "application/vnd.plotly.v1+json": {
       "config": {
        "linkText": "Export to plot.ly",
        "plotlyServerURL": "https://plot.ly",
        "showLink": false
       },
       "data": [
        {
         "autocolorscale": false,
         "colorbar": {
          "title": {
           "text": "Gemiddeld beter dan %"
          }
         },
         "colorscale": [
          [
           0,
           "rgb(255,50,50)"
          ],
          [
           1,
           "rgb(50,50,255)"
          ]
         ],
         "customdata": [
          2011
         ],
         "locationmode": "country names",
         "locations": [
          "Australia",
          "Austria",
          "Belgium",
          "Canada",
          "China",
          "Denmark",
          "Egypt",
          "Finland",
          "France",
          "Germany",
          "Hong Kong",
          "Japan",
          "Netherlands",
          "New Zealand",
          "Norway",
          "Republic of Ireland",
          "Singapore",
          "South Africa",
          "South Korea",
          "Spain",
          "Sweden",
          "Switzerland",
          "Taiwan",
          "Turkey",
          "United Kingdom",
          "United States of America"
         ],
         "marker": {
          "line": {
           "color": "rgb(0,0,0)",
           "width": 0.25
          }
         },
         "type": "choropleth",
         "uid": "913d04c9-15b0-40e3-98ec-06ef42bd5958",
         "visible": false,
         "z": [
          54.486719310839916,
          4.020100502512563,
          38.94472361809045,
          46.28699050809603,
          47.06867671691793,
          21.94304857621441,
          26.13065326633166,
          48.743718592964825,
          59.67336683417086,
          27.027997128499653,
          59.547738693467345,
          54.07035175879397,
          24.924623115577894,
          27.135678391959793,
          32.1608040201005,
          57.28643216080402,
          47.73869346733669,
          46.231155778894475,
          48.994974874371856,
          25.37688442211055,
          32.99832495812395,
          57.956448911222786,
          28.894472361809047,
          25.87939698492462,
          47.34014902096692,
          63.89586823003904
         ],
         "zmax": 100,
         "zmin": 0
        },
        {
         "autocolorscale": false,
         "colorbar": {
          "title": {
           "text": "Gemiddeld beter dan %"
          }
         },
         "colorscale": [
          [
           0,
           "rgb(255,50,50)"
          ],
          [
           1,
           "rgb(50,50,255)"
          ]
         ],
         "customdata": [
          2012
         ],
         "locationmode": "country names",
         "locations": [
          "Australia",
          "Austria",
          "Belgium",
          "Brazil",
          "Canada",
          "Chile",
          "China",
          "Czech Republic",
          "Denmark",
          "Egypt",
          "Estonia",
          "Finland",
          "France",
          "Germany",
          "Greece",
          "Hong Kong",
          "Iceland",
          "India",
          "Iran",
          "Israel",
          "Italy",
          "Japan",
          "Netherlands",
          "New Zealand",
          "Norway",
          "Poland",
          "Portugal",
          "Republic of Ireland",
          "Russian Federation",
          "Singapore",
          "South Africa",
          "South Korea",
          "Spain",
          "Sweden",
          "Switzerland",
          "Taiwan",
          "Thailand",
          "Turkey",
          "United Kingdom",
          "United States of America"
         ],
         "marker": {
          "line": {
           "color": "rgb(0,0,0)",
           "width": 0.25
          }
         },
         "type": "choropleth",
         "uid": "ae95f813-3975-433d-b9f1-0784788b8150",
         "visible": false,
         "z": [
          33.30793650793652,
          35.81333333333333,
          43.08571428571428,
          37.86666666666667,
          53.2962962962963,
          0,
          33.279999999999994,
          13.200000000000001,
          45.25333333333334,
          13.200000000000001,
          0,
          23.06666666666667,
          53.599999999999994,
          47.67272727272728,
          23.2,
          55.95555555555555,
          23.2,
          13.200000000000001,
          13.200000000000001,
          44.96666666666667,
          19.419047619047614,
          36.54166666666667,
          63.03589743589744,
          25.555555555555554,
          38.46666666666667,
          13.200000000000001,
          6.6000000000000005,
          27.919999999999998,
          11.6,
          72.13333333333333,
          44.08888888888888,
          44.85714285714285,
          21.65,
          53.48,
          77.48571428571428,
          22.716666666666665,
          0,
          25.700000000000003,
          49.958974358974324,
          59.925663716814164
         ],
         "zmax": 100,
         "zmin": 0
        },
        {
         "autocolorscale": false,
         "colorbar": {
          "title": {
           "text": "Gemiddeld beter dan %"
          }
         },
         "colorscale": [
          [
           0,
           "rgb(255,50,50)"
          ],
          [
           1,
           "rgb(50,50,255)"
          ]
         ],
         "customdata": [
          2013
         ],
         "locationmode": "country names",
         "locations": [
          "Australia",
          "Austria",
          "Belgium",
          "Brazil",
          "Canada",
          "China",
          "Colombia",
          "Czech Republic",
          "Denmark",
          "Estonia",
          "Finland",
          "France",
          "Germany",
          "Greece",
          "Hong Kong",
          "Iceland",
          "India",
          "Iran",
          "Israel",
          "Italy",
          "Japan",
          "Mexico",
          "Netherlands",
          "New Zealand",
          "Norway",
          "Poland",
          "Portugal",
          "Republic of Ireland",
          "Russian Federation",
          "Saudi Arabia",
          "Singapore",
          "South Africa",
          "South Korea",
          "Spain",
          "Sweden",
          "Switzerland",
          "Taiwan",
          "Thailand",
          "Turkey",
          "United Kingdom",
          "United States of America"
         ],
         "marker": {
          "line": {
           "color": "rgb(0,0,0)",
           "width": 0.25
          }
         },
         "type": "choropleth",
         "uid": "4d3014fc-18f3-40dc-bbaf-9d03967b1839",
         "visible": false,
         "z": [
          38.18767958511458,
          28.339991122947186,
          44.98763553357428,
          43.94141145139813,
          49.183544747354404,
          39.29575380973517,
          0,
          13.315579227696405,
          43.62183754993343,
          0,
          25.51264980026631,
          50.06657789613848,
          45.62982689747003,
          13.315579227696405,
          55.85885486018642,
          29.96005326231691,
          22.19263204616068,
          13.315579227696405,
          56.679982245894365,
          16.168917633631356,
          38.86100583836936,
          0,
          70.95155177711769,
          25.05548158011541,
          30.79227696404794,
          0,
          0,
          29.507323568575238,
          39.94673768308922,
          13.315579227696405,
          84.68708388814913,
          34.12117177097204,
          64.00355082112739,
          20.448925242533765,
          51.67776298268975,
          65.96205059920108,
          22.503328894806923,
          0,
          32.62316910785619,
          51.2899467376831,
          58.84046496563139
         ],
         "zmax": 100,
         "zmin": 0
        },
        {
         "autocolorscale": false,
         "colorbar": {
          "title": {
           "text": "Gemiddeld beter dan %"
          }
         },
         "colorscale": [
          [
           0,
           "rgb(255,50,50)"
          ],
          [
           1,
           "rgb(50,50,255)"
          ]
         ],
         "customdata": [
          2014
         ],
         "locationmode": "country names",
         "locations": [
          "Australia",
          "Austria",
          "Belgium",
          "Brazil",
          "Canada",
          "China",
          "Colombia",
          "Czech Republic",
          "Denmark",
          "Estonia",
          "Finland",
          "France",
          "Germany",
          "Greece",
          "Hong Kong",
          "Iceland",
          "India",
          "Iran",
          "Israel",
          "Italy",
          "Japan",
          "Netherlands",
          "New Zealand",
          "Norway",
          "Poland",
          "Portugal",
          "Republic of Ireland",
          "Russian Federation",
          "Saudi Arabia",
          "Singapore",
          "South Africa",
          "South Korea",
          "Spain",
          "Sweden",
          "Switzerland",
          "Taiwan",
          "Thailand",
          "Turkey",
          "United Kingdom",
          "United States of America"
         ],
         "marker": {
          "line": {
           "color": "rgb(0,0,0)",
           "width": 0.25
          }
         },
         "type": "choropleth",
         "uid": "9e51a46b-1634-4d37-9d12-8126efae53d2",
         "visible": false,
         "z": [
          38.9095241432476,
          27.430093209054593,
          52.577515693361235,
          24.966711051930762,
          48.01317541523583,
          36.77762982689747,
          29.96005326231691,
          0,
          45.752330226364855,
          0,
          22.66311584553928,
          55.73175160392205,
          44.28454368534262,
          13.315579227696405,
          55.148690634709276,
          29.96005326231691,
          7.323568575233024,
          29.96005326231691,
          46.47137150466045,
          20.41722148246782,
          47.11294032199492,
          70.7466967120762,
          28.57523302263649,
          30.992010652463385,
          13.315579227696405,
          0,
          31.877496671105195,
          36.61784287616512,
          0,
          86.41810918774966,
          38.79272081668886,
          56.19174434087883,
          15.875129457020272,
          49.2676431424767,
          68.47536617842877,
          18.59187749667111,
          13.315579227696405,
          38.695073235685754,
          51.30845946900733,
          59.18836047349711
         ],
         "zmax": 100,
         "zmin": 0
        },
        {
         "autocolorscale": false,
         "colorbar": {
          "title": {
           "text": "Gemiddeld beter dan %"
          }
         },
         "colorscale": [
          [
           0,
           "rgb(255,50,50)"
          ],
          [
           1,
           "rgb(50,50,255)"
          ]
         ],
         "customdata": [
          2015
         ],
         "locationmode": "country names",
         "locations": [
          "Australia",
          "Austria",
          "Belgium",
          "Brazil",
          "Canada",
          "Chile",
          "China",
          "Colombia",
          "Czech Republic",
          "Denmark",
          "Finland",
          "France",
          "Germany",
          "Greece",
          "Hong Kong",
          "Iceland",
          "India",
          "Iran",
          "Israel",
          "Italy",
          "Japan",
          "Macau",
          "Morocco",
          "Netherlands",
          "New Zealand",
          "Norway",
          "Poland",
          "Portugal",
          "Republic of Ireland",
          "Russian Federation",
          "Singapore",
          "South Africa",
          "South Korea",
          "Spain",
          "Sweden",
          "Switzerland",
          "Taiwan",
          "Thailand",
          "Turkey",
          "United Kingdom",
          "United States of America"
         ],
         "marker": {
          "line": {
           "color": "rgb(0,0,0)",
           "width": 0.25
          }
         },
         "type": "choropleth",
         "uid": "c3b10f73-e52d-4fc3-a35c-49a1acaf01b3",
         "visible": false,
         "z": [
          39.28761651131824,
          32.27696404793609,
          44.83545748525775,
          28.29560585885486,
          51.168811954431135,
          29.96005326231691,
          32.65948432393173,
          29.96005326231691,
          13.315579227696405,
          39.547270306258326,
          21.780483165303412,
          51.712867691562764,
          43.789233403081596,
          13.315579227696405,
          57.67865068797159,
          29.96005326231691,
          11.651131824234357,
          6.657789613848203,
          45.494895694629385,
          22.518994282133626,
          38.72614292055038,
          23.302263648468713,
          13.315579227696405,
          67.7353272559664,
          23.99467376830892,
          29.26098535286285,
          13.315579227696405,
          0,
          30.625832223701735,
          30.55925432756325,
          88.5486018641811,
          40.079893475366184,
          44.710756028998375,
          27.09720372836219,
          46.07190412782957,
          70.439414114514,
          18.66400355082113,
          0,
          50.754549489569456,
          54.259505844059795,
          58.68594959806678
         ],
         "zmax": 100,
         "zmin": 0
        },
        {
         "autocolorscale": false,
         "colorbar": {
          "title": {
           "text": "Gemiddeld beter dan %"
          }
         },
         "colorscale": [
          [
           0,
           "rgb(255,50,50)"
          ],
          [
           1,
           "rgb(50,50,255)"
          ]
         ],
         "customdata": [
          2016
         ],
         "locationmode": "country names",
         "locations": [
          "Argentina",
          "Australia",
          "Austria",
          "Bangladesh",
          "Belarus",
          "Belgium",
          "Brazil",
          "Canada",
          "Chile",
          "China",
          "Colombia",
          "Cyprus",
          "Czech Republic",
          "Denmark",
          "Egypt",
          "Estonia",
          "Finland",
          "France",
          "Germany",
          "Ghana",
          "Greece",
          "Hong Kong",
          "Hungary",
          "Iceland",
          "India",
          "Indonesia",
          "Iran",
          "Israel",
          "Italy",
          "Japan",
          "Jordan",
          "Kenya",
          "Latvia",
          "Lebanon",
          "Lithuania",
          "Luxembourg",
          "Macau",
          "Malaysia",
          "Mexico",
          "Morocco",
          "Netherlands",
          "New Zealand",
          "Nigeria",
          "Norway",
          "Oman",
          "Pakistan",
          "Poland",
          "Portugal",
          "Qatar",
          "Republic of Ireland",
          "Romania",
          "Russian Federation",
          "Saudi Arabia",
          "Serbia",
          "Singapore",
          "Slovakia",
          "Slovenia",
          "South Africa",
          "South Korea",
          "Spain",
          "Sweden",
          "Switzerland",
          "Taiwan",
          "Thailand",
          "Turkey",
          "Uganda",
          "Ukraine",
          "Unisted States of America",
          "United Arab Emirates",
          "United Kingdom",
          "United States of America",
          "Unted Kingdom"
         ],
         "marker": {
          "line": {
           "color": "rgb(0,0,0)",
           "width": 0.25
          }
         },
         "type": "choropleth",
         "uid": "4b3c4794-31a4-4165-b9d2-1b0bea270a31",
         "visible": true,
         "z": [
          0,
          56.59551932951119,
          54.216376057917806,
          0,
          0,
          69.68491893545426,
          8.817231389343746,
          59.183440399714485,
          15.465143944801332,
          23.388699191697043,
          10.706638115631689,
          46.395431834404,
          21.01673407883258,
          73.07875327147275,
          0,
          33.90435403283369,
          48.3702117535094,
          44.928225870410024,
          71.67467253120357,
          0,
          19.883756500458855,
          74.60147513680704,
          3.56887937187723,
          60.67094932191293,
          18.89406726287945,
          0,
          16.952177016416844,
          45.74113728289317,
          46.96855187471135,
          17.478804338364583,
          0,
          0,
          0,
          21.413276231263378,
          0,
          72.44825124910778,
          35.6887937187723,
          7.1377587437544605,
          28.551034975017842,
          0,
          85.04914072365892,
          40.348730498623425,
          0,
          61.884368308351185,
          0,
          10.706638115631689,
          3.059039461609054,
          33.139594167431426,
          0,
          47.02989927829328,
          5.3533190578158445,
          31.18102454290891,
          34.4991672614799,
          0,
          94.21841541755889,
          0,
          10.706638115631689,
          43.55222460147513,
          28.848441589340947,
          26.081370449678793,
          74.07695801700086,
          75.85296216987867,
          17.300142755174875,
          3.059039461609054,
          19.791058334955554,
          35.6887937187723,
          0,
          67.80870806566737,
          10.706638115631689,
          52.25766382083296,
          61.79979075611372,
          35.6887937187723
         ],
         "zmax": 100,
         "zmin": 0
        }
       ],
       "layout": {
        "geo": {
         "lakecolor": "rgb(255, 255, 255)",
         "projection": {
          "type": "equirectangular"
         },
         "scope": "world",
         "showlakes": true
        },
        "sliders": [
         {
          "active": 5,
          "pad": {
           "t": 1
          },
          "steps": [
           {
            "args": [
             "visible",
             [
              true,
              false,
              false,
              false,
              false,
              false
             ]
            ],
            "label": "Year 2011",
            "method": "restyle"
           },
           {
            "args": [
             "visible",
             [
              false,
              true,
              false,
              false,
              false,
              false
             ]
            ],
            "label": "Year 2012",
            "method": "restyle"
           },
           {
            "args": [
             "visible",
             [
              false,
              false,
              true,
              false,
              false,
              false
             ]
            ],
            "label": "Year 2013",
            "method": "restyle"
           },
           {
            "args": [
             "visible",
             [
              false,
              false,
              false,
              true,
              false,
              false
             ]
            ],
            "label": "Year 2014",
            "method": "restyle"
           },
           {
            "args": [
             "visible",
             [
              false,
              false,
              false,
              false,
              true,
              false
             ]
            ],
            "label": "Year 2015",
            "method": "restyle"
           },
           {
            "args": [
             "visible",
             [
              false,
              false,
              false,
              false,
              false,
              true
             ]
            ],
            "label": "Year 2016",
            "method": "restyle"
           }
          ]
         }
        ],
        "title": {
         "text": "Gemiddelde universiteitspercentage per land"
        }
       }
      },
      "text/html": [
       "<div>\n",
       "        \n",
       "        \n",
       "            <div id=\"c823cc19-b3f7-405a-8e82-249092d5c538\" class=\"plotly-graph-div\" style=\"height:525px; width:100%;\"></div>\n",
       "            <script type=\"text/javascript\">\n",
       "                require([\"plotly\"], function(Plotly) {\n",
       "                    window.PLOTLYENV=window.PLOTLYENV || {};\n",
       "                    window.PLOTLYENV.BASE_URL='https://plot.ly';\n",
       "                    \n",
       "                if (document.getElementById(\"c823cc19-b3f7-405a-8e82-249092d5c538\")) {\n",
       "                    Plotly.newPlot(\n",
       "                        'c823cc19-b3f7-405a-8e82-249092d5c538',\n",
       "                        [{\"autocolorscale\": false, \"colorbar\": {\"title\": {\"text\": \"Gemiddeld beter dan %\"}}, \"colorscale\": [[0, \"rgb(255,50,50)\"], [1, \"rgb(50,50,255)\"]], \"customdata\": [2011], \"locationmode\": \"country names\", \"locations\": [\"Australia\", \"Austria\", \"Belgium\", \"Canada\", \"China\", \"Denmark\", \"Egypt\", \"Finland\", \"France\", \"Germany\", \"Hong Kong\", \"Japan\", \"Netherlands\", \"New Zealand\", \"Norway\", \"Republic of Ireland\", \"Singapore\", \"South Africa\", \"South Korea\", \"Spain\", \"Sweden\", \"Switzerland\", \"Taiwan\", \"Turkey\", \"United Kingdom\", \"United States of America\"], \"marker\": {\"line\": {\"color\": \"rgb(0,0,0)\", \"width\": 0.25}}, \"type\": \"choropleth\", \"uid\": \"913d04c9-15b0-40e3-98ec-06ef42bd5958\", \"visible\": false, \"z\": [54.486719310839916, 4.020100502512563, 38.94472361809045, 46.28699050809603, 47.06867671691793, 21.94304857621441, 26.13065326633166, 48.743718592964825, 59.67336683417086, 27.027997128499653, 59.547738693467345, 54.07035175879397, 24.924623115577894, 27.135678391959793, 32.1608040201005, 57.28643216080402, 47.73869346733669, 46.231155778894475, 48.994974874371856, 25.37688442211055, 32.99832495812395, 57.956448911222786, 28.894472361809047, 25.87939698492462, 47.34014902096692, 63.89586823003904], \"zmax\": 100, \"zmin\": 0}, {\"autocolorscale\": false, \"colorbar\": {\"title\": {\"text\": \"Gemiddeld beter dan %\"}}, \"colorscale\": [[0, \"rgb(255,50,50)\"], [1, \"rgb(50,50,255)\"]], \"customdata\": [2012], \"locationmode\": \"country names\", \"locations\": [\"Australia\", \"Austria\", \"Belgium\", \"Brazil\", \"Canada\", \"Chile\", \"China\", \"Czech Republic\", \"Denmark\", \"Egypt\", \"Estonia\", \"Finland\", \"France\", \"Germany\", \"Greece\", \"Hong Kong\", \"Iceland\", \"India\", \"Iran\", \"Israel\", \"Italy\", \"Japan\", \"Netherlands\", \"New Zealand\", \"Norway\", \"Poland\", \"Portugal\", \"Republic of Ireland\", \"Russian Federation\", \"Singapore\", \"South Africa\", \"South Korea\", \"Spain\", \"Sweden\", \"Switzerland\", \"Taiwan\", \"Thailand\", \"Turkey\", \"United Kingdom\", \"United States of America\"], \"marker\": {\"line\": {\"color\": \"rgb(0,0,0)\", \"width\": 0.25}}, \"type\": \"choropleth\", \"uid\": \"ae95f813-3975-433d-b9f1-0784788b8150\", \"visible\": false, \"z\": [33.30793650793652, 35.81333333333333, 43.08571428571428, 37.86666666666667, 53.2962962962963, 0.0, 33.279999999999994, 13.200000000000001, 45.25333333333334, 13.200000000000001, 0.0, 23.06666666666667, 53.599999999999994, 47.67272727272728, 23.2, 55.95555555555555, 23.2, 13.200000000000001, 13.200000000000001, 44.96666666666667, 19.419047619047614, 36.54166666666667, 63.03589743589744, 25.555555555555554, 38.46666666666667, 13.200000000000001, 6.6000000000000005, 27.919999999999998, 11.6, 72.13333333333333, 44.08888888888888, 44.85714285714285, 21.65, 53.48, 77.48571428571428, 22.716666666666665, 0.0, 25.700000000000003, 49.958974358974324, 59.925663716814164], \"zmax\": 100, \"zmin\": 0}, {\"autocolorscale\": false, \"colorbar\": {\"title\": {\"text\": \"Gemiddeld beter dan %\"}}, \"colorscale\": [[0, \"rgb(255,50,50)\"], [1, \"rgb(50,50,255)\"]], \"customdata\": [2013], \"locationmode\": \"country names\", \"locations\": [\"Australia\", \"Austria\", \"Belgium\", \"Brazil\", \"Canada\", \"China\", \"Colombia\", \"Czech Republic\", \"Denmark\", \"Estonia\", \"Finland\", \"France\", \"Germany\", \"Greece\", \"Hong Kong\", \"Iceland\", \"India\", \"Iran\", \"Israel\", \"Italy\", \"Japan\", \"Mexico\", \"Netherlands\", \"New Zealand\", \"Norway\", \"Poland\", \"Portugal\", \"Republic of Ireland\", \"Russian Federation\", \"Saudi Arabia\", \"Singapore\", \"South Africa\", \"South Korea\", \"Spain\", \"Sweden\", \"Switzerland\", \"Taiwan\", \"Thailand\", \"Turkey\", \"United Kingdom\", \"United States of America\"], \"marker\": {\"line\": {\"color\": \"rgb(0,0,0)\", \"width\": 0.25}}, \"type\": \"choropleth\", \"uid\": \"4d3014fc-18f3-40dc-bbaf-9d03967b1839\", \"visible\": false, \"z\": [38.18767958511458, 28.339991122947186, 44.98763553357428, 43.94141145139813, 49.183544747354404, 39.29575380973517, 0.0, 13.315579227696405, 43.62183754993343, 0.0, 25.51264980026631, 50.06657789613848, 45.62982689747003, 13.315579227696405, 55.85885486018642, 29.96005326231691, 22.19263204616068, 13.315579227696405, 56.679982245894365, 16.168917633631356, 38.86100583836936, 0.0, 70.95155177711769, 25.05548158011541, 30.79227696404794, 0.0, 0.0, 29.507323568575238, 39.94673768308922, 13.315579227696405, 84.68708388814913, 34.12117177097204, 64.00355082112739, 20.448925242533765, 51.67776298268975, 65.96205059920108, 22.503328894806923, 0.0, 32.62316910785619, 51.2899467376831, 58.84046496563139], \"zmax\": 100, \"zmin\": 0}, {\"autocolorscale\": false, \"colorbar\": {\"title\": {\"text\": \"Gemiddeld beter dan %\"}}, \"colorscale\": [[0, \"rgb(255,50,50)\"], [1, \"rgb(50,50,255)\"]], \"customdata\": [2014], \"locationmode\": \"country names\", \"locations\": [\"Australia\", \"Austria\", \"Belgium\", \"Brazil\", \"Canada\", \"China\", \"Colombia\", \"Czech Republic\", \"Denmark\", \"Estonia\", \"Finland\", \"France\", \"Germany\", \"Greece\", \"Hong Kong\", \"Iceland\", \"India\", \"Iran\", \"Israel\", \"Italy\", \"Japan\", \"Netherlands\", \"New Zealand\", \"Norway\", \"Poland\", \"Portugal\", \"Republic of Ireland\", \"Russian Federation\", \"Saudi Arabia\", \"Singapore\", \"South Africa\", \"South Korea\", \"Spain\", \"Sweden\", \"Switzerland\", \"Taiwan\", \"Thailand\", \"Turkey\", \"United Kingdom\", \"United States of America\"], \"marker\": {\"line\": {\"color\": \"rgb(0,0,0)\", \"width\": 0.25}}, \"type\": \"choropleth\", \"uid\": \"9e51a46b-1634-4d37-9d12-8126efae53d2\", \"visible\": false, \"z\": [38.9095241432476, 27.430093209054593, 52.577515693361235, 24.966711051930762, 48.01317541523583, 36.77762982689747, 29.96005326231691, 0.0, 45.752330226364855, 0.0, 22.66311584553928, 55.73175160392205, 44.28454368534262, 13.315579227696405, 55.148690634709276, 29.96005326231691, 7.323568575233024, 29.96005326231691, 46.47137150466045, 20.41722148246782, 47.11294032199492, 70.7466967120762, 28.57523302263649, 30.992010652463385, 13.315579227696405, 0.0, 31.877496671105195, 36.61784287616512, 0.0, 86.41810918774966, 38.79272081668886, 56.19174434087883, 15.875129457020272, 49.2676431424767, 68.47536617842877, 18.59187749667111, 13.315579227696405, 38.695073235685754, 51.30845946900733, 59.18836047349711], \"zmax\": 100, \"zmin\": 0}, {\"autocolorscale\": false, \"colorbar\": {\"title\": {\"text\": \"Gemiddeld beter dan %\"}}, \"colorscale\": [[0, \"rgb(255,50,50)\"], [1, \"rgb(50,50,255)\"]], \"customdata\": [2015], \"locationmode\": \"country names\", \"locations\": [\"Australia\", \"Austria\", \"Belgium\", \"Brazil\", \"Canada\", \"Chile\", \"China\", \"Colombia\", \"Czech Republic\", \"Denmark\", \"Finland\", \"France\", \"Germany\", \"Greece\", \"Hong Kong\", \"Iceland\", \"India\", \"Iran\", \"Israel\", \"Italy\", \"Japan\", \"Macau\", \"Morocco\", \"Netherlands\", \"New Zealand\", \"Norway\", \"Poland\", \"Portugal\", \"Republic of Ireland\", \"Russian Federation\", \"Singapore\", \"South Africa\", \"South Korea\", \"Spain\", \"Sweden\", \"Switzerland\", \"Taiwan\", \"Thailand\", \"Turkey\", \"United Kingdom\", \"United States of America\"], \"marker\": {\"line\": {\"color\": \"rgb(0,0,0)\", \"width\": 0.25}}, \"type\": \"choropleth\", \"uid\": \"c3b10f73-e52d-4fc3-a35c-49a1acaf01b3\", \"visible\": false, \"z\": [39.28761651131824, 32.27696404793609, 44.83545748525775, 28.29560585885486, 51.168811954431135, 29.96005326231691, 32.65948432393173, 29.96005326231691, 13.315579227696405, 39.547270306258326, 21.780483165303412, 51.712867691562764, 43.789233403081596, 13.315579227696405, 57.67865068797159, 29.96005326231691, 11.651131824234357, 6.657789613848203, 45.494895694629385, 22.518994282133626, 38.72614292055038, 23.302263648468713, 13.315579227696405, 67.7353272559664, 23.99467376830892, 29.26098535286285, 13.315579227696405, 0.0, 30.625832223701735, 30.55925432756325, 88.5486018641811, 40.079893475366184, 44.710756028998375, 27.09720372836219, 46.07190412782957, 70.439414114514, 18.66400355082113, 0.0, 50.754549489569456, 54.259505844059795, 58.68594959806678], \"zmax\": 100, \"zmin\": 0}, {\"autocolorscale\": false, \"colorbar\": {\"title\": {\"text\": \"Gemiddeld beter dan %\"}}, \"colorscale\": [[0, \"rgb(255,50,50)\"], [1, \"rgb(50,50,255)\"]], \"customdata\": [2016], \"locationmode\": \"country names\", \"locations\": [\"Argentina\", \"Australia\", \"Austria\", \"Bangladesh\", \"Belarus\", \"Belgium\", \"Brazil\", \"Canada\", \"Chile\", \"China\", \"Colombia\", \"Cyprus\", \"Czech Republic\", \"Denmark\", \"Egypt\", \"Estonia\", \"Finland\", \"France\", \"Germany\", \"Ghana\", \"Greece\", \"Hong Kong\", \"Hungary\", \"Iceland\", \"India\", \"Indonesia\", \"Iran\", \"Israel\", \"Italy\", \"Japan\", \"Jordan\", \"Kenya\", \"Latvia\", \"Lebanon\", \"Lithuania\", \"Luxembourg\", \"Macau\", \"Malaysia\", \"Mexico\", \"Morocco\", \"Netherlands\", \"New Zealand\", \"Nigeria\", \"Norway\", \"Oman\", \"Pakistan\", \"Poland\", \"Portugal\", \"Qatar\", \"Republic of Ireland\", \"Romania\", \"Russian Federation\", \"Saudi Arabia\", \"Serbia\", \"Singapore\", \"Slovakia\", \"Slovenia\", \"South Africa\", \"South Korea\", \"Spain\", \"Sweden\", \"Switzerland\", \"Taiwan\", \"Thailand\", \"Turkey\", \"Uganda\", \"Ukraine\", \"Unisted States of America\", \"United Arab Emirates\", \"United Kingdom\", \"United States of America\", \"Unted Kingdom\"], \"marker\": {\"line\": {\"color\": \"rgb(0,0,0)\", \"width\": 0.25}}, \"type\": \"choropleth\", \"uid\": \"4b3c4794-31a4-4165-b9d2-1b0bea270a31\", \"visible\": true, \"z\": [0.0, 56.59551932951119, 54.216376057917806, 0.0, 0.0, 69.68491893545426, 8.817231389343746, 59.183440399714485, 15.465143944801332, 23.388699191697043, 10.706638115631689, 46.395431834404, 21.01673407883258, 73.07875327147275, 0.0, 33.90435403283369, 48.3702117535094, 44.928225870410024, 71.67467253120357, 0.0, 19.883756500458855, 74.60147513680704, 3.56887937187723, 60.67094932191293, 18.89406726287945, 0.0, 16.952177016416844, 45.74113728289317, 46.96855187471135, 17.478804338364583, 0.0, 0.0, 0.0, 21.413276231263378, 0.0, 72.44825124910778, 35.6887937187723, 7.1377587437544605, 28.551034975017842, 0.0, 85.04914072365892, 40.348730498623425, 0.0, 61.884368308351185, 0.0, 10.706638115631689, 3.059039461609054, 33.139594167431426, 0.0, 47.02989927829328, 5.3533190578158445, 31.18102454290891, 34.4991672614799, 0.0, 94.21841541755889, 0.0, 10.706638115631689, 43.55222460147513, 28.848441589340947, 26.081370449678793, 74.07695801700086, 75.85296216987867, 17.300142755174875, 3.059039461609054, 19.791058334955554, 35.6887937187723, 0.0, 67.80870806566737, 10.706638115631689, 52.25766382083296, 61.79979075611372, 35.6887937187723], \"zmax\": 100, \"zmin\": 0}],\n",
       "                        {\"geo\": {\"lakecolor\": \"rgb(255, 255, 255)\", \"projection\": {\"type\": \"equirectangular\"}, \"scope\": \"world\", \"showlakes\": true}, \"sliders\": [{\"active\": 5, \"pad\": {\"t\": 1}, \"steps\": [{\"args\": [\"visible\", [true, false, false, false, false, false]], \"label\": \"Year 2011\", \"method\": \"restyle\"}, {\"args\": [\"visible\", [false, true, false, false, false, false]], \"label\": \"Year 2012\", \"method\": \"restyle\"}, {\"args\": [\"visible\", [false, false, true, false, false, false]], \"label\": \"Year 2013\", \"method\": \"restyle\"}, {\"args\": [\"visible\", [false, false, false, true, false, false]], \"label\": \"Year 2014\", \"method\": \"restyle\"}, {\"args\": [\"visible\", [false, false, false, false, true, false]], \"label\": \"Year 2015\", \"method\": \"restyle\"}, {\"args\": [\"visible\", [false, false, false, false, false, true]], \"label\": \"Year 2016\", \"method\": \"restyle\"}]}], \"title\": {\"text\": \"Gemiddelde universiteitspercentage per land\"}},\n",
       "                        {\"showLink\": false, \"linkText\": \"Export to plot.ly\", \"plotlyServerURL\": \"https://plot.ly\", \"responsive\": true}\n",
       "                    ).then(function(){\n",
       "                            \n",
       "var gd = document.getElementById('c823cc19-b3f7-405a-8e82-249092d5c538');\n",
       "var x = new MutationObserver(function (mutations, observer) {{\n",
       "        var display = window.getComputedStyle(gd).display;\n",
       "        if (!display || display === 'none') {{\n",
       "            console.log([gd, 'removed!']);\n",
       "            Plotly.purge(gd);\n",
       "            observer.disconnect();\n",
       "        }}\n",
       "}});\n",
       "\n",
       "// Listen for the removal of the full notebook cells\n",
       "var notebookContainer = gd.closest('#notebook-container');\n",
       "if (notebookContainer) {{\n",
       "    x.observe(notebookContainer, {childList: true});\n",
       "}}\n",
       "\n",
       "// Listen for the clearing of the current output cell\n",
       "var outputEl = gd.closest('.output');\n",
       "if (outputEl) {{\n",
       "    x.observe(outputEl, {childList: true});\n",
       "}}\n",
       "\n",
       "                        })\n",
       "                };\n",
       "                });\n",
       "            </script>\n",
       "        </div>"
      ]
     },
     "metadata": {},
     "output_type": "display_data"
    }
   ],
   "source": [
    "# worldmap('world_rank', 'Average ranking of universities in each country', 'Average Ranking', 800, False)\n",
    "worldmap('percentile', 'Gemiddelde universiteitspercentage per land', 'Gemiddeld beter dan %', 100, [[0, 'rgb(255,50,50)'], [1, 'rgb(50,50,255)']])"
   ]
  },
  {
   "cell_type": "markdown",
   "metadata": {},
   "source": [
    "Deze kaart laat zien hoe goed volgens de wereldranglijst van de Times de universiteiten per land zijn vergeleken met alle andere landen van de wereldranglijst. Canada heeft bijvoorbeeld een percentage van 59,2 % in 2016. Dit betekent dat de universiteiten van Canada gemiddeld beter zijn dan 60% van de universiteiten van de wereld. De universiteiten van Canada behoren dus gemiddeld tot de top 40% van de wereld. De V.S. heeft een veel hogere score dan bijvoorbeeld China of Japan over de jaren 2011-2016. Hieronder wordt een barplot afgebeeld dat de universiteiten van een aantal prominente landen van Azië vergelijkt met die van de V.S.\n"
   ]
  },
  {
   "cell_type": "code",
   "execution_count": 4,
   "metadata": {},
   "outputs": [
    {
     "data": {
      "application/vnd.plotly.v1+json": {
       "config": {
        "linkText": "Export to plot.ly",
        "plotlyServerURL": "https://plot.ly",
        "showLink": false
       },
       "data": [
        {
         "marker": {
          "color": "#FF6961"
         },
         "name": "Azië",
         "type": "bar",
         "uid": "37950217-5ac8-4e1e-bf79-642b8b9e256f",
         "x": [
          2011,
          2012,
          2013,
          2014,
          2015,
          2016
         ],
         "y": [
          47.91959798994974,
          37.864000000000004,
          43.293790098051076,
          43.22532919070869,
          39.606765447488456,
          23.737856951215182
         ]
        },
        {
         "marker": {
          "color": "#1e90ff"
         },
         "name": "USA",
         "type": "bar",
         "uid": "98bcc072-4299-40e2-93da-10505820a19b",
         "x": [
          2011,
          2012,
          2013,
          2014,
          2015,
          2016
         ],
         "y": [
          63.89586823003904,
          59.925663716814164,
          58.84046496563139,
          59.18836047349711,
          58.68594959806678,
          61.79979075611372
         ]
        }
       ],
       "layout": {
        "barmode": "group",
        "title": {
         "text": "Gemiddelde universiteitspercentages van Azië vergeleken met de V.S."
        },
        "xaxis": {
         "title": {
          "text": "Jaar"
         },
         "type": "category"
        },
        "yaxis": {
         "title": {
          "text": "Gemiddeld beter dan %"
         }
        }
       }
      },
      "text/html": [
       "<div>\n",
       "        \n",
       "        \n",
       "            <div id=\"e67a63c3-f466-4e2c-a14f-6c92998c4f40\" class=\"plotly-graph-div\" style=\"height:525px; width:100%;\"></div>\n",
       "            <script type=\"text/javascript\">\n",
       "                require([\"plotly\"], function(Plotly) {\n",
       "                    window.PLOTLYENV=window.PLOTLYENV || {};\n",
       "                    window.PLOTLYENV.BASE_URL='https://plot.ly';\n",
       "                    \n",
       "                if (document.getElementById(\"e67a63c3-f466-4e2c-a14f-6c92998c4f40\")) {\n",
       "                    Plotly.newPlot(\n",
       "                        'e67a63c3-f466-4e2c-a14f-6c92998c4f40',\n",
       "                        [{\"marker\": {\"color\": \"#FF6961\"}, \"name\": \"Azi\\u00eb\", \"type\": \"bar\", \"uid\": \"37950217-5ac8-4e1e-bf79-642b8b9e256f\", \"x\": [2011, 2012, 2013, 2014, 2015, 2016], \"y\": [47.91959798994974, 37.864000000000004, 43.293790098051076, 43.22532919070869, 39.606765447488456, 23.737856951215182]}, {\"marker\": {\"color\": \"#1e90ff\"}, \"name\": \"USA\", \"type\": \"bar\", \"uid\": \"98bcc072-4299-40e2-93da-10505820a19b\", \"x\": [2011, 2012, 2013, 2014, 2015, 2016], \"y\": [63.89586823003904, 59.925663716814164, 58.84046496563139, 59.18836047349711, 58.68594959806678, 61.79979075611372]}],\n",
       "                        {\"barmode\": \"group\", \"title\": {\"text\": \"Gemiddelde universiteitspercentages van Azi\\u00eb vergeleken met de V.S.\"}, \"xaxis\": {\"title\": {\"text\": \"Jaar\"}, \"type\": \"category\"}, \"yaxis\": {\"title\": {\"text\": \"Gemiddeld beter dan %\"}}},\n",
       "                        {\"showLink\": false, \"linkText\": \"Export to plot.ly\", \"plotlyServerURL\": \"https://plot.ly\", \"responsive\": true}\n",
       "                    ).then(function(){\n",
       "                            \n",
       "var gd = document.getElementById('e67a63c3-f466-4e2c-a14f-6c92998c4f40');\n",
       "var x = new MutationObserver(function (mutations, observer) {{\n",
       "        var display = window.getComputedStyle(gd).display;\n",
       "        if (!display || display === 'none') {{\n",
       "            console.log([gd, 'removed!']);\n",
       "            Plotly.purge(gd);\n",
       "            observer.disconnect();\n",
       "        }}\n",
       "}});\n",
       "\n",
       "// Listen for the removal of the full notebook cells\n",
       "var notebookContainer = gd.closest('#notebook-container');\n",
       "if (notebookContainer) {{\n",
       "    x.observe(notebookContainer, {childList: true});\n",
       "}}\n",
       "\n",
       "// Listen for the clearing of the current output cell\n",
       "var outputEl = gd.closest('.output');\n",
       "if (outputEl) {{\n",
       "    x.observe(outputEl, {childList: true});\n",
       "}}\n",
       "\n",
       "                        })\n",
       "                };\n",
       "                });\n",
       "            </script>\n",
       "        </div>"
      ]
     },
     "metadata": {},
     "output_type": "display_data"
    }
   ],
   "source": [
    "barplot_ranks()"
   ]
  },
  {
   "cell_type": "markdown",
   "metadata": {},
   "source": [
    "Het gemiddelde van de universiteiten in de V.S. blijft ongeveer hetzelfde, terwijl het gemiddelde van Azië juist heel erg daalt. Het aantal universiteiten daarentegen neemt in Azië op onze dataset met 200% toe, wat in de volgende grafiek te zien is:\n"
   ]
  },
  {
   "cell_type": "code",
   "execution_count": 5,
   "metadata": {},
   "outputs": [
    {
     "data": {
      "application/vnd.plotly.v1+json": {
       "config": {
        "linkText": "Export to plot.ly",
        "plotlyServerURL": "https://plot.ly",
        "showLink": false
       },
       "data": [
        {
         "domain": {
          "column": 0
         },
         "hole": 0.4,
         "hoverinfo": "label+value",
         "labels": [
          "Asia",
          "USA"
         ],
         "marker": {
          "colors": [
           "#FF6961",
           "#1e90ff"
          ]
         },
         "name": "2015",
         "textinfo": "label+value",
         "type": "pie",
         "uid": "2df98f42-95f2-480a-a49c-86fa8e26f7f4",
         "values": [
          47,
          108
         ]
        },
        {
         "domain": {
          "column": 1
         },
         "hole": 0.4,
         "hoverinfo": "label+value",
         "labels": [
          "Asia",
          "USA"
         ],
         "name": "2016",
         "textinfo": "label+value",
         "type": "pie",
         "uid": "6e0f12fc-d301-4794-88ed-b7ad177b5bb5",
         "values": [
          141,
          146
         ]
        }
       ],
       "layout": {
        "annotations": [
         {
          "font": {
           "size": 20
          },
          "showarrow": false,
          "text": "2015",
          "x": 0.2,
          "y": 0.5
         },
         {
          "font": {
           "size": 20
          },
          "showarrow": false,
          "text": "2016",
          "x": 0.8,
          "y": 0.5
         }
        ],
        "grid": {
         "columns": 2,
         "rows": 1
        },
        "title": {
         "text": "Aantal universiteiten op wereldranglijst in 2015-2016 Asia-USA"
        }
       }
      },
      "text/html": [
       "<div>\n",
       "        \n",
       "        \n",
       "            <div id=\"32fb3ee7-074d-4eb6-91ff-4ff8f41052f7\" class=\"plotly-graph-div\" style=\"height:525px; width:100%;\"></div>\n",
       "            <script type=\"text/javascript\">\n",
       "                require([\"plotly\"], function(Plotly) {\n",
       "                    window.PLOTLYENV=window.PLOTLYENV || {};\n",
       "                    window.PLOTLYENV.BASE_URL='https://plot.ly';\n",
       "                    \n",
       "                if (document.getElementById(\"32fb3ee7-074d-4eb6-91ff-4ff8f41052f7\")) {\n",
       "                    Plotly.newPlot(\n",
       "                        '32fb3ee7-074d-4eb6-91ff-4ff8f41052f7',\n",
       "                        [{\"domain\": {\"column\": 0}, \"hole\": 0.4, \"hoverinfo\": \"label+value\", \"labels\": [\"Asia\", \"USA\"], \"marker\": {\"colors\": [\"#FF6961\", \"#1e90ff\"]}, \"name\": \"2015\", \"textinfo\": \"label+value\", \"type\": \"pie\", \"uid\": \"2df98f42-95f2-480a-a49c-86fa8e26f7f4\", \"values\": [47, 108]}, {\"domain\": {\"column\": 1}, \"hole\": 0.4, \"hoverinfo\": \"label+value\", \"labels\": [\"Asia\", \"USA\"], \"name\": \"2016\", \"textinfo\": \"label+value\", \"type\": \"pie\", \"uid\": \"6e0f12fc-d301-4794-88ed-b7ad177b5bb5\", \"values\": [141, 146]}],\n",
       "                        {\"annotations\": [{\"font\": {\"size\": 20}, \"showarrow\": false, \"text\": \"2015\", \"x\": 0.2, \"y\": 0.5}, {\"font\": {\"size\": 20}, \"showarrow\": false, \"text\": \"2016\", \"x\": 0.8, \"y\": 0.5}], \"grid\": {\"columns\": 2, \"rows\": 1}, \"title\": {\"text\": \"Aantal universiteiten op wereldranglijst in 2015-2016 Asia-USA\"}},\n",
       "                        {\"showLink\": false, \"linkText\": \"Export to plot.ly\", \"plotlyServerURL\": \"https://plot.ly\", \"responsive\": true}\n",
       "                    ).then(function(){\n",
       "                            \n",
       "var gd = document.getElementById('32fb3ee7-074d-4eb6-91ff-4ff8f41052f7');\n",
       "var x = new MutationObserver(function (mutations, observer) {{\n",
       "        var display = window.getComputedStyle(gd).display;\n",
       "        if (!display || display === 'none') {{\n",
       "            console.log([gd, 'removed!']);\n",
       "            Plotly.purge(gd);\n",
       "            observer.disconnect();\n",
       "        }}\n",
       "}});\n",
       "\n",
       "// Listen for the removal of the full notebook cells\n",
       "var notebookContainer = gd.closest('#notebook-container');\n",
       "if (notebookContainer) {{\n",
       "    x.observe(notebookContainer, {childList: true});\n",
       "}}\n",
       "\n",
       "// Listen for the clearing of the current output cell\n",
       "var outputEl = gd.closest('.output');\n",
       "if (outputEl) {{\n",
       "    x.observe(outputEl, {childList: true});\n",
       "}}\n",
       "\n",
       "                        })\n",
       "                };\n",
       "                });\n",
       "            </script>\n",
       "        </div>"
      ]
     },
     "metadata": {},
     "output_type": "display_data"
    }
   ],
   "source": [
    "pie_yy()"
   ]
  },
  {
   "cell_type": "markdown",
   "metadata": {},
   "source": [
    "Het zou kunnen dat de score van universiteiten in Azië zo erg omlaag is gegaan door de toevoeging van nieuwe universiteiten in de dataset, maar er zijn ook meer universiteiten bijgekomen van de V.S.. De score van de universiteiten van de V.S. ging wel omhoog tussen 2015-2016. Hieronder is het aantal universiteiten per land weergegeven in een wereldkaart:\n"
   ]
  },
  {
   "cell_type": "code",
   "execution_count": 6,
   "metadata": {},
   "outputs": [
    {
     "data": {
      "application/vnd.plotly.v1+json": {
       "config": {
        "linkText": "Export to plot.ly",
        "plotlyServerURL": "https://plot.ly",
        "showLink": false
       },
       "data": [
        {
         "autocolorscale": false,
         "colorbar": {
          "title": {
           "text": "Aantal"
          }
         },
         "colorscale": [
          [
           0,
           "rgb(255,255,255)"
          ],
          [
           1,
           "rgb(22,100,22)"
          ]
         ],
         "customdata": [
          2011
         ],
         "locationmode": "country names",
         "locations": [
          "Australia",
          "Austria",
          "Belgium",
          "Canada",
          "China",
          "Denmark",
          "Egypt",
          "Finland",
          "France",
          "Germany",
          "Hong Kong",
          "Japan",
          "Netherlands",
          "New Zealand",
          "Norway",
          "Republic of Ireland",
          "Singapore",
          "South Africa",
          "South Korea",
          "Spain",
          "Sweden",
          "Switzerland",
          "Taiwan",
          "Turkey",
          "United Kingdom",
          "United States of America"
         ],
         "marker": {
          "line": {
           "color": "rgb(0,0,0)",
           "width": 0.25
          }
         },
         "type": "choropleth",
         "uid": "9393ed8b-8db6-40c0-b3b3-7872481714e9",
         "visible": false,
         "z": [
          7,
          2,
          2,
          9,
          6,
          3,
          1,
          1,
          4,
          14,
          4,
          5,
          10,
          1,
          1,
          2,
          2,
          1,
          4,
          2,
          6,
          6,
          4,
          2,
          29,
          72
         ],
         "zmax": 150,
         "zmin": 0
        },
        {
         "autocolorscale": false,
         "colorbar": {
          "title": {
           "text": "Aantal"
          }
         },
         "colorscale": [
          [
           0,
           "rgb(255,255,255)"
          ],
          [
           1,
           "rgb(22,100,22)"
          ]
         ],
         "customdata": [
          2012
         ],
         "locationmode": "country names",
         "locations": [
          "Australia",
          "Austria",
          "Belgium",
          "Brazil",
          "Canada",
          "Chile",
          "China",
          "Czech Republic",
          "Denmark",
          "Egypt",
          "Estonia",
          "Finland",
          "France",
          "Germany",
          "Greece",
          "Hong Kong",
          "Iceland",
          "India",
          "Iran",
          "Israel",
          "Italy",
          "Japan",
          "Netherlands",
          "New Zealand",
          "Norway",
          "Poland",
          "Portugal",
          "Republic of Ireland",
          "Russian Federation",
          "Singapore",
          "South Africa",
          "South Korea",
          "Spain",
          "Sweden",
          "Switzerland",
          "Taiwan",
          "Thailand",
          "Turkey",
          "United Kingdom",
          "United States of America"
         ],
         "marker": {
          "line": {
           "color": "rgb(0,0,0)",
           "width": 0.25
          }
         },
         "type": "choropleth",
         "uid": "e7ec573c-1bad-48d3-ba79-3e137e484ab6",
         "visible": false,
         "z": [
          21,
          5,
          7,
          2,
          18,
          1,
          10,
          1,
          5,
          1,
          1,
          5,
          8,
          22,
          1,
          6,
          1,
          1,
          1,
          4,
          14,
          16,
          13,
          6,
          4,
          2,
          4,
          5,
          2,
          2,
          3,
          7,
          8,
          10,
          7,
          8,
          1,
          4,
          52,
          113
         ],
         "zmax": 150,
         "zmin": 0
        },
        {
         "autocolorscale": false,
         "colorbar": {
          "title": {
           "text": "Aantal"
          }
         },
         "colorscale": [
          [
           0,
           "rgb(255,255,255)"
          ],
          [
           1,
           "rgb(22,100,22)"
          ]
         ],
         "customdata": [
          2013
         ],
         "locationmode": "country names",
         "locations": [
          "Australia",
          "Austria",
          "Belgium",
          "Brazil",
          "Canada",
          "China",
          "Colombia",
          "Czech Republic",
          "Denmark",
          "Estonia",
          "Finland",
          "France",
          "Germany",
          "Greece",
          "Hong Kong",
          "Iceland",
          "India",
          "Iran",
          "Israel",
          "Italy",
          "Japan",
          "Mexico",
          "Netherlands",
          "New Zealand",
          "Norway",
          "Poland",
          "Portugal",
          "Republic of Ireland",
          "Russian Federation",
          "Saudi Arabia",
          "Singapore",
          "South Africa",
          "South Korea",
          "Spain",
          "Sweden",
          "Switzerland",
          "Taiwan",
          "Thailand",
          "Turkey",
          "United Kingdom",
          "United States of America"
         ],
         "marker": {
          "line": {
           "color": "rgb(0,0,0)",
           "width": 0.25
          }
         },
         "type": "choropleth",
         "uid": "f40816ab-44fc-4188-acab-9021ef7f54f2",
         "visible": false,
         "z": [
          19,
          6,
          7,
          2,
          19,
          9,
          1,
          1,
          5,
          1,
          5,
          12,
          25,
          1,
          6,
          1,
          3,
          1,
          3,
          14,
          13,
          1,
          13,
          6,
          4,
          2,
          3,
          5,
          2,
          1,
          2,
          4,
          6,
          7,
          10,
          8,
          7,
          1,
          5,
          48,
          111
         ],
         "zmax": 150,
         "zmin": 0
        },
        {
         "autocolorscale": false,
         "colorbar": {
          "title": {
           "text": "Aantal"
          }
         },
         "colorscale": [
          [
           0,
           "rgb(255,255,255)"
          ],
          [
           1,
           "rgb(22,100,22)"
          ]
         ],
         "customdata": [
          2014
         ],
         "locationmode": "country names",
         "locations": [
          "Australia",
          "Austria",
          "Belgium",
          "Brazil",
          "Canada",
          "China",
          "Colombia",
          "Czech Republic",
          "Denmark",
          "Estonia",
          "Finland",
          "France",
          "Germany",
          "Greece",
          "Hong Kong",
          "Iceland",
          "India",
          "Iran",
          "Israel",
          "Italy",
          "Japan",
          "Netherlands",
          "New Zealand",
          "Norway",
          "Poland",
          "Portugal",
          "Republic of Ireland",
          "Russian Federation",
          "Saudi Arabia",
          "Singapore",
          "South Africa",
          "South Korea",
          "Spain",
          "Sweden",
          "Switzerland",
          "Taiwan",
          "Thailand",
          "Turkey",
          "United Kingdom",
          "United States of America"
         ],
         "marker": {
          "line": {
           "color": "rgb(0,0,0)",
           "width": 0.25
          }
         },
         "type": "choropleth",
         "uid": "eae990d5-2a7c-47a1-8483-b00996ef312e",
         "visible": false,
         "z": [
          19,
          6,
          7,
          2,
          19,
          10,
          1,
          1,
          5,
          1,
          5,
          11,
          26,
          1,
          6,
          1,
          5,
          1,
          3,
          15,
          11,
          13,
          5,
          4,
          1,
          2,
          5,
          1,
          2,
          2,
          3,
          7,
          9,
          10,
          8,
          8,
          1,
          5,
          49,
          109
         ],
         "zmax": 150,
         "zmin": 0
        },
        {
         "autocolorscale": false,
         "colorbar": {
          "title": {
           "text": "Aantal"
          }
         },
         "colorscale": [
          [
           0,
           "rgb(255,255,255)"
          ],
          [
           1,
           "rgb(22,100,22)"
          ]
         ],
         "customdata": [
          2015
         ],
         "locationmode": "country names",
         "locations": [
          "Australia",
          "Austria",
          "Belgium",
          "Brazil",
          "Canada",
          "Chile",
          "China",
          "Colombia",
          "Czech Republic",
          "Denmark",
          "Finland",
          "France",
          "Germany",
          "Greece",
          "Hong Kong",
          "Iceland",
          "India",
          "Iran",
          "Israel",
          "Italy",
          "Japan",
          "Macau",
          "Morocco",
          "Netherlands",
          "New Zealand",
          "Norway",
          "Poland",
          "Portugal",
          "Republic of Ireland",
          "Russian Federation",
          "Singapore",
          "South Africa",
          "South Korea",
          "Spain",
          "Sweden",
          "Switzerland",
          "Taiwan",
          "Thailand",
          "Turkey",
          "United Kingdom",
          "United States of America"
         ],
         "marker": {
          "line": {
           "color": "rgb(0,0,0)",
           "width": 0.25
          }
         },
         "type": "choropleth",
         "uid": "c060f940-012f-451b-8fb2-110165f2a46e",
         "visible": false,
         "z": [
          20,
          5,
          7,
          2,
          18,
          1,
          11,
          1,
          1,
          5,
          7,
          11,
          28,
          1,
          6,
          1,
          4,
          2,
          3,
          17,
          12,
          1,
          1,
          13,
          5,
          4,
          1,
          2,
          5,
          2,
          2,
          3,
          9,
          6,
          10,
          8,
          6,
          1,
          6,
          45,
          108
         ],
         "zmax": 150,
         "zmin": 0
        },
        {
         "autocolorscale": false,
         "colorbar": {
          "title": {
           "text": "Aantal"
          }
         },
         "colorscale": [
          [
           0,
           "rgb(255,255,255)"
          ],
          [
           1,
           "rgb(22,100,22)"
          ]
         ],
         "customdata": [
          2016
         ],
         "locationmode": "country names",
         "locations": [
          "Argentina",
          "Australia",
          "Austria",
          "Bangladesh",
          "Belarus",
          "Belgium",
          "Brazil",
          "Canada",
          "Chile",
          "China",
          "Colombia",
          "Cyprus",
          "Czech Republic",
          "Denmark",
          "Egypt",
          "Estonia",
          "Finland",
          "France",
          "Germany",
          "Ghana",
          "Greece",
          "Hong Kong",
          "Hungary",
          "Iceland",
          "India",
          "Indonesia",
          "Iran",
          "Israel",
          "Italy",
          "Japan",
          "Jordan",
          "Kenya",
          "Latvia",
          "Lebanon",
          "Lithuania",
          "Luxembourg",
          "Macau",
          "Malaysia",
          "Mexico",
          "Morocco",
          "Netherlands",
          "New Zealand",
          "Nigeria",
          "Norway",
          "Oman",
          "Pakistan",
          "Poland",
          "Portugal",
          "Qatar",
          "Republic of Ireland",
          "Romania",
          "Russian Federation",
          "Saudi Arabia",
          "Serbia",
          "Singapore",
          "Slovakia",
          "Slovenia",
          "South Africa",
          "South Korea",
          "Spain",
          "Sweden",
          "Switzerland",
          "Taiwan",
          "Thailand",
          "Turkey",
          "Uganda",
          "Ukraine",
          "Unisted States of America",
          "United Arab Emirates",
          "United Kingdom",
          "United States of America",
          "Unted Kingdom"
         ],
         "marker": {
          "line": {
           "color": "rgb(0,0,0)",
           "width": 0.25
          }
         },
         "type": "choropleth",
         "uid": "8e5e65d4-157f-427f-8e56-b6621ee19205",
         "visible": true,
         "z": [
          1,
          31,
          7,
          1,
          1,
          7,
          17,
          25,
          6,
          37,
          2,
          1,
          9,
          6,
          3,
          2,
          9,
          27,
          37,
          1,
          7,
          6,
          6,
          1,
          17,
          1,
          8,
          6,
          34,
          41,
          2,
          1,
          1,
          1,
          1,
          1,
          1,
          5,
          2,
          1,
          13,
          7,
          1,
          4,
          1,
          2,
          7,
          7,
          1,
          9,
          4,
          13,
          3,
          1,
          2,
          2,
          2,
          6,
          24,
          25,
          11,
          10,
          24,
          7,
          11,
          1,
          2,
          1,
          2,
          77,
          146,
          1
         ],
         "zmax": 150,
         "zmin": 0
        }
       ],
       "layout": {
        "geo": {
         "lakecolor": "rgb(255, 255, 255)",
         "projection": {
          "type": "equirectangular"
         },
         "scope": "world",
         "showlakes": true
        },
        "sliders": [
         {
          "active": 5,
          "pad": {
           "t": 1
          },
          "steps": [
           {
            "args": [
             "visible",
             [
              true,
              false,
              false,
              false,
              false,
              false
             ]
            ],
            "label": "Year 2011",
            "method": "restyle"
           },
           {
            "args": [
             "visible",
             [
              false,
              true,
              false,
              false,
              false,
              false
             ]
            ],
            "label": "Year 2012",
            "method": "restyle"
           },
           {
            "args": [
             "visible",
             [
              false,
              false,
              true,
              false,
              false,
              false
             ]
            ],
            "label": "Year 2013",
            "method": "restyle"
           },
           {
            "args": [
             "visible",
             [
              false,
              false,
              false,
              true,
              false,
              false
             ]
            ],
            "label": "Year 2014",
            "method": "restyle"
           },
           {
            "args": [
             "visible",
             [
              false,
              false,
              false,
              false,
              true,
              false
             ]
            ],
            "label": "Year 2015",
            "method": "restyle"
           },
           {
            "args": [
             "visible",
             [
              false,
              false,
              false,
              false,
              false,
              true
             ]
            ],
            "label": "Year 2016",
            "method": "restyle"
           }
          ]
         }
        ],
        "title": {
         "text": "Het aantal univerisiteiten per land"
        }
       }
      },
      "text/html": [
       "<div>\n",
       "        \n",
       "        \n",
       "            <div id=\"3820cc4c-bea6-414c-9a51-e71bbf3d912b\" class=\"plotly-graph-div\" style=\"height:525px; width:100%;\"></div>\n",
       "            <script type=\"text/javascript\">\n",
       "                require([\"plotly\"], function(Plotly) {\n",
       "                    window.PLOTLYENV=window.PLOTLYENV || {};\n",
       "                    window.PLOTLYENV.BASE_URL='https://plot.ly';\n",
       "                    \n",
       "                if (document.getElementById(\"3820cc4c-bea6-414c-9a51-e71bbf3d912b\")) {\n",
       "                    Plotly.newPlot(\n",
       "                        '3820cc4c-bea6-414c-9a51-e71bbf3d912b',\n",
       "                        [{\"autocolorscale\": false, \"colorbar\": {\"title\": {\"text\": \"Aantal\"}}, \"colorscale\": [[0, \"rgb(255,255,255)\"], [1, \"rgb(22,100,22)\"]], \"customdata\": [2011], \"locationmode\": \"country names\", \"locations\": [\"Australia\", \"Austria\", \"Belgium\", \"Canada\", \"China\", \"Denmark\", \"Egypt\", \"Finland\", \"France\", \"Germany\", \"Hong Kong\", \"Japan\", \"Netherlands\", \"New Zealand\", \"Norway\", \"Republic of Ireland\", \"Singapore\", \"South Africa\", \"South Korea\", \"Spain\", \"Sweden\", \"Switzerland\", \"Taiwan\", \"Turkey\", \"United Kingdom\", \"United States of America\"], \"marker\": {\"line\": {\"color\": \"rgb(0,0,0)\", \"width\": 0.25}}, \"type\": \"choropleth\", \"uid\": \"9393ed8b-8db6-40c0-b3b3-7872481714e9\", \"visible\": false, \"z\": [7.0, 2.0, 2.0, 9.0, 6.0, 3.0, 1.0, 1.0, 4.0, 14.0, 4.0, 5.0, 10.0, 1.0, 1.0, 2.0, 2.0, 1.0, 4.0, 2.0, 6.0, 6.0, 4.0, 2.0, 29.0, 72.0], \"zmax\": 150, \"zmin\": 0}, {\"autocolorscale\": false, \"colorbar\": {\"title\": {\"text\": \"Aantal\"}}, \"colorscale\": [[0, \"rgb(255,255,255)\"], [1, \"rgb(22,100,22)\"]], \"customdata\": [2012], \"locationmode\": \"country names\", \"locations\": [\"Australia\", \"Austria\", \"Belgium\", \"Brazil\", \"Canada\", \"Chile\", \"China\", \"Czech Republic\", \"Denmark\", \"Egypt\", \"Estonia\", \"Finland\", \"France\", \"Germany\", \"Greece\", \"Hong Kong\", \"Iceland\", \"India\", \"Iran\", \"Israel\", \"Italy\", \"Japan\", \"Netherlands\", \"New Zealand\", \"Norway\", \"Poland\", \"Portugal\", \"Republic of Ireland\", \"Russian Federation\", \"Singapore\", \"South Africa\", \"South Korea\", \"Spain\", \"Sweden\", \"Switzerland\", \"Taiwan\", \"Thailand\", \"Turkey\", \"United Kingdom\", \"United States of America\"], \"marker\": {\"line\": {\"color\": \"rgb(0,0,0)\", \"width\": 0.25}}, \"type\": \"choropleth\", \"uid\": \"e7ec573c-1bad-48d3-ba79-3e137e484ab6\", \"visible\": false, \"z\": [21.0, 5.0, 7.0, 2.0, 18.0, 1.0, 10.0, 1.0, 5.0, 1.0, 1.0, 5.0, 8.0, 22.0, 1.0, 6.0, 1.0, 1.0, 1.0, 4.0, 14.0, 16.0, 13.0, 6.0, 4.0, 2.0, 4.0, 5.0, 2.0, 2.0, 3.0, 7.0, 8.0, 10.0, 7.0, 8.0, 1.0, 4.0, 52.0, 113.0], \"zmax\": 150, \"zmin\": 0}, {\"autocolorscale\": false, \"colorbar\": {\"title\": {\"text\": \"Aantal\"}}, \"colorscale\": [[0, \"rgb(255,255,255)\"], [1, \"rgb(22,100,22)\"]], \"customdata\": [2013], \"locationmode\": \"country names\", \"locations\": [\"Australia\", \"Austria\", \"Belgium\", \"Brazil\", \"Canada\", \"China\", \"Colombia\", \"Czech Republic\", \"Denmark\", \"Estonia\", \"Finland\", \"France\", \"Germany\", \"Greece\", \"Hong Kong\", \"Iceland\", \"India\", \"Iran\", \"Israel\", \"Italy\", \"Japan\", \"Mexico\", \"Netherlands\", \"New Zealand\", \"Norway\", \"Poland\", \"Portugal\", \"Republic of Ireland\", \"Russian Federation\", \"Saudi Arabia\", \"Singapore\", \"South Africa\", \"South Korea\", \"Spain\", \"Sweden\", \"Switzerland\", \"Taiwan\", \"Thailand\", \"Turkey\", \"United Kingdom\", \"United States of America\"], \"marker\": {\"line\": {\"color\": \"rgb(0,0,0)\", \"width\": 0.25}}, \"type\": \"choropleth\", \"uid\": \"f40816ab-44fc-4188-acab-9021ef7f54f2\", \"visible\": false, \"z\": [19.0, 6.0, 7.0, 2.0, 19.0, 9.0, 1.0, 1.0, 5.0, 1.0, 5.0, 12.0, 25.0, 1.0, 6.0, 1.0, 3.0, 1.0, 3.0, 14.0, 13.0, 1.0, 13.0, 6.0, 4.0, 2.0, 3.0, 5.0, 2.0, 1.0, 2.0, 4.0, 6.0, 7.0, 10.0, 8.0, 7.0, 1.0, 5.0, 48.0, 111.0], \"zmax\": 150, \"zmin\": 0}, {\"autocolorscale\": false, \"colorbar\": {\"title\": {\"text\": \"Aantal\"}}, \"colorscale\": [[0, \"rgb(255,255,255)\"], [1, \"rgb(22,100,22)\"]], \"customdata\": [2014], \"locationmode\": \"country names\", \"locations\": [\"Australia\", \"Austria\", \"Belgium\", \"Brazil\", \"Canada\", \"China\", \"Colombia\", \"Czech Republic\", \"Denmark\", \"Estonia\", \"Finland\", \"France\", \"Germany\", \"Greece\", \"Hong Kong\", \"Iceland\", \"India\", \"Iran\", \"Israel\", \"Italy\", \"Japan\", \"Netherlands\", \"New Zealand\", \"Norway\", \"Poland\", \"Portugal\", \"Republic of Ireland\", \"Russian Federation\", \"Saudi Arabia\", \"Singapore\", \"South Africa\", \"South Korea\", \"Spain\", \"Sweden\", \"Switzerland\", \"Taiwan\", \"Thailand\", \"Turkey\", \"United Kingdom\", \"United States of America\"], \"marker\": {\"line\": {\"color\": \"rgb(0,0,0)\", \"width\": 0.25}}, \"type\": \"choropleth\", \"uid\": \"eae990d5-2a7c-47a1-8483-b00996ef312e\", \"visible\": false, \"z\": [19.0, 6.0, 7.0, 2.0, 19.0, 10.0, 1.0, 1.0, 5.0, 1.0, 5.0, 11.0, 26.0, 1.0, 6.0, 1.0, 5.0, 1.0, 3.0, 15.0, 11.0, 13.0, 5.0, 4.0, 1.0, 2.0, 5.0, 1.0, 2.0, 2.0, 3.0, 7.0, 9.0, 10.0, 8.0, 8.0, 1.0, 5.0, 49.0, 109.0], \"zmax\": 150, \"zmin\": 0}, {\"autocolorscale\": false, \"colorbar\": {\"title\": {\"text\": \"Aantal\"}}, \"colorscale\": [[0, \"rgb(255,255,255)\"], [1, \"rgb(22,100,22)\"]], \"customdata\": [2015], \"locationmode\": \"country names\", \"locations\": [\"Australia\", \"Austria\", \"Belgium\", \"Brazil\", \"Canada\", \"Chile\", \"China\", \"Colombia\", \"Czech Republic\", \"Denmark\", \"Finland\", \"France\", \"Germany\", \"Greece\", \"Hong Kong\", \"Iceland\", \"India\", \"Iran\", \"Israel\", \"Italy\", \"Japan\", \"Macau\", \"Morocco\", \"Netherlands\", \"New Zealand\", \"Norway\", \"Poland\", \"Portugal\", \"Republic of Ireland\", \"Russian Federation\", \"Singapore\", \"South Africa\", \"South Korea\", \"Spain\", \"Sweden\", \"Switzerland\", \"Taiwan\", \"Thailand\", \"Turkey\", \"United Kingdom\", \"United States of America\"], \"marker\": {\"line\": {\"color\": \"rgb(0,0,0)\", \"width\": 0.25}}, \"type\": \"choropleth\", \"uid\": \"c060f940-012f-451b-8fb2-110165f2a46e\", \"visible\": false, \"z\": [20.0, 5.0, 7.0, 2.0, 18.0, 1.0, 11.0, 1.0, 1.0, 5.0, 7.0, 11.0, 28.0, 1.0, 6.0, 1.0, 4.0, 2.0, 3.0, 17.0, 12.0, 1.0, 1.0, 13.0, 5.0, 4.0, 1.0, 2.0, 5.0, 2.0, 2.0, 3.0, 9.0, 6.0, 10.0, 8.0, 6.0, 1.0, 6.0, 45.0, 108.0], \"zmax\": 150, \"zmin\": 0}, {\"autocolorscale\": false, \"colorbar\": {\"title\": {\"text\": \"Aantal\"}}, \"colorscale\": [[0, \"rgb(255,255,255)\"], [1, \"rgb(22,100,22)\"]], \"customdata\": [2016], \"locationmode\": \"country names\", \"locations\": [\"Argentina\", \"Australia\", \"Austria\", \"Bangladesh\", \"Belarus\", \"Belgium\", \"Brazil\", \"Canada\", \"Chile\", \"China\", \"Colombia\", \"Cyprus\", \"Czech Republic\", \"Denmark\", \"Egypt\", \"Estonia\", \"Finland\", \"France\", \"Germany\", \"Ghana\", \"Greece\", \"Hong Kong\", \"Hungary\", \"Iceland\", \"India\", \"Indonesia\", \"Iran\", \"Israel\", \"Italy\", \"Japan\", \"Jordan\", \"Kenya\", \"Latvia\", \"Lebanon\", \"Lithuania\", \"Luxembourg\", \"Macau\", \"Malaysia\", \"Mexico\", \"Morocco\", \"Netherlands\", \"New Zealand\", \"Nigeria\", \"Norway\", \"Oman\", \"Pakistan\", \"Poland\", \"Portugal\", \"Qatar\", \"Republic of Ireland\", \"Romania\", \"Russian Federation\", \"Saudi Arabia\", \"Serbia\", \"Singapore\", \"Slovakia\", \"Slovenia\", \"South Africa\", \"South Korea\", \"Spain\", \"Sweden\", \"Switzerland\", \"Taiwan\", \"Thailand\", \"Turkey\", \"Uganda\", \"Ukraine\", \"Unisted States of America\", \"United Arab Emirates\", \"United Kingdom\", \"United States of America\", \"Unted Kingdom\"], \"marker\": {\"line\": {\"color\": \"rgb(0,0,0)\", \"width\": 0.25}}, \"type\": \"choropleth\", \"uid\": \"8e5e65d4-157f-427f-8e56-b6621ee19205\", \"visible\": true, \"z\": [1.0, 31.0, 7.0, 1.0, 1.0, 7.0, 17.0, 25.0, 6.0, 37.0, 2.0, 1.0, 9.0, 6.0, 3.0, 2.0, 9.0, 27.0, 37.0, 1.0, 7.0, 6.0, 6.0, 1.0, 17.0, 1.0, 8.0, 6.0, 34.0, 41.0, 2.0, 1.0, 1.0, 1.0, 1.0, 1.0, 1.0, 5.0, 2.0, 1.0, 13.0, 7.0, 1.0, 4.0, 1.0, 2.0, 7.0, 7.0, 1.0, 9.0, 4.0, 13.0, 3.0, 1.0, 2.0, 2.0, 2.0, 6.0, 24.0, 25.0, 11.0, 10.0, 24.0, 7.0, 11.0, 1.0, 2.0, 1.0, 2.0, 77.0, 146.0, 1.0], \"zmax\": 150, \"zmin\": 0}],\n",
       "                        {\"geo\": {\"lakecolor\": \"rgb(255, 255, 255)\", \"projection\": {\"type\": \"equirectangular\"}, \"scope\": \"world\", \"showlakes\": true}, \"sliders\": [{\"active\": 5, \"pad\": {\"t\": 1}, \"steps\": [{\"args\": [\"visible\", [true, false, false, false, false, false]], \"label\": \"Year 2011\", \"method\": \"restyle\"}, {\"args\": [\"visible\", [false, true, false, false, false, false]], \"label\": \"Year 2012\", \"method\": \"restyle\"}, {\"args\": [\"visible\", [false, false, true, false, false, false]], \"label\": \"Year 2013\", \"method\": \"restyle\"}, {\"args\": [\"visible\", [false, false, false, true, false, false]], \"label\": \"Year 2014\", \"method\": \"restyle\"}, {\"args\": [\"visible\", [false, false, false, false, true, false]], \"label\": \"Year 2015\", \"method\": \"restyle\"}, {\"args\": [\"visible\", [false, false, false, false, false, true]], \"label\": \"Year 2016\", \"method\": \"restyle\"}]}], \"title\": {\"text\": \"Het aantal univerisiteiten per land\"}},\n",
       "                        {\"showLink\": false, \"linkText\": \"Export to plot.ly\", \"plotlyServerURL\": \"https://plot.ly\", \"responsive\": true}\n",
       "                    ).then(function(){\n",
       "                            \n",
       "var gd = document.getElementById('3820cc4c-bea6-414c-9a51-e71bbf3d912b');\n",
       "var x = new MutationObserver(function (mutations, observer) {{\n",
       "        var display = window.getComputedStyle(gd).display;\n",
       "        if (!display || display === 'none') {{\n",
       "            console.log([gd, 'removed!']);\n",
       "            Plotly.purge(gd);\n",
       "            observer.disconnect();\n",
       "        }}\n",
       "}});\n",
       "\n",
       "// Listen for the removal of the full notebook cells\n",
       "var notebookContainer = gd.closest('#notebook-container');\n",
       "if (notebookContainer) {{\n",
       "    x.observe(notebookContainer, {childList: true});\n",
       "}}\n",
       "\n",
       "// Listen for the clearing of the current output cell\n",
       "var outputEl = gd.closest('.output');\n",
       "if (outputEl) {{\n",
       "    x.observe(outputEl, {childList: true});\n",
       "}}\n",
       "\n",
       "                        })\n",
       "                };\n",
       "                });\n",
       "            </script>\n",
       "        </div>"
      ]
     },
     "metadata": {},
     "output_type": "display_data"
    }
   ],
   "source": [
    "worldmap('count', 'Het aantal univerisiteiten per land', 'Aantal', 150, [[0, 'rgb(255,255,255)'], [1, 'rgb(22,100,22)']])"
   ]
  },
  {
   "cell_type": "markdown",
   "metadata": {},
   "source": [
    "Het is te zien dat de V.S verreweg het land is met de meeste universiteiten. Het aantal universiteiten in de dataset van de V.S. is van 2011 tot 2016 maar verdubbeld, terwijl het aantal universiteiten van China bijvoorbeeld 6 maal groter is geworden. Daarnaast is er te zien dat er wat landen bij komen in Azië die eerst helemaal niet in de dataset stonden.\n",
    "\n",
    "De volgende grafiek laat weer hetzelfde zien als de barplot hiervoor, maar het houdt alleen rekening met de universiteiten die in 2011 al in de dataset zitten. Dus alle bijkomende universiteiten worden achterwege gelaten:\n",
    "\n"
   ]
  },
  {
   "cell_type": "code",
   "execution_count": 7,
   "metadata": {},
   "outputs": [
    {
     "data": {
      "application/vnd.plotly.v1+json": {
       "config": {
        "linkText": "Export to plot.ly",
        "plotlyServerURL": "https://plot.ly",
        "showLink": false
       },
       "data": [
        {
         "line": {
          "color": "#FF6961",
          "width": 5
         },
         "mode": "lines+markers",
         "name": "Azië",
         "type": "scatter",
         "uid": "b3ab68a1-1cde-474b-98ba-75f5ce557a5e",
         "x": [
          2011,
          2012,
          2013,
          2014,
          2015,
          2016
         ],
         "y": [
          47.91959798994974,
          58.928000000000004,
          59.073235685752316,
          58.45539280958722,
          57.922769640479366,
          72.15417558886512
         ]
        },
        {
         "fill": "tonexty",
         "fillcolor": "rgba(135, 206, 250, 0.4)",
         "line": {
          "color": "#1e90ff",
          "width": 5
         },
         "mode": "lines+markers",
         "name": "USA",
         "textposition": "top center",
         "type": "scatter",
         "uid": "05aec21d-f34c-4a19-9cf9-57c6e990630d",
         "x": [
          2011,
          2012,
          2013,
          2014,
          2015,
          2016
         ],
         "y": [
          63.89586823003904,
          77.4779342723005,
          76.99685443563173,
          76.53177405970783,
          74.62899708601093,
          83.92349150192935
         ]
        },
        {
         "hoverinfo": "text",
         "mode": "text",
         "name": "Verschil (%-punt)",
         "text": [
          "+16",
          "+19",
          "+17",
          "+18",
          "+17",
          "+11"
         ],
         "textposition": "top center",
         "type": "scatter",
         "uid": "e194e672-9f7b-4d4a-8e9c-4c3fa246e91b",
         "x": [
          2011,
          2012,
          2013,
          2014,
          2015,
          2016
         ],
         "y": [
          65.89586823003904,
          79.4779342723005,
          78.99685443563173,
          78.53177405970783,
          76.62899708601093,
          85.92349150192935
         ]
        }
       ],
       "layout": {
        "barmode": "group",
        "title": {
         "text": "Gemiddelde universiteitspercentages van universiteiten die in 2011 al op de database zaten."
        },
        "xaxis": {
         "title": {
          "text": "Jaar"
         },
         "type": "category"
        },
        "yaxis": {
         "title": {
          "text": "Gemiddeld beter dan %"
         }
        }
       }
      },
      "text/html": [
       "<div>\n",
       "        \n",
       "        \n",
       "            <div id=\"dffaddf2-c201-4450-af91-98a990fffb8a\" class=\"plotly-graph-div\" style=\"height:525px; width:100%;\"></div>\n",
       "            <script type=\"text/javascript\">\n",
       "                require([\"plotly\"], function(Plotly) {\n",
       "                    window.PLOTLYENV=window.PLOTLYENV || {};\n",
       "                    window.PLOTLYENV.BASE_URL='https://plot.ly';\n",
       "                    \n",
       "                if (document.getElementById(\"dffaddf2-c201-4450-af91-98a990fffb8a\")) {\n",
       "                    Plotly.newPlot(\n",
       "                        'dffaddf2-c201-4450-af91-98a990fffb8a',\n",
       "                        [{\"line\": {\"color\": \"#FF6961\", \"width\": 5}, \"mode\": \"lines+markers\", \"name\": \"Azi\\u00eb\", \"type\": \"scatter\", \"uid\": \"b3ab68a1-1cde-474b-98ba-75f5ce557a5e\", \"x\": [2011, 2012, 2013, 2014, 2015, 2016], \"y\": [47.91959798994974, 58.928000000000004, 59.073235685752316, 58.45539280958722, 57.922769640479366, 72.15417558886512]}, {\"fill\": \"tonexty\", \"fillcolor\": \"rgba(135, 206, 250, 0.4)\", \"line\": {\"color\": \"#1e90ff\", \"width\": 5}, \"mode\": \"lines+markers\", \"name\": \"USA\", \"textposition\": \"top center\", \"type\": \"scatter\", \"uid\": \"05aec21d-f34c-4a19-9cf9-57c6e990630d\", \"x\": [2011, 2012, 2013, 2014, 2015, 2016], \"y\": [63.89586823003904, 77.4779342723005, 76.99685443563173, 76.53177405970783, 74.62899708601093, 83.92349150192935]}, {\"hoverinfo\": \"text\", \"mode\": \"text\", \"name\": \"Verschil (%-punt)\", \"text\": [\"+16\", \"+19\", \"+17\", \"+18\", \"+17\", \"+11\"], \"textposition\": \"top center\", \"type\": \"scatter\", \"uid\": \"e194e672-9f7b-4d4a-8e9c-4c3fa246e91b\", \"x\": [2011, 2012, 2013, 2014, 2015, 2016], \"y\": [65.89586823003904, 79.4779342723005, 78.99685443563173, 78.53177405970783, 76.62899708601093, 85.92349150192935]}],\n",
       "                        {\"barmode\": \"group\", \"title\": {\"text\": \"Gemiddelde universiteitspercentages van universiteiten die in 2011 al op de database zaten.\"}, \"xaxis\": {\"title\": {\"text\": \"Jaar\"}, \"type\": \"category\"}, \"yaxis\": {\"title\": {\"text\": \"Gemiddeld beter dan %\"}}},\n",
       "                        {\"showLink\": false, \"linkText\": \"Export to plot.ly\", \"plotlyServerURL\": \"https://plot.ly\", \"responsive\": true}\n",
       "                    ).then(function(){\n",
       "                            \n",
       "var gd = document.getElementById('dffaddf2-c201-4450-af91-98a990fffb8a');\n",
       "var x = new MutationObserver(function (mutations, observer) {{\n",
       "        var display = window.getComputedStyle(gd).display;\n",
       "        if (!display || display === 'none') {{\n",
       "            console.log([gd, 'removed!']);\n",
       "            Plotly.purge(gd);\n",
       "            observer.disconnect();\n",
       "        }}\n",
       "}});\n",
       "\n",
       "// Listen for the removal of the full notebook cells\n",
       "var notebookContainer = gd.closest('#notebook-container');\n",
       "if (notebookContainer) {{\n",
       "    x.observe(notebookContainer, {childList: true});\n",
       "}}\n",
       "\n",
       "// Listen for the clearing of the current output cell\n",
       "var outputEl = gd.closest('.output');\n",
       "if (outputEl) {{\n",
       "    x.observe(outputEl, {childList: true});\n",
       "}}\n",
       "\n",
       "                        })\n",
       "                };\n",
       "                });\n",
       "            </script>\n",
       "        </div>"
      ]
     },
     "metadata": {},
     "output_type": "display_data"
    }
   ],
   "source": [
    "scatter_2011()"
   ]
  },
  {
   "cell_type": "markdown",
   "metadata": {},
   "source": [
    "## Conclusie\n",
    "\n",
    "Hier is te zien dat de universiteiten van Azië nog steeds slechter zijn dan die van de V.S in alle jaren op de dataset, maar de gemiddelden zijn wel beter zijn geworden van 2015 tot 2016, en ze zijn ook sterker gegroeid dan die van de V.S.. Het is te zien dat de Aziatische universiteiten die in 2011 al op de dataset stonden van 2011 tot 2016 gemiddeld 50% hoger komen te staan en de Amerikaanse universiteiten maar 30%. Hieruit is te concluderen dat de kwaliteit van Aziatische universiteiten inderdaad meer is gestegen dan die van Amerikaanse universiteiten de laatste jaren. Bovendien zijn in deze tijd meer onderwijsinstituten door de Times als universiteiten herkend in Azië, wat duidt op verbetering in de onderwijssector.\n",
    "\n"
   ]
  },
  {
   "cell_type": "code",
   "execution_count": null,
   "metadata": {},
   "outputs": [],
   "source": []
  }
 ],
 "metadata": {
  "kernelspec": {
   "display_name": "Python 3",
   "language": "python",
   "name": "python3"
  },
  "language_info": {
   "codemirror_mode": {
    "name": "ipython",
    "version": 3
   },
   "file_extension": ".py",
   "mimetype": "text/x-python",
   "name": "python",
   "nbconvert_exporter": "python",
   "pygments_lexer": "ipython3",
   "version": "3.6.5"
  }
 },
 "nbformat": 4,
 "nbformat_minor": 2
}
