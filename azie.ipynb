{
 "cells": [
  {
   "cell_type": "markdown",
   "metadata": {},
   "source": []
  },
  {
   "cell_type": "code",
   "execution_count": 87,
   "metadata": {},
   "outputs": [
    {
     "data": {
      "text/html": [
       "        <script type=\"text/javascript\">\n",
       "        window.PlotlyConfig = {MathJaxConfig: 'local'};\n",
       "        if (window.MathJax) {MathJax.Hub.Config({SVG: {font: \"STIX-Web\"}});}\n",
       "        if (typeof require !== 'undefined') {\n",
       "        require.undef(\"plotly\");\n",
       "        requirejs.config({\n",
       "            paths: {\n",
       "                'plotly': ['https://cdn.plot.ly/plotly-latest.min']\n",
       "            }\n",
       "        });\n",
       "        require(['plotly'], function(Plotly) {\n",
       "            window._Plotly = Plotly;\n",
       "        });\n",
       "        }\n",
       "        </script>\n",
       "        "
      ]
     },
     "metadata": {},
     "output_type": "display_data"
    }
   ],
   "source": [
    "\n",
    "from plotly.offline import init_notebook_mode, iplot\n",
    "import plotly.graph_objs as go\n",
    "import math\n",
    "\n",
    "# Start notebook mode\n",
    "init_notebook_mode(connected=True)\n",
    "\n",
    "import pandas as pd # we gebruiken pandas om de CSV data te laden en te visualiseren\n",
    "\n",
    "\n",
    "times = pd.read_csv(\"timesData.csv\")\n",
    "shanghai = pd.read_csv(\"shanghaiData.csv\")\n",
    "cwur = pd.read_csv(\"cwurData.csv\")\n",
    "\n",
    "def conv_ranking(x):\n",
    "    spl = x.split('-')\n",
    "    if len(spl) == 2:\n",
    "        return (float(spl[0]) + float(spl[1])) / 2\n",
    "    s = (x if x[0] != '=' else x[1:])\n",
    "    f = float(s)\n",
    "    return f\n",
    "\n",
    "def conv_other(x):\n",
    "    try:\n",
    "        return float(x)\n",
    "    except Exception:\n",
    "        return 50\n",
    "\n",
    "mx = dict()\n",
    "def conv_unit(rw):\n",
    "    rnk, yr = rw\n",
    "    dv = mx[yr] if yr in mx else times.loc[times['year'] == yr]['world_rank'].max()\n",
    "    mx[yr] = dv\n",
    "    return 100 * (1 - (rnk / dv))\n",
    "    \n",
    "times['world_rank'] = times['world_rank'].map(conv_ranking)\n",
    "times['percentile'] = times[['world_rank', 'year']].apply(conv_unit, axis=1)\n",
    "country_stats = times[['year', 'country', 'world_rank', 'percentile']].groupby(['year', 'country']).mean()\n",
    "counts = times.groupby(['year', 'country']).size()\n",
    "country_stats['count'] = counts"
   ]
  },
  {
   "cell_type": "code",
   "execution_count": 182,
   "metadata": {
    "scrolled": false
   },
   "outputs": [
    {
     "data": {
      "application/vnd.plotly.v1+json": {
       "config": {
        "linkText": "Export to plot.ly",
        "plotlyServerURL": "https://plot.ly",
        "showLink": false
       },
       "data": [
        {
         "autocolorscale": false,
         "colorbar": {
          "title": {
           "text": "Better than %"
          }
         },
         "colorscale": [
          [
           0,
           "rgb(50,50,255)"
          ],
          [
           1,
           "rgb(255,50,50)"
          ]
         ],
         "customdata": [
          2011
         ],
         "locationmode": "country names",
         "locations": [
          "Australia",
          "Austria",
          "Belgium",
          "Canada",
          "China",
          "Denmark",
          "Egypt",
          "Finland",
          "France",
          "Germany",
          "Hong Kong",
          "Japan",
          "Netherlands",
          "New Zealand",
          "Norway",
          "Republic of Ireland",
          "Singapore",
          "South Africa",
          "South Korea",
          "Spain",
          "Sweden",
          "Switzerland",
          "Taiwan",
          "Turkey",
          "United Kingdom",
          "United States of America"
         ],
         "marker": {
          "line": {
           "color": "rgb(0,0,0)",
           "width": 0.25
          }
         },
         "type": "choropleth",
         "uid": "db3be0d0-40de-4489-ac85-6a1117b09efd",
         "z": [
          54.486719310839916,
          4.020100502512563,
          38.94472361809045,
          46.28699050809603,
          47.06867671691793,
          21.94304857621441,
          26.13065326633166,
          48.743718592964825,
          59.67336683417086,
          27.027997128499653,
          59.547738693467345,
          54.07035175879397,
          24.924623115577894,
          27.135678391959793,
          32.1608040201005,
          57.28643216080402,
          47.73869346733669,
          46.231155778894475,
          48.994974874371856,
          25.37688442211055,
          32.99832495812395,
          57.956448911222786,
          28.894472361809047,
          25.87939698492462,
          47.34014902096692,
          63.89586823003904
         ],
         "zmax": 100,
         "zmin": 0
        },
        {
         "autocolorscale": false,
         "colorbar": {
          "title": {
           "text": "Better than %"
          }
         },
         "colorscale": [
          [
           0,
           "rgb(50,50,255)"
          ],
          [
           1,
           "rgb(255,50,50)"
          ]
         ],
         "customdata": [
          2012
         ],
         "locationmode": "country names",
         "locations": [
          "Australia",
          "Austria",
          "Belgium",
          "Brazil",
          "Canada",
          "Chile",
          "China",
          "Czech Republic",
          "Denmark",
          "Egypt",
          "Estonia",
          "Finland",
          "France",
          "Germany",
          "Greece",
          "Hong Kong",
          "Iceland",
          "India",
          "Iran",
          "Israel",
          "Italy",
          "Japan",
          "Netherlands",
          "New Zealand",
          "Norway",
          "Poland",
          "Portugal",
          "Republic of Ireland",
          "Russian Federation",
          "Singapore",
          "South Africa",
          "South Korea",
          "Spain",
          "Sweden",
          "Switzerland",
          "Taiwan",
          "Thailand",
          "Turkey",
          "United Kingdom",
          "United States of America"
         ],
         "marker": {
          "line": {
           "color": "rgb(0,0,0)",
           "width": 0.25
          }
         },
         "type": "choropleth",
         "uid": "7e320a96-bb92-4515-9a13-d42c190f6fcd",
         "z": [
          33.30793650793652,
          35.81333333333333,
          43.08571428571428,
          37.86666666666667,
          53.2962962962963,
          0,
          33.279999999999994,
          13.200000000000001,
          45.25333333333334,
          13.200000000000001,
          0,
          23.06666666666667,
          53.599999999999994,
          47.67272727272728,
          23.2,
          55.95555555555555,
          23.2,
          13.200000000000001,
          13.200000000000001,
          44.96666666666667,
          19.419047619047614,
          36.54166666666667,
          63.03589743589744,
          25.555555555555554,
          38.46666666666667,
          13.200000000000001,
          6.6000000000000005,
          27.919999999999998,
          11.6,
          72.13333333333333,
          44.08888888888888,
          44.85714285714285,
          21.65,
          53.48,
          77.48571428571428,
          22.716666666666665,
          0,
          25.700000000000003,
          49.958974358974324,
          59.925663716814164
         ],
         "zmax": 100,
         "zmin": 0
        },
        {
         "autocolorscale": false,
         "colorbar": {
          "title": {
           "text": "Better than %"
          }
         },
         "colorscale": [
          [
           0,
           "rgb(50,50,255)"
          ],
          [
           1,
           "rgb(255,50,50)"
          ]
         ],
         "customdata": [
          2013
         ],
         "locationmode": "country names",
         "locations": [
          "Australia",
          "Austria",
          "Belgium",
          "Brazil",
          "Canada",
          "China",
          "Colombia",
          "Czech Republic",
          "Denmark",
          "Estonia",
          "Finland",
          "France",
          "Germany",
          "Greece",
          "Hong Kong",
          "Iceland",
          "India",
          "Iran",
          "Israel",
          "Italy",
          "Japan",
          "Mexico",
          "Netherlands",
          "New Zealand",
          "Norway",
          "Poland",
          "Portugal",
          "Republic of Ireland",
          "Russian Federation",
          "Saudi Arabia",
          "Singapore",
          "South Africa",
          "South Korea",
          "Spain",
          "Sweden",
          "Switzerland",
          "Taiwan",
          "Thailand",
          "Turkey",
          "United Kingdom",
          "United States of America"
         ],
         "marker": {
          "line": {
           "color": "rgb(0,0,0)",
           "width": 0.25
          }
         },
         "type": "choropleth",
         "uid": "7f37b7c7-199d-466e-ab30-4a8784d33905",
         "z": [
          38.18767958511458,
          28.339991122947186,
          44.98763553357428,
          43.94141145139813,
          49.183544747354404,
          39.29575380973517,
          0,
          13.315579227696405,
          43.62183754993343,
          0,
          25.51264980026631,
          50.06657789613848,
          45.62982689747003,
          13.315579227696405,
          55.85885486018642,
          29.96005326231691,
          22.19263204616068,
          13.315579227696405,
          56.679982245894365,
          16.168917633631356,
          38.86100583836936,
          0,
          70.95155177711769,
          25.05548158011541,
          30.79227696404794,
          0,
          0,
          29.507323568575238,
          39.94673768308922,
          13.315579227696405,
          84.68708388814913,
          34.12117177097204,
          64.00355082112739,
          20.448925242533765,
          51.67776298268975,
          65.96205059920108,
          22.503328894806923,
          0,
          32.62316910785619,
          51.2899467376831,
          58.84046496563139
         ],
         "zmax": 100,
         "zmin": 0
        },
        {
         "autocolorscale": false,
         "colorbar": {
          "title": {
           "text": "Better than %"
          }
         },
         "colorscale": [
          [
           0,
           "rgb(50,50,255)"
          ],
          [
           1,
           "rgb(255,50,50)"
          ]
         ],
         "customdata": [
          2014
         ],
         "locationmode": "country names",
         "locations": [
          "Australia",
          "Austria",
          "Belgium",
          "Brazil",
          "Canada",
          "China",
          "Colombia",
          "Czech Republic",
          "Denmark",
          "Estonia",
          "Finland",
          "France",
          "Germany",
          "Greece",
          "Hong Kong",
          "Iceland",
          "India",
          "Iran",
          "Israel",
          "Italy",
          "Japan",
          "Netherlands",
          "New Zealand",
          "Norway",
          "Poland",
          "Portugal",
          "Republic of Ireland",
          "Russian Federation",
          "Saudi Arabia",
          "Singapore",
          "South Africa",
          "South Korea",
          "Spain",
          "Sweden",
          "Switzerland",
          "Taiwan",
          "Thailand",
          "Turkey",
          "United Kingdom",
          "United States of America"
         ],
         "marker": {
          "line": {
           "color": "rgb(0,0,0)",
           "width": 0.25
          }
         },
         "type": "choropleth",
         "uid": "4a8d0fb9-4a84-4500-bdaa-dfdcf4a35305",
         "z": [
          38.9095241432476,
          27.430093209054593,
          52.577515693361235,
          24.966711051930762,
          48.01317541523583,
          36.77762982689747,
          29.96005326231691,
          0,
          45.752330226364855,
          0,
          22.66311584553928,
          55.73175160392205,
          44.28454368534262,
          13.315579227696405,
          55.148690634709276,
          29.96005326231691,
          7.323568575233024,
          29.96005326231691,
          46.47137150466045,
          20.41722148246782,
          47.11294032199492,
          70.7466967120762,
          28.57523302263649,
          30.992010652463385,
          13.315579227696405,
          0,
          31.877496671105195,
          36.61784287616512,
          0,
          86.41810918774966,
          38.79272081668886,
          56.19174434087883,
          15.875129457020272,
          49.2676431424767,
          68.47536617842877,
          18.59187749667111,
          13.315579227696405,
          38.695073235685754,
          51.30845946900733,
          59.18836047349711
         ],
         "zmax": 100,
         "zmin": 0
        },
        {
         "autocolorscale": false,
         "colorbar": {
          "title": {
           "text": "Better than %"
          }
         },
         "colorscale": [
          [
           0,
           "rgb(50,50,255)"
          ],
          [
           1,
           "rgb(255,50,50)"
          ]
         ],
         "customdata": [
          2015
         ],
         "locationmode": "country names",
         "locations": [
          "Australia",
          "Austria",
          "Belgium",
          "Brazil",
          "Canada",
          "Chile",
          "China",
          "Colombia",
          "Czech Republic",
          "Denmark",
          "Finland",
          "France",
          "Germany",
          "Greece",
          "Hong Kong",
          "Iceland",
          "India",
          "Iran",
          "Israel",
          "Italy",
          "Japan",
          "Macau",
          "Morocco",
          "Netherlands",
          "New Zealand",
          "Norway",
          "Poland",
          "Portugal",
          "Republic of Ireland",
          "Russian Federation",
          "Singapore",
          "South Africa",
          "South Korea",
          "Spain",
          "Sweden",
          "Switzerland",
          "Taiwan",
          "Thailand",
          "Turkey",
          "United Kingdom",
          "United States of America"
         ],
         "marker": {
          "line": {
           "color": "rgb(0,0,0)",
           "width": 0.25
          }
         },
         "type": "choropleth",
         "uid": "c8cad10e-bb20-4577-ba82-aec02d69fd49",
         "z": [
          39.28761651131824,
          32.27696404793609,
          44.83545748525775,
          28.29560585885486,
          51.168811954431135,
          29.96005326231691,
          32.65948432393173,
          29.96005326231691,
          13.315579227696405,
          39.547270306258326,
          21.780483165303412,
          51.712867691562764,
          43.789233403081596,
          13.315579227696405,
          57.67865068797159,
          29.96005326231691,
          11.651131824234357,
          6.657789613848203,
          45.494895694629385,
          22.518994282133626,
          38.72614292055038,
          23.302263648468713,
          13.315579227696405,
          67.7353272559664,
          23.99467376830892,
          29.26098535286285,
          13.315579227696405,
          0,
          30.625832223701735,
          30.55925432756325,
          88.5486018641811,
          40.079893475366184,
          44.710756028998375,
          27.09720372836219,
          46.07190412782957,
          70.439414114514,
          18.66400355082113,
          0,
          50.754549489569456,
          54.259505844059795,
          58.68594959806678
         ],
         "zmax": 100,
         "zmin": 0
        },
        {
         "autocolorscale": false,
         "colorbar": {
          "title": {
           "text": "Better than %"
          }
         },
         "colorscale": [
          [
           0,
           "rgb(50,50,255)"
          ],
          [
           1,
           "rgb(255,50,50)"
          ]
         ],
         "customdata": [
          2016
         ],
         "locationmode": "country names",
         "locations": [
          "Argentina",
          "Australia",
          "Austria",
          "Bangladesh",
          "Belarus",
          "Belgium",
          "Brazil",
          "Canada",
          "Chile",
          "China",
          "Colombia",
          "Cyprus",
          "Czech Republic",
          "Denmark",
          "Egypt",
          "Estonia",
          "Finland",
          "France",
          "Germany",
          "Ghana",
          "Greece",
          "Hong Kong",
          "Hungary",
          "Iceland",
          "India",
          "Indonesia",
          "Iran",
          "Israel",
          "Italy",
          "Japan",
          "Jordan",
          "Kenya",
          "Latvia",
          "Lebanon",
          "Lithuania",
          "Luxembourg",
          "Macau",
          "Malaysia",
          "Mexico",
          "Morocco",
          "Netherlands",
          "New Zealand",
          "Nigeria",
          "Norway",
          "Oman",
          "Pakistan",
          "Poland",
          "Portugal",
          "Qatar",
          "Republic of Ireland",
          "Romania",
          "Russian Federation",
          "Saudi Arabia",
          "Serbia",
          "Singapore",
          "Slovakia",
          "Slovenia",
          "South Africa",
          "South Korea",
          "Spain",
          "Sweden",
          "Switzerland",
          "Taiwan",
          "Thailand",
          "Turkey",
          "Uganda",
          "Ukraine",
          "Unisted States of America",
          "United Arab Emirates",
          "United Kingdom",
          "United States of America",
          "Unted Kingdom"
         ],
         "marker": {
          "line": {
           "color": "rgb(0,0,0)",
           "width": 0.25
          }
         },
         "type": "choropleth",
         "uid": "ef29b3d1-979f-4e94-9ea5-3aaf6461cd33",
         "z": [
          0,
          56.59551932951119,
          54.216376057917806,
          0,
          0,
          69.68491893545426,
          8.817231389343746,
          59.183440399714485,
          15.465143944801332,
          23.388699191697043,
          10.706638115631689,
          46.395431834404,
          21.01673407883258,
          73.07875327147275,
          0,
          33.90435403283369,
          48.3702117535094,
          44.928225870410024,
          71.67467253120357,
          0,
          19.883756500458855,
          74.60147513680704,
          3.56887937187723,
          60.67094932191293,
          18.89406726287945,
          0,
          16.952177016416844,
          45.74113728289317,
          46.96855187471135,
          17.478804338364583,
          0,
          0,
          0,
          21.413276231263378,
          0,
          72.44825124910778,
          35.6887937187723,
          7.1377587437544605,
          28.551034975017842,
          0,
          85.04914072365892,
          40.348730498623425,
          0,
          61.884368308351185,
          0,
          10.706638115631689,
          3.059039461609054,
          33.139594167431426,
          0,
          47.02989927829328,
          5.3533190578158445,
          31.18102454290891,
          34.4991672614799,
          0,
          94.21841541755889,
          0,
          10.706638115631689,
          43.55222460147513,
          28.848441589340947,
          26.081370449678793,
          74.07695801700086,
          75.85296216987867,
          17.300142755174875,
          3.059039461609054,
          19.791058334955554,
          35.6887937187723,
          0,
          67.80870806566737,
          10.706638115631689,
          52.25766382083296,
          61.79979075611372,
          35.6887937187723
         ],
         "zmax": 100,
         "zmin": 0
        }
       ],
       "layout": {
        "geo": {
         "lakecolor": "rgb(255, 255, 255)",
         "projection": {
          "type": "equirectangular"
         },
         "scope": "world",
         "showlakes": true
        },
        "sliders": [
         {
          "active": 5,
          "pad": {
           "t": 1
          },
          "steps": [
           {
            "args": [
             "visible",
             [
              true,
              false,
              false,
              false,
              false,
              false
             ]
            ],
            "label": "Year 2011",
            "method": "restyle"
           },
           {
            "args": [
             "visible",
             [
              false,
              true,
              false,
              false,
              false,
              false
             ]
            ],
            "label": "Year 2012",
            "method": "restyle"
           },
           {
            "args": [
             "visible",
             [
              false,
              false,
              true,
              false,
              false,
              false
             ]
            ],
            "label": "Year 2013",
            "method": "restyle"
           },
           {
            "args": [
             "visible",
             [
              false,
              false,
              false,
              true,
              false,
              false
             ]
            ],
            "label": "Year 2014",
            "method": "restyle"
           },
           {
            "args": [
             "visible",
             [
              false,
              false,
              false,
              false,
              true,
              false
             ]
            ],
            "label": "Year 2015",
            "method": "restyle"
           },
           {
            "args": [
             "visible",
             [
              false,
              false,
              false,
              false,
              false,
              true
             ]
            ],
            "label": "Year 2016",
            "method": "restyle"
           }
          ]
         }
        ],
        "title": {
         "text": "Average university percentile per country"
        }
       }
      },
      "text/html": [
       "<div>\n",
       "        \n",
       "        \n",
       "            <div id=\"352e80ad-6cc3-4f36-9de3-8fef9724d3ec\" class=\"plotly-graph-div\" style=\"height:525px; width:100%;\"></div>\n",
       "            <script type=\"text/javascript\">\n",
       "                require([\"plotly\"], function(Plotly) {\n",
       "                    window.PLOTLYENV=window.PLOTLYENV || {};\n",
       "                    window.PLOTLYENV.BASE_URL='https://plot.ly';\n",
       "                    \n",
       "                if (document.getElementById(\"352e80ad-6cc3-4f36-9de3-8fef9724d3ec\")) {\n",
       "                    Plotly.newPlot(\n",
       "                        '352e80ad-6cc3-4f36-9de3-8fef9724d3ec',\n",
       "                        [{\"autocolorscale\": false, \"colorbar\": {\"title\": {\"text\": \"Better than %\"}}, \"colorscale\": [[0, \"rgb(50,50,255)\"], [1, \"rgb(255,50,50)\"]], \"customdata\": [2011], \"locationmode\": \"country names\", \"locations\": [\"Australia\", \"Austria\", \"Belgium\", \"Canada\", \"China\", \"Denmark\", \"Egypt\", \"Finland\", \"France\", \"Germany\", \"Hong Kong\", \"Japan\", \"Netherlands\", \"New Zealand\", \"Norway\", \"Republic of Ireland\", \"Singapore\", \"South Africa\", \"South Korea\", \"Spain\", \"Sweden\", \"Switzerland\", \"Taiwan\", \"Turkey\", \"United Kingdom\", \"United States of America\"], \"marker\": {\"line\": {\"color\": \"rgb(0,0,0)\", \"width\": 0.25}}, \"type\": \"choropleth\", \"uid\": \"db3be0d0-40de-4489-ac85-6a1117b09efd\", \"z\": [54.486719310839916, 4.020100502512563, 38.94472361809045, 46.28699050809603, 47.06867671691793, 21.94304857621441, 26.13065326633166, 48.743718592964825, 59.67336683417086, 27.027997128499653, 59.547738693467345, 54.07035175879397, 24.924623115577894, 27.135678391959793, 32.1608040201005, 57.28643216080402, 47.73869346733669, 46.231155778894475, 48.994974874371856, 25.37688442211055, 32.99832495812395, 57.956448911222786, 28.894472361809047, 25.87939698492462, 47.34014902096692, 63.89586823003904], \"zmax\": 100, \"zmin\": 0}, {\"autocolorscale\": false, \"colorbar\": {\"title\": {\"text\": \"Better than %\"}}, \"colorscale\": [[0, \"rgb(50,50,255)\"], [1, \"rgb(255,50,50)\"]], \"customdata\": [2012], \"locationmode\": \"country names\", \"locations\": [\"Australia\", \"Austria\", \"Belgium\", \"Brazil\", \"Canada\", \"Chile\", \"China\", \"Czech Republic\", \"Denmark\", \"Egypt\", \"Estonia\", \"Finland\", \"France\", \"Germany\", \"Greece\", \"Hong Kong\", \"Iceland\", \"India\", \"Iran\", \"Israel\", \"Italy\", \"Japan\", \"Netherlands\", \"New Zealand\", \"Norway\", \"Poland\", \"Portugal\", \"Republic of Ireland\", \"Russian Federation\", \"Singapore\", \"South Africa\", \"South Korea\", \"Spain\", \"Sweden\", \"Switzerland\", \"Taiwan\", \"Thailand\", \"Turkey\", \"United Kingdom\", \"United States of America\"], \"marker\": {\"line\": {\"color\": \"rgb(0,0,0)\", \"width\": 0.25}}, \"type\": \"choropleth\", \"uid\": \"7e320a96-bb92-4515-9a13-d42c190f6fcd\", \"z\": [33.30793650793652, 35.81333333333333, 43.08571428571428, 37.86666666666667, 53.2962962962963, 0.0, 33.279999999999994, 13.200000000000001, 45.25333333333334, 13.200000000000001, 0.0, 23.06666666666667, 53.599999999999994, 47.67272727272728, 23.2, 55.95555555555555, 23.2, 13.200000000000001, 13.200000000000001, 44.96666666666667, 19.419047619047614, 36.54166666666667, 63.03589743589744, 25.555555555555554, 38.46666666666667, 13.200000000000001, 6.6000000000000005, 27.919999999999998, 11.6, 72.13333333333333, 44.08888888888888, 44.85714285714285, 21.65, 53.48, 77.48571428571428, 22.716666666666665, 0.0, 25.700000000000003, 49.958974358974324, 59.925663716814164], \"zmax\": 100, \"zmin\": 0}, {\"autocolorscale\": false, \"colorbar\": {\"title\": {\"text\": \"Better than %\"}}, \"colorscale\": [[0, \"rgb(50,50,255)\"], [1, \"rgb(255,50,50)\"]], \"customdata\": [2013], \"locationmode\": \"country names\", \"locations\": [\"Australia\", \"Austria\", \"Belgium\", \"Brazil\", \"Canada\", \"China\", \"Colombia\", \"Czech Republic\", \"Denmark\", \"Estonia\", \"Finland\", \"France\", \"Germany\", \"Greece\", \"Hong Kong\", \"Iceland\", \"India\", \"Iran\", \"Israel\", \"Italy\", \"Japan\", \"Mexico\", \"Netherlands\", \"New Zealand\", \"Norway\", \"Poland\", \"Portugal\", \"Republic of Ireland\", \"Russian Federation\", \"Saudi Arabia\", \"Singapore\", \"South Africa\", \"South Korea\", \"Spain\", \"Sweden\", \"Switzerland\", \"Taiwan\", \"Thailand\", \"Turkey\", \"United Kingdom\", \"United States of America\"], \"marker\": {\"line\": {\"color\": \"rgb(0,0,0)\", \"width\": 0.25}}, \"type\": \"choropleth\", \"uid\": \"7f37b7c7-199d-466e-ab30-4a8784d33905\", \"z\": [38.18767958511458, 28.339991122947186, 44.98763553357428, 43.94141145139813, 49.183544747354404, 39.29575380973517, 0.0, 13.315579227696405, 43.62183754993343, 0.0, 25.51264980026631, 50.06657789613848, 45.62982689747003, 13.315579227696405, 55.85885486018642, 29.96005326231691, 22.19263204616068, 13.315579227696405, 56.679982245894365, 16.168917633631356, 38.86100583836936, 0.0, 70.95155177711769, 25.05548158011541, 30.79227696404794, 0.0, 0.0, 29.507323568575238, 39.94673768308922, 13.315579227696405, 84.68708388814913, 34.12117177097204, 64.00355082112739, 20.448925242533765, 51.67776298268975, 65.96205059920108, 22.503328894806923, 0.0, 32.62316910785619, 51.2899467376831, 58.84046496563139], \"zmax\": 100, \"zmin\": 0}, {\"autocolorscale\": false, \"colorbar\": {\"title\": {\"text\": \"Better than %\"}}, \"colorscale\": [[0, \"rgb(50,50,255)\"], [1, \"rgb(255,50,50)\"]], \"customdata\": [2014], \"locationmode\": \"country names\", \"locations\": [\"Australia\", \"Austria\", \"Belgium\", \"Brazil\", \"Canada\", \"China\", \"Colombia\", \"Czech Republic\", \"Denmark\", \"Estonia\", \"Finland\", \"France\", \"Germany\", \"Greece\", \"Hong Kong\", \"Iceland\", \"India\", \"Iran\", \"Israel\", \"Italy\", \"Japan\", \"Netherlands\", \"New Zealand\", \"Norway\", \"Poland\", \"Portugal\", \"Republic of Ireland\", \"Russian Federation\", \"Saudi Arabia\", \"Singapore\", \"South Africa\", \"South Korea\", \"Spain\", \"Sweden\", \"Switzerland\", \"Taiwan\", \"Thailand\", \"Turkey\", \"United Kingdom\", \"United States of America\"], \"marker\": {\"line\": {\"color\": \"rgb(0,0,0)\", \"width\": 0.25}}, \"type\": \"choropleth\", \"uid\": \"4a8d0fb9-4a84-4500-bdaa-dfdcf4a35305\", \"z\": [38.9095241432476, 27.430093209054593, 52.577515693361235, 24.966711051930762, 48.01317541523583, 36.77762982689747, 29.96005326231691, 0.0, 45.752330226364855, 0.0, 22.66311584553928, 55.73175160392205, 44.28454368534262, 13.315579227696405, 55.148690634709276, 29.96005326231691, 7.323568575233024, 29.96005326231691, 46.47137150466045, 20.41722148246782, 47.11294032199492, 70.7466967120762, 28.57523302263649, 30.992010652463385, 13.315579227696405, 0.0, 31.877496671105195, 36.61784287616512, 0.0, 86.41810918774966, 38.79272081668886, 56.19174434087883, 15.875129457020272, 49.2676431424767, 68.47536617842877, 18.59187749667111, 13.315579227696405, 38.695073235685754, 51.30845946900733, 59.18836047349711], \"zmax\": 100, \"zmin\": 0}, {\"autocolorscale\": false, \"colorbar\": {\"title\": {\"text\": \"Better than %\"}}, \"colorscale\": [[0, \"rgb(50,50,255)\"], [1, \"rgb(255,50,50)\"]], \"customdata\": [2015], \"locationmode\": \"country names\", \"locations\": [\"Australia\", \"Austria\", \"Belgium\", \"Brazil\", \"Canada\", \"Chile\", \"China\", \"Colombia\", \"Czech Republic\", \"Denmark\", \"Finland\", \"France\", \"Germany\", \"Greece\", \"Hong Kong\", \"Iceland\", \"India\", \"Iran\", \"Israel\", \"Italy\", \"Japan\", \"Macau\", \"Morocco\", \"Netherlands\", \"New Zealand\", \"Norway\", \"Poland\", \"Portugal\", \"Republic of Ireland\", \"Russian Federation\", \"Singapore\", \"South Africa\", \"South Korea\", \"Spain\", \"Sweden\", \"Switzerland\", \"Taiwan\", \"Thailand\", \"Turkey\", \"United Kingdom\", \"United States of America\"], \"marker\": {\"line\": {\"color\": \"rgb(0,0,0)\", \"width\": 0.25}}, \"type\": \"choropleth\", \"uid\": \"c8cad10e-bb20-4577-ba82-aec02d69fd49\", \"z\": [39.28761651131824, 32.27696404793609, 44.83545748525775, 28.29560585885486, 51.168811954431135, 29.96005326231691, 32.65948432393173, 29.96005326231691, 13.315579227696405, 39.547270306258326, 21.780483165303412, 51.712867691562764, 43.789233403081596, 13.315579227696405, 57.67865068797159, 29.96005326231691, 11.651131824234357, 6.657789613848203, 45.494895694629385, 22.518994282133626, 38.72614292055038, 23.302263648468713, 13.315579227696405, 67.7353272559664, 23.99467376830892, 29.26098535286285, 13.315579227696405, 0.0, 30.625832223701735, 30.55925432756325, 88.5486018641811, 40.079893475366184, 44.710756028998375, 27.09720372836219, 46.07190412782957, 70.439414114514, 18.66400355082113, 0.0, 50.754549489569456, 54.259505844059795, 58.68594959806678], \"zmax\": 100, \"zmin\": 0}, {\"autocolorscale\": false, \"colorbar\": {\"title\": {\"text\": \"Better than %\"}}, \"colorscale\": [[0, \"rgb(50,50,255)\"], [1, \"rgb(255,50,50)\"]], \"customdata\": [2016], \"locationmode\": \"country names\", \"locations\": [\"Argentina\", \"Australia\", \"Austria\", \"Bangladesh\", \"Belarus\", \"Belgium\", \"Brazil\", \"Canada\", \"Chile\", \"China\", \"Colombia\", \"Cyprus\", \"Czech Republic\", \"Denmark\", \"Egypt\", \"Estonia\", \"Finland\", \"France\", \"Germany\", \"Ghana\", \"Greece\", \"Hong Kong\", \"Hungary\", \"Iceland\", \"India\", \"Indonesia\", \"Iran\", \"Israel\", \"Italy\", \"Japan\", \"Jordan\", \"Kenya\", \"Latvia\", \"Lebanon\", \"Lithuania\", \"Luxembourg\", \"Macau\", \"Malaysia\", \"Mexico\", \"Morocco\", \"Netherlands\", \"New Zealand\", \"Nigeria\", \"Norway\", \"Oman\", \"Pakistan\", \"Poland\", \"Portugal\", \"Qatar\", \"Republic of Ireland\", \"Romania\", \"Russian Federation\", \"Saudi Arabia\", \"Serbia\", \"Singapore\", \"Slovakia\", \"Slovenia\", \"South Africa\", \"South Korea\", \"Spain\", \"Sweden\", \"Switzerland\", \"Taiwan\", \"Thailand\", \"Turkey\", \"Uganda\", \"Ukraine\", \"Unisted States of America\", \"United Arab Emirates\", \"United Kingdom\", \"United States of America\", \"Unted Kingdom\"], \"marker\": {\"line\": {\"color\": \"rgb(0,0,0)\", \"width\": 0.25}}, \"type\": \"choropleth\", \"uid\": \"ef29b3d1-979f-4e94-9ea5-3aaf6461cd33\", \"z\": [0.0, 56.59551932951119, 54.216376057917806, 0.0, 0.0, 69.68491893545426, 8.817231389343746, 59.183440399714485, 15.465143944801332, 23.388699191697043, 10.706638115631689, 46.395431834404, 21.01673407883258, 73.07875327147275, 0.0, 33.90435403283369, 48.3702117535094, 44.928225870410024, 71.67467253120357, 0.0, 19.883756500458855, 74.60147513680704, 3.56887937187723, 60.67094932191293, 18.89406726287945, 0.0, 16.952177016416844, 45.74113728289317, 46.96855187471135, 17.478804338364583, 0.0, 0.0, 0.0, 21.413276231263378, 0.0, 72.44825124910778, 35.6887937187723, 7.1377587437544605, 28.551034975017842, 0.0, 85.04914072365892, 40.348730498623425, 0.0, 61.884368308351185, 0.0, 10.706638115631689, 3.059039461609054, 33.139594167431426, 0.0, 47.02989927829328, 5.3533190578158445, 31.18102454290891, 34.4991672614799, 0.0, 94.21841541755889, 0.0, 10.706638115631689, 43.55222460147513, 28.848441589340947, 26.081370449678793, 74.07695801700086, 75.85296216987867, 17.300142755174875, 3.059039461609054, 19.791058334955554, 35.6887937187723, 0.0, 67.80870806566737, 10.706638115631689, 52.25766382083296, 61.79979075611372, 35.6887937187723], \"zmax\": 100, \"zmin\": 0}],\n",
       "                        {\"geo\": {\"lakecolor\": \"rgb(255, 255, 255)\", \"projection\": {\"type\": \"equirectangular\"}, \"scope\": \"world\", \"showlakes\": true}, \"sliders\": [{\"active\": 5, \"pad\": {\"t\": 1}, \"steps\": [{\"args\": [\"visible\", [true, false, false, false, false, false]], \"label\": \"Year 2011\", \"method\": \"restyle\"}, {\"args\": [\"visible\", [false, true, false, false, false, false]], \"label\": \"Year 2012\", \"method\": \"restyle\"}, {\"args\": [\"visible\", [false, false, true, false, false, false]], \"label\": \"Year 2013\", \"method\": \"restyle\"}, {\"args\": [\"visible\", [false, false, false, true, false, false]], \"label\": \"Year 2014\", \"method\": \"restyle\"}, {\"args\": [\"visible\", [false, false, false, false, true, false]], \"label\": \"Year 2015\", \"method\": \"restyle\"}, {\"args\": [\"visible\", [false, false, false, false, false, true]], \"label\": \"Year 2016\", \"method\": \"restyle\"}]}], \"title\": {\"text\": \"Average university percentile per country\"}},\n",
       "                        {\"showLink\": false, \"linkText\": \"Export to plot.ly\", \"plotlyServerURL\": \"https://plot.ly\", \"responsive\": true}\n",
       "                    ).then(function(){\n",
       "                            \n",
       "var gd = document.getElementById('352e80ad-6cc3-4f36-9de3-8fef9724d3ec');\n",
       "var x = new MutationObserver(function (mutations, observer) {{\n",
       "        var display = window.getComputedStyle(gd).display;\n",
       "        if (!display || display === 'none') {{\n",
       "            console.log([gd, 'removed!']);\n",
       "            Plotly.purge(gd);\n",
       "            observer.disconnect();\n",
       "        }}\n",
       "}});\n",
       "\n",
       "// Listen for the removal of the full notebook cells\n",
       "var notebookContainer = gd.closest('#notebook-container');\n",
       "if (notebookContainer) {{\n",
       "    x.observe(notebookContainer, {childList: true});\n",
       "}}\n",
       "\n",
       "// Listen for the clearing of the current output cell\n",
       "var outputEl = gd.closest('.output');\n",
       "if (outputEl) {{\n",
       "    x.observe(outputEl, {childList: true});\n",
       "}}\n",
       "\n",
       "                        })\n",
       "                };\n",
       "                });\n",
       "            </script>\n",
       "        </div>"
      ]
     },
     "metadata": {},
     "output_type": "display_data"
    },
    {
     "data": {
      "application/vnd.plotly.v1+json": {
       "config": {
        "linkText": "Export to plot.ly",
        "plotlyServerURL": "https://plot.ly",
        "showLink": false
       },
       "data": [
        {
         "autocolorscale": false,
         "colorbar": {
          "title": {
           "text": "Amount"
          }
         },
         "colorscale": [
          [
           0,
           "rgb(255,255,255)"
          ],
          [
           1,
           "rgb(22,100,22)"
          ]
         ],
         "customdata": [
          2011
         ],
         "locationmode": "country names",
         "locations": [
          "Australia",
          "Austria",
          "Belgium",
          "Canada",
          "China",
          "Denmark",
          "Egypt",
          "Finland",
          "France",
          "Germany",
          "Hong Kong",
          "Japan",
          "Netherlands",
          "New Zealand",
          "Norway",
          "Republic of Ireland",
          "Singapore",
          "South Africa",
          "South Korea",
          "Spain",
          "Sweden",
          "Switzerland",
          "Taiwan",
          "Turkey",
          "United Kingdom",
          "United States of America"
         ],
         "marker": {
          "line": {
           "color": "rgb(0,0,0)",
           "width": 0.25
          }
         },
         "type": "choropleth",
         "uid": "8fda6ade-16eb-48b5-846c-75e2ae4f069a",
         "z": [
          7,
          2,
          2,
          9,
          6,
          3,
          1,
          1,
          4,
          14,
          4,
          5,
          10,
          1,
          1,
          2,
          2,
          1,
          4,
          2,
          6,
          6,
          4,
          2,
          29,
          72
         ],
         "zmax": 150,
         "zmin": 0
        },
        {
         "autocolorscale": false,
         "colorbar": {
          "title": {
           "text": "Amount"
          }
         },
         "colorscale": [
          [
           0,
           "rgb(255,255,255)"
          ],
          [
           1,
           "rgb(22,100,22)"
          ]
         ],
         "customdata": [
          2012
         ],
         "locationmode": "country names",
         "locations": [
          "Australia",
          "Austria",
          "Belgium",
          "Brazil",
          "Canada",
          "Chile",
          "China",
          "Czech Republic",
          "Denmark",
          "Egypt",
          "Estonia",
          "Finland",
          "France",
          "Germany",
          "Greece",
          "Hong Kong",
          "Iceland",
          "India",
          "Iran",
          "Israel",
          "Italy",
          "Japan",
          "Netherlands",
          "New Zealand",
          "Norway",
          "Poland",
          "Portugal",
          "Republic of Ireland",
          "Russian Federation",
          "Singapore",
          "South Africa",
          "South Korea",
          "Spain",
          "Sweden",
          "Switzerland",
          "Taiwan",
          "Thailand",
          "Turkey",
          "United Kingdom",
          "United States of America"
         ],
         "marker": {
          "line": {
           "color": "rgb(0,0,0)",
           "width": 0.25
          }
         },
         "type": "choropleth",
         "uid": "637ea618-6e74-49e0-b7f6-903318e2e124",
         "z": [
          21,
          5,
          7,
          2,
          18,
          1,
          10,
          1,
          5,
          1,
          1,
          5,
          8,
          22,
          1,
          6,
          1,
          1,
          1,
          4,
          14,
          16,
          13,
          6,
          4,
          2,
          4,
          5,
          2,
          2,
          3,
          7,
          8,
          10,
          7,
          8,
          1,
          4,
          52,
          113
         ],
         "zmax": 150,
         "zmin": 0
        },
        {
         "autocolorscale": false,
         "colorbar": {
          "title": {
           "text": "Amount"
          }
         },
         "colorscale": [
          [
           0,
           "rgb(255,255,255)"
          ],
          [
           1,
           "rgb(22,100,22)"
          ]
         ],
         "customdata": [
          2013
         ],
         "locationmode": "country names",
         "locations": [
          "Australia",
          "Austria",
          "Belgium",
          "Brazil",
          "Canada",
          "China",
          "Colombia",
          "Czech Republic",
          "Denmark",
          "Estonia",
          "Finland",
          "France",
          "Germany",
          "Greece",
          "Hong Kong",
          "Iceland",
          "India",
          "Iran",
          "Israel",
          "Italy",
          "Japan",
          "Mexico",
          "Netherlands",
          "New Zealand",
          "Norway",
          "Poland",
          "Portugal",
          "Republic of Ireland",
          "Russian Federation",
          "Saudi Arabia",
          "Singapore",
          "South Africa",
          "South Korea",
          "Spain",
          "Sweden",
          "Switzerland",
          "Taiwan",
          "Thailand",
          "Turkey",
          "United Kingdom",
          "United States of America"
         ],
         "marker": {
          "line": {
           "color": "rgb(0,0,0)",
           "width": 0.25
          }
         },
         "type": "choropleth",
         "uid": "ede14bd5-2578-4280-b94f-e9005f93efc6",
         "z": [
          19,
          6,
          7,
          2,
          19,
          9,
          1,
          1,
          5,
          1,
          5,
          12,
          25,
          1,
          6,
          1,
          3,
          1,
          3,
          14,
          13,
          1,
          13,
          6,
          4,
          2,
          3,
          5,
          2,
          1,
          2,
          4,
          6,
          7,
          10,
          8,
          7,
          1,
          5,
          48,
          111
         ],
         "zmax": 150,
         "zmin": 0
        },
        {
         "autocolorscale": false,
         "colorbar": {
          "title": {
           "text": "Amount"
          }
         },
         "colorscale": [
          [
           0,
           "rgb(255,255,255)"
          ],
          [
           1,
           "rgb(22,100,22)"
          ]
         ],
         "customdata": [
          2014
         ],
         "locationmode": "country names",
         "locations": [
          "Australia",
          "Austria",
          "Belgium",
          "Brazil",
          "Canada",
          "China",
          "Colombia",
          "Czech Republic",
          "Denmark",
          "Estonia",
          "Finland",
          "France",
          "Germany",
          "Greece",
          "Hong Kong",
          "Iceland",
          "India",
          "Iran",
          "Israel",
          "Italy",
          "Japan",
          "Netherlands",
          "New Zealand",
          "Norway",
          "Poland",
          "Portugal",
          "Republic of Ireland",
          "Russian Federation",
          "Saudi Arabia",
          "Singapore",
          "South Africa",
          "South Korea",
          "Spain",
          "Sweden",
          "Switzerland",
          "Taiwan",
          "Thailand",
          "Turkey",
          "United Kingdom",
          "United States of America"
         ],
         "marker": {
          "line": {
           "color": "rgb(0,0,0)",
           "width": 0.25
          }
         },
         "type": "choropleth",
         "uid": "7757721c-0ed4-47e1-a6c9-5321284783c7",
         "z": [
          19,
          6,
          7,
          2,
          19,
          10,
          1,
          1,
          5,
          1,
          5,
          11,
          26,
          1,
          6,
          1,
          5,
          1,
          3,
          15,
          11,
          13,
          5,
          4,
          1,
          2,
          5,
          1,
          2,
          2,
          3,
          7,
          9,
          10,
          8,
          8,
          1,
          5,
          49,
          109
         ],
         "zmax": 150,
         "zmin": 0
        },
        {
         "autocolorscale": false,
         "colorbar": {
          "title": {
           "text": "Amount"
          }
         },
         "colorscale": [
          [
           0,
           "rgb(255,255,255)"
          ],
          [
           1,
           "rgb(22,100,22)"
          ]
         ],
         "customdata": [
          2015
         ],
         "locationmode": "country names",
         "locations": [
          "Australia",
          "Austria",
          "Belgium",
          "Brazil",
          "Canada",
          "Chile",
          "China",
          "Colombia",
          "Czech Republic",
          "Denmark",
          "Finland",
          "France",
          "Germany",
          "Greece",
          "Hong Kong",
          "Iceland",
          "India",
          "Iran",
          "Israel",
          "Italy",
          "Japan",
          "Macau",
          "Morocco",
          "Netherlands",
          "New Zealand",
          "Norway",
          "Poland",
          "Portugal",
          "Republic of Ireland",
          "Russian Federation",
          "Singapore",
          "South Africa",
          "South Korea",
          "Spain",
          "Sweden",
          "Switzerland",
          "Taiwan",
          "Thailand",
          "Turkey",
          "United Kingdom",
          "United States of America"
         ],
         "marker": {
          "line": {
           "color": "rgb(0,0,0)",
           "width": 0.25
          }
         },
         "type": "choropleth",
         "uid": "896d4df0-f143-4ff5-845c-038b61a07bb5",
         "z": [
          20,
          5,
          7,
          2,
          18,
          1,
          11,
          1,
          1,
          5,
          7,
          11,
          28,
          1,
          6,
          1,
          4,
          2,
          3,
          17,
          12,
          1,
          1,
          13,
          5,
          4,
          1,
          2,
          5,
          2,
          2,
          3,
          9,
          6,
          10,
          8,
          6,
          1,
          6,
          45,
          108
         ],
         "zmax": 150,
         "zmin": 0
        },
        {
         "autocolorscale": false,
         "colorbar": {
          "title": {
           "text": "Amount"
          }
         },
         "colorscale": [
          [
           0,
           "rgb(255,255,255)"
          ],
          [
           1,
           "rgb(22,100,22)"
          ]
         ],
         "customdata": [
          2016
         ],
         "locationmode": "country names",
         "locations": [
          "Argentina",
          "Australia",
          "Austria",
          "Bangladesh",
          "Belarus",
          "Belgium",
          "Brazil",
          "Canada",
          "Chile",
          "China",
          "Colombia",
          "Cyprus",
          "Czech Republic",
          "Denmark",
          "Egypt",
          "Estonia",
          "Finland",
          "France",
          "Germany",
          "Ghana",
          "Greece",
          "Hong Kong",
          "Hungary",
          "Iceland",
          "India",
          "Indonesia",
          "Iran",
          "Israel",
          "Italy",
          "Japan",
          "Jordan",
          "Kenya",
          "Latvia",
          "Lebanon",
          "Lithuania",
          "Luxembourg",
          "Macau",
          "Malaysia",
          "Mexico",
          "Morocco",
          "Netherlands",
          "New Zealand",
          "Nigeria",
          "Norway",
          "Oman",
          "Pakistan",
          "Poland",
          "Portugal",
          "Qatar",
          "Republic of Ireland",
          "Romania",
          "Russian Federation",
          "Saudi Arabia",
          "Serbia",
          "Singapore",
          "Slovakia",
          "Slovenia",
          "South Africa",
          "South Korea",
          "Spain",
          "Sweden",
          "Switzerland",
          "Taiwan",
          "Thailand",
          "Turkey",
          "Uganda",
          "Ukraine",
          "Unisted States of America",
          "United Arab Emirates",
          "United Kingdom",
          "United States of America",
          "Unted Kingdom"
         ],
         "marker": {
          "line": {
           "color": "rgb(0,0,0)",
           "width": 0.25
          }
         },
         "type": "choropleth",
         "uid": "c1a9adb8-765e-4486-8992-bf6d140c73a2",
         "z": [
          1,
          31,
          7,
          1,
          1,
          7,
          17,
          25,
          6,
          37,
          2,
          1,
          9,
          6,
          3,
          2,
          9,
          27,
          37,
          1,
          7,
          6,
          6,
          1,
          17,
          1,
          8,
          6,
          34,
          41,
          2,
          1,
          1,
          1,
          1,
          1,
          1,
          5,
          2,
          1,
          13,
          7,
          1,
          4,
          1,
          2,
          7,
          7,
          1,
          9,
          4,
          13,
          3,
          1,
          2,
          2,
          2,
          6,
          24,
          25,
          11,
          10,
          24,
          7,
          11,
          1,
          2,
          1,
          2,
          77,
          146,
          1
         ],
         "zmax": 150,
         "zmin": 0
        }
       ],
       "layout": {
        "geo": {
         "lakecolor": "rgb(255, 255, 255)",
         "projection": {
          "type": "equirectangular"
         },
         "scope": "world",
         "showlakes": true
        },
        "sliders": [
         {
          "active": 5,
          "pad": {
           "t": 1
          },
          "steps": [
           {
            "args": [
             "visible",
             [
              true,
              false,
              false,
              false,
              false,
              false
             ]
            ],
            "label": "Year 2011",
            "method": "restyle"
           },
           {
            "args": [
             "visible",
             [
              false,
              true,
              false,
              false,
              false,
              false
             ]
            ],
            "label": "Year 2012",
            "method": "restyle"
           },
           {
            "args": [
             "visible",
             [
              false,
              false,
              true,
              false,
              false,
              false
             ]
            ],
            "label": "Year 2013",
            "method": "restyle"
           },
           {
            "args": [
             "visible",
             [
              false,
              false,
              false,
              true,
              false,
              false
             ]
            ],
            "label": "Year 2014",
            "method": "restyle"
           },
           {
            "args": [
             "visible",
             [
              false,
              false,
              false,
              false,
              true,
              false
             ]
            ],
            "label": "Year 2015",
            "method": "restyle"
           },
           {
            "args": [
             "visible",
             [
              false,
              false,
              false,
              false,
              false,
              true
             ]
            ],
            "label": "Year 2016",
            "method": "restyle"
           }
          ]
         }
        ],
        "title": {
         "text": "Number of universities in each country"
        }
       }
      },
      "text/html": [
       "<div>\n",
       "        \n",
       "        \n",
       "            <div id=\"4b19bc0c-c22b-493c-9d0d-1b827e9e3609\" class=\"plotly-graph-div\" style=\"height:525px; width:100%;\"></div>\n",
       "            <script type=\"text/javascript\">\n",
       "                require([\"plotly\"], function(Plotly) {\n",
       "                    window.PLOTLYENV=window.PLOTLYENV || {};\n",
       "                    window.PLOTLYENV.BASE_URL='https://plot.ly';\n",
       "                    \n",
       "                if (document.getElementById(\"4b19bc0c-c22b-493c-9d0d-1b827e9e3609\")) {\n",
       "                    Plotly.newPlot(\n",
       "                        '4b19bc0c-c22b-493c-9d0d-1b827e9e3609',\n",
       "                        [{\"autocolorscale\": false, \"colorbar\": {\"title\": {\"text\": \"Amount\"}}, \"colorscale\": [[0, \"rgb(255,255,255)\"], [1, \"rgb(22,100,22)\"]], \"customdata\": [2011], \"locationmode\": \"country names\", \"locations\": [\"Australia\", \"Austria\", \"Belgium\", \"Canada\", \"China\", \"Denmark\", \"Egypt\", \"Finland\", \"France\", \"Germany\", \"Hong Kong\", \"Japan\", \"Netherlands\", \"New Zealand\", \"Norway\", \"Republic of Ireland\", \"Singapore\", \"South Africa\", \"South Korea\", \"Spain\", \"Sweden\", \"Switzerland\", \"Taiwan\", \"Turkey\", \"United Kingdom\", \"United States of America\"], \"marker\": {\"line\": {\"color\": \"rgb(0,0,0)\", \"width\": 0.25}}, \"type\": \"choropleth\", \"uid\": \"8fda6ade-16eb-48b5-846c-75e2ae4f069a\", \"z\": [7.0, 2.0, 2.0, 9.0, 6.0, 3.0, 1.0, 1.0, 4.0, 14.0, 4.0, 5.0, 10.0, 1.0, 1.0, 2.0, 2.0, 1.0, 4.0, 2.0, 6.0, 6.0, 4.0, 2.0, 29.0, 72.0], \"zmax\": 150, \"zmin\": 0}, {\"autocolorscale\": false, \"colorbar\": {\"title\": {\"text\": \"Amount\"}}, \"colorscale\": [[0, \"rgb(255,255,255)\"], [1, \"rgb(22,100,22)\"]], \"customdata\": [2012], \"locationmode\": \"country names\", \"locations\": [\"Australia\", \"Austria\", \"Belgium\", \"Brazil\", \"Canada\", \"Chile\", \"China\", \"Czech Republic\", \"Denmark\", \"Egypt\", \"Estonia\", \"Finland\", \"France\", \"Germany\", \"Greece\", \"Hong Kong\", \"Iceland\", \"India\", \"Iran\", \"Israel\", \"Italy\", \"Japan\", \"Netherlands\", \"New Zealand\", \"Norway\", \"Poland\", \"Portugal\", \"Republic of Ireland\", \"Russian Federation\", \"Singapore\", \"South Africa\", \"South Korea\", \"Spain\", \"Sweden\", \"Switzerland\", \"Taiwan\", \"Thailand\", \"Turkey\", \"United Kingdom\", \"United States of America\"], \"marker\": {\"line\": {\"color\": \"rgb(0,0,0)\", \"width\": 0.25}}, \"type\": \"choropleth\", \"uid\": \"637ea618-6e74-49e0-b7f6-903318e2e124\", \"z\": [21.0, 5.0, 7.0, 2.0, 18.0, 1.0, 10.0, 1.0, 5.0, 1.0, 1.0, 5.0, 8.0, 22.0, 1.0, 6.0, 1.0, 1.0, 1.0, 4.0, 14.0, 16.0, 13.0, 6.0, 4.0, 2.0, 4.0, 5.0, 2.0, 2.0, 3.0, 7.0, 8.0, 10.0, 7.0, 8.0, 1.0, 4.0, 52.0, 113.0], \"zmax\": 150, \"zmin\": 0}, {\"autocolorscale\": false, \"colorbar\": {\"title\": {\"text\": \"Amount\"}}, \"colorscale\": [[0, \"rgb(255,255,255)\"], [1, \"rgb(22,100,22)\"]], \"customdata\": [2013], \"locationmode\": \"country names\", \"locations\": [\"Australia\", \"Austria\", \"Belgium\", \"Brazil\", \"Canada\", \"China\", \"Colombia\", \"Czech Republic\", \"Denmark\", \"Estonia\", \"Finland\", \"France\", \"Germany\", \"Greece\", \"Hong Kong\", \"Iceland\", \"India\", \"Iran\", \"Israel\", \"Italy\", \"Japan\", \"Mexico\", \"Netherlands\", \"New Zealand\", \"Norway\", \"Poland\", \"Portugal\", \"Republic of Ireland\", \"Russian Federation\", \"Saudi Arabia\", \"Singapore\", \"South Africa\", \"South Korea\", \"Spain\", \"Sweden\", \"Switzerland\", \"Taiwan\", \"Thailand\", \"Turkey\", \"United Kingdom\", \"United States of America\"], \"marker\": {\"line\": {\"color\": \"rgb(0,0,0)\", \"width\": 0.25}}, \"type\": \"choropleth\", \"uid\": \"ede14bd5-2578-4280-b94f-e9005f93efc6\", \"z\": [19.0, 6.0, 7.0, 2.0, 19.0, 9.0, 1.0, 1.0, 5.0, 1.0, 5.0, 12.0, 25.0, 1.0, 6.0, 1.0, 3.0, 1.0, 3.0, 14.0, 13.0, 1.0, 13.0, 6.0, 4.0, 2.0, 3.0, 5.0, 2.0, 1.0, 2.0, 4.0, 6.0, 7.0, 10.0, 8.0, 7.0, 1.0, 5.0, 48.0, 111.0], \"zmax\": 150, \"zmin\": 0}, {\"autocolorscale\": false, \"colorbar\": {\"title\": {\"text\": \"Amount\"}}, \"colorscale\": [[0, \"rgb(255,255,255)\"], [1, \"rgb(22,100,22)\"]], \"customdata\": [2014], \"locationmode\": \"country names\", \"locations\": [\"Australia\", \"Austria\", \"Belgium\", \"Brazil\", \"Canada\", \"China\", \"Colombia\", \"Czech Republic\", \"Denmark\", \"Estonia\", \"Finland\", \"France\", \"Germany\", \"Greece\", \"Hong Kong\", \"Iceland\", \"India\", \"Iran\", \"Israel\", \"Italy\", \"Japan\", \"Netherlands\", \"New Zealand\", \"Norway\", \"Poland\", \"Portugal\", \"Republic of Ireland\", \"Russian Federation\", \"Saudi Arabia\", \"Singapore\", \"South Africa\", \"South Korea\", \"Spain\", \"Sweden\", \"Switzerland\", \"Taiwan\", \"Thailand\", \"Turkey\", \"United Kingdom\", \"United States of America\"], \"marker\": {\"line\": {\"color\": \"rgb(0,0,0)\", \"width\": 0.25}}, \"type\": \"choropleth\", \"uid\": \"7757721c-0ed4-47e1-a6c9-5321284783c7\", \"z\": [19.0, 6.0, 7.0, 2.0, 19.0, 10.0, 1.0, 1.0, 5.0, 1.0, 5.0, 11.0, 26.0, 1.0, 6.0, 1.0, 5.0, 1.0, 3.0, 15.0, 11.0, 13.0, 5.0, 4.0, 1.0, 2.0, 5.0, 1.0, 2.0, 2.0, 3.0, 7.0, 9.0, 10.0, 8.0, 8.0, 1.0, 5.0, 49.0, 109.0], \"zmax\": 150, \"zmin\": 0}, {\"autocolorscale\": false, \"colorbar\": {\"title\": {\"text\": \"Amount\"}}, \"colorscale\": [[0, \"rgb(255,255,255)\"], [1, \"rgb(22,100,22)\"]], \"customdata\": [2015], \"locationmode\": \"country names\", \"locations\": [\"Australia\", \"Austria\", \"Belgium\", \"Brazil\", \"Canada\", \"Chile\", \"China\", \"Colombia\", \"Czech Republic\", \"Denmark\", \"Finland\", \"France\", \"Germany\", \"Greece\", \"Hong Kong\", \"Iceland\", \"India\", \"Iran\", \"Israel\", \"Italy\", \"Japan\", \"Macau\", \"Morocco\", \"Netherlands\", \"New Zealand\", \"Norway\", \"Poland\", \"Portugal\", \"Republic of Ireland\", \"Russian Federation\", \"Singapore\", \"South Africa\", \"South Korea\", \"Spain\", \"Sweden\", \"Switzerland\", \"Taiwan\", \"Thailand\", \"Turkey\", \"United Kingdom\", \"United States of America\"], \"marker\": {\"line\": {\"color\": \"rgb(0,0,0)\", \"width\": 0.25}}, \"type\": \"choropleth\", \"uid\": \"896d4df0-f143-4ff5-845c-038b61a07bb5\", \"z\": [20.0, 5.0, 7.0, 2.0, 18.0, 1.0, 11.0, 1.0, 1.0, 5.0, 7.0, 11.0, 28.0, 1.0, 6.0, 1.0, 4.0, 2.0, 3.0, 17.0, 12.0, 1.0, 1.0, 13.0, 5.0, 4.0, 1.0, 2.0, 5.0, 2.0, 2.0, 3.0, 9.0, 6.0, 10.0, 8.0, 6.0, 1.0, 6.0, 45.0, 108.0], \"zmax\": 150, \"zmin\": 0}, {\"autocolorscale\": false, \"colorbar\": {\"title\": {\"text\": \"Amount\"}}, \"colorscale\": [[0, \"rgb(255,255,255)\"], [1, \"rgb(22,100,22)\"]], \"customdata\": [2016], \"locationmode\": \"country names\", \"locations\": [\"Argentina\", \"Australia\", \"Austria\", \"Bangladesh\", \"Belarus\", \"Belgium\", \"Brazil\", \"Canada\", \"Chile\", \"China\", \"Colombia\", \"Cyprus\", \"Czech Republic\", \"Denmark\", \"Egypt\", \"Estonia\", \"Finland\", \"France\", \"Germany\", \"Ghana\", \"Greece\", \"Hong Kong\", \"Hungary\", \"Iceland\", \"India\", \"Indonesia\", \"Iran\", \"Israel\", \"Italy\", \"Japan\", \"Jordan\", \"Kenya\", \"Latvia\", \"Lebanon\", \"Lithuania\", \"Luxembourg\", \"Macau\", \"Malaysia\", \"Mexico\", \"Morocco\", \"Netherlands\", \"New Zealand\", \"Nigeria\", \"Norway\", \"Oman\", \"Pakistan\", \"Poland\", \"Portugal\", \"Qatar\", \"Republic of Ireland\", \"Romania\", \"Russian Federation\", \"Saudi Arabia\", \"Serbia\", \"Singapore\", \"Slovakia\", \"Slovenia\", \"South Africa\", \"South Korea\", \"Spain\", \"Sweden\", \"Switzerland\", \"Taiwan\", \"Thailand\", \"Turkey\", \"Uganda\", \"Ukraine\", \"Unisted States of America\", \"United Arab Emirates\", \"United Kingdom\", \"United States of America\", \"Unted Kingdom\"], \"marker\": {\"line\": {\"color\": \"rgb(0,0,0)\", \"width\": 0.25}}, \"type\": \"choropleth\", \"uid\": \"c1a9adb8-765e-4486-8992-bf6d140c73a2\", \"z\": [1.0, 31.0, 7.0, 1.0, 1.0, 7.0, 17.0, 25.0, 6.0, 37.0, 2.0, 1.0, 9.0, 6.0, 3.0, 2.0, 9.0, 27.0, 37.0, 1.0, 7.0, 6.0, 6.0, 1.0, 17.0, 1.0, 8.0, 6.0, 34.0, 41.0, 2.0, 1.0, 1.0, 1.0, 1.0, 1.0, 1.0, 5.0, 2.0, 1.0, 13.0, 7.0, 1.0, 4.0, 1.0, 2.0, 7.0, 7.0, 1.0, 9.0, 4.0, 13.0, 3.0, 1.0, 2.0, 2.0, 2.0, 6.0, 24.0, 25.0, 11.0, 10.0, 24.0, 7.0, 11.0, 1.0, 2.0, 1.0, 2.0, 77.0, 146.0, 1.0], \"zmax\": 150, \"zmin\": 0}],\n",
       "                        {\"geo\": {\"lakecolor\": \"rgb(255, 255, 255)\", \"projection\": {\"type\": \"equirectangular\"}, \"scope\": \"world\", \"showlakes\": true}, \"sliders\": [{\"active\": 5, \"pad\": {\"t\": 1}, \"steps\": [{\"args\": [\"visible\", [true, false, false, false, false, false]], \"label\": \"Year 2011\", \"method\": \"restyle\"}, {\"args\": [\"visible\", [false, true, false, false, false, false]], \"label\": \"Year 2012\", \"method\": \"restyle\"}, {\"args\": [\"visible\", [false, false, true, false, false, false]], \"label\": \"Year 2013\", \"method\": \"restyle\"}, {\"args\": [\"visible\", [false, false, false, true, false, false]], \"label\": \"Year 2014\", \"method\": \"restyle\"}, {\"args\": [\"visible\", [false, false, false, false, true, false]], \"label\": \"Year 2015\", \"method\": \"restyle\"}, {\"args\": [\"visible\", [false, false, false, false, false, true]], \"label\": \"Year 2016\", \"method\": \"restyle\"}]}], \"title\": {\"text\": \"Number of universities in each country\"}},\n",
       "                        {\"showLink\": false, \"linkText\": \"Export to plot.ly\", \"plotlyServerURL\": \"https://plot.ly\", \"responsive\": true}\n",
       "                    ).then(function(){\n",
       "                            \n",
       "var gd = document.getElementById('4b19bc0c-c22b-493c-9d0d-1b827e9e3609');\n",
       "var x = new MutationObserver(function (mutations, observer) {{\n",
       "        var display = window.getComputedStyle(gd).display;\n",
       "        if (!display || display === 'none') {{\n",
       "            console.log([gd, 'removed!']);\n",
       "            Plotly.purge(gd);\n",
       "            observer.disconnect();\n",
       "        }}\n",
       "}});\n",
       "\n",
       "// Listen for the removal of the full notebook cells\n",
       "var notebookContainer = gd.closest('#notebook-container');\n",
       "if (notebookContainer) {{\n",
       "    x.observe(notebookContainer, {childList: true});\n",
       "}}\n",
       "\n",
       "// Listen for the clearing of the current output cell\n",
       "var outputEl = gd.closest('.output');\n",
       "if (outputEl) {{\n",
       "    x.observe(outputEl, {childList: true});\n",
       "}}\n",
       "\n",
       "                        })\n",
       "                };\n",
       "                });\n",
       "            </script>\n",
       "        </div>"
      ]
     },
     "metadata": {},
     "output_type": "display_data"
    }
   ],
   "source": [
    "\n",
    "def choro(raw, year, statistic, unit, zmax, cls):\n",
    "    return go.Choropleth(\n",
    "        zmin = 0,\n",
    "        zmax = zmax,\n",
    "        colorscale = cls,\n",
    "        autocolorscale = False,\n",
    "        locations = raw.index,\n",
    "        z = raw[statistic].astype(float),\n",
    "        locationmode = 'country names',\n",
    "        marker = go.choropleth.Marker(\n",
    "            line = go.choropleth.marker.Line(\n",
    "                color = 'rgb(0,0,0)',\n",
    "                width = .25\n",
    "            )),\n",
    "        colorbar = go.choropleth.ColorBar(\n",
    "            title = unit),\n",
    "        customdata = [year]\n",
    "    )\n",
    "\n",
    "def worldmap(statistic, title, unit, zmax, cls):\n",
    "    data = [choro(country_stats.loc[year], year, statistic, unit, zmax, cls) for year in country_stats.index.levels[0]]\n",
    "\n",
    "    steps = []\n",
    "    for i, d in enumerate(data):\n",
    "        step = dict(method='restyle',\n",
    "                    args=['visible', [False] * (len(data))],\n",
    "                    label='Year {}'.format(d.customdata[0]))\n",
    "        step['args'][1][i] = True\n",
    "        steps.append(step)\n",
    "\n",
    "    sliders = [dict(active=(len(data)-1),\n",
    "                    pad={\"t\": 1},\n",
    "                    steps=steps)]  \n",
    "\n",
    "    layout = go.Layout(\n",
    "        title = go.layout.Title(\n",
    "            text = title\n",
    "        ),\n",
    "        geo = go.layout.Geo(\n",
    "            scope = 'world',\n",
    "            projection = go.layout.geo.Projection(type = 'equirectangular'),\n",
    "            showlakes = True,\n",
    "            lakecolor = 'rgb(255, 255, 255)'),\n",
    "        sliders = sliders\n",
    "    )\n",
    "\n",
    "    fig = go.Figure(data = data, layout = layout)\n",
    "    iplot(fig)\n",
    "\n",
    "# for stat in country_stats.columns:\n",
    "#     worldmap(stat)\n",
    "\n",
    "\n",
    "# worldmap('world_rank', 'Average ranking of universities in each country', 'Average Ranking', 800, False)\n",
    "worldmap('percentile', 'Average university percentile per country', 'Better than %', 100, [[0, 'rgb(50,50,255)'], [1, 'rgb(255,50,50)']])\n",
    "worldmap('count', 'Number of universities in each country', 'Amount', 150, [[0, 'rgb(255,255,255)'], [1, 'rgb(22,100,22)']])"
   ]
  },
  {
   "cell_type": "markdown",
   "metadata": {},
   "source": []
  },
  {
   "cell_type": "code",
   "execution_count": 100,
   "metadata": {},
   "outputs": [],
   "source": [
    "Japan = times[times['country'] == 'Japan']\n",
    "HONGKONG = times[times['country'] == 'Hong Kong']\n",
    "South_Korea = times[times['country'] == 'South Korea']\n",
    "China = times[times['country'] == 'China']\n",
    "Singapore = times[times['country'] == 'Singapore']\n",
    "Taiwan = times[times['country'] == 'Taiwan']\n",
    "Thailand = times[times['country'] == 'Thailand']\n",
    "USA = times[times['country'] == 'United States of America']\n",
    "asias = pd.concat([Japan, HONGKONG, South_Korea, China, Singapore, Taiwan, Thailand], ignore_index=True)\n",
    "\n",
    "\n",
    "rankasia = asias[['percentile', 'year']].groupby(['year']).mean()\n",
    "rankUSA = USA[['percentile', 'year']].groupby(['year']).mean()"
   ]
  },
  {
   "cell_type": "code",
   "execution_count": 186,
   "metadata": {},
   "outputs": [
    {
     "data": {
      "application/vnd.plotly.v1+json": {
       "config": {
        "linkText": "Export to plot.ly",
        "plotlyServerURL": "https://plot.ly",
        "showLink": false
       },
       "data": [
        {
         "marker": {
          "color": "#FF6961"
         },
         "name": "Azië",
         "type": "bar",
         "uid": "872bda15-aa25-4605-876c-124a9d9f80b9",
         "x": [
          2011,
          2012,
          2013,
          2014,
          2015,
          2016
         ],
         "y": [
          47.91959798994974,
          37.864000000000004,
          43.293790098051076,
          43.22532919070869,
          39.606765447488456,
          23.737856951215182
         ]
        },
        {
         "marker": {
          "color": "#1e90ff"
         },
         "name": "USA",
         "type": "bar",
         "uid": "47be9ba4-c92d-485c-a13a-e2a67f5741e9",
         "x": [
          2011,
          2012,
          2013,
          2014,
          2015,
          2016
         ],
         "y": [
          63.89586823003904,
          59.925663716814164,
          58.84046496563139,
          59.18836047349711,
          58.68594959806678,
          61.79979075611372
         ]
        }
       ],
       "layout": {
        "barmode": "group",
        "title": {
         "text": "Vergeljking tussen Amerikaanse en Aziatische universiteiten over de jaren"
        },
        "xaxis": {
         "title": {
          "text": "Jaar"
         },
         "type": "category"
        },
        "yaxis": {
         "title": {
          "text": "Gemiddelde world ranking"
         }
        }
       }
      },
      "text/html": [
       "<div>\n",
       "        \n",
       "        \n",
       "            <div id=\"c7151117-ea0c-418d-a4d3-633fe501197c\" class=\"plotly-graph-div\" style=\"height:525px; width:100%;\"></div>\n",
       "            <script type=\"text/javascript\">\n",
       "                require([\"plotly\"], function(Plotly) {\n",
       "                    window.PLOTLYENV=window.PLOTLYENV || {};\n",
       "                    window.PLOTLYENV.BASE_URL='https://plot.ly';\n",
       "                    \n",
       "                if (document.getElementById(\"c7151117-ea0c-418d-a4d3-633fe501197c\")) {\n",
       "                    Plotly.newPlot(\n",
       "                        'c7151117-ea0c-418d-a4d3-633fe501197c',\n",
       "                        [{\"marker\": {\"color\": \"#FF6961\"}, \"name\": \"Azi\\u00eb\", \"type\": \"bar\", \"uid\": \"872bda15-aa25-4605-876c-124a9d9f80b9\", \"x\": [2011, 2012, 2013, 2014, 2015, 2016], \"y\": [47.91959798994974, 37.864000000000004, 43.293790098051076, 43.22532919070869, 39.606765447488456, 23.737856951215182]}, {\"marker\": {\"color\": \"#1e90ff\"}, \"name\": \"USA\", \"type\": \"bar\", \"uid\": \"47be9ba4-c92d-485c-a13a-e2a67f5741e9\", \"x\": [2011, 2012, 2013, 2014, 2015, 2016], \"y\": [63.89586823003904, 59.925663716814164, 58.84046496563139, 59.18836047349711, 58.68594959806678, 61.79979075611372]}],\n",
       "                        {\"barmode\": \"group\", \"title\": {\"text\": \"Vergeljking tussen Amerikaanse en Aziatische universiteiten over de jaren\"}, \"xaxis\": {\"title\": {\"text\": \"Jaar\"}, \"type\": \"category\"}, \"yaxis\": {\"title\": {\"text\": \"Gemiddelde world ranking\"}}},\n",
       "                        {\"showLink\": false, \"linkText\": \"Export to plot.ly\", \"plotlyServerURL\": \"https://plot.ly\", \"responsive\": true}\n",
       "                    ).then(function(){\n",
       "                            \n",
       "var gd = document.getElementById('c7151117-ea0c-418d-a4d3-633fe501197c');\n",
       "var x = new MutationObserver(function (mutations, observer) {{\n",
       "        var display = window.getComputedStyle(gd).display;\n",
       "        if (!display || display === 'none') {{\n",
       "            console.log([gd, 'removed!']);\n",
       "            Plotly.purge(gd);\n",
       "            observer.disconnect();\n",
       "        }}\n",
       "}});\n",
       "\n",
       "// Listen for the removal of the full notebook cells\n",
       "var notebookContainer = gd.closest('#notebook-container');\n",
       "if (notebookContainer) {{\n",
       "    x.observe(notebookContainer, {childList: true});\n",
       "}}\n",
       "\n",
       "// Listen for the clearing of the current output cell\n",
       "var outputEl = gd.closest('.output');\n",
       "if (outputEl) {{\n",
       "    x.observe(outputEl, {childList: true});\n",
       "}}\n",
       "\n",
       "                        })\n",
       "                };\n",
       "                });\n",
       "            </script>\n",
       "        </div>"
      ]
     },
     "metadata": {},
     "output_type": "display_data"
    }
   ],
   "source": [
    "trace1 = go.Bar(\n",
    "    x=rankasia.index,\n",
    "    y=rankasia['percentile'],\n",
    "    name='Azië',\n",
    "    marker={\n",
    "        \"color\": '#FF6961'\n",
    "    }\n",
    ")\n",
    "\n",
    "trace2 = go.Bar(\n",
    "    x=rankUSA.index,\n",
    "    y=rankUSA['percentile'],\n",
    "    name='USA',\n",
    "    marker={\n",
    "        \"color\": '#1e90ff'\n",
    "    }\n",
    ")\n",
    "data = [trace1, trace2]\n",
    "\n",
    "layout = go.Layout(\n",
    "    \n",
    "    barmode='group',\n",
    "    \n",
    "    title=go.layout.Title(\n",
    "        text='Vergeljking tussen Amerikaanse en Aziatische universiteiten over de jaren',\n",
    "        \n",
    "    ),\n",
    "    xaxis=go.layout.XAxis(\n",
    "        title=go.layout.xaxis.Title(\n",
    "            text='Jaar'\n",
    "        ),\n",
    "        type='category' # het type van de X as is categorisch\n",
    "    ),\n",
    "    yaxis = go.layout.YAxis(\n",
    "        title=go.layout.yaxis.Title(\n",
    "            text='Gemiddelde world ranking'\n",
    "        )\n",
    "    )\n",
    ")\n",
    "\n",
    "fig = go.Figure(data=data, layout=layout)\n",
    "iplot(fig)\n"
   ]
  },
  {
   "cell_type": "code",
   "execution_count": 187,
   "metadata": {},
   "outputs": [],
   "source": [
    "count_asia= asias['year'].value_counts()\n",
    "count_USA= USA['year'].value_counts()\n",
    "count_asia= count_asia.to_frame(name=None)\n",
    "count_USA= count_USA.to_frame(name=None)\n",
    "count_asia= count_asia.iloc[::-1]\n",
    "count_USA= count_USA.iloc[::-1]"
   ]
  },
  {
   "cell_type": "code",
   "execution_count": 190,
   "metadata": {},
   "outputs": [
    {
     "data": {
      "application/vnd.plotly.v1+json": {
       "config": {
        "linkText": "Export to plot.ly",
        "plotlyServerURL": "https://plot.ly",
        "showLink": false
       },
       "data": [
        {
         "domain": {
          "column": 0
         },
         "hole": 0.4,
         "hoverinfo": "label+value",
         "labels": [
          "Asia",
          "USA"
         ],
         "marker": {
          "colors": [
           "#FF6961",
           "#1e90ff"
          ]
         },
         "name": "2015",
         "textinfo": "label+value",
         "type": "pie",
         "uid": "6325cbc2-0886-4afd-b044-bf90f697c3c7",
         "values": [
          47,
          108
         ]
        },
        {
         "domain": {
          "column": 1
         },
         "hole": 0.4,
         "hoverinfo": "label+value",
         "labels": [
          "Asia",
          "USA"
         ],
         "name": "2016",
         "textinfo": "label+value",
         "type": "pie",
         "uid": "7f4cc59b-2d2e-4219-a614-4a982b5d8031",
         "values": [
          141,
          146
         ]
        }
       ],
       "layout": {
        "annotations": [
         {
          "font": {
           "size": 20
          },
          "showarrow": false,
          "text": "2015",
          "x": 0.2,
          "y": 0.5
         },
         {
          "font": {
           "size": 20
          },
          "showarrow": false,
          "text": "2016",
          "x": 0.8,
          "y": 0.5
         }
        ],
        "grid": {
         "columns": 2,
         "rows": 1
        },
        "title": {
         "text": "Number of Universities 2015-2016 Asia-USA"
        }
       }
      },
      "text/html": [
       "<div>\n",
       "        \n",
       "        \n",
       "            <div id=\"b15395d3-6d24-493e-ab28-747a65ed54b9\" class=\"plotly-graph-div\" style=\"height:525px; width:100%;\"></div>\n",
       "            <script type=\"text/javascript\">\n",
       "                require([\"plotly\"], function(Plotly) {\n",
       "                    window.PLOTLYENV=window.PLOTLYENV || {};\n",
       "                    window.PLOTLYENV.BASE_URL='https://plot.ly';\n",
       "                    \n",
       "                if (document.getElementById(\"b15395d3-6d24-493e-ab28-747a65ed54b9\")) {\n",
       "                    Plotly.newPlot(\n",
       "                        'b15395d3-6d24-493e-ab28-747a65ed54b9',\n",
       "                        [{\"domain\": {\"column\": 0}, \"hole\": 0.4, \"hoverinfo\": \"label+value\", \"labels\": [\"Asia\", \"USA\"], \"marker\": {\"colors\": [\"#FF6961\", \"#1e90ff\"]}, \"name\": \"2015\", \"textinfo\": \"label+value\", \"type\": \"pie\", \"uid\": \"6325cbc2-0886-4afd-b044-bf90f697c3c7\", \"values\": [47, 108]}, {\"domain\": {\"column\": 1}, \"hole\": 0.4, \"hoverinfo\": \"label+value\", \"labels\": [\"Asia\", \"USA\"], \"name\": \"2016\", \"textinfo\": \"label+value\", \"type\": \"pie\", \"uid\": \"7f4cc59b-2d2e-4219-a614-4a982b5d8031\", \"values\": [141, 146]}],\n",
       "                        {\"annotations\": [{\"font\": {\"size\": 20}, \"showarrow\": false, \"text\": \"2015\", \"x\": 0.2, \"y\": 0.5}, {\"font\": {\"size\": 20}, \"showarrow\": false, \"text\": \"2016\", \"x\": 0.8, \"y\": 0.5}], \"grid\": {\"columns\": 2, \"rows\": 1}, \"title\": {\"text\": \"Number of Universities 2015-2016 Asia-USA\"}},\n",
       "                        {\"showLink\": false, \"linkText\": \"Export to plot.ly\", \"plotlyServerURL\": \"https://plot.ly\", \"responsive\": true}\n",
       "                    ).then(function(){\n",
       "                            \n",
       "var gd = document.getElementById('b15395d3-6d24-493e-ab28-747a65ed54b9');\n",
       "var x = new MutationObserver(function (mutations, observer) {{\n",
       "        var display = window.getComputedStyle(gd).display;\n",
       "        if (!display || display === 'none') {{\n",
       "            console.log([gd, 'removed!']);\n",
       "            Plotly.purge(gd);\n",
       "            observer.disconnect();\n",
       "        }}\n",
       "}});\n",
       "\n",
       "// Listen for the removal of the full notebook cells\n",
       "var notebookContainer = gd.closest('#notebook-container');\n",
       "if (notebookContainer) {{\n",
       "    x.observe(notebookContainer, {childList: true});\n",
       "}}\n",
       "\n",
       "// Listen for the clearing of the current output cell\n",
       "var outputEl = gd.closest('.output');\n",
       "if (outputEl) {{\n",
       "    x.observe(outputEl, {childList: true});\n",
       "}}\n",
       "\n",
       "                        })\n",
       "                };\n",
       "                });\n",
       "            </script>\n",
       "        </div>"
      ]
     },
     "metadata": {},
     "output_type": "display_data"
    }
   ],
   "source": [
    "\n",
    "\n",
    "fig = {\n",
    "  \"data\": [\n",
    "    {\n",
    "      \"values\": [count_asia.at[2015, 'year'],count_USA.at[2015, 'year']],\n",
    "      \"labels\": ['Asia', 'USA'],\n",
    "      \"domain\": {\"column\": 0},\n",
    "      \"name\": \"2015\",\n",
    "      \"hoverinfo\":\"label+value\",\n",
    "      \"textinfo\": \"label+value\",\n",
    "      \"hole\": .4,\n",
    "      \"type\": \"pie\",\n",
    "      \"marker\": {\n",
    "          \"colors\": ['#FF6961', '#1e90ff']\n",
    "      }\n",
    "    },\n",
    "    {\n",
    "      \"values\": [count_asia.at[2016, 'year'],count_USA.at[2016, 'year']],\n",
    "      \"labels\": ['Asia', 'USA'],\n",
    "      \"domain\": {\"column\": 1},\n",
    "      \"name\": \"2016\",\n",
    "      \"hoverinfo\":\"label+value\",\n",
    "      \"textinfo\": \"label+value\",\n",
    "      \"hole\": .4,\n",
    "      \"type\": \"pie\"\n",
    "    }],\n",
    "  \"layout\": {\n",
    "        \"title\":\"Number of Universities 2015-2016 Asia-USA\",\n",
    "        \"grid\": {\"rows\": 1, \"columns\": 2},\n",
    "        \"annotations\": [\n",
    "            {\n",
    "                \"font\": {\n",
    "                    \"size\": 20\n",
    "                },\n",
    "                \"showarrow\": False,\n",
    "                \"text\": \"2015\",\n",
    "                \"x\": 0.20,\n",
    "                \"y\": 0.5\n",
    "            },\n",
    "            {\n",
    "                \"font\": {\n",
    "                    \"size\": 20\n",
    "                },\n",
    "                \"showarrow\": False,\n",
    "                \"text\": \"2016\",\n",
    "                \"x\": 0.8,\n",
    "                \"y\": 0.5\n",
    "            }\n",
    "        ]\n",
    "    }\n",
    "}\n",
    "\n",
    "iplot(fig)"
   ]
  },
  {
   "cell_type": "code",
   "execution_count": 174,
   "metadata": {},
   "outputs": [
    {
     "data": {
      "application/vnd.plotly.v1+json": {
       "config": {
        "linkText": "Export to plot.ly",
        "plotlyServerURL": "https://plot.ly",
        "showLink": false
       },
       "data": [
        {
         "hoverinfo": "none",
         "line": {
          "color": "#FF6961",
          "width": 5
         },
         "mode": "lines+markers",
         "name": "Azië",
         "type": "scatter",
         "uid": "74597466-6b9f-493b-8629-ee777c32bd12",
         "x": [
          2011,
          2012,
          2013,
          2014,
          2015,
          2016
         ],
         "y": [
          47.91959798994974,
          58.928000000000004,
          59.073235685752316,
          58.45539280958722,
          57.922769640479366,
          72.15417558886512
         ]
        },
        {
         "fill": "tonexty",
         "fillcolor": "rgba(135, 206, 250, 0.4)",
         "line": {
          "color": "#1e90ff",
          "width": 5
         },
         "mode": "lines+markers",
         "name": "USA",
         "textposition": "top center",
         "type": "scatter",
         "uid": "525f8e8e-cdd8-467c-8935-32472504f049",
         "x": [
          2011,
          2012,
          2013,
          2014,
          2015,
          2016
         ],
         "y": [
          63.89586823003904,
          77.4779342723005,
          76.99685443563173,
          76.53177405970783,
          74.62899708601093,
          83.92349150192935
         ]
        },
        {
         "hoverinfo": "text",
         "mode": "text",
         "name": "Verschil (%-punt)",
         "text": [
          "+16",
          "+19",
          "+17",
          "+18",
          "+17",
          "+11"
         ],
         "textposition": "top center",
         "type": "scatter",
         "uid": "ea95d0d6-8658-4d1c-a32f-c9dda9f38029",
         "x": [
          2011,
          2012,
          2013,
          2014,
          2015,
          2016
         ],
         "y": [
          65.89586823003904,
          79.4779342723005,
          78.99685443563173,
          78.53177405970783,
          76.62899708601093,
          85.92349150192935
         ]
        }
       ],
       "layout": {
        "barmode": "group",
        "title": {
         "text": "Alleen universiteiten die in 2011 al op de database zaten"
        },
        "xaxis": {
         "title": {
          "text": "Jaar"
         },
         "type": "category"
        },
        "yaxis": {
         "title": {
          "text": "Gemiddelde precentile"
         }
        }
       }
      },
      "text/html": [
       "<div>\n",
       "        \n",
       "        \n",
       "            <div id=\"3abda332-c719-49b4-a723-71dbb916463f\" class=\"plotly-graph-div\" style=\"height:525px; width:100%;\"></div>\n",
       "            <script type=\"text/javascript\">\n",
       "                require([\"plotly\"], function(Plotly) {\n",
       "                    window.PLOTLYENV=window.PLOTLYENV || {};\n",
       "                    window.PLOTLYENV.BASE_URL='https://plot.ly';\n",
       "                    \n",
       "                if (document.getElementById(\"3abda332-c719-49b4-a723-71dbb916463f\")) {\n",
       "                    Plotly.newPlot(\n",
       "                        '3abda332-c719-49b4-a723-71dbb916463f',\n",
       "                        [{\"hoverinfo\": \"none\", \"line\": {\"color\": \"#FF6961\", \"width\": 5}, \"mode\": \"lines+markers\", \"name\": \"Azi\\u00eb\", \"type\": \"scatter\", \"uid\": \"74597466-6b9f-493b-8629-ee777c32bd12\", \"x\": [2011, 2012, 2013, 2014, 2015, 2016], \"y\": [47.91959798994974, 58.928000000000004, 59.073235685752316, 58.45539280958722, 57.922769640479366, 72.15417558886512]}, {\"fill\": \"tonexty\", \"fillcolor\": \"rgba(135, 206, 250, 0.4)\", \"line\": {\"color\": \"#1e90ff\", \"width\": 5}, \"mode\": \"lines+markers\", \"name\": \"USA\", \"textposition\": \"top center\", \"type\": \"scatter\", \"uid\": \"525f8e8e-cdd8-467c-8935-32472504f049\", \"x\": [2011, 2012, 2013, 2014, 2015, 2016], \"y\": [63.89586823003904, 77.4779342723005, 76.99685443563173, 76.53177405970783, 74.62899708601093, 83.92349150192935]}, {\"hoverinfo\": \"text\", \"mode\": \"text\", \"name\": \"Verschil (%-punt)\", \"text\": [\"+16\", \"+19\", \"+17\", \"+18\", \"+17\", \"+11\"], \"textposition\": \"top center\", \"type\": \"scatter\", \"uid\": \"ea95d0d6-8658-4d1c-a32f-c9dda9f38029\", \"x\": [2011, 2012, 2013, 2014, 2015, 2016], \"y\": [65.89586823003904, 79.4779342723005, 78.99685443563173, 78.53177405970783, 76.62899708601093, 85.92349150192935]}],\n",
       "                        {\"barmode\": \"group\", \"title\": {\"text\": \"Alleen universiteiten die in 2011 al op de database zaten\"}, \"xaxis\": {\"title\": {\"text\": \"Jaar\"}, \"type\": \"category\"}, \"yaxis\": {\"title\": {\"text\": \"Gemiddelde precentile\"}}},\n",
       "                        {\"showLink\": false, \"linkText\": \"Export to plot.ly\", \"plotlyServerURL\": \"https://plot.ly\", \"responsive\": true}\n",
       "                    ).then(function(){\n",
       "                            \n",
       "var gd = document.getElementById('3abda332-c719-49b4-a723-71dbb916463f');\n",
       "var x = new MutationObserver(function (mutations, observer) {{\n",
       "        var display = window.getComputedStyle(gd).display;\n",
       "        if (!display || display === 'none') {{\n",
       "            console.log([gd, 'removed!']);\n",
       "            Plotly.purge(gd);\n",
       "            observer.disconnect();\n",
       "        }}\n",
       "}});\n",
       "\n",
       "// Listen for the removal of the full notebook cells\n",
       "var notebookContainer = gd.closest('#notebook-container');\n",
       "if (notebookContainer) {{\n",
       "    x.observe(notebookContainer, {childList: true});\n",
       "}}\n",
       "\n",
       "// Listen for the clearing of the current output cell\n",
       "var outputEl = gd.closest('.output');\n",
       "if (outputEl) {{\n",
       "    x.observe(outputEl, {childList: true});\n",
       "}}\n",
       "\n",
       "                        })\n",
       "                };\n",
       "                });\n",
       "            </script>\n",
       "        </div>"
      ]
     },
     "metadata": {},
     "output_type": "display_data"
    }
   ],
   "source": [
    "univ2011 = times.loc[times['year'] == 2011]['university_name']\n",
    "rankasia_filtered = asias.loc[asias['university_name'].isin(univ2011)].groupby(['year']).mean()\n",
    "rankUSA_filtered = USA.loc[USA['university_name'].isin(univ2011)].groupby(['year']).mean()\n",
    "\n",
    "trace1 = go.Scatter(\n",
    "    x=rankasia_filtered.index,\n",
    "    y=rankasia_filtered['percentile'],\n",
    "#     fill='tonexty',\n",
    "    mode='lines+markers',\n",
    "    line={\n",
    "        \"width\": 5,\n",
    "        \"color\": '#FF6961'\n",
    "    },\n",
    "    name='Azië',\n",
    "    hoverinfo='none'\n",
    ")\n",
    "\n",
    "trace2 = go.Scatter(\n",
    "    x=rankUSA_filtered.index,\n",
    "    y=rankUSA_filtered['percentile'],\n",
    "    fill='tonexty',\n",
    "    fillcolor='rgba(135, 206, 250, 0.4)',\n",
    "#     opacity=0.1,\n",
    "    mode='lines+markers',\n",
    "    line={\n",
    "        \"width\": 5,\n",
    "        \"color\": '#1e90ff'\n",
    "    },\n",
    "    name='USA',\n",
    "#     hoverinfo=\"text\",\n",
    "#     text=list('+' + str(int(u) - int(a)) for u, a in zip(rankUSA_filtered['percentile'], rankasia_filtered['percentile'])),\n",
    "    textposition='top center'\n",
    ")\n",
    "lable = go.Scatter(\n",
    "    x=rankUSA_filtered.index,\n",
    "    y=rankUSA_filtered['percentile'].map(lambda x: x+2),\n",
    "    mode='text',\n",
    "    name='Verschil (%-punt)',\n",
    "    hoverinfo=\"text\",\n",
    "    text=list('+' + str(int(u) - int(a)) for u, a in zip(rankUSA_filtered['percentile'], rankasia_filtered['percentile'])),\n",
    "    textposition='top center'\n",
    ")\n",
    "data = [trace1, trace2, lable]\n",
    "\n",
    "layout = go.Layout(\n",
    "    \n",
    "    barmode='group',\n",
    "    \n",
    "    title=go.layout.Title(\n",
    "        text='Alleen universiteiten die in 2011 al op de database zaten',\n",
    "        \n",
    "    ),\n",
    "    xaxis=go.layout.XAxis(\n",
    "#         gridwidth=5,\n",
    "#         range=[2012,2017],\n",
    "#         gridcolor='black',\n",
    "        title=go.layout.xaxis.Title(\n",
    "            text='Jaar'\n",
    "        ),\n",
    "        type='category' # het type van de X as is categorisch\n",
    "    ),\n",
    "    yaxis = go.layout.YAxis(\n",
    "#         gridwidth=5,\n",
    "#         gridcolor='black',\n",
    "        title=go.layout.yaxis.Title(\n",
    "            text='Gemiddelde precentile'\n",
    "        ),\n",
    "#         range=[2014, 2017]\n",
    "    )\n",
    ")\n",
    "\n",
    "fig = go.Figure(data=data, layout=layout)\n",
    "iplot(fig)\n"
   ]
  },
  {
   "cell_type": "code",
   "execution_count": null,
   "metadata": {},
   "outputs": [],
   "source": []
  },
  {
   "cell_type": "code",
   "execution_count": null,
   "metadata": {},
   "outputs": [],
   "source": []
  },
  {
   "cell_type": "code",
   "execution_count": null,
   "metadata": {},
   "outputs": [],
   "source": []
  },
  {
   "cell_type": "code",
   "execution_count": null,
   "metadata": {},
   "outputs": [],
   "source": []
  }
 ],
 "metadata": {
  "kernelspec": {
   "display_name": "Python 3",
   "language": "python",
   "name": "python3"
  },
  "language_info": {
   "codemirror_mode": {
    "name": "ipython",
    "version": 3
   },
   "file_extension": ".py",
   "mimetype": "text/x-python",
   "name": "python",
   "nbconvert_exporter": "python",
   "pygments_lexer": "ipython3",
   "version": "3.6.8"
  }
 },
 "nbformat": 4,
 "nbformat_minor": 2
}
