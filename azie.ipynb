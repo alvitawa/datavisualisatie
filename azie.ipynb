{
 "cells": [
  {
   "cell_type": "markdown",
   "metadata": {},
   "source": []
  },
  {
   "cell_type": "code",
   "execution_count": 10,
   "metadata": {},
   "outputs": [
    {
     "data": {
      "text/html": [
       "        <script type=\"text/javascript\">\n",
       "        window.PlotlyConfig = {MathJaxConfig: 'local'};\n",
       "        if (window.MathJax) {MathJax.Hub.Config({SVG: {font: \"STIX-Web\"}});}\n",
       "        if (typeof require !== 'undefined') {\n",
       "        require.undef(\"plotly\");\n",
       "        requirejs.config({\n",
       "            paths: {\n",
       "                'plotly': ['https://cdn.plot.ly/plotly-latest.min']\n",
       "            }\n",
       "        });\n",
       "        require(['plotly'], function(Plotly) {\n",
       "            window._Plotly = Plotly;\n",
       "        });\n",
       "        }\n",
       "        </script>\n",
       "        "
      ]
     },
     "metadata": {},
     "output_type": "display_data"
    },
    {
     "name": "stderr",
     "output_type": "stream",
     "text": [
      "C:\\Users\\FrankMohammed\\Informatiekunde\\InformatieVisualisatie\\datavisualisatie\\common.py:22: UserWarning:\n",
      "\n",
      "Boolean Series key will be reindexed to match DataFrame index.\n",
      "\n"
     ]
    },
    {
     "data": {
      "text/plain": [
       "<module 'common' from 'C:\\\\Users\\\\FrankMohammed\\\\Informatiekunde\\\\InformatieVisualisatie\\\\datavisualisatie\\\\common.py'>"
      ]
     },
     "execution_count": 10,
     "metadata": {},
     "output_type": "execute_result"
    }
   ],
   "source": [
    "import common\n",
    "from common import *\n",
    "from importlib import reload\n",
    "reload(common)"
   ]
  },
  {
   "cell_type": "code",
   "execution_count": 11,
   "metadata": {
    "scrolled": false
   },
   "outputs": [
    {
     "data": {
      "application/vnd.plotly.v1+json": {
       "config": {
        "linkText": "Export to plot.ly",
        "plotlyServerURL": "https://plot.ly",
        "showLink": false
       },
       "data": [
        {
         "autocolorscale": false,
         "colorbar": {
          "title": {
           "text": "Gemiddeld beter dan %"
          }
         },
         "colorscale": [
          [
           0,
           "rgb(255,50,50)"
          ],
          [
           1,
           "rgb(50,50,255)"
          ]
         ],
         "customdata": [
          2011
         ],
         "locationmode": "country names",
         "locations": [
          "Australia",
          "Austria",
          "Belgium",
          "Canada",
          "China",
          "Denmark",
          "Egypt",
          "Finland",
          "France",
          "Germany",
          "Hong Kong",
          "Japan",
          "Netherlands",
          "New Zealand",
          "Norway",
          "Republic of Ireland",
          "Singapore",
          "South Africa",
          "South Korea",
          "Spain",
          "Sweden",
          "Switzerland",
          "Taiwan",
          "Turkey",
          "United Kingdom",
          "United States of America"
         ],
         "marker": {
          "line": {
           "color": "rgb(0,0,0)",
           "width": 0.25
          }
         },
         "type": "choropleth",
         "uid": "cc72f71d-86bb-451d-b5cb-3bbb4a0253f9",
         "visible": false,
         "z": [
          54.486719310839916,
          4.020100502512563,
          38.94472361809045,
          46.28699050809603,
          47.06867671691793,
          21.94304857621441,
          26.13065326633166,
          48.743718592964825,
          59.67336683417086,
          27.027997128499653,
          59.547738693467345,
          54.07035175879397,
          24.924623115577894,
          27.135678391959793,
          32.1608040201005,
          57.28643216080402,
          47.73869346733669,
          46.231155778894475,
          48.994974874371856,
          25.37688442211055,
          32.99832495812395,
          57.956448911222786,
          28.894472361809047,
          25.87939698492462,
          47.34014902096692,
          63.89586823003904
         ],
         "zmax": 100,
         "zmin": 0
        },
        {
         "autocolorscale": false,
         "colorbar": {
          "title": {
           "text": "Gemiddeld beter dan %"
          }
         },
         "colorscale": [
          [
           0,
           "rgb(255,50,50)"
          ],
          [
           1,
           "rgb(50,50,255)"
          ]
         ],
         "customdata": [
          2012
         ],
         "locationmode": "country names",
         "locations": [
          "Australia",
          "Austria",
          "Belgium",
          "Brazil",
          "Canada",
          "Chile",
          "China",
          "Czech Republic",
          "Denmark",
          "Egypt",
          "Estonia",
          "Finland",
          "France",
          "Germany",
          "Greece",
          "Hong Kong",
          "Iceland",
          "India",
          "Iran",
          "Israel",
          "Italy",
          "Japan",
          "Netherlands",
          "New Zealand",
          "Norway",
          "Poland",
          "Portugal",
          "Republic of Ireland",
          "Russian Federation",
          "Singapore",
          "South Africa",
          "South Korea",
          "Spain",
          "Sweden",
          "Switzerland",
          "Taiwan",
          "Thailand",
          "Turkey",
          "United Kingdom",
          "United States of America"
         ],
         "marker": {
          "line": {
           "color": "rgb(0,0,0)",
           "width": 0.25
          }
         },
         "type": "choropleth",
         "uid": "ce50afbf-c480-4766-b995-6319abaa297b",
         "visible": false,
         "z": [
          33.30793650793652,
          35.81333333333333,
          43.08571428571428,
          37.86666666666667,
          53.2962962962963,
          0,
          33.279999999999994,
          13.200000000000001,
          45.25333333333334,
          13.200000000000001,
          0,
          23.06666666666667,
          53.599999999999994,
          47.67272727272728,
          23.2,
          55.95555555555555,
          23.2,
          13.200000000000001,
          13.200000000000001,
          44.96666666666667,
          19.419047619047614,
          36.54166666666667,
          63.03589743589744,
          25.555555555555554,
          38.46666666666667,
          13.200000000000001,
          6.6000000000000005,
          27.919999999999998,
          11.6,
          72.13333333333333,
          44.08888888888888,
          44.85714285714285,
          21.65,
          53.48,
          77.48571428571428,
          22.716666666666665,
          0,
          25.700000000000003,
          49.958974358974324,
          59.925663716814164
         ],
         "zmax": 100,
         "zmin": 0
        },
        {
         "autocolorscale": false,
         "colorbar": {
          "title": {
           "text": "Gemiddeld beter dan %"
          }
         },
         "colorscale": [
          [
           0,
           "rgb(255,50,50)"
          ],
          [
           1,
           "rgb(50,50,255)"
          ]
         ],
         "customdata": [
          2013
         ],
         "locationmode": "country names",
         "locations": [
          "Australia",
          "Austria",
          "Belgium",
          "Brazil",
          "Canada",
          "China",
          "Colombia",
          "Czech Republic",
          "Denmark",
          "Estonia",
          "Finland",
          "France",
          "Germany",
          "Greece",
          "Hong Kong",
          "Iceland",
          "India",
          "Iran",
          "Israel",
          "Italy",
          "Japan",
          "Mexico",
          "Netherlands",
          "New Zealand",
          "Norway",
          "Poland",
          "Portugal",
          "Republic of Ireland",
          "Russian Federation",
          "Saudi Arabia",
          "Singapore",
          "South Africa",
          "South Korea",
          "Spain",
          "Sweden",
          "Switzerland",
          "Taiwan",
          "Thailand",
          "Turkey",
          "United Kingdom",
          "United States of America"
         ],
         "marker": {
          "line": {
           "color": "rgb(0,0,0)",
           "width": 0.25
          }
         },
         "type": "choropleth",
         "uid": "1ee73cec-aa76-4a6b-9db3-40588e904150",
         "visible": false,
         "z": [
          38.18767958511458,
          28.339991122947186,
          44.98763553357428,
          43.94141145139813,
          49.183544747354404,
          39.29575380973517,
          0,
          13.315579227696405,
          43.62183754993343,
          0,
          25.51264980026631,
          50.06657789613848,
          45.62982689747003,
          13.315579227696405,
          55.85885486018642,
          29.96005326231691,
          22.19263204616068,
          13.315579227696405,
          56.679982245894365,
          16.168917633631356,
          38.86100583836936,
          0,
          70.95155177711769,
          25.05548158011541,
          30.79227696404794,
          0,
          0,
          29.507323568575238,
          39.94673768308922,
          13.315579227696405,
          84.68708388814913,
          34.12117177097204,
          64.00355082112739,
          20.448925242533765,
          51.67776298268975,
          65.96205059920108,
          22.503328894806923,
          0,
          32.62316910785619,
          51.2899467376831,
          58.84046496563139
         ],
         "zmax": 100,
         "zmin": 0
        },
        {
         "autocolorscale": false,
         "colorbar": {
          "title": {
           "text": "Gemiddeld beter dan %"
          }
         },
         "colorscale": [
          [
           0,
           "rgb(255,50,50)"
          ],
          [
           1,
           "rgb(50,50,255)"
          ]
         ],
         "customdata": [
          2014
         ],
         "locationmode": "country names",
         "locations": [
          "Australia",
          "Austria",
          "Belgium",
          "Brazil",
          "Canada",
          "China",
          "Colombia",
          "Czech Republic",
          "Denmark",
          "Estonia",
          "Finland",
          "France",
          "Germany",
          "Greece",
          "Hong Kong",
          "Iceland",
          "India",
          "Iran",
          "Israel",
          "Italy",
          "Japan",
          "Netherlands",
          "New Zealand",
          "Norway",
          "Poland",
          "Portugal",
          "Republic of Ireland",
          "Russian Federation",
          "Saudi Arabia",
          "Singapore",
          "South Africa",
          "South Korea",
          "Spain",
          "Sweden",
          "Switzerland",
          "Taiwan",
          "Thailand",
          "Turkey",
          "United Kingdom",
          "United States of America"
         ],
         "marker": {
          "line": {
           "color": "rgb(0,0,0)",
           "width": 0.25
          }
         },
         "type": "choropleth",
         "uid": "25c67a5f-2454-4d20-a551-7e7154a3505b",
         "visible": false,
         "z": [
          38.9095241432476,
          27.430093209054593,
          52.577515693361235,
          24.966711051930762,
          48.01317541523583,
          36.77762982689747,
          29.96005326231691,
          0,
          45.752330226364855,
          0,
          22.66311584553928,
          55.73175160392205,
          44.28454368534262,
          13.315579227696405,
          55.148690634709276,
          29.96005326231691,
          7.323568575233024,
          29.96005326231691,
          46.47137150466045,
          20.41722148246782,
          47.11294032199492,
          70.7466967120762,
          28.57523302263649,
          30.992010652463385,
          13.315579227696405,
          0,
          31.877496671105195,
          36.61784287616512,
          0,
          86.41810918774966,
          38.79272081668886,
          56.19174434087883,
          15.875129457020272,
          49.2676431424767,
          68.47536617842877,
          18.59187749667111,
          13.315579227696405,
          38.695073235685754,
          51.30845946900733,
          59.18836047349711
         ],
         "zmax": 100,
         "zmin": 0
        },
        {
         "autocolorscale": false,
         "colorbar": {
          "title": {
           "text": "Gemiddeld beter dan %"
          }
         },
         "colorscale": [
          [
           0,
           "rgb(255,50,50)"
          ],
          [
           1,
           "rgb(50,50,255)"
          ]
         ],
         "customdata": [
          2015
         ],
         "locationmode": "country names",
         "locations": [
          "Australia",
          "Austria",
          "Belgium",
          "Brazil",
          "Canada",
          "Chile",
          "China",
          "Colombia",
          "Czech Republic",
          "Denmark",
          "Finland",
          "France",
          "Germany",
          "Greece",
          "Hong Kong",
          "Iceland",
          "India",
          "Iran",
          "Israel",
          "Italy",
          "Japan",
          "Macau",
          "Morocco",
          "Netherlands",
          "New Zealand",
          "Norway",
          "Poland",
          "Portugal",
          "Republic of Ireland",
          "Russian Federation",
          "Singapore",
          "South Africa",
          "South Korea",
          "Spain",
          "Sweden",
          "Switzerland",
          "Taiwan",
          "Thailand",
          "Turkey",
          "United Kingdom",
          "United States of America"
         ],
         "marker": {
          "line": {
           "color": "rgb(0,0,0)",
           "width": 0.25
          }
         },
         "type": "choropleth",
         "uid": "bc5e7373-b9d7-4888-bfc9-db2ee55dac9d",
         "visible": false,
         "z": [
          39.28761651131824,
          32.27696404793609,
          44.83545748525775,
          28.29560585885486,
          51.168811954431135,
          29.96005326231691,
          32.65948432393173,
          29.96005326231691,
          13.315579227696405,
          39.547270306258326,
          21.780483165303412,
          51.712867691562764,
          43.789233403081596,
          13.315579227696405,
          57.67865068797159,
          29.96005326231691,
          11.651131824234357,
          6.657789613848203,
          45.494895694629385,
          22.518994282133626,
          38.72614292055038,
          23.302263648468713,
          13.315579227696405,
          67.7353272559664,
          23.99467376830892,
          29.26098535286285,
          13.315579227696405,
          0,
          30.625832223701735,
          30.55925432756325,
          88.5486018641811,
          40.079893475366184,
          44.710756028998375,
          27.09720372836219,
          46.07190412782957,
          70.439414114514,
          18.66400355082113,
          0,
          50.754549489569456,
          54.259505844059795,
          58.68594959806678
         ],
         "zmax": 100,
         "zmin": 0
        },
        {
         "autocolorscale": false,
         "colorbar": {
          "title": {
           "text": "Gemiddeld beter dan %"
          }
         },
         "colorscale": [
          [
           0,
           "rgb(255,50,50)"
          ],
          [
           1,
           "rgb(50,50,255)"
          ]
         ],
         "customdata": [
          2016
         ],
         "locationmode": "country names",
         "locations": [
          "Argentina",
          "Australia",
          "Austria",
          "Bangladesh",
          "Belarus",
          "Belgium",
          "Brazil",
          "Canada",
          "Chile",
          "China",
          "Colombia",
          "Cyprus",
          "Czech Republic",
          "Denmark",
          "Egypt",
          "Estonia",
          "Finland",
          "France",
          "Germany",
          "Ghana",
          "Greece",
          "Hong Kong",
          "Hungary",
          "Iceland",
          "India",
          "Indonesia",
          "Iran",
          "Israel",
          "Italy",
          "Japan",
          "Jordan",
          "Kenya",
          "Latvia",
          "Lebanon",
          "Lithuania",
          "Luxembourg",
          "Macau",
          "Malaysia",
          "Mexico",
          "Morocco",
          "Netherlands",
          "New Zealand",
          "Nigeria",
          "Norway",
          "Oman",
          "Pakistan",
          "Poland",
          "Portugal",
          "Qatar",
          "Republic of Ireland",
          "Romania",
          "Russian Federation",
          "Saudi Arabia",
          "Serbia",
          "Singapore",
          "Slovakia",
          "Slovenia",
          "South Africa",
          "South Korea",
          "Spain",
          "Sweden",
          "Switzerland",
          "Taiwan",
          "Thailand",
          "Turkey",
          "Uganda",
          "Ukraine",
          "Unisted States of America",
          "United Arab Emirates",
          "United Kingdom",
          "United States of America",
          "Unted Kingdom"
         ],
         "marker": {
          "line": {
           "color": "rgb(0,0,0)",
           "width": 0.25
          }
         },
         "type": "choropleth",
         "uid": "5f5e28ca-1e0a-4621-9137-8760c9ccbaa8",
         "visible": true,
         "z": [
          0,
          56.59551932951119,
          54.216376057917806,
          0,
          0,
          69.68491893545426,
          8.817231389343746,
          59.183440399714485,
          15.465143944801332,
          23.388699191697043,
          10.706638115631689,
          46.395431834404,
          21.01673407883258,
          73.07875327147275,
          0,
          33.90435403283369,
          48.3702117535094,
          44.928225870410024,
          71.67467253120357,
          0,
          19.883756500458855,
          74.60147513680704,
          3.56887937187723,
          60.67094932191293,
          18.89406726287945,
          0,
          16.952177016416844,
          45.74113728289317,
          46.96855187471135,
          17.478804338364583,
          0,
          0,
          0,
          21.413276231263378,
          0,
          72.44825124910778,
          35.6887937187723,
          7.1377587437544605,
          28.551034975017842,
          0,
          85.04914072365892,
          40.348730498623425,
          0,
          61.884368308351185,
          0,
          10.706638115631689,
          3.059039461609054,
          33.139594167431426,
          0,
          47.02989927829328,
          5.3533190578158445,
          31.18102454290891,
          34.4991672614799,
          0,
          94.21841541755889,
          0,
          10.706638115631689,
          43.55222460147513,
          28.848441589340947,
          26.081370449678793,
          74.07695801700086,
          75.85296216987867,
          17.300142755174875,
          3.059039461609054,
          19.791058334955554,
          35.6887937187723,
          0,
          67.80870806566737,
          10.706638115631689,
          52.25766382083296,
          61.79979075611372,
          35.6887937187723
         ],
         "zmax": 100,
         "zmin": 0
        }
       ],
       "layout": {
        "geo": {
         "lakecolor": "rgb(255, 255, 255)",
         "projection": {
          "type": "equirectangular"
         },
         "scope": "world",
         "showlakes": true
        },
        "sliders": [
         {
          "active": 5,
          "pad": {
           "t": 1
          },
          "steps": [
           {
            "args": [
             "visible",
             [
              true,
              false,
              false,
              false,
              false,
              false
             ]
            ],
            "label": "Year 2011",
            "method": "restyle"
           },
           {
            "args": [
             "visible",
             [
              false,
              true,
              false,
              false,
              false,
              false
             ]
            ],
            "label": "Year 2012",
            "method": "restyle"
           },
           {
            "args": [
             "visible",
             [
              false,
              false,
              true,
              false,
              false,
              false
             ]
            ],
            "label": "Year 2013",
            "method": "restyle"
           },
           {
            "args": [
             "visible",
             [
              false,
              false,
              false,
              true,
              false,
              false
             ]
            ],
            "label": "Year 2014",
            "method": "restyle"
           },
           {
            "args": [
             "visible",
             [
              false,
              false,
              false,
              false,
              true,
              false
             ]
            ],
            "label": "Year 2015",
            "method": "restyle"
           },
           {
            "args": [
             "visible",
             [
              false,
              false,
              false,
              false,
              false,
              true
             ]
            ],
            "label": "Year 2016",
            "method": "restyle"
           }
          ]
         }
        ],
        "title": {
         "text": "Gemiddelde universiteitspercentage per land"
        }
       }
      },
      "text/html": [
       "<div>\n",
       "        \n",
       "        \n",
       "            <div id=\"bfbcc30d-bfa5-4bfa-8cb3-99a15883ab45\" class=\"plotly-graph-div\" style=\"height:525px; width:100%;\"></div>\n",
       "            <script type=\"text/javascript\">\n",
       "                require([\"plotly\"], function(Plotly) {\n",
       "                    window.PLOTLYENV=window.PLOTLYENV || {};\n",
       "                    window.PLOTLYENV.BASE_URL='https://plot.ly';\n",
       "                    \n",
       "                if (document.getElementById(\"bfbcc30d-bfa5-4bfa-8cb3-99a15883ab45\")) {\n",
       "                    Plotly.newPlot(\n",
       "                        'bfbcc30d-bfa5-4bfa-8cb3-99a15883ab45',\n",
       "                        [{\"autocolorscale\": false, \"colorbar\": {\"title\": {\"text\": \"Gemiddeld beter dan %\"}}, \"colorscale\": [[0, \"rgb(255,50,50)\"], [1, \"rgb(50,50,255)\"]], \"customdata\": [2011], \"locationmode\": \"country names\", \"locations\": [\"Australia\", \"Austria\", \"Belgium\", \"Canada\", \"China\", \"Denmark\", \"Egypt\", \"Finland\", \"France\", \"Germany\", \"Hong Kong\", \"Japan\", \"Netherlands\", \"New Zealand\", \"Norway\", \"Republic of Ireland\", \"Singapore\", \"South Africa\", \"South Korea\", \"Spain\", \"Sweden\", \"Switzerland\", \"Taiwan\", \"Turkey\", \"United Kingdom\", \"United States of America\"], \"marker\": {\"line\": {\"color\": \"rgb(0,0,0)\", \"width\": 0.25}}, \"type\": \"choropleth\", \"uid\": \"cc72f71d-86bb-451d-b5cb-3bbb4a0253f9\", \"visible\": false, \"z\": [54.486719310839916, 4.020100502512563, 38.94472361809045, 46.28699050809603, 47.06867671691793, 21.94304857621441, 26.13065326633166, 48.743718592964825, 59.67336683417086, 27.027997128499653, 59.547738693467345, 54.07035175879397, 24.924623115577894, 27.135678391959793, 32.1608040201005, 57.28643216080402, 47.73869346733669, 46.231155778894475, 48.994974874371856, 25.37688442211055, 32.99832495812395, 57.956448911222786, 28.894472361809047, 25.87939698492462, 47.34014902096692, 63.89586823003904], \"zmax\": 100, \"zmin\": 0}, {\"autocolorscale\": false, \"colorbar\": {\"title\": {\"text\": \"Gemiddeld beter dan %\"}}, \"colorscale\": [[0, \"rgb(255,50,50)\"], [1, \"rgb(50,50,255)\"]], \"customdata\": [2012], \"locationmode\": \"country names\", \"locations\": [\"Australia\", \"Austria\", \"Belgium\", \"Brazil\", \"Canada\", \"Chile\", \"China\", \"Czech Republic\", \"Denmark\", \"Egypt\", \"Estonia\", \"Finland\", \"France\", \"Germany\", \"Greece\", \"Hong Kong\", \"Iceland\", \"India\", \"Iran\", \"Israel\", \"Italy\", \"Japan\", \"Netherlands\", \"New Zealand\", \"Norway\", \"Poland\", \"Portugal\", \"Republic of Ireland\", \"Russian Federation\", \"Singapore\", \"South Africa\", \"South Korea\", \"Spain\", \"Sweden\", \"Switzerland\", \"Taiwan\", \"Thailand\", \"Turkey\", \"United Kingdom\", \"United States of America\"], \"marker\": {\"line\": {\"color\": \"rgb(0,0,0)\", \"width\": 0.25}}, \"type\": \"choropleth\", \"uid\": \"ce50afbf-c480-4766-b995-6319abaa297b\", \"visible\": false, \"z\": [33.30793650793652, 35.81333333333333, 43.08571428571428, 37.86666666666667, 53.2962962962963, 0.0, 33.279999999999994, 13.200000000000001, 45.25333333333334, 13.200000000000001, 0.0, 23.06666666666667, 53.599999999999994, 47.67272727272728, 23.2, 55.95555555555555, 23.2, 13.200000000000001, 13.200000000000001, 44.96666666666667, 19.419047619047614, 36.54166666666667, 63.03589743589744, 25.555555555555554, 38.46666666666667, 13.200000000000001, 6.6000000000000005, 27.919999999999998, 11.6, 72.13333333333333, 44.08888888888888, 44.85714285714285, 21.65, 53.48, 77.48571428571428, 22.716666666666665, 0.0, 25.700000000000003, 49.958974358974324, 59.925663716814164], \"zmax\": 100, \"zmin\": 0}, {\"autocolorscale\": false, \"colorbar\": {\"title\": {\"text\": \"Gemiddeld beter dan %\"}}, \"colorscale\": [[0, \"rgb(255,50,50)\"], [1, \"rgb(50,50,255)\"]], \"customdata\": [2013], \"locationmode\": \"country names\", \"locations\": [\"Australia\", \"Austria\", \"Belgium\", \"Brazil\", \"Canada\", \"China\", \"Colombia\", \"Czech Republic\", \"Denmark\", \"Estonia\", \"Finland\", \"France\", \"Germany\", \"Greece\", \"Hong Kong\", \"Iceland\", \"India\", \"Iran\", \"Israel\", \"Italy\", \"Japan\", \"Mexico\", \"Netherlands\", \"New Zealand\", \"Norway\", \"Poland\", \"Portugal\", \"Republic of Ireland\", \"Russian Federation\", \"Saudi Arabia\", \"Singapore\", \"South Africa\", \"South Korea\", \"Spain\", \"Sweden\", \"Switzerland\", \"Taiwan\", \"Thailand\", \"Turkey\", \"United Kingdom\", \"United States of America\"], \"marker\": {\"line\": {\"color\": \"rgb(0,0,0)\", \"width\": 0.25}}, \"type\": \"choropleth\", \"uid\": \"1ee73cec-aa76-4a6b-9db3-40588e904150\", \"visible\": false, \"z\": [38.18767958511458, 28.339991122947186, 44.98763553357428, 43.94141145139813, 49.183544747354404, 39.29575380973517, 0.0, 13.315579227696405, 43.62183754993343, 0.0, 25.51264980026631, 50.06657789613848, 45.62982689747003, 13.315579227696405, 55.85885486018642, 29.96005326231691, 22.19263204616068, 13.315579227696405, 56.679982245894365, 16.168917633631356, 38.86100583836936, 0.0, 70.95155177711769, 25.05548158011541, 30.79227696404794, 0.0, 0.0, 29.507323568575238, 39.94673768308922, 13.315579227696405, 84.68708388814913, 34.12117177097204, 64.00355082112739, 20.448925242533765, 51.67776298268975, 65.96205059920108, 22.503328894806923, 0.0, 32.62316910785619, 51.2899467376831, 58.84046496563139], \"zmax\": 100, \"zmin\": 0}, {\"autocolorscale\": false, \"colorbar\": {\"title\": {\"text\": \"Gemiddeld beter dan %\"}}, \"colorscale\": [[0, \"rgb(255,50,50)\"], [1, \"rgb(50,50,255)\"]], \"customdata\": [2014], \"locationmode\": \"country names\", \"locations\": [\"Australia\", \"Austria\", \"Belgium\", \"Brazil\", \"Canada\", \"China\", \"Colombia\", \"Czech Republic\", \"Denmark\", \"Estonia\", \"Finland\", \"France\", \"Germany\", \"Greece\", \"Hong Kong\", \"Iceland\", \"India\", \"Iran\", \"Israel\", \"Italy\", \"Japan\", \"Netherlands\", \"New Zealand\", \"Norway\", \"Poland\", \"Portugal\", \"Republic of Ireland\", \"Russian Federation\", \"Saudi Arabia\", \"Singapore\", \"South Africa\", \"South Korea\", \"Spain\", \"Sweden\", \"Switzerland\", \"Taiwan\", \"Thailand\", \"Turkey\", \"United Kingdom\", \"United States of America\"], \"marker\": {\"line\": {\"color\": \"rgb(0,0,0)\", \"width\": 0.25}}, \"type\": \"choropleth\", \"uid\": \"25c67a5f-2454-4d20-a551-7e7154a3505b\", \"visible\": false, \"z\": [38.9095241432476, 27.430093209054593, 52.577515693361235, 24.966711051930762, 48.01317541523583, 36.77762982689747, 29.96005326231691, 0.0, 45.752330226364855, 0.0, 22.66311584553928, 55.73175160392205, 44.28454368534262, 13.315579227696405, 55.148690634709276, 29.96005326231691, 7.323568575233024, 29.96005326231691, 46.47137150466045, 20.41722148246782, 47.11294032199492, 70.7466967120762, 28.57523302263649, 30.992010652463385, 13.315579227696405, 0.0, 31.877496671105195, 36.61784287616512, 0.0, 86.41810918774966, 38.79272081668886, 56.19174434087883, 15.875129457020272, 49.2676431424767, 68.47536617842877, 18.59187749667111, 13.315579227696405, 38.695073235685754, 51.30845946900733, 59.18836047349711], \"zmax\": 100, \"zmin\": 0}, {\"autocolorscale\": false, \"colorbar\": {\"title\": {\"text\": \"Gemiddeld beter dan %\"}}, \"colorscale\": [[0, \"rgb(255,50,50)\"], [1, \"rgb(50,50,255)\"]], \"customdata\": [2015], \"locationmode\": \"country names\", \"locations\": [\"Australia\", \"Austria\", \"Belgium\", \"Brazil\", \"Canada\", \"Chile\", \"China\", \"Colombia\", \"Czech Republic\", \"Denmark\", \"Finland\", \"France\", \"Germany\", \"Greece\", \"Hong Kong\", \"Iceland\", \"India\", \"Iran\", \"Israel\", \"Italy\", \"Japan\", \"Macau\", \"Morocco\", \"Netherlands\", \"New Zealand\", \"Norway\", \"Poland\", \"Portugal\", \"Republic of Ireland\", \"Russian Federation\", \"Singapore\", \"South Africa\", \"South Korea\", \"Spain\", \"Sweden\", \"Switzerland\", \"Taiwan\", \"Thailand\", \"Turkey\", \"United Kingdom\", \"United States of America\"], \"marker\": {\"line\": {\"color\": \"rgb(0,0,0)\", \"width\": 0.25}}, \"type\": \"choropleth\", \"uid\": \"bc5e7373-b9d7-4888-bfc9-db2ee55dac9d\", \"visible\": false, \"z\": [39.28761651131824, 32.27696404793609, 44.83545748525775, 28.29560585885486, 51.168811954431135, 29.96005326231691, 32.65948432393173, 29.96005326231691, 13.315579227696405, 39.547270306258326, 21.780483165303412, 51.712867691562764, 43.789233403081596, 13.315579227696405, 57.67865068797159, 29.96005326231691, 11.651131824234357, 6.657789613848203, 45.494895694629385, 22.518994282133626, 38.72614292055038, 23.302263648468713, 13.315579227696405, 67.7353272559664, 23.99467376830892, 29.26098535286285, 13.315579227696405, 0.0, 30.625832223701735, 30.55925432756325, 88.5486018641811, 40.079893475366184, 44.710756028998375, 27.09720372836219, 46.07190412782957, 70.439414114514, 18.66400355082113, 0.0, 50.754549489569456, 54.259505844059795, 58.68594959806678], \"zmax\": 100, \"zmin\": 0}, {\"autocolorscale\": false, \"colorbar\": {\"title\": {\"text\": \"Gemiddeld beter dan %\"}}, \"colorscale\": [[0, \"rgb(255,50,50)\"], [1, \"rgb(50,50,255)\"]], \"customdata\": [2016], \"locationmode\": \"country names\", \"locations\": [\"Argentina\", \"Australia\", \"Austria\", \"Bangladesh\", \"Belarus\", \"Belgium\", \"Brazil\", \"Canada\", \"Chile\", \"China\", \"Colombia\", \"Cyprus\", \"Czech Republic\", \"Denmark\", \"Egypt\", \"Estonia\", \"Finland\", \"France\", \"Germany\", \"Ghana\", \"Greece\", \"Hong Kong\", \"Hungary\", \"Iceland\", \"India\", \"Indonesia\", \"Iran\", \"Israel\", \"Italy\", \"Japan\", \"Jordan\", \"Kenya\", \"Latvia\", \"Lebanon\", \"Lithuania\", \"Luxembourg\", \"Macau\", \"Malaysia\", \"Mexico\", \"Morocco\", \"Netherlands\", \"New Zealand\", \"Nigeria\", \"Norway\", \"Oman\", \"Pakistan\", \"Poland\", \"Portugal\", \"Qatar\", \"Republic of Ireland\", \"Romania\", \"Russian Federation\", \"Saudi Arabia\", \"Serbia\", \"Singapore\", \"Slovakia\", \"Slovenia\", \"South Africa\", \"South Korea\", \"Spain\", \"Sweden\", \"Switzerland\", \"Taiwan\", \"Thailand\", \"Turkey\", \"Uganda\", \"Ukraine\", \"Unisted States of America\", \"United Arab Emirates\", \"United Kingdom\", \"United States of America\", \"Unted Kingdom\"], \"marker\": {\"line\": {\"color\": \"rgb(0,0,0)\", \"width\": 0.25}}, \"type\": \"choropleth\", \"uid\": \"5f5e28ca-1e0a-4621-9137-8760c9ccbaa8\", \"visible\": true, \"z\": [0.0, 56.59551932951119, 54.216376057917806, 0.0, 0.0, 69.68491893545426, 8.817231389343746, 59.183440399714485, 15.465143944801332, 23.388699191697043, 10.706638115631689, 46.395431834404, 21.01673407883258, 73.07875327147275, 0.0, 33.90435403283369, 48.3702117535094, 44.928225870410024, 71.67467253120357, 0.0, 19.883756500458855, 74.60147513680704, 3.56887937187723, 60.67094932191293, 18.89406726287945, 0.0, 16.952177016416844, 45.74113728289317, 46.96855187471135, 17.478804338364583, 0.0, 0.0, 0.0, 21.413276231263378, 0.0, 72.44825124910778, 35.6887937187723, 7.1377587437544605, 28.551034975017842, 0.0, 85.04914072365892, 40.348730498623425, 0.0, 61.884368308351185, 0.0, 10.706638115631689, 3.059039461609054, 33.139594167431426, 0.0, 47.02989927829328, 5.3533190578158445, 31.18102454290891, 34.4991672614799, 0.0, 94.21841541755889, 0.0, 10.706638115631689, 43.55222460147513, 28.848441589340947, 26.081370449678793, 74.07695801700086, 75.85296216987867, 17.300142755174875, 3.059039461609054, 19.791058334955554, 35.6887937187723, 0.0, 67.80870806566737, 10.706638115631689, 52.25766382083296, 61.79979075611372, 35.6887937187723], \"zmax\": 100, \"zmin\": 0}],\n",
       "                        {\"geo\": {\"lakecolor\": \"rgb(255, 255, 255)\", \"projection\": {\"type\": \"equirectangular\"}, \"scope\": \"world\", \"showlakes\": true}, \"sliders\": [{\"active\": 5, \"pad\": {\"t\": 1}, \"steps\": [{\"args\": [\"visible\", [true, false, false, false, false, false]], \"label\": \"Year 2011\", \"method\": \"restyle\"}, {\"args\": [\"visible\", [false, true, false, false, false, false]], \"label\": \"Year 2012\", \"method\": \"restyle\"}, {\"args\": [\"visible\", [false, false, true, false, false, false]], \"label\": \"Year 2013\", \"method\": \"restyle\"}, {\"args\": [\"visible\", [false, false, false, true, false, false]], \"label\": \"Year 2014\", \"method\": \"restyle\"}, {\"args\": [\"visible\", [false, false, false, false, true, false]], \"label\": \"Year 2015\", \"method\": \"restyle\"}, {\"args\": [\"visible\", [false, false, false, false, false, true]], \"label\": \"Year 2016\", \"method\": \"restyle\"}]}], \"title\": {\"text\": \"Gemiddelde universiteitspercentage per land\"}},\n",
       "                        {\"showLink\": false, \"linkText\": \"Export to plot.ly\", \"plotlyServerURL\": \"https://plot.ly\", \"responsive\": true}\n",
       "                    ).then(function(){\n",
       "                            \n",
       "var gd = document.getElementById('bfbcc30d-bfa5-4bfa-8cb3-99a15883ab45');\n",
       "var x = new MutationObserver(function (mutations, observer) {{\n",
       "        var display = window.getComputedStyle(gd).display;\n",
       "        if (!display || display === 'none') {{\n",
       "            console.log([gd, 'removed!']);\n",
       "            Plotly.purge(gd);\n",
       "            observer.disconnect();\n",
       "        }}\n",
       "}});\n",
       "\n",
       "// Listen for the removal of the full notebook cells\n",
       "var notebookContainer = gd.closest('#notebook-container');\n",
       "if (notebookContainer) {{\n",
       "    x.observe(notebookContainer, {childList: true});\n",
       "}}\n",
       "\n",
       "// Listen for the clearing of the current output cell\n",
       "var outputEl = gd.closest('.output');\n",
       "if (outputEl) {{\n",
       "    x.observe(outputEl, {childList: true});\n",
       "}}\n",
       "\n",
       "                        })\n",
       "                };\n",
       "                });\n",
       "            </script>\n",
       "        </div>"
      ]
     },
     "metadata": {},
     "output_type": "display_data"
    }
   ],
   "source": [
    "# worldmap('world_rank', 'Average ranking of universities in each country', 'Average Ranking', 800, False)\n",
    "worldmap('percentile', 'Gemiddelde universiteitspercentage per land', 'Gemiddeld beter dan %', 100, [[0, 'rgb(255,50,50)'], [1, 'rgb(50,50,255)']])"
   ]
  },
  {
   "cell_type": "markdown",
   "metadata": {},
   "source": []
  },
  {
   "cell_type": "markdown",
   "metadata": {},
   "source": []
  },
  {
   "cell_type": "code",
   "execution_count": 12,
   "metadata": {},
   "outputs": [
    {
     "data": {
      "application/vnd.plotly.v1+json": {
       "config": {
        "linkText": "Export to plot.ly",
        "plotlyServerURL": "https://plot.ly",
        "showLink": false
       },
       "data": [
        {
         "marker": {
          "color": "#FF6961"
         },
         "name": "Azië",
         "type": "bar",
         "uid": "c2dbf5cb-8e49-44d9-91ea-f40f027a7690",
         "x": [
          2011,
          2012,
          2013,
          2014,
          2015,
          2016
         ],
         "y": [
          47.91959798994974,
          37.864000000000004,
          43.293790098051076,
          43.22532919070869,
          39.606765447488456,
          23.737856951215182
         ]
        },
        {
         "marker": {
          "color": "#1e90ff"
         },
         "name": "USA",
         "type": "bar",
         "uid": "fc209ca6-ee99-485e-85a3-2d304029dbad",
         "x": [
          2011,
          2012,
          2013,
          2014,
          2015,
          2016
         ],
         "y": [
          63.89586823003904,
          59.925663716814164,
          58.84046496563139,
          59.18836047349711,
          58.68594959806678,
          61.79979075611372
         ]
        }
       ],
       "layout": {
        "barmode": "group",
        "title": {
         "text": "Gemiddelde universiteitspercentages van Azië vergeleken met de V.S."
        },
        "xaxis": {
         "title": {
          "text": "Jaar"
         },
         "type": "category"
        },
        "yaxis": {
         "title": {
          "text": "Gemiddeld beter dan %"
         }
        }
       }
      },
      "text/html": [
       "<div>\n",
       "        \n",
       "        \n",
       "            <div id=\"3f4c58ec-7c8e-4aa7-90f1-67a0f8a41db5\" class=\"plotly-graph-div\" style=\"height:525px; width:100%;\"></div>\n",
       "            <script type=\"text/javascript\">\n",
       "                require([\"plotly\"], function(Plotly) {\n",
       "                    window.PLOTLYENV=window.PLOTLYENV || {};\n",
       "                    window.PLOTLYENV.BASE_URL='https://plot.ly';\n",
       "                    \n",
       "                if (document.getElementById(\"3f4c58ec-7c8e-4aa7-90f1-67a0f8a41db5\")) {\n",
       "                    Plotly.newPlot(\n",
       "                        '3f4c58ec-7c8e-4aa7-90f1-67a0f8a41db5',\n",
       "                        [{\"marker\": {\"color\": \"#FF6961\"}, \"name\": \"Azi\\u00eb\", \"type\": \"bar\", \"uid\": \"c2dbf5cb-8e49-44d9-91ea-f40f027a7690\", \"x\": [2011, 2012, 2013, 2014, 2015, 2016], \"y\": [47.91959798994974, 37.864000000000004, 43.293790098051076, 43.22532919070869, 39.606765447488456, 23.737856951215182]}, {\"marker\": {\"color\": \"#1e90ff\"}, \"name\": \"USA\", \"type\": \"bar\", \"uid\": \"fc209ca6-ee99-485e-85a3-2d304029dbad\", \"x\": [2011, 2012, 2013, 2014, 2015, 2016], \"y\": [63.89586823003904, 59.925663716814164, 58.84046496563139, 59.18836047349711, 58.68594959806678, 61.79979075611372]}],\n",
       "                        {\"barmode\": \"group\", \"title\": {\"text\": \"Gemiddelde universiteitspercentages van Azi\\u00eb vergeleken met de V.S.\"}, \"xaxis\": {\"title\": {\"text\": \"Jaar\"}, \"type\": \"category\"}, \"yaxis\": {\"title\": {\"text\": \"Gemiddeld beter dan %\"}}},\n",
       "                        {\"showLink\": false, \"linkText\": \"Export to plot.ly\", \"plotlyServerURL\": \"https://plot.ly\", \"responsive\": true}\n",
       "                    ).then(function(){\n",
       "                            \n",
       "var gd = document.getElementById('3f4c58ec-7c8e-4aa7-90f1-67a0f8a41db5');\n",
       "var x = new MutationObserver(function (mutations, observer) {{\n",
       "        var display = window.getComputedStyle(gd).display;\n",
       "        if (!display || display === 'none') {{\n",
       "            console.log([gd, 'removed!']);\n",
       "            Plotly.purge(gd);\n",
       "            observer.disconnect();\n",
       "        }}\n",
       "}});\n",
       "\n",
       "// Listen for the removal of the full notebook cells\n",
       "var notebookContainer = gd.closest('#notebook-container');\n",
       "if (notebookContainer) {{\n",
       "    x.observe(notebookContainer, {childList: true});\n",
       "}}\n",
       "\n",
       "// Listen for the clearing of the current output cell\n",
       "var outputEl = gd.closest('.output');\n",
       "if (outputEl) {{\n",
       "    x.observe(outputEl, {childList: true});\n",
       "}}\n",
       "\n",
       "                        })\n",
       "                };\n",
       "                });\n",
       "            </script>\n",
       "        </div>"
      ]
     },
     "metadata": {},
     "output_type": "display_data"
    }
   ],
   "source": [
    "barplot_ranks()"
   ]
  },
  {
   "cell_type": "code",
   "execution_count": null,
   "metadata": {},
   "outputs": [],
   "source": []
  },
  {
   "cell_type": "code",
   "execution_count": null,
   "metadata": {},
   "outputs": [],
   "source": []
  },
  {
   "cell_type": "code",
   "execution_count": 13,
   "metadata": {},
   "outputs": [
    {
     "data": {
      "application/vnd.plotly.v1+json": {
       "config": {
        "linkText": "Export to plot.ly",
        "plotlyServerURL": "https://plot.ly",
        "showLink": false
       },
       "data": [
        {
         "domain": {
          "column": 0
         },
         "hole": 0.4,
         "hoverinfo": "label+value",
         "labels": [
          "Asia",
          "USA"
         ],
         "marker": {
          "colors": [
           "#FF6961",
           "#1e90ff"
          ]
         },
         "name": "2015",
         "textinfo": "label+value",
         "type": "pie",
         "uid": "77148113-b526-46e4-ae14-0659a48f60d9",
         "values": [
          47,
          108
         ]
        },
        {
         "domain": {
          "column": 1
         },
         "hole": 0.4,
         "hoverinfo": "label+value",
         "labels": [
          "Asia",
          "USA"
         ],
         "name": "2016",
         "textinfo": "label+value",
         "type": "pie",
         "uid": "969471c4-605e-494b-8218-7435cbeedf60",
         "values": [
          141,
          146
         ]
        }
       ],
       "layout": {
        "annotations": [
         {
          "font": {
           "size": 20
          },
          "showarrow": false,
          "text": "2015",
          "x": 0.2,
          "y": 0.5
         },
         {
          "font": {
           "size": 20
          },
          "showarrow": false,
          "text": "2016",
          "x": 0.8,
          "y": 0.5
         }
        ],
        "grid": {
         "columns": 2,
         "rows": 1
        },
        "title": {
         "text": "Aantal universiteiten op wereldranglijst in 2015-2016 Asia-USA"
        }
       }
      },
      "text/html": [
       "<div>\n",
       "        \n",
       "        \n",
       "            <div id=\"3ae97b3c-a33b-4fe2-8f0a-0bc044e537f6\" class=\"plotly-graph-div\" style=\"height:525px; width:100%;\"></div>\n",
       "            <script type=\"text/javascript\">\n",
       "                require([\"plotly\"], function(Plotly) {\n",
       "                    window.PLOTLYENV=window.PLOTLYENV || {};\n",
       "                    window.PLOTLYENV.BASE_URL='https://plot.ly';\n",
       "                    \n",
       "                if (document.getElementById(\"3ae97b3c-a33b-4fe2-8f0a-0bc044e537f6\")) {\n",
       "                    Plotly.newPlot(\n",
       "                        '3ae97b3c-a33b-4fe2-8f0a-0bc044e537f6',\n",
       "                        [{\"domain\": {\"column\": 0}, \"hole\": 0.4, \"hoverinfo\": \"label+value\", \"labels\": [\"Asia\", \"USA\"], \"marker\": {\"colors\": [\"#FF6961\", \"#1e90ff\"]}, \"name\": \"2015\", \"textinfo\": \"label+value\", \"type\": \"pie\", \"uid\": \"77148113-b526-46e4-ae14-0659a48f60d9\", \"values\": [47, 108]}, {\"domain\": {\"column\": 1}, \"hole\": 0.4, \"hoverinfo\": \"label+value\", \"labels\": [\"Asia\", \"USA\"], \"name\": \"2016\", \"textinfo\": \"label+value\", \"type\": \"pie\", \"uid\": \"969471c4-605e-494b-8218-7435cbeedf60\", \"values\": [141, 146]}],\n",
       "                        {\"annotations\": [{\"font\": {\"size\": 20}, \"showarrow\": false, \"text\": \"2015\", \"x\": 0.2, \"y\": 0.5}, {\"font\": {\"size\": 20}, \"showarrow\": false, \"text\": \"2016\", \"x\": 0.8, \"y\": 0.5}], \"grid\": {\"columns\": 2, \"rows\": 1}, \"title\": {\"text\": \"Aantal universiteiten op wereldranglijst in 2015-2016 Asia-USA\"}},\n",
       "                        {\"showLink\": false, \"linkText\": \"Export to plot.ly\", \"plotlyServerURL\": \"https://plot.ly\", \"responsive\": true}\n",
       "                    ).then(function(){\n",
       "                            \n",
       "var gd = document.getElementById('3ae97b3c-a33b-4fe2-8f0a-0bc044e537f6');\n",
       "var x = new MutationObserver(function (mutations, observer) {{\n",
       "        var display = window.getComputedStyle(gd).display;\n",
       "        if (!display || display === 'none') {{\n",
       "            console.log([gd, 'removed!']);\n",
       "            Plotly.purge(gd);\n",
       "            observer.disconnect();\n",
       "        }}\n",
       "}});\n",
       "\n",
       "// Listen for the removal of the full notebook cells\n",
       "var notebookContainer = gd.closest('#notebook-container');\n",
       "if (notebookContainer) {{\n",
       "    x.observe(notebookContainer, {childList: true});\n",
       "}}\n",
       "\n",
       "// Listen for the clearing of the current output cell\n",
       "var outputEl = gd.closest('.output');\n",
       "if (outputEl) {{\n",
       "    x.observe(outputEl, {childList: true});\n",
       "}}\n",
       "\n",
       "                        })\n",
       "                };\n",
       "                });\n",
       "            </script>\n",
       "        </div>"
      ]
     },
     "metadata": {},
     "output_type": "display_data"
    }
   ],
   "source": [
    "pie_yy()"
   ]
  },
  {
   "cell_type": "code",
   "execution_count": 14,
   "metadata": {},
   "outputs": [
    {
     "data": {
      "application/vnd.plotly.v1+json": {
       "config": {
        "linkText": "Export to plot.ly",
        "plotlyServerURL": "https://plot.ly",
        "showLink": false
       },
       "data": [
        {
         "autocolorscale": false,
         "colorbar": {
          "title": {
           "text": "Aantal"
          }
         },
         "colorscale": [
          [
           0,
           "rgb(255,255,255)"
          ],
          [
           1,
           "rgb(22,100,22)"
          ]
         ],
         "customdata": [
          2011
         ],
         "locationmode": "country names",
         "locations": [
          "Australia",
          "Austria",
          "Belgium",
          "Canada",
          "China",
          "Denmark",
          "Egypt",
          "Finland",
          "France",
          "Germany",
          "Hong Kong",
          "Japan",
          "Netherlands",
          "New Zealand",
          "Norway",
          "Republic of Ireland",
          "Singapore",
          "South Africa",
          "South Korea",
          "Spain",
          "Sweden",
          "Switzerland",
          "Taiwan",
          "Turkey",
          "United Kingdom",
          "United States of America"
         ],
         "marker": {
          "line": {
           "color": "rgb(0,0,0)",
           "width": 0.25
          }
         },
         "type": "choropleth",
         "uid": "db90bcad-1bad-4171-be1b-7e186a946467",
         "visible": false,
         "z": [
          7,
          2,
          2,
          9,
          6,
          3,
          1,
          1,
          4,
          14,
          4,
          5,
          10,
          1,
          1,
          2,
          2,
          1,
          4,
          2,
          6,
          6,
          4,
          2,
          29,
          72
         ],
         "zmax": 150,
         "zmin": 0
        },
        {
         "autocolorscale": false,
         "colorbar": {
          "title": {
           "text": "Aantal"
          }
         },
         "colorscale": [
          [
           0,
           "rgb(255,255,255)"
          ],
          [
           1,
           "rgb(22,100,22)"
          ]
         ],
         "customdata": [
          2012
         ],
         "locationmode": "country names",
         "locations": [
          "Australia",
          "Austria",
          "Belgium",
          "Brazil",
          "Canada",
          "Chile",
          "China",
          "Czech Republic",
          "Denmark",
          "Egypt",
          "Estonia",
          "Finland",
          "France",
          "Germany",
          "Greece",
          "Hong Kong",
          "Iceland",
          "India",
          "Iran",
          "Israel",
          "Italy",
          "Japan",
          "Netherlands",
          "New Zealand",
          "Norway",
          "Poland",
          "Portugal",
          "Republic of Ireland",
          "Russian Federation",
          "Singapore",
          "South Africa",
          "South Korea",
          "Spain",
          "Sweden",
          "Switzerland",
          "Taiwan",
          "Thailand",
          "Turkey",
          "United Kingdom",
          "United States of America"
         ],
         "marker": {
          "line": {
           "color": "rgb(0,0,0)",
           "width": 0.25
          }
         },
         "type": "choropleth",
         "uid": "defd01c5-a611-4f2d-872b-97169f669226",
         "visible": false,
         "z": [
          21,
          5,
          7,
          2,
          18,
          1,
          10,
          1,
          5,
          1,
          1,
          5,
          8,
          22,
          1,
          6,
          1,
          1,
          1,
          4,
          14,
          16,
          13,
          6,
          4,
          2,
          4,
          5,
          2,
          2,
          3,
          7,
          8,
          10,
          7,
          8,
          1,
          4,
          52,
          113
         ],
         "zmax": 150,
         "zmin": 0
        },
        {
         "autocolorscale": false,
         "colorbar": {
          "title": {
           "text": "Aantal"
          }
         },
         "colorscale": [
          [
           0,
           "rgb(255,255,255)"
          ],
          [
           1,
           "rgb(22,100,22)"
          ]
         ],
         "customdata": [
          2013
         ],
         "locationmode": "country names",
         "locations": [
          "Australia",
          "Austria",
          "Belgium",
          "Brazil",
          "Canada",
          "China",
          "Colombia",
          "Czech Republic",
          "Denmark",
          "Estonia",
          "Finland",
          "France",
          "Germany",
          "Greece",
          "Hong Kong",
          "Iceland",
          "India",
          "Iran",
          "Israel",
          "Italy",
          "Japan",
          "Mexico",
          "Netherlands",
          "New Zealand",
          "Norway",
          "Poland",
          "Portugal",
          "Republic of Ireland",
          "Russian Federation",
          "Saudi Arabia",
          "Singapore",
          "South Africa",
          "South Korea",
          "Spain",
          "Sweden",
          "Switzerland",
          "Taiwan",
          "Thailand",
          "Turkey",
          "United Kingdom",
          "United States of America"
         ],
         "marker": {
          "line": {
           "color": "rgb(0,0,0)",
           "width": 0.25
          }
         },
         "type": "choropleth",
         "uid": "c9d2fc5c-b14f-45e2-82e0-959d2fac4397",
         "visible": false,
         "z": [
          19,
          6,
          7,
          2,
          19,
          9,
          1,
          1,
          5,
          1,
          5,
          12,
          25,
          1,
          6,
          1,
          3,
          1,
          3,
          14,
          13,
          1,
          13,
          6,
          4,
          2,
          3,
          5,
          2,
          1,
          2,
          4,
          6,
          7,
          10,
          8,
          7,
          1,
          5,
          48,
          111
         ],
         "zmax": 150,
         "zmin": 0
        },
        {
         "autocolorscale": false,
         "colorbar": {
          "title": {
           "text": "Aantal"
          }
         },
         "colorscale": [
          [
           0,
           "rgb(255,255,255)"
          ],
          [
           1,
           "rgb(22,100,22)"
          ]
         ],
         "customdata": [
          2014
         ],
         "locationmode": "country names",
         "locations": [
          "Australia",
          "Austria",
          "Belgium",
          "Brazil",
          "Canada",
          "China",
          "Colombia",
          "Czech Republic",
          "Denmark",
          "Estonia",
          "Finland",
          "France",
          "Germany",
          "Greece",
          "Hong Kong",
          "Iceland",
          "India",
          "Iran",
          "Israel",
          "Italy",
          "Japan",
          "Netherlands",
          "New Zealand",
          "Norway",
          "Poland",
          "Portugal",
          "Republic of Ireland",
          "Russian Federation",
          "Saudi Arabia",
          "Singapore",
          "South Africa",
          "South Korea",
          "Spain",
          "Sweden",
          "Switzerland",
          "Taiwan",
          "Thailand",
          "Turkey",
          "United Kingdom",
          "United States of America"
         ],
         "marker": {
          "line": {
           "color": "rgb(0,0,0)",
           "width": 0.25
          }
         },
         "type": "choropleth",
         "uid": "18063d0f-da41-4512-9c87-bb7e2e558686",
         "visible": false,
         "z": [
          19,
          6,
          7,
          2,
          19,
          10,
          1,
          1,
          5,
          1,
          5,
          11,
          26,
          1,
          6,
          1,
          5,
          1,
          3,
          15,
          11,
          13,
          5,
          4,
          1,
          2,
          5,
          1,
          2,
          2,
          3,
          7,
          9,
          10,
          8,
          8,
          1,
          5,
          49,
          109
         ],
         "zmax": 150,
         "zmin": 0
        },
        {
         "autocolorscale": false,
         "colorbar": {
          "title": {
           "text": "Aantal"
          }
         },
         "colorscale": [
          [
           0,
           "rgb(255,255,255)"
          ],
          [
           1,
           "rgb(22,100,22)"
          ]
         ],
         "customdata": [
          2015
         ],
         "locationmode": "country names",
         "locations": [
          "Australia",
          "Austria",
          "Belgium",
          "Brazil",
          "Canada",
          "Chile",
          "China",
          "Colombia",
          "Czech Republic",
          "Denmark",
          "Finland",
          "France",
          "Germany",
          "Greece",
          "Hong Kong",
          "Iceland",
          "India",
          "Iran",
          "Israel",
          "Italy",
          "Japan",
          "Macau",
          "Morocco",
          "Netherlands",
          "New Zealand",
          "Norway",
          "Poland",
          "Portugal",
          "Republic of Ireland",
          "Russian Federation",
          "Singapore",
          "South Africa",
          "South Korea",
          "Spain",
          "Sweden",
          "Switzerland",
          "Taiwan",
          "Thailand",
          "Turkey",
          "United Kingdom",
          "United States of America"
         ],
         "marker": {
          "line": {
           "color": "rgb(0,0,0)",
           "width": 0.25
          }
         },
         "type": "choropleth",
         "uid": "55ffc1b4-0be0-4aa3-8bd7-facc84ad123f",
         "visible": false,
         "z": [
          20,
          5,
          7,
          2,
          18,
          1,
          11,
          1,
          1,
          5,
          7,
          11,
          28,
          1,
          6,
          1,
          4,
          2,
          3,
          17,
          12,
          1,
          1,
          13,
          5,
          4,
          1,
          2,
          5,
          2,
          2,
          3,
          9,
          6,
          10,
          8,
          6,
          1,
          6,
          45,
          108
         ],
         "zmax": 150,
         "zmin": 0
        },
        {
         "autocolorscale": false,
         "colorbar": {
          "title": {
           "text": "Aantal"
          }
         },
         "colorscale": [
          [
           0,
           "rgb(255,255,255)"
          ],
          [
           1,
           "rgb(22,100,22)"
          ]
         ],
         "customdata": [
          2016
         ],
         "locationmode": "country names",
         "locations": [
          "Argentina",
          "Australia",
          "Austria",
          "Bangladesh",
          "Belarus",
          "Belgium",
          "Brazil",
          "Canada",
          "Chile",
          "China",
          "Colombia",
          "Cyprus",
          "Czech Republic",
          "Denmark",
          "Egypt",
          "Estonia",
          "Finland",
          "France",
          "Germany",
          "Ghana",
          "Greece",
          "Hong Kong",
          "Hungary",
          "Iceland",
          "India",
          "Indonesia",
          "Iran",
          "Israel",
          "Italy",
          "Japan",
          "Jordan",
          "Kenya",
          "Latvia",
          "Lebanon",
          "Lithuania",
          "Luxembourg",
          "Macau",
          "Malaysia",
          "Mexico",
          "Morocco",
          "Netherlands",
          "New Zealand",
          "Nigeria",
          "Norway",
          "Oman",
          "Pakistan",
          "Poland",
          "Portugal",
          "Qatar",
          "Republic of Ireland",
          "Romania",
          "Russian Federation",
          "Saudi Arabia",
          "Serbia",
          "Singapore",
          "Slovakia",
          "Slovenia",
          "South Africa",
          "South Korea",
          "Spain",
          "Sweden",
          "Switzerland",
          "Taiwan",
          "Thailand",
          "Turkey",
          "Uganda",
          "Ukraine",
          "Unisted States of America",
          "United Arab Emirates",
          "United Kingdom",
          "United States of America",
          "Unted Kingdom"
         ],
         "marker": {
          "line": {
           "color": "rgb(0,0,0)",
           "width": 0.25
          }
         },
         "type": "choropleth",
         "uid": "9543a1f0-b4e4-4829-9ac8-be139009673c",
         "visible": true,
         "z": [
          1,
          31,
          7,
          1,
          1,
          7,
          17,
          25,
          6,
          37,
          2,
          1,
          9,
          6,
          3,
          2,
          9,
          27,
          37,
          1,
          7,
          6,
          6,
          1,
          17,
          1,
          8,
          6,
          34,
          41,
          2,
          1,
          1,
          1,
          1,
          1,
          1,
          5,
          2,
          1,
          13,
          7,
          1,
          4,
          1,
          2,
          7,
          7,
          1,
          9,
          4,
          13,
          3,
          1,
          2,
          2,
          2,
          6,
          24,
          25,
          11,
          10,
          24,
          7,
          11,
          1,
          2,
          1,
          2,
          77,
          146,
          1
         ],
         "zmax": 150,
         "zmin": 0
        }
       ],
       "layout": {
        "geo": {
         "lakecolor": "rgb(255, 255, 255)",
         "projection": {
          "type": "equirectangular"
         },
         "scope": "world",
         "showlakes": true
        },
        "sliders": [
         {
          "active": 5,
          "pad": {
           "t": 1
          },
          "steps": [
           {
            "args": [
             "visible",
             [
              true,
              false,
              false,
              false,
              false,
              false
             ]
            ],
            "label": "Year 2011",
            "method": "restyle"
           },
           {
            "args": [
             "visible",
             [
              false,
              true,
              false,
              false,
              false,
              false
             ]
            ],
            "label": "Year 2012",
            "method": "restyle"
           },
           {
            "args": [
             "visible",
             [
              false,
              false,
              true,
              false,
              false,
              false
             ]
            ],
            "label": "Year 2013",
            "method": "restyle"
           },
           {
            "args": [
             "visible",
             [
              false,
              false,
              false,
              true,
              false,
              false
             ]
            ],
            "label": "Year 2014",
            "method": "restyle"
           },
           {
            "args": [
             "visible",
             [
              false,
              false,
              false,
              false,
              true,
              false
             ]
            ],
            "label": "Year 2015",
            "method": "restyle"
           },
           {
            "args": [
             "visible",
             [
              false,
              false,
              false,
              false,
              false,
              true
             ]
            ],
            "label": "Year 2016",
            "method": "restyle"
           }
          ]
         }
        ],
        "title": {
         "text": "Het aantal univerisiteiten per land"
        }
       }
      },
      "text/html": [
       "<div>\n",
       "        \n",
       "        \n",
       "            <div id=\"bbd90048-e434-40d4-8ec6-ddcba9181783\" class=\"plotly-graph-div\" style=\"height:525px; width:100%;\"></div>\n",
       "            <script type=\"text/javascript\">\n",
       "                require([\"plotly\"], function(Plotly) {\n",
       "                    window.PLOTLYENV=window.PLOTLYENV || {};\n",
       "                    window.PLOTLYENV.BASE_URL='https://plot.ly';\n",
       "                    \n",
       "                if (document.getElementById(\"bbd90048-e434-40d4-8ec6-ddcba9181783\")) {\n",
       "                    Plotly.newPlot(\n",
       "                        'bbd90048-e434-40d4-8ec6-ddcba9181783',\n",
       "                        [{\"autocolorscale\": false, \"colorbar\": {\"title\": {\"text\": \"Aantal\"}}, \"colorscale\": [[0, \"rgb(255,255,255)\"], [1, \"rgb(22,100,22)\"]], \"customdata\": [2011], \"locationmode\": \"country names\", \"locations\": [\"Australia\", \"Austria\", \"Belgium\", \"Canada\", \"China\", \"Denmark\", \"Egypt\", \"Finland\", \"France\", \"Germany\", \"Hong Kong\", \"Japan\", \"Netherlands\", \"New Zealand\", \"Norway\", \"Republic of Ireland\", \"Singapore\", \"South Africa\", \"South Korea\", \"Spain\", \"Sweden\", \"Switzerland\", \"Taiwan\", \"Turkey\", \"United Kingdom\", \"United States of America\"], \"marker\": {\"line\": {\"color\": \"rgb(0,0,0)\", \"width\": 0.25}}, \"type\": \"choropleth\", \"uid\": \"db90bcad-1bad-4171-be1b-7e186a946467\", \"visible\": false, \"z\": [7.0, 2.0, 2.0, 9.0, 6.0, 3.0, 1.0, 1.0, 4.0, 14.0, 4.0, 5.0, 10.0, 1.0, 1.0, 2.0, 2.0, 1.0, 4.0, 2.0, 6.0, 6.0, 4.0, 2.0, 29.0, 72.0], \"zmax\": 150, \"zmin\": 0}, {\"autocolorscale\": false, \"colorbar\": {\"title\": {\"text\": \"Aantal\"}}, \"colorscale\": [[0, \"rgb(255,255,255)\"], [1, \"rgb(22,100,22)\"]], \"customdata\": [2012], \"locationmode\": \"country names\", \"locations\": [\"Australia\", \"Austria\", \"Belgium\", \"Brazil\", \"Canada\", \"Chile\", \"China\", \"Czech Republic\", \"Denmark\", \"Egypt\", \"Estonia\", \"Finland\", \"France\", \"Germany\", \"Greece\", \"Hong Kong\", \"Iceland\", \"India\", \"Iran\", \"Israel\", \"Italy\", \"Japan\", \"Netherlands\", \"New Zealand\", \"Norway\", \"Poland\", \"Portugal\", \"Republic of Ireland\", \"Russian Federation\", \"Singapore\", \"South Africa\", \"South Korea\", \"Spain\", \"Sweden\", \"Switzerland\", \"Taiwan\", \"Thailand\", \"Turkey\", \"United Kingdom\", \"United States of America\"], \"marker\": {\"line\": {\"color\": \"rgb(0,0,0)\", \"width\": 0.25}}, \"type\": \"choropleth\", \"uid\": \"defd01c5-a611-4f2d-872b-97169f669226\", \"visible\": false, \"z\": [21.0, 5.0, 7.0, 2.0, 18.0, 1.0, 10.0, 1.0, 5.0, 1.0, 1.0, 5.0, 8.0, 22.0, 1.0, 6.0, 1.0, 1.0, 1.0, 4.0, 14.0, 16.0, 13.0, 6.0, 4.0, 2.0, 4.0, 5.0, 2.0, 2.0, 3.0, 7.0, 8.0, 10.0, 7.0, 8.0, 1.0, 4.0, 52.0, 113.0], \"zmax\": 150, \"zmin\": 0}, {\"autocolorscale\": false, \"colorbar\": {\"title\": {\"text\": \"Aantal\"}}, \"colorscale\": [[0, \"rgb(255,255,255)\"], [1, \"rgb(22,100,22)\"]], \"customdata\": [2013], \"locationmode\": \"country names\", \"locations\": [\"Australia\", \"Austria\", \"Belgium\", \"Brazil\", \"Canada\", \"China\", \"Colombia\", \"Czech Republic\", \"Denmark\", \"Estonia\", \"Finland\", \"France\", \"Germany\", \"Greece\", \"Hong Kong\", \"Iceland\", \"India\", \"Iran\", \"Israel\", \"Italy\", \"Japan\", \"Mexico\", \"Netherlands\", \"New Zealand\", \"Norway\", \"Poland\", \"Portugal\", \"Republic of Ireland\", \"Russian Federation\", \"Saudi Arabia\", \"Singapore\", \"South Africa\", \"South Korea\", \"Spain\", \"Sweden\", \"Switzerland\", \"Taiwan\", \"Thailand\", \"Turkey\", \"United Kingdom\", \"United States of America\"], \"marker\": {\"line\": {\"color\": \"rgb(0,0,0)\", \"width\": 0.25}}, \"type\": \"choropleth\", \"uid\": \"c9d2fc5c-b14f-45e2-82e0-959d2fac4397\", \"visible\": false, \"z\": [19.0, 6.0, 7.0, 2.0, 19.0, 9.0, 1.0, 1.0, 5.0, 1.0, 5.0, 12.0, 25.0, 1.0, 6.0, 1.0, 3.0, 1.0, 3.0, 14.0, 13.0, 1.0, 13.0, 6.0, 4.0, 2.0, 3.0, 5.0, 2.0, 1.0, 2.0, 4.0, 6.0, 7.0, 10.0, 8.0, 7.0, 1.0, 5.0, 48.0, 111.0], \"zmax\": 150, \"zmin\": 0}, {\"autocolorscale\": false, \"colorbar\": {\"title\": {\"text\": \"Aantal\"}}, \"colorscale\": [[0, \"rgb(255,255,255)\"], [1, \"rgb(22,100,22)\"]], \"customdata\": [2014], \"locationmode\": \"country names\", \"locations\": [\"Australia\", \"Austria\", \"Belgium\", \"Brazil\", \"Canada\", \"China\", \"Colombia\", \"Czech Republic\", \"Denmark\", \"Estonia\", \"Finland\", \"France\", \"Germany\", \"Greece\", \"Hong Kong\", \"Iceland\", \"India\", \"Iran\", \"Israel\", \"Italy\", \"Japan\", \"Netherlands\", \"New Zealand\", \"Norway\", \"Poland\", \"Portugal\", \"Republic of Ireland\", \"Russian Federation\", \"Saudi Arabia\", \"Singapore\", \"South Africa\", \"South Korea\", \"Spain\", \"Sweden\", \"Switzerland\", \"Taiwan\", \"Thailand\", \"Turkey\", \"United Kingdom\", \"United States of America\"], \"marker\": {\"line\": {\"color\": \"rgb(0,0,0)\", \"width\": 0.25}}, \"type\": \"choropleth\", \"uid\": \"18063d0f-da41-4512-9c87-bb7e2e558686\", \"visible\": false, \"z\": [19.0, 6.0, 7.0, 2.0, 19.0, 10.0, 1.0, 1.0, 5.0, 1.0, 5.0, 11.0, 26.0, 1.0, 6.0, 1.0, 5.0, 1.0, 3.0, 15.0, 11.0, 13.0, 5.0, 4.0, 1.0, 2.0, 5.0, 1.0, 2.0, 2.0, 3.0, 7.0, 9.0, 10.0, 8.0, 8.0, 1.0, 5.0, 49.0, 109.0], \"zmax\": 150, \"zmin\": 0}, {\"autocolorscale\": false, \"colorbar\": {\"title\": {\"text\": \"Aantal\"}}, \"colorscale\": [[0, \"rgb(255,255,255)\"], [1, \"rgb(22,100,22)\"]], \"customdata\": [2015], \"locationmode\": \"country names\", \"locations\": [\"Australia\", \"Austria\", \"Belgium\", \"Brazil\", \"Canada\", \"Chile\", \"China\", \"Colombia\", \"Czech Republic\", \"Denmark\", \"Finland\", \"France\", \"Germany\", \"Greece\", \"Hong Kong\", \"Iceland\", \"India\", \"Iran\", \"Israel\", \"Italy\", \"Japan\", \"Macau\", \"Morocco\", \"Netherlands\", \"New Zealand\", \"Norway\", \"Poland\", \"Portugal\", \"Republic of Ireland\", \"Russian Federation\", \"Singapore\", \"South Africa\", \"South Korea\", \"Spain\", \"Sweden\", \"Switzerland\", \"Taiwan\", \"Thailand\", \"Turkey\", \"United Kingdom\", \"United States of America\"], \"marker\": {\"line\": {\"color\": \"rgb(0,0,0)\", \"width\": 0.25}}, \"type\": \"choropleth\", \"uid\": \"55ffc1b4-0be0-4aa3-8bd7-facc84ad123f\", \"visible\": false, \"z\": [20.0, 5.0, 7.0, 2.0, 18.0, 1.0, 11.0, 1.0, 1.0, 5.0, 7.0, 11.0, 28.0, 1.0, 6.0, 1.0, 4.0, 2.0, 3.0, 17.0, 12.0, 1.0, 1.0, 13.0, 5.0, 4.0, 1.0, 2.0, 5.0, 2.0, 2.0, 3.0, 9.0, 6.0, 10.0, 8.0, 6.0, 1.0, 6.0, 45.0, 108.0], \"zmax\": 150, \"zmin\": 0}, {\"autocolorscale\": false, \"colorbar\": {\"title\": {\"text\": \"Aantal\"}}, \"colorscale\": [[0, \"rgb(255,255,255)\"], [1, \"rgb(22,100,22)\"]], \"customdata\": [2016], \"locationmode\": \"country names\", \"locations\": [\"Argentina\", \"Australia\", \"Austria\", \"Bangladesh\", \"Belarus\", \"Belgium\", \"Brazil\", \"Canada\", \"Chile\", \"China\", \"Colombia\", \"Cyprus\", \"Czech Republic\", \"Denmark\", \"Egypt\", \"Estonia\", \"Finland\", \"France\", \"Germany\", \"Ghana\", \"Greece\", \"Hong Kong\", \"Hungary\", \"Iceland\", \"India\", \"Indonesia\", \"Iran\", \"Israel\", \"Italy\", \"Japan\", \"Jordan\", \"Kenya\", \"Latvia\", \"Lebanon\", \"Lithuania\", \"Luxembourg\", \"Macau\", \"Malaysia\", \"Mexico\", \"Morocco\", \"Netherlands\", \"New Zealand\", \"Nigeria\", \"Norway\", \"Oman\", \"Pakistan\", \"Poland\", \"Portugal\", \"Qatar\", \"Republic of Ireland\", \"Romania\", \"Russian Federation\", \"Saudi Arabia\", \"Serbia\", \"Singapore\", \"Slovakia\", \"Slovenia\", \"South Africa\", \"South Korea\", \"Spain\", \"Sweden\", \"Switzerland\", \"Taiwan\", \"Thailand\", \"Turkey\", \"Uganda\", \"Ukraine\", \"Unisted States of America\", \"United Arab Emirates\", \"United Kingdom\", \"United States of America\", \"Unted Kingdom\"], \"marker\": {\"line\": {\"color\": \"rgb(0,0,0)\", \"width\": 0.25}}, \"type\": \"choropleth\", \"uid\": \"9543a1f0-b4e4-4829-9ac8-be139009673c\", \"visible\": true, \"z\": [1.0, 31.0, 7.0, 1.0, 1.0, 7.0, 17.0, 25.0, 6.0, 37.0, 2.0, 1.0, 9.0, 6.0, 3.0, 2.0, 9.0, 27.0, 37.0, 1.0, 7.0, 6.0, 6.0, 1.0, 17.0, 1.0, 8.0, 6.0, 34.0, 41.0, 2.0, 1.0, 1.0, 1.0, 1.0, 1.0, 1.0, 5.0, 2.0, 1.0, 13.0, 7.0, 1.0, 4.0, 1.0, 2.0, 7.0, 7.0, 1.0, 9.0, 4.0, 13.0, 3.0, 1.0, 2.0, 2.0, 2.0, 6.0, 24.0, 25.0, 11.0, 10.0, 24.0, 7.0, 11.0, 1.0, 2.0, 1.0, 2.0, 77.0, 146.0, 1.0], \"zmax\": 150, \"zmin\": 0}],\n",
       "                        {\"geo\": {\"lakecolor\": \"rgb(255, 255, 255)\", \"projection\": {\"type\": \"equirectangular\"}, \"scope\": \"world\", \"showlakes\": true}, \"sliders\": [{\"active\": 5, \"pad\": {\"t\": 1}, \"steps\": [{\"args\": [\"visible\", [true, false, false, false, false, false]], \"label\": \"Year 2011\", \"method\": \"restyle\"}, {\"args\": [\"visible\", [false, true, false, false, false, false]], \"label\": \"Year 2012\", \"method\": \"restyle\"}, {\"args\": [\"visible\", [false, false, true, false, false, false]], \"label\": \"Year 2013\", \"method\": \"restyle\"}, {\"args\": [\"visible\", [false, false, false, true, false, false]], \"label\": \"Year 2014\", \"method\": \"restyle\"}, {\"args\": [\"visible\", [false, false, false, false, true, false]], \"label\": \"Year 2015\", \"method\": \"restyle\"}, {\"args\": [\"visible\", [false, false, false, false, false, true]], \"label\": \"Year 2016\", \"method\": \"restyle\"}]}], \"title\": {\"text\": \"Het aantal univerisiteiten per land\"}},\n",
       "                        {\"showLink\": false, \"linkText\": \"Export to plot.ly\", \"plotlyServerURL\": \"https://plot.ly\", \"responsive\": true}\n",
       "                    ).then(function(){\n",
       "                            \n",
       "var gd = document.getElementById('bbd90048-e434-40d4-8ec6-ddcba9181783');\n",
       "var x = new MutationObserver(function (mutations, observer) {{\n",
       "        var display = window.getComputedStyle(gd).display;\n",
       "        if (!display || display === 'none') {{\n",
       "            console.log([gd, 'removed!']);\n",
       "            Plotly.purge(gd);\n",
       "            observer.disconnect();\n",
       "        }}\n",
       "}});\n",
       "\n",
       "// Listen for the removal of the full notebook cells\n",
       "var notebookContainer = gd.closest('#notebook-container');\n",
       "if (notebookContainer) {{\n",
       "    x.observe(notebookContainer, {childList: true});\n",
       "}}\n",
       "\n",
       "// Listen for the clearing of the current output cell\n",
       "var outputEl = gd.closest('.output');\n",
       "if (outputEl) {{\n",
       "    x.observe(outputEl, {childList: true});\n",
       "}}\n",
       "\n",
       "                        })\n",
       "                };\n",
       "                });\n",
       "            </script>\n",
       "        </div>"
      ]
     },
     "metadata": {},
     "output_type": "display_data"
    }
   ],
   "source": [
    "worldmap('count', 'Het aantal univerisiteiten per land', 'Aantal', 150, [[0, 'rgb(255,255,255)'], [1, 'rgb(22,100,22)']])"
   ]
  },
  {
   "cell_type": "code",
   "execution_count": null,
   "metadata": {},
   "outputs": [],
   "source": []
  },
  {
   "cell_type": "code",
   "execution_count": 15,
   "metadata": {},
   "outputs": [
    {
     "data": {
      "application/vnd.plotly.v1+json": {
       "config": {
        "linkText": "Export to plot.ly",
        "plotlyServerURL": "https://plot.ly",
        "showLink": false
       },
       "data": [
        {
         "line": {
          "color": "#FF6961",
          "width": 5
         },
         "mode": "lines+markers",
         "name": "Azië",
         "type": "scatter",
         "uid": "a40558f6-d5be-4b53-bf35-eb4e18ce317a",
         "x": [
          2011,
          2012,
          2013,
          2014,
          2015,
          2016
         ],
         "y": [
          47.91959798994974,
          58.928000000000004,
          59.073235685752316,
          58.45539280958722,
          57.922769640479366,
          72.15417558886512
         ]
        },
        {
         "fill": "tonexty",
         "fillcolor": "rgba(135, 206, 250, 0.4)",
         "line": {
          "color": "#1e90ff",
          "width": 5
         },
         "mode": "lines+markers",
         "name": "USA",
         "textposition": "top center",
         "type": "scatter",
         "uid": "cf539fc0-9a08-4e65-8a89-210e996abdec",
         "x": [
          2011,
          2012,
          2013,
          2014,
          2015,
          2016
         ],
         "y": [
          63.89586823003904,
          77.4779342723005,
          76.99685443563173,
          76.53177405970783,
          74.62899708601093,
          83.92349150192935
         ]
        },
        {
         "hoverinfo": "text",
         "mode": "text",
         "name": "Verschil (%-punt)",
         "text": [
          "+16",
          "+19",
          "+17",
          "+18",
          "+17",
          "+11"
         ],
         "textposition": "top center",
         "type": "scatter",
         "uid": "eb53eb9e-1a9c-43ba-a1a7-baed00f4978e",
         "x": [
          2011,
          2012,
          2013,
          2014,
          2015,
          2016
         ],
         "y": [
          65.89586823003904,
          79.4779342723005,
          78.99685443563173,
          78.53177405970783,
          76.62899708601093,
          85.92349150192935
         ]
        }
       ],
       "layout": {
        "barmode": "group",
        "title": {
         "text": "Gemiddelde universiteitspercentages van universiteiten die in 2011 al op de database zaten."
        },
        "xaxis": {
         "title": {
          "text": "Jaar"
         },
         "type": "category"
        },
        "yaxis": {
         "title": {
          "text": "Gemiddeld beter dan %"
         }
        }
       }
      },
      "text/html": [
       "<div>\n",
       "        \n",
       "        \n",
       "            <div id=\"4f178c46-6494-4114-b03d-697b01ed22d1\" class=\"plotly-graph-div\" style=\"height:525px; width:100%;\"></div>\n",
       "            <script type=\"text/javascript\">\n",
       "                require([\"plotly\"], function(Plotly) {\n",
       "                    window.PLOTLYENV=window.PLOTLYENV || {};\n",
       "                    window.PLOTLYENV.BASE_URL='https://plot.ly';\n",
       "                    \n",
       "                if (document.getElementById(\"4f178c46-6494-4114-b03d-697b01ed22d1\")) {\n",
       "                    Plotly.newPlot(\n",
       "                        '4f178c46-6494-4114-b03d-697b01ed22d1',\n",
       "                        [{\"line\": {\"color\": \"#FF6961\", \"width\": 5}, \"mode\": \"lines+markers\", \"name\": \"Azi\\u00eb\", \"type\": \"scatter\", \"uid\": \"a40558f6-d5be-4b53-bf35-eb4e18ce317a\", \"x\": [2011, 2012, 2013, 2014, 2015, 2016], \"y\": [47.91959798994974, 58.928000000000004, 59.073235685752316, 58.45539280958722, 57.922769640479366, 72.15417558886512]}, {\"fill\": \"tonexty\", \"fillcolor\": \"rgba(135, 206, 250, 0.4)\", \"line\": {\"color\": \"#1e90ff\", \"width\": 5}, \"mode\": \"lines+markers\", \"name\": \"USA\", \"textposition\": \"top center\", \"type\": \"scatter\", \"uid\": \"cf539fc0-9a08-4e65-8a89-210e996abdec\", \"x\": [2011, 2012, 2013, 2014, 2015, 2016], \"y\": [63.89586823003904, 77.4779342723005, 76.99685443563173, 76.53177405970783, 74.62899708601093, 83.92349150192935]}, {\"hoverinfo\": \"text\", \"mode\": \"text\", \"name\": \"Verschil (%-punt)\", \"text\": [\"+16\", \"+19\", \"+17\", \"+18\", \"+17\", \"+11\"], \"textposition\": \"top center\", \"type\": \"scatter\", \"uid\": \"eb53eb9e-1a9c-43ba-a1a7-baed00f4978e\", \"x\": [2011, 2012, 2013, 2014, 2015, 2016], \"y\": [65.89586823003904, 79.4779342723005, 78.99685443563173, 78.53177405970783, 76.62899708601093, 85.92349150192935]}],\n",
       "                        {\"barmode\": \"group\", \"title\": {\"text\": \"Gemiddelde universiteitspercentages van universiteiten die in 2011 al op de database zaten.\"}, \"xaxis\": {\"title\": {\"text\": \"Jaar\"}, \"type\": \"category\"}, \"yaxis\": {\"title\": {\"text\": \"Gemiddeld beter dan %\"}}},\n",
       "                        {\"showLink\": false, \"linkText\": \"Export to plot.ly\", \"plotlyServerURL\": \"https://plot.ly\", \"responsive\": true}\n",
       "                    ).then(function(){\n",
       "                            \n",
       "var gd = document.getElementById('4f178c46-6494-4114-b03d-697b01ed22d1');\n",
       "var x = new MutationObserver(function (mutations, observer) {{\n",
       "        var display = window.getComputedStyle(gd).display;\n",
       "        if (!display || display === 'none') {{\n",
       "            console.log([gd, 'removed!']);\n",
       "            Plotly.purge(gd);\n",
       "            observer.disconnect();\n",
       "        }}\n",
       "}});\n",
       "\n",
       "// Listen for the removal of the full notebook cells\n",
       "var notebookContainer = gd.closest('#notebook-container');\n",
       "if (notebookContainer) {{\n",
       "    x.observe(notebookContainer, {childList: true});\n",
       "}}\n",
       "\n",
       "// Listen for the clearing of the current output cell\n",
       "var outputEl = gd.closest('.output');\n",
       "if (outputEl) {{\n",
       "    x.observe(outputEl, {childList: true});\n",
       "}}\n",
       "\n",
       "                        })\n",
       "                };\n",
       "                });\n",
       "            </script>\n",
       "        </div>"
      ]
     },
     "metadata": {},
     "output_type": "display_data"
    }
   ],
   "source": [
    "scatter_2011()"
   ]
  },
  {
   "cell_type": "code",
   "execution_count": null,
   "metadata": {},
   "outputs": [],
   "source": []
  },
  {
   "cell_type": "code",
   "execution_count": null,
   "metadata": {},
   "outputs": [],
   "source": []
  }
 ],
 "metadata": {
  "kernelspec": {
   "display_name": "Python 3",
   "language": "python",
   "name": "python3"
  },
  "language_info": {
   "codemirror_mode": {
    "name": "ipython",
    "version": 3
   },
   "file_extension": ".py",
   "mimetype": "text/x-python",
   "name": "python",
   "nbconvert_exporter": "python",
   "pygments_lexer": "ipython3",
   "version": "3.7.3"
  }
 },
 "nbformat": 4,
 "nbformat_minor": 2
}
